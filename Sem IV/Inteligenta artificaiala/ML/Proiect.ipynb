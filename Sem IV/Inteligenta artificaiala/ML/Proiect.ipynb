{
 "metadata": {
  "language_info": {
   "codemirror_mode": {
    "name": "ipython",
    "version": 3
   },
   "file_extension": ".py",
   "mimetype": "text/x-python",
   "name": "python",
   "nbconvert_exporter": "python",
   "pygments_lexer": "ipython3",
   "version": "3.6.9-final"
  },
  "orig_nbformat": 2,
  "kernelspec": {
   "name": "python3",
   "display_name": "Python 3.6.9 64-bit",
   "metadata": {
    "interpreter": {
     "hash": "31f2aee4e71d21fbe5cf8b01ff0e069b9275f58929596ceb00d14d90e3e16cd6"
    }
   }
  }
 },
 "nbformat": 4,
 "nbformat_minor": 2,
 "cells": [
  {
   "cell_type": "code",
   "execution_count": 8,
   "metadata": {},
   "outputs": [
    {
     "output_type": "stream",
     "name": "stdout",
     "text": [
      "Defaulting to user installation because normal site-packages is not writeable\n",
      "Collecting opencv-python\n",
      "  Downloading opencv_python-4.5.1.48-cp36-cp36m-manylinux2014_x86_64.whl (50.4 MB)\n",
      "\u001b[K     |████████████████████████████████| 50.4 MB 13 kB/s \n",
      "\u001b[?25hRequirement already satisfied: numpy>=1.13.3 in /home/corolo/.local/lib/python3.6/site-packages (from opencv-python) (1.19.5)\n",
      "Installing collected packages: opencv-python\n",
      "Successfully installed opencv-python-4.5.1.48\n"
     ]
    }
   ],
   "source": [
    "!pip install opencv-python"
   ]
  },
  {
   "cell_type": "code",
   "execution_count": 32,
   "metadata": {
    "tags": []
   },
   "outputs": [],
   "source": [
    "%matplotlib inline\n",
    "import numpy as np\n",
    "import matplotlib.pyplot as plt\n",
    "import matplotlib.image as mpimg\n",
    "import cv2\n",
    "\n",
    "X_train,y_train,X_test,y_test = [],[],[],[]\n",
    "\n",
    "with open('data/train.txt') as f:\n",
    "    for line in f.readlines():\n",
    "        img, label = line.split(',')\n",
    "        imgc = cv2.imread('data/train/'+img,0)\n",
    "        imgc = imgc/255\n",
    "        X_train.append(imgc)\n",
    "        y_train.append(label)    \n",
    "X_train = np.array(X_train)\n",
    "y_train = np.array(y_train)\n",
    "\n",
    "\n",
    "with open('data/validation.txt') as f:\n",
    "    for line in f.readlines():\n",
    "        img, label = line.split(',')\n",
    "        imgc = cv2.imread('data/validation/'+img,0)\n",
    "        imgc = imgc/255\n",
    "        X_test.append(imgc)\n",
    "        y_test.append(label) \n",
    "X_test,y_test=np.array(X_test),np.array(y_test)    \n",
    "\n",
    "# X_train,X_test = X_train.reshape(30001,32*32),X_test.reshape(5000,32*32)\n",
    "X_train = np.reshape(X_train,(len(X_train),32*32))\n",
    "X_test = np.reshape(X_test,(len(X_test),32*32))"
   ]
  },
  {
   "cell_type": "code",
   "execution_count": 33,
   "metadata": {},
   "outputs": [],
   "source": [
    "from sklearn import preprocessing\n",
    "\n",
    "scaler = preprocessing.StandardScaler()\n",
    "scaler.fit(X_train)\n",
    "scaler.fit(X_train)\n",
    "X_train,X_test = scaler.transform(X_train),scaler.transform(X_test)"
   ]
  },
  {
   "cell_type": "code",
   "execution_count": 77,
   "metadata": {},
   "outputs": [
    {
     "output_type": "stream",
     "name": "stdout",
     "text": [
      "Iteration 1, loss = 1.23302247\n",
      "Iteration 2, loss = 0.89552004\n",
      "Iteration 3, loss = 0.80795901\n",
      "Iteration 4, loss = 0.71142558\n",
      "Iteration 5, loss = 0.75937476\n",
      "Iteration 6, loss = 0.62235643\n",
      "Iteration 7, loss = 0.57059742\n",
      "Iteration 8, loss = 0.53677207\n",
      "Iteration 9, loss = 0.55083162\n",
      "Iteration 10, loss = 0.48219409\n",
      "Iteration 11, loss = 0.43148699\n",
      "Iteration 12, loss = 0.53238910\n",
      "Iteration 13, loss = 0.39504333\n",
      "Iteration 14, loss = 0.35179452\n",
      "Iteration 15, loss = 0.41702445\n",
      "Iteration 16, loss = 0.32580934\n",
      "Iteration 17, loss = 0.27653005\n",
      "Iteration 18, loss = 0.28910684\n",
      "Iteration 19, loss = 0.42145182\n",
      "Iteration 20, loss = 0.23168058\n",
      "Iteration 21, loss = 0.20726295\n",
      "Iteration 22, loss = 0.38385350\n",
      "Iteration 23, loss = 0.19468381\n",
      "Iteration 24, loss = 0.18198013\n",
      "Iteration 25, loss = 0.15545446\n",
      "Iteration 26, loss = 0.14186291\n",
      "Iteration 27, loss = 0.28267795\n",
      "Iteration 28, loss = 0.15040029\n",
      "Iteration 29, loss = 0.11900448\n",
      "Iteration 30, loss = 0.11159407\n",
      "Iteration 31, loss = 0.11758845\n",
      "Iteration 32, loss = 0.09479436\n",
      "Iteration 33, loss = 0.09827522\n",
      "Iteration 34, loss = 0.11658567\n",
      "Iteration 35, loss = 0.11052846\n",
      "Iteration 36, loss = 0.08126033\n",
      "Iteration 37, loss = 0.08876537\n",
      "Iteration 38, loss = 0.08797624\n",
      "Iteration 39, loss = 0.09481900\n",
      "Iteration 40, loss = 0.06866464\n",
      "Iteration 41, loss = 0.08388806\n",
      "Iteration 42, loss = 0.09901144\n",
      "Iteration 43, loss = 0.08581527\n",
      "Iteration 44, loss = 0.41148868\n",
      "Iteration 45, loss = 0.09649247\n",
      "Iteration 46, loss = 0.05105667\n",
      "Iteration 47, loss = 0.04178591\n",
      "Iteration 48, loss = 0.03257694\n",
      "Iteration 49, loss = 0.02107398\n",
      "Iteration 50, loss = 0.02221074\n",
      "Iteration 51, loss = 0.10263866\n",
      "Iteration 52, loss = 0.08643692\n",
      "Iteration 53, loss = 0.08863832\n",
      "Iteration 54, loss = 0.05938131\n",
      "Iteration 55, loss = 0.04568261\n",
      "Iteration 56, loss = 0.04112589\n",
      "Iteration 57, loss = 0.03939151\n",
      "Iteration 58, loss = 0.03145575\n",
      "Iteration 59, loss = 0.05402042\n",
      "Iteration 60, loss = 0.12266144\n",
      "Training loss did not improve more than tol=0.000100 for 10 consecutive epochs. Stopping.\n"
     ]
    },
    {
     "output_type": "execute_result",
     "data": {
      "text/plain": [
       "0.7232"
      ]
     },
     "metadata": {},
     "execution_count": 77
    }
   ],
   "source": [
    "from sklearn.neural_network import MLPClassifier\n",
    "\n",
    "clfMLP = MLPClassifier(hidden_layer_sizes=(100,100,100,),activation='relu',verbose=10)\n",
    "clfMLP.fit(X_train,y_train)\n",
    "clfMLP.score(X_test,y_test)"
   ]
  },
  {
   "cell_type": "code",
   "execution_count": 78,
   "metadata": {},
   "outputs": [
    {
     "output_type": "stream",
     "name": "stdout",
     "text": [
      "Iteration 1, loss = 1.33650507\n",
      "Iteration 2, loss = 0.96224327\n",
      "Iteration 3, loss = 0.88163968\n",
      "Iteration 4, loss = 0.77100801\n",
      "Iteration 5, loss = 0.78550923\n",
      "Iteration 6, loss = 0.64588817\n",
      "Iteration 7, loss = 0.60073506\n",
      "Iteration 8, loss = 0.57614381\n",
      "Iteration 9, loss = 0.61785711\n",
      "Iteration 10, loss = 0.67488280\n",
      "Iteration 11, loss = 0.50277791\n",
      "Iteration 12, loss = 0.48986880\n",
      "Iteration 13, loss = 0.48045772\n",
      "Iteration 14, loss = 0.40314065\n",
      "Iteration 15, loss = 0.76993895\n",
      "Iteration 16, loss = 0.62460145\n",
      "Iteration 17, loss = 0.43370490\n",
      "Iteration 18, loss = 0.39596935\n",
      "Iteration 19, loss = 0.35737037\n",
      "Iteration 20, loss = 0.32123126\n",
      "Iteration 21, loss = 0.32739322\n",
      "Iteration 22, loss = 0.41805404\n",
      "Iteration 23, loss = 0.29309675\n",
      "Iteration 24, loss = 0.25327975\n",
      "Iteration 25, loss = 0.35626783\n",
      "Iteration 26, loss = 0.58906192\n",
      "Iteration 27, loss = 0.30058760\n",
      "Iteration 28, loss = 0.23024670\n",
      "Iteration 29, loss = 0.21914248\n",
      "Iteration 30, loss = 0.19232454\n",
      "Iteration 31, loss = 0.17937097\n",
      "Iteration 32, loss = 0.16926252\n",
      "Iteration 33, loss = 0.15605889\n",
      "Iteration 34, loss = 0.15206036\n",
      "Iteration 35, loss = 0.13913499\n",
      "Iteration 36, loss = 0.13182686\n",
      "Iteration 37, loss = 0.12623757\n",
      "Iteration 38, loss = 0.11227832\n",
      "Iteration 39, loss = 0.10769211\n",
      "Iteration 40, loss = 0.11306957\n",
      "Iteration 41, loss = 0.16841649\n",
      "Iteration 42, loss = 0.10506313\n",
      "Iteration 43, loss = 0.08898900\n",
      "Iteration 44, loss = 0.09764099\n",
      "Iteration 45, loss = 0.09609292\n",
      "Iteration 46, loss = 0.08920250\n",
      "Iteration 47, loss = 0.08750429\n",
      "Iteration 48, loss = 0.07215948\n",
      "Iteration 49, loss = 0.07573194\n",
      "Iteration 50, loss = 0.07714300\n",
      "Iteration 51, loss = 0.13505427\n",
      "Iteration 52, loss = 0.08113547\n",
      "Iteration 53, loss = 0.07366601\n",
      "Iteration 54, loss = 0.05069358\n",
      "Iteration 55, loss = 0.04344451\n",
      "Iteration 56, loss = 0.07015704\n",
      "Iteration 57, loss = 0.08559719\n",
      "Iteration 58, loss = 0.14120966\n",
      "Iteration 59, loss = 0.07564773\n",
      "Iteration 60, loss = 0.06910231\n",
      "Iteration 61, loss = 0.04468502\n",
      "Iteration 62, loss = 0.04761519\n",
      "Iteration 63, loss = 0.49709681\n",
      "Iteration 64, loss = 0.08729428\n",
      "Iteration 65, loss = 0.04152739\n",
      "Iteration 66, loss = 0.02412913\n",
      "Iteration 67, loss = 0.01591885\n",
      "Iteration 68, loss = 0.02144074\n",
      "Iteration 69, loss = 0.01724581\n",
      "Iteration 70, loss = 0.01249239\n",
      "Iteration 71, loss = 0.01371931\n",
      "Iteration 72, loss = 0.01913044\n",
      "Iteration 73, loss = 0.07220472\n",
      "Iteration 74, loss = 0.16360123\n",
      "Iteration 75, loss = 0.07739878\n",
      "Iteration 76, loss = 0.03752740\n",
      "Iteration 77, loss = 0.02844863\n",
      "Iteration 78, loss = 0.02809867\n",
      "Iteration 79, loss = 0.05911638\n",
      "Iteration 80, loss = 0.05996174\n",
      "Iteration 81, loss = 0.09006710\n",
      "Training loss did not improve more than tol=0.000100 for 10 consecutive epochs. Stopping.\n"
     ]
    },
    {
     "output_type": "execute_result",
     "data": {
      "text/plain": [
       "0.7152"
      ]
     },
     "metadata": {},
     "execution_count": 78
    }
   ],
   "source": [
    "from sklearn.neural_network import MLPClassifier\n",
    "\n",
    "clfMLP = MLPClassifier(hidden_layer_sizes=(128,64,24,),activation='relu',verbose=10)\n",
    "clfMLP.fit(X_train,y_train)\n",
    "clfMLP.score(X_test,y_test)"
   ]
  },
  {
   "cell_type": "code",
   "execution_count": 74,
   "metadata": {},
   "outputs": [
    {
     "output_type": "stream",
     "name": "stdout",
     "text": [
      "5 0.485\n",
      "10 0.4902\n",
      "20 0.4832\n",
      "30 0.4804\n",
      "40 0.478\n",
      "50 0.4732\n",
      "60 0.4668\n",
      "70 0.4616\n",
      "80 0.4618\n",
      "90 0.4598\n"
     ]
    }
   ],
   "source": [
    "from sklearn.neighbors import KNeighborsClassifier\n",
    "for nn in [5,10,20,30,40,50,60,70,80,90]:\n",
    "    clfNB = KNeighborsClassifier(n_neighbors=nn)\n",
    "    clfNB.fit(X_train,y_train)\n",
    "    print(nn,clfNB.score(X_test,y_test))"
   ]
  }
 ]
}