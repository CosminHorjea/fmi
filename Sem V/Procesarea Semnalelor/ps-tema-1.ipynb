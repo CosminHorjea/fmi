{
 "cells": [
  {
   "cell_type": "markdown",
   "metadata": {},
   "source": [
    "# Pachete necesare pentru folosirea acestui Notebook\n",
    "\n",
    "Vom folosi [numpy](https://numpy.org/), [matplotlib](https://matplotlib.org/), și [sounddevice](https://python-sounddevice.readthedocs.io/)."
   ]
  },
  {
   "cell_type": "code",
   "execution_count": 2,
   "metadata": {},
   "outputs": [],
   "source": [
    "import numpy as np\n",
    "import matplotlib.pyplot as plt\n",
    "import sounddevice as sd"
   ]
  },
  {
   "cell_type": "markdown",
   "metadata": {},
   "source": [
    "# Generarea unui semnal sinusoidal\n",
    "\n",
    "Întâi trebuie să definim parametrii sinusoidei continuue:\n",
    "\n",
    "* orizontul de timp ($t$)\n",
    "* frecvența semnalului original ($f_0$)\n",
    "* amplitudinea ($A$)\n",
    "* faza ($\\varphi$)"
   ]
  },
  {
   "cell_type": "code",
   "execution_count": 3,
   "metadata": {},
   "outputs": [],
   "source": [
    "time_of_view = 1     # s\n",
    "frequency = 2        # Hz\n",
    "amplitude = 1\n",
    "phase = 0"
   ]
  },
  {
   "cell_type": "markdown",
   "metadata": {},
   "source": [
    "Iar apoi parametrii de măsurare, sinusoida discretizată:\n",
    "* frecvența de eșantionare ($f_s$)\n",
    "* perioada de eșantionare ($t_s$)\n",
    "* numărul de eșantionare ($n$)"
   ]
  },
  {
   "cell_type": "code",
   "execution_count": 4,
   "metadata": {},
   "outputs": [],
   "source": [
    "sampling_rate = 12    # Hz\n",
    "sampling_period = 1./sampling_rate  # s\n",
    "n_samples = time_of_view/sampling_period"
   ]
  },
  {
   "cell_type": "markdown",
   "metadata": {},
   "source": [
    "Cu datele de mai sus putem genera orizontul de timp cu momentele de interes pentru semnalul continuu și cel discretizat ($t$, respectiv $nt_s$):"
   ]
  },
  {
   "cell_type": "code",
   "execution_count": 5,
   "metadata": {},
   "outputs": [],
   "source": [
    "atime = np.linspace (0, time_of_view, int(10e5 + 1)) # s.\n",
    "time = np.linspace (0, time_of_view, int(n_samples + 1))"
   ]
  },
  {
   "cell_type": "markdown",
   "metadata": {},
   "source": [
    "*Observație*: orizontul de timp continuu (analog) este de fapt un orizont de timp discret ($nt_s$) foarte dens ($n=10^5$ eșantione).\n",
    "\n",
    "Cu aceste date putem crea o funcție sinus ce generează sinusoidele parametrizate conform variabilelor de mai sus:"
   ]
  },
  {
   "cell_type": "code",
   "execution_count": 4,
   "metadata": {},
   "outputs": [],
   "source": [
    "def sine (amplitude, frequency, time, phase):\n",
    "    return amplitude * np.sin (2 * np.pi * frequency * time + phase)"
   ]
  },
  {
   "cell_type": "markdown",
   "metadata": {},
   "source": [
    "## Sinusoidă continuă\n",
    "Pentru a obține o sinusoidă \"continuă\" putem apela funcția ```sine```:"
   ]
  },
  {
   "cell_type": "code",
   "execution_count": 7,
   "metadata": {},
   "outputs": [
    {
     "data": {
      "image/png": "[encoded data removed]",
      "text/plain": [
       "<Figure size 432x288 with 1 Axes>"
      ]
     },
     "metadata": {
      "needs_background": "light"
     },
     "output_type": "display_data"
    }
   ],
   "source": [
    "asignal = sine(amplitude, frequency, atime, phase)\n",
    "\n",
    "plt.grid(True)\n",
    "plt.plot (atime, asignal)\n",
    "plt.show()"
   ]
  },
  {
   "cell_type": "markdown",
   "metadata": {},
   "source": [
    "## Sinusoidă discretizată\n",
    "Discretizarea se obține apelând aceiași funcție ```sine``` dar cu parametrii discreți și folosind ```stem``` pentru a obține cele $n$ eșantioane:"
   ]
  },
  {
   "cell_type": "code",
   "execution_count": 8,
   "metadata": {},
   "outputs": [
    {
     "data": {
      "text/plain": [
       "<StemContainer object of 3 artists>"
      ]
     },
     "execution_count": 8,
     "metadata": {},
     "output_type": "execute_result"
    },
    {
     "data": {
      "image/png": "[encoded data removed]",
      "text/plain": [
       "<Figure size 432x288 with 1 Axes>"
      ]
     },
     "metadata": {
      "needs_background": "light"
     },
     "output_type": "display_data"
    }
   ],
   "source": [
    "signal = sine(amplitude, frequency, time, phase)\n",
    "\n",
    "plt.grid(True)\n",
    "plt.stem (time, signal)"
   ]
  },
  {
   "cell_type": "markdown",
   "metadata": {},
   "source": [
    "# Producerea și audiția unui ton\n",
    "\n",
    "Pentru a produce o sinusoidă ce poate fi percepută de urechea umană trebuie să creștem frecvența și amplitudinea acesteia.\n",
    "\n",
    "În exemplul de mai jos generăm o sinusoidă de frecvență $f_0=440\\text{Hz}$ și amplitudine $10.000$ pe care o discretizăm cu frecvența de eșantionare $f_s=44.100\\text{Hz}$ pe un orizont de timp de $2\\text{s}$."
   ]
  },
  {
   "cell_type": "code",
   "execution_count": 6,
   "metadata": {},
   "outputs": [],
   "source": [
    "time_of_view = 1     # s\n",
    "frequency = 440      # Hz\n",
    "amplitude = 10000\n",
    "phase = 0\n",
    "\n",
    "notes = [440,493,523,587,660,700,783,880]\n",
    "\n",
    "sampling_rate = 44100\n",
    "sampling_period = 1./sampling_rate  # s\n",
    "n_samples = time_of_view/sampling_period\n",
    "time = np.linspace (0, time_of_view, int(n_samples + 1))\n",
    "for freq in notes:\n",
    "\ttone = sine(amplitude, freq, time, phase)\n",
    "\t# play_tone(tone)"
   ]
  },
  {
   "cell_type": "code",
   "execution_count": 15,
   "metadata": {},
   "outputs": [],
   "source": [
    "time =np.linspace(0, time_of_view, int(n_samples + 1))\n",
    "sampling_rate = 44100\n",
    "note = 400\n",
    "tone = sine(amplitude, note, time, phase)\n",
    "play_tone(tone*np.exp(-10*time))"
   ]
  },
  {
   "cell_type": "markdown",
   "metadata": {},
   "source": [
    "Aceast ton îl vom discretiza cu o frecvență de eșantionare $f_s$ conform ```sampling_rate``` și îl vom transforma în formatul WAV prin conversia eșantioanelor la întregi pe 16-biți:"
   ]
  },
  {
   "cell_type": "code",
   "execution_count": 8,
   "metadata": {},
   "outputs": [],
   "source": [
    "def play_tone (tone):\n",
    "\tsd.play (tone, sampling_rate)\n",
    "\tsd.wait()\n",
    "# sd.default.samplerate = sampling_rate\n",
    "# wav_wave = np.array(tone, dtype=np.int16)\n",
    "# sd.play(wav_wave, blocking=True)\n",
    "# sd.stop()"
   ]
  },
  {
   "cell_type": "code",
   "execution_count": 17,
   "metadata": {},
   "outputs": [],
   "source": [
    "from scipy import signal\n",
    "#generate scale of music tones\n",
    "notes = [440,493,523,587,660,700,783,880]\n",
    "#          A   B   C   D   E   F   G   A\n",
    "A=440\n",
    "B=493\n",
    "C=523\n",
    "D=587\n",
    "E=660\n",
    "F=700\n",
    "G=783\n",
    "A_=880\n",
    "#play frere jacues\n",
    "frere_jacques = [\n",
    "\t(E,3),(F,2),(G,1),(E,3),(F,2),(G,1)\n",
    "]\n",
    "\n",
    "melodie = []\n",
    "\n",
    "# for freq in frere_jacques:\n",
    "\t# melodie.append(sine(amplitude, freq[0], time/freq[1], phase))\n",
    "\n",
    "melodie.append(sine(amplitude, 440, time, phase))\n",
    "melodie[0] += sine(0.2*amplitude, 660, time, phase)\n",
    "\n",
    "melodie = np.concatenate(melodie)\n",
    "#apply sawtooth\n",
    "melodie = melodie * signal.sawtooth(2 * np.pi * 5 * 1)\n",
    "\n",
    "play_tone(melodie)"
   ]
  },
  {
   "cell_type": "code",
   "execution_count": 12,
   "metadata": {},
   "outputs": [],
   "source": [
    "samplerate = 44100\n",
    "def get_wave(freq, duration=0.5):\n",
    "    '''\n",
    "    Function takes the \"frequecy\" and \"time_duration\" for a wave \n",
    "    as the input and returns a \"numpy array\" of values at all points \n",
    "    in time\n",
    "    '''\n",
    "    \n",
    "    amplitude = 4096\n",
    "    t = np.linspace(0, duration, int(samplerate * duration))\n",
    "    wave = amplitude * np.sin(2 * np.pi * freq * t)\n",
    "    \n",
    "    return wave"
   ]
  },
  {
   "cell_type": "code",
   "execution_count": 13,
   "metadata": {},
   "outputs": [],
   "source": [
    "from pprint import pprint\n",
    "\n",
    "def get_piano_notes():\n",
    "    '''\n",
    "    Returns a dict object for all the piano \n",
    "    note's frequencies\n",
    "    '''\n",
    "    # White keys are in Uppercase and black keys (sharps) are in lowercase\n",
    "    octave = ['C', 'c', 'D', 'd', 'E', 'F', 'f', 'G', 'g', 'A', 'a', 'B'] \n",
    "    base_freq = 261.63 #Frequency of Note C4\n",
    "    \n",
    "    note_freqs = {octave[i]: base_freq * pow(2,(i/12)) for i in range(len(octave))}        \n",
    "    note_freqs[''] = 0.0 # silent note\n",
    "    \n",
    "    return note_freqs\n",
    "  \n",
    "# To get the piano note's frequencies\n",
    "note_freqs = get_piano_notes()\n"
   ]
  },
  {
   "cell_type": "code",
   "execution_count": 18,
   "metadata": {},
   "outputs": [
    {
     "ename": "NameError",
     "evalue": "name 'get_piano_notes' is not defined",
     "output_type": "error",
     "traceback": [
      "\u001b[1;31m---------------------------------------------------------------------------\u001b[0m",
      "\u001b[1;31mNameError\u001b[0m                                 Traceback (most recent call last)",
      "\u001b[1;32m~\\AppData\\Local\\Temp/ipykernel_16300/3599834672.py\u001b[0m in \u001b[0;36m<module>\u001b[1;34m\u001b[0m\n\u001b[0;32m     12\u001b[0m \u001b[1;31m# music_notes = 'C-C-G-G-A-A-G--F-F-E-E-D-D-C--G-G-F-F-E-E-D--G-G-F-F-E-E-D--C-C-G-G-A-A-G--F-F-E-E-D-D-C'\u001b[0m\u001b[1;33m\u001b[0m\u001b[1;33m\u001b[0m\u001b[1;33m\u001b[0m\u001b[0m\n\u001b[0;32m     13\u001b[0m \u001b[0mmusic_notes\u001b[0m \u001b[1;33m=\u001b[0m \u001b[1;34m'C-D-E-C-C-D-E-C--E-F-G-E-F-G--G-A-G-F-E-C-G-A-G-F-E-C--C-G-C-C-G-C'\u001b[0m\u001b[1;33m\u001b[0m\u001b[1;33m\u001b[0m\u001b[0m\n\u001b[1;32m---> 14\u001b[1;33m \u001b[0mdata\u001b[0m \u001b[1;33m=\u001b[0m \u001b[0mget_song_data\u001b[0m\u001b[1;33m(\u001b[0m\u001b[0mmusic_notes\u001b[0m\u001b[1;33m)\u001b[0m\u001b[1;33m\u001b[0m\u001b[1;33m\u001b[0m\u001b[0m\n\u001b[0m\u001b[0;32m     15\u001b[0m \u001b[1;33m\u001b[0m\u001b[0m\n\u001b[0;32m     16\u001b[0m \u001b[0mdata\u001b[0m \u001b[1;33m=\u001b[0m \u001b[0mdata\u001b[0m \u001b[1;33m*\u001b[0m \u001b[1;33m(\u001b[0m\u001b[1;36m16300\u001b[0m\u001b[1;33m/\u001b[0m\u001b[0mnp\u001b[0m\u001b[1;33m.\u001b[0m\u001b[0mmax\u001b[0m\u001b[1;33m(\u001b[0m\u001b[0mdata\u001b[0m\u001b[1;33m)\u001b[0m\u001b[1;33m)\u001b[0m \u001b[1;31m# Adjusting the Amplitude (Optional)\u001b[0m\u001b[1;33m\u001b[0m\u001b[1;33m\u001b[0m\u001b[0m\n",
      "\u001b[1;32m~\\AppData\\Local\\Temp/ipykernel_16300/3599834672.py\u001b[0m in \u001b[0;36mget_song_data\u001b[1;34m(music_notes)\u001b[0m\n\u001b[0;32m      5\u001b[0m     \u001b[0mFunction\u001b[0m \u001b[0mto\u001b[0m \u001b[0mconcatenate\u001b[0m \u001b[0mall\u001b[0m \u001b[0mthe\u001b[0m \u001b[0mwaves\u001b[0m \u001b[1;33m(\u001b[0m\u001b[0mnotes\u001b[0m\u001b[1;33m)\u001b[0m\u001b[1;33m\u001b[0m\u001b[1;33m\u001b[0m\u001b[0m\n\u001b[0;32m      6\u001b[0m     '''\n\u001b[1;32m----> 7\u001b[1;33m     \u001b[0mnote_freqs\u001b[0m \u001b[1;33m=\u001b[0m \u001b[0mget_piano_notes\u001b[0m\u001b[1;33m(\u001b[0m\u001b[1;33m)\u001b[0m \u001b[1;31m# Function that we made earlier\u001b[0m\u001b[1;33m\u001b[0m\u001b[1;33m\u001b[0m\u001b[0m\n\u001b[0m\u001b[0;32m      8\u001b[0m     \u001b[0msong\u001b[0m \u001b[1;33m=\u001b[0m \u001b[1;33m[\u001b[0m\u001b[0mget_wave\u001b[0m\u001b[1;33m(\u001b[0m\u001b[0mnote_freqs\u001b[0m\u001b[1;33m[\u001b[0m\u001b[0mnote\u001b[0m\u001b[1;33m]\u001b[0m\u001b[1;33m)\u001b[0m \u001b[1;32mfor\u001b[0m \u001b[0mnote\u001b[0m \u001b[1;32min\u001b[0m \u001b[0mmusic_notes\u001b[0m\u001b[1;33m.\u001b[0m\u001b[0msplit\u001b[0m\u001b[1;33m(\u001b[0m\u001b[1;34m'-'\u001b[0m\u001b[1;33m)\u001b[0m\u001b[1;33m]\u001b[0m\u001b[1;33m\u001b[0m\u001b[1;33m\u001b[0m\u001b[0m\n\u001b[0;32m      9\u001b[0m     \u001b[0msong\u001b[0m \u001b[1;33m=\u001b[0m \u001b[0mnp\u001b[0m\u001b[1;33m.\u001b[0m\u001b[0mconcatenate\u001b[0m\u001b[1;33m(\u001b[0m\u001b[0msong\u001b[0m\u001b[1;33m)\u001b[0m\u001b[1;33m\u001b[0m\u001b[1;33m\u001b[0m\u001b[0m\n",
      "\u001b[1;31mNameError\u001b[0m: name 'get_piano_notes' is not defined"
     ]
    }
   ],
   "source": [
    "import numpy as np\n",
    "\n",
    "def get_song_data(music_notes):\n",
    "    '''\n",
    "    Function to concatenate all the waves (notes)\n",
    "    '''\n",
    "    note_freqs = get_piano_notes() # Function that we made earlier\n",
    "    song = [get_wave(note_freqs[note]) for note in music_notes.split('-')]\n",
    "    song = np.concatenate(song)\n",
    "    return song\n",
    "\n",
    "# music_notes = 'C-C-G-G-A-A-G--F-F-E-E-D-D-C--G-G-F-F-E-E-D--G-G-F-F-E-E-D--C-C-G-G-A-A-G--F-F-E-E-D-D-C'\n",
    "music_notes = 'C-D-E-C-C-D-E-C--E-F-G-E-F-G--G-A-G-F-E-C-G-A-G-F-E-C--C-G-C-C-G-C'\n",
    "data = get_song_data(music_notes)\n",
    "\n",
    "data = data * (16300/np.max(data)) # Adjusting the Amplitude (Optional)\n",
    "\n",
    "#sawtooth\n",
    "def sawtooth(amplitude, frequency, time, phase):\n",
    "    return amplitude * (2 * np.pi * frequency * time + phase)"
   ]
  },
  {
   "cell_type": "code",
   "execution_count": 26,
   "metadata": {},
   "outputs": [],
   "source": [
    "play_tone(data)"
   ]
  },
  {
   "cell_type": "code",
   "execution_count": 27,
   "metadata": {},
   "outputs": [],
   "source": [
    "#apply sawtooth filter\n"
   ]
  },
  {
   "cell_type": "markdown",
   "metadata": {},
   "source": [
    "# Sarcini\n",
    "\n",
    "1. [8p] Scrieți tonurile pentru notele muzicale Do, Re, Mi, Fa, Sol, La, Si, Do.\n",
    "\n",
    "2. [8p] Compuneți un cântec simplu clasic (ex. Frère Jacques) într-un singur semnal.\n",
    "\n",
    "3. [4p] Citiți o partitură la intrare (folosind [LilyPond](https://lilypond.org/) sau formatul propriu) și produceți semnalul ce conține melodia la ieșire prin compunerea tonurilor asociate notelor automat."
   ]
  }
 ],
 "metadata": {
  "kernelspec": {
   "display_name": "Python 3",
   "language": "python",
   "name": "python3"
  },
  "language_info": {
   "codemirror_mode": {
    "name": "ipython",
    "version": 3
   },
   "file_extension": ".py",
   "mimetype": "text/x-python",
   "name": "python",
   "nbconvert_exporter": "python",
   "pygments_lexer": "ipython3",
   "version": "3.9.6"
  }
 },
 "nbformat": 4,
 "nbformat_minor": 4
}
