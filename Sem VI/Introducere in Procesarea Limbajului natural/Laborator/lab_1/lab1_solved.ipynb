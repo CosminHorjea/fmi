{
 "cells": [
  {
   "cell_type": "markdown",
   "metadata": {
    "id": "kYN6xXrf0jdy"
   },
   "source": [
    "# Lab 1. Basic Techniques"
   ]
  },
  {
   "cell_type": "markdown",
   "metadata": {
    "id": "jl-E8ey90y3-"
   },
   "source": [
    "## Regex"
   ]
  },
  {
   "cell_type": "markdown",
   "metadata": {
    "id": "ibjQLLG9yCZS"
   },
   "source": [
    "Expresiile regulate. Utile pentru cautare si normalizare de texte - https://www.w3schools.com/python/python_regex.asp\n"
   ]
  },
  {
   "cell_type": "code",
   "execution_count": 1,
   "metadata": {
    "id": "gFqSzXcNyPU7"
   },
   "outputs": [],
   "source": [
    "import re\n",
    "\n",
    "text = \"\"\"\n",
    "Praise for The Rain in Portugal\n",
    " \n",
    "“Nothing in Billy Collins’s twelfth book . . . is exactly what readers might expect, and that’s the charm of this collection.”—The Washington Post\n",
    " \n",
    "“This new collection shows [Collins] at his finest. . . . Certain to please his large readership and a good place for readers new to Collins to begin.”—Library Journal. \n",
    " \n",
    "“Disarmingly playful and wistfully candid.”—Booklist\n",
    "Buy new:$38.65\n",
    "No Import Fees Deposit & $13.01 Shipping to Romania Details -12.3.\n",
    "\"\"\""
   ]
  },
  {
   "cell_type": "markdown",
   "metadata": {
    "id": "PLNJrErsyXNN"
   },
   "source": [
    "Sterge toate caracterele diferite de litere mari si mici ale alfabetului englez, apoi normalizeaza toate secventele de caractere de tip spatii la 1 spatiu"
   ]
  },
  {
   "cell_type": "code",
   "execution_count": 2,
   "metadata": {
    "colab": {
     "base_uri": "https://localhost:8080/"
    },
    "executionInfo": {
     "elapsed": 246,
     "status": "ok",
     "timestamp": 1644683724989,
     "user": {
      "displayName": "Bogdan Iordache",
      "photoUrl": "https://lh3.googleusercontent.com/a-/AOh14Gh-PZvTGY_WfhB97fLgLmkcd8CIjhKRDgsFQiip=s64",
      "userId": "11937921055418047811"
     },
     "user_tz": -120
    },
    "id": "YP7lMkYPyW0H",
    "outputId": "1aaf8845-a230-4ca6-b06a-c893408e43b3"
   },
   "outputs": [
    {
     "name": "stdout",
     "output_type": "stream",
     "text": [
      " Praise for The Rain in Portugal Nothing in Billy Collins s twelfth book is exactly what readers might expect and that s the charm of this collection The Washington Post This new collection shows Collins at his finest Certain to please his large readership and a good place for readers new to Collins to begin Library Journal Disarmingly playful and wistfully candid Booklist Buy new No Import Fees Deposit Shipping to Romania Details \n"
     ]
    }
   ],
   "source": [
    "cleaned_text = re.sub(\"[^A-Za-z]\", \" \", text)\n",
    "cleaned_text = re.sub(\"\\s+\", \" \", cleaned_text)\n",
    "print(cleaned_text)"
   ]
  },
  {
   "cell_type": "markdown",
   "metadata": {
    "id": "_LOnaRquyhlP"
   },
   "source": [
    "Le putem testa cel mai usor pe https://pythex.org/ . Aici cautam toate numerele float sau int, impreuna cu pozitiile si valorile lor."
   ]
  },
  {
   "cell_type": "code",
   "execution_count": 3,
   "metadata": {
    "colab": {
     "base_uri": "https://localhost:8080/"
    },
    "executionInfo": {
     "elapsed": 248,
     "status": "ok",
     "timestamp": 1644684003604,
     "user": {
      "displayName": "Bogdan Iordache",
      "photoUrl": "https://lh3.googleusercontent.com/a-/AOh14Gh-PZvTGY_WfhB97fLgLmkcd8CIjhKRDgsFQiip=s64",
      "userId": "11937921055418047811"
     },
     "user_tz": -120
    },
    "id": "1uJAKaNHyUS_",
    "outputId": "d94404da-f9e8-4fb8-c00f-8c95e28d59ca"
   },
   "outputs": [
    {
     "name": "stdout",
     "output_type": "stream",
     "text": [
      "418 38.65\n",
      "450 13.01\n",
      "484 -12.3\n"
     ]
    }
   ],
   "source": [
    "pattern = re.compile(\"[+-]?(\\d+\\.)?\\d+\")\n",
    "for matching in pattern.finditer(text):\n",
    "    print(matching.start(), matching.group())"
   ]
  },
  {
   "cell_type": "markdown",
   "metadata": {
    "id": "UQMO4b6u007D"
   },
   "source": [
    "## Encodings"
   ]
  },
  {
   "cell_type": "markdown",
   "metadata": {
    "id": "bI5ffSzvfJi8"
   },
   "source": [
    "Encodarea unui text poate varia, in functie de limba si este importanta. Python foloseste standardul 'utf8'. Urmatorul exemplu este preluat dintr-o subtitrare (.srt) din limba rusa, dar nu este encodat in utf8. Citindu-l obtinem urmatoarea eroare:"
   ]
  },
  {
   "cell_type": "code",
   "execution_count": 1,
   "metadata": {
    "colab": {
     "base_uri": "https://localhost:8080/",
     "height": 338
    },
    "executionInfo": {
     "elapsed": 233,
     "status": "error",
     "timestamp": 1644678939085,
     "user": {
      "displayName": "Bogdan Iordache",
      "photoUrl": "https://lh3.googleusercontent.com/a-/AOh14Gh-PZvTGY_WfhB97fLgLmkcd8CIjhKRDgsFQiip=s64",
      "userId": "11937921055418047811"
     },
     "user_tz": -120
    },
    "id": "W1F8_BTNfOK1",
    "outputId": "1486b3df-db44-4424-b8d8-ef19cb4fe330"
   },
   "outputs": [
    {
     "name": "stdout",
     "output_type": "stream",
     "text": [
      "1\n",
      "00:00:05,100 --> 00:00:10,860\n",
      "Ýòî áûëè òÿæåëûå âðåìåíà. Ðèì íàõîäèëñÿ ïîä ãîñïîäñòâîì êîððóìïèðîâàííîãî Ïàïû è ñîìíèòåëüíûõ çàêîíîâ\n",
      "\n",
      "2\n",
      "00:00:10,960 --> 00:00:13,820\n",
      "èãð âëàñòè è ìåæäîóñîáíîé áîðüáû\n",
      "\n",
      "3\n",
      "00:00:15,660 --> 00:00:20,310\n",
      "Ñèíüîðû íà÷èíàëè æåñòîêèå ñðàæåíèÿ ñ åäèíñòâåííîé öåëüþ – íàêîïèòü ñîñòîÿíèå\n",
      "\n",
      "4\n",
      "00:00:21,640 --> 00:00:24,950\n",
      "À òåì âðåìåíåì, ïðîñòûå ëþäè åëè íå êàæäûé äåíü\n",
      "\n",
      "5\n",
      "00:00:30,090 --> 00:00:36,040\n",
      "Ëþáîâü áûëà òåìîé äëÿ ïîýòîâ, íî ðåäêî óïîìèíàëàñü â ñâàäåáíûõ êëÿòâàõ\n",
      "\n",
      "6\n",
      "00:00:36,940 --> 00:00:42,140\n",
      "Æåíùèí îòäàâàëè â æåíû ìóæ÷èíàì, êîòîðûõ îíè åäâà çíàëè, íå ãîâîðÿ óæå î ëþáâè\n",
      "\n",
      "7\n",
      "00:00:43,040 --> 00:00:47,980\n",
      "Â ýòîì ìèðå, æåñòîêîì è íåñïðàâåäëèâîì, ÿ ïîâñòðå÷àëà äâóõ ìîëîäûõ ëþäåé\n",
      "\n"
     ]
    }
   ],
   "source": [
    "with open('encoded_text.txt', \"r\") as fin:\n",
    "    content = fin.read()\n",
    "    print(content)"
   ]
  },
  {
   "cell_type": "markdown",
   "metadata": {
    "id": "60znqZ6wfP-s"
   },
   "source": [
    "Incercam sa detectam encoding-ul lui folosind chardet"
   ]
  },
  {
   "cell_type": "code",
   "execution_count": null,
   "metadata": {
    "id": "gvOUmRW2fRN1"
   },
   "outputs": [],
   "source": [
    "! pip install chardet"
   ]
  },
  {
   "cell_type": "code",
   "execution_count": 5,
   "metadata": {
    "colab": {
     "base_uri": "https://localhost:8080/"
    },
    "executionInfo": {
     "elapsed": 259,
     "status": "ok",
     "timestamp": 1644678991060,
     "user": {
      "displayName": "Bogdan Iordache",
      "photoUrl": "https://lh3.googleusercontent.com/a-/AOh14Gh-PZvTGY_WfhB97fLgLmkcd8CIjhKRDgsFQiip=s64",
      "userId": "11937921055418047811"
     },
     "user_tz": -120
    },
    "id": "pBBadYt8fXx8",
    "outputId": "8337c7c7-bd49-4889-9600-69399bde4512"
   },
   "outputs": [
    {
     "name": "stdout",
     "output_type": "stream",
     "text": [
      "windows-1251\n"
     ]
    }
   ],
   "source": [
    "import chardet\n",
    "\n",
    "with open('encoded_text.txt', \"rb\") as f:\n",
    "    rawdata = f.read()\n",
    "    result = chardet.detect(rawdata)\n",
    "    extracted_encoding = result['encoding']\n",
    "    print(extracted_encoding)"
   ]
  },
  {
   "cell_type": "markdown",
   "metadata": {
    "id": "XwjdvMNSfZTP"
   },
   "source": [
    "Reluam citirea si salvam continutul in format utf8"
   ]
  },
  {
   "cell_type": "code",
   "execution_count": 6,
   "metadata": {
    "id": "OPBYzpfYfcF6"
   },
   "outputs": [],
   "source": [
    "with open('encoded_text.txt', 'r', encoding=extracted_encoding) as fin:\n",
    "    content = fin.read()\n",
    "with open('utf8_text.txt', 'w', encoding='utf8') as fout:\n",
    "    fout.write(content)"
   ]
  },
  {
   "cell_type": "code",
   "execution_count": 7,
   "metadata": {
    "colab": {
     "base_uri": "https://localhost:8080/"
    },
    "executionInfo": {
     "elapsed": 240,
     "status": "ok",
     "timestamp": 1644679004976,
     "user": {
      "displayName": "Bogdan Iordache",
      "photoUrl": "https://lh3.googleusercontent.com/a-/AOh14Gh-PZvTGY_WfhB97fLgLmkcd8CIjhKRDgsFQiip=s64",
      "userId": "11937921055418047811"
     },
     "user_tz": -120
    },
    "id": "3ZwGqlQifzDk",
    "outputId": "d5330318-7461-46ab-b094-d1e19fc1fb28"
   },
   "outputs": [
    {
     "name": "stdout",
     "output_type": "stream",
     "text": [
      "1\n",
      "00:00:05,100 --> 00:00:10,860\n",
      "Это были тяжелые времена. Рим находился под господством коррумпированного Папы и сомнительных законов\n",
      "\n",
      "2\n",
      "00:00:10,960 --> 00:00:13,820\n",
      "игр власти и междоусобной борьбы\n",
      "\n",
      "3\n",
      "00:00:15,660 --> 00:00:20,310\n",
      "Синьоры начинали жестокие сражения с единственной целью – накопить состояние\n",
      "\n",
      "4\n",
      "00:00:21,640 --> 00:00:24,950\n",
      "А тем временем, простые люди ели не каждый день\n",
      "\n",
      "5\n",
      "00:00:30,090 --> 00:00:36,040\n",
      "Любовь была темой для поэтов, но редко упоминалась в свадебных клятвах\n",
      "\n",
      "6\n",
      "00:00:36,940 --> 00:00:42,140\n",
      "Женщин отдавали в жены мужчинам, которых они едва знали, не говоря уже о любви\n",
      "\n",
      "7\n",
      "00:00:43,040 --> 00:00:47,980\n",
      "В этом мире, жестоком и несправедливом, я повстречала двух молодых людей\n",
      "\n"
     ]
    }
   ],
   "source": [
    "with open('utf8_text.txt', \"r\") as fin:\n",
    "    content = fin.read()\n",
    "    print(content)"
   ]
  },
  {
   "cell_type": "markdown",
   "metadata": {
    "id": "EEC0t_4T05S2"
   },
   "source": [
    "## Non-standard files (PDF, Word, etc.)"
   ]
  },
  {
   "cell_type": "markdown",
   "metadata": {
    "id": "kT-3FzVo0QKT"
   },
   "source": [
    "Putem citi texte din documente word folosind:"
   ]
  },
  {
   "cell_type": "code",
   "execution_count": null,
   "metadata": {},
   "outputs": [],
   "source": [
    "! pip install docx2txt"
   ]
  },
  {
   "cell_type": "code",
   "execution_count": 8,
   "metadata": {
    "colab": {
     "base_uri": "https://localhost:8080/"
    },
    "executionInfo": {
     "elapsed": 282,
     "status": "ok",
     "timestamp": 1644684536901,
     "user": {
      "displayName": "Bogdan Iordache",
      "photoUrl": "https://lh3.googleusercontent.com/a-/AOh14Gh-PZvTGY_WfhB97fLgLmkcd8CIjhKRDgsFQiip=s64",
      "userId": "11937921055418047811"
     },
     "user_tz": -120
    },
    "id": "r9aPabVw0XBH",
    "outputId": "76ff3ec9-247c-4efd-b460-28c31dbdb652"
   },
   "outputs": [
    {
     "name": "stdout",
     "output_type": "stream",
     "text": [
      "Beautiful Soup is a Python library for pulling data out of HTML and XML files. It works with your favorite parser to provide idiomatic ways of navigating, searching, and modifying the parse tree. It commonly saves programmers hours or days of work.\n",
      "\n",
      "\n",
      "\n",
      "These instructions illustrate all major features of Beautiful Soup 4, with examples. I show you what the library is good for, how it works, how to use it, how to make it do what you want, and what to do when it violates your expectations.\n",
      "\n",
      "\n",
      "\n",
      "This document covers Beautiful Soup version 4.10.0. The examples in this documentation were written for Python 3.8.\n",
      "\n",
      "\n",
      "\n",
      "You might be looking for the documentation for Beautiful Soup 3. If so, you should know that Beautiful Soup 3 is no longer being developed and that all support for it was dropped on December 31, 2020. If you want to learn about the differences between Beautiful Soup 3 and Beautiful Soup 4, see Porting code to BS4.\n",
      "\n",
      "\n",
      "\n",
      "This documentation has been translated into other languages by Beautiful Soup users:\n"
     ]
    }
   ],
   "source": [
    "import docx2txt\n",
    "my_text = docx2txt.process(\"soup.docx\")\n",
    "print(my_text)"
   ]
  },
  {
   "cell_type": "markdown",
   "metadata": {
    "id": "rYv-2JYZ1YD3"
   },
   "source": [
    "Sau pdf-uri care sunt salvate ca texte (nu poze):"
   ]
  },
  {
   "cell_type": "code",
   "execution_count": null,
   "metadata": {
    "id": "uZHrdF851Z3q"
   },
   "outputs": [],
   "source": [
    "! pip install pdfplumber"
   ]
  },
  {
   "cell_type": "code",
   "execution_count": 9,
   "metadata": {
    "colab": {
     "base_uri": "https://localhost:8080/"
    },
    "executionInfo": {
     "elapsed": 952,
     "status": "ok",
     "timestamp": 1644684520795,
     "user": {
      "displayName": "Bogdan Iordache",
      "photoUrl": "https://lh3.googleusercontent.com/a-/AOh14Gh-PZvTGY_WfhB97fLgLmkcd8CIjhKRDgsFQiip=s64",
      "userId": "11937921055418047811"
     },
     "user_tz": -120
    },
    "id": "A_x4wZpQ1hh8",
    "outputId": "e937a5ee-fb74-4c04-bfb2-68ad259bdf1b"
   },
   "outputs": [
    {
     "name": "stdout",
     "output_type": "stream",
     "text": [
      "Beautiful Soup is a Python library for pulling data out of HTML and XML files. It works with your favorite \n",
      "parser to provide idiomatic ways of navigating, searching, and modifying the parse tree. It commonly \n",
      "saves programmers hours or days of work. \n",
      " \n",
      "These instructions illustrate all major features of Beautiful Soup 4, with examples. I show you what the \n",
      "library is good for, how it works, how to use it, how to make it do what you want, and what to do when \n",
      "it violates your expectations. \n",
      " \n",
      "This document covers Beautiful Soup version 4.10.0. The examples in this documentation were written \n",
      "for Python 3.8. \n",
      " \n",
      "You might be looking for the documentation for Beautiful Soup 3. If so, you should know that Beautiful \n",
      "Soup 3 is no longer being developed and that all support for it was dropped on December 31, 2020. If \n",
      "you want to learn about the differences between Beautiful Soup 3 and Beautiful Soup 4, see Porting \n",
      "code to BS4. \n",
      " \n",
      "This documentation has been translated into other languages by Beautiful Soup users: \n"
     ]
    }
   ],
   "source": [
    "import pdfplumber\n",
    "with pdfplumber.open('soup.pdf') as pdf:\n",
    "    for page in pdf.pages:\n",
    "        print(page.extract_text())"
   ]
  },
  {
   "cell_type": "markdown",
   "metadata": {
    "id": "-ix-cDK_1FrO"
   },
   "source": [
    "## Web scraping"
   ]
  },
  {
   "cell_type": "markdown",
   "metadata": {
    "id": "SZ5jU3-C9Xrw"
   },
   "source": [
    "Prin scraping ne referim la o multime de metode prin care putem descarca date nestructurate din mediul web, pe care le putem apoi procesa si stoca sub forma structurata."
   ]
  },
  {
   "cell_type": "markdown",
   "metadata": {
    "id": "kz0-C3BJj9V_"
   },
   "source": [
    "Ca prim exemplu de scraping vom incerca urmatorul task: pornind de la site-ul de programare competitiva \"infoarena.ro\" dorim pentru un utilizator sa descarcam informatii despre toate submisiile efectuate de acesta.\n",
    "\n",
    "Exemplu pagina de submisii: https://www.infoarena.ro/monitor?user=iordache.bogdan\n",
    "\n",
    "Pentru a realiza un request care sa intoarca continutul paginii putem folosi biblioteca \"requests\":"
   ]
  },
  {
   "cell_type": "code",
   "execution_count": null,
   "metadata": {},
   "outputs": [],
   "source": [
    "! pip install requests"
   ]
  },
  {
   "cell_type": "code",
   "execution_count": 10,
   "metadata": {
    "id": "Kp2mSeC_9CCu"
   },
   "outputs": [],
   "source": [
    "import requests\n",
    "\n",
    "def get_submissions_page(user):\n",
    "    return requests.get(f\"https://www.infoarena.ro/monitor?user={user}\")"
   ]
  },
  {
   "cell_type": "code",
   "execution_count": 11,
   "metadata": {
    "id": "13W4i-G3k7hl"
   },
   "outputs": [],
   "source": [
    "html = get_submissions_page(\"iordache.bogdan\").content"
   ]
  },
  {
   "cell_type": "markdown",
   "metadata": {
    "id": "6aSHQWnilIOR"
   },
   "source": [
    "Observam ca folosind metoda de mai sus putem descarca intreg continutul HTML al paginii. Pentru a extrage informatii utile trebuie sa parsam acest continut. Vom folosi biblioteca [BeautifulSoup](https://www.crummy.com/software/BeautifulSoup/bs4/doc/):"
   ]
  },
  {
   "cell_type": "code",
   "execution_count": 12,
   "metadata": {
    "id": "a1NrQndSlG4g"
   },
   "outputs": [],
   "source": [
    "import bs4\n",
    "\n",
    "def parse_html(html):\n",
    "    return bs4.BeautifulSoup(html, \"html.parser\")"
   ]
  },
  {
   "cell_type": "markdown",
   "metadata": {
    "id": "DyKYAfF7l3pO"
   },
   "source": [
    "Avand continutul parsat, putem determina acum cate submisii are in total acest utilizator:"
   ]
  },
  {
   "cell_type": "code",
   "execution_count": 13,
   "metadata": {
    "colab": {
     "base_uri": "https://localhost:8080/"
    },
    "executionInfo": {
     "elapsed": 258,
     "status": "ok",
     "timestamp": 1644680792685,
     "user": {
      "displayName": "Bogdan Iordache",
      "photoUrl": "https://lh3.googleusercontent.com/a-/AOh14Gh-PZvTGY_WfhB97fLgLmkcd8CIjhKRDgsFQiip=s64",
      "userId": "11937921055418047811"
     },
     "user_tz": -120
    },
    "id": "UB0sUnx0ltvH",
    "outputId": "e5cd8d9e-0ac0-4f55-d14a-8e0b05ea6e21"
   },
   "outputs": [
    {
     "name": "stdout",
     "output_type": "stream",
     "text": [
      " (5027 rezultate)\n",
      "5027\n"
     ]
    }
   ],
   "source": [
    "import re\n",
    "\n",
    "soup = parse_html(html)\n",
    "\n",
    "# cautam un span care are clasa \"count\", in acest span se afla numarul de submisii\n",
    "submission_count_text = soup.find(\"span\", class_=\"count\").text\n",
    "print(submission_count_text)\n",
    "submission_count = int(re.search(r\"\\d+\", submission_count_text).group())\n",
    "print(submission_count)"
   ]
  },
  {
   "cell_type": "markdown",
   "metadata": {
    "id": "Obu7nG4HnSIJ"
   },
   "source": [
    "Observam ca aceste submisii sunt impartite in mai multe pagini (paginarea rezultatelor). Observam ca link-ul urmator: https://www.infoarena.ro/monitor?user=iordache.bogdan&display_entries=250&first_entry=100 ne returneaza 250 de submisii, incepand cu submisia cu numarul 100. Modificam metoda get_submissions_page astfel:"
   ]
  },
  {
   "cell_type": "code",
   "execution_count": 14,
   "metadata": {
    "id": "xwKHy-zGnQ27"
   },
   "outputs": [],
   "source": [
    "def get_submissions_page(user, display_entries=None, first_entry=None):\n",
    "    req_string = f\"https://www.infoarena.ro/monitor?user={user}\"\n",
    "    if display_entries is not None:\n",
    "        req_string += f\"&display_entries={display_entries}\"\n",
    "    if first_entry is not None:\n",
    "        req_string += f\"&first_entry={first_entry}\"\n",
    "\n",
    "    return requests.get(req_string)"
   ]
  },
  {
   "cell_type": "markdown",
   "metadata": {
    "id": "Pv9ylMxPoTh4"
   },
   "source": [
    "Implementam o functie care returneaza informatii despre toate submisiile unui utilizator:"
   ]
  },
  {
   "cell_type": "code",
   "execution_count": 15,
   "metadata": {
    "id": "sLG0u9POonXT"
   },
   "outputs": [],
   "source": [
    "from tqdm import tqdm\n",
    "import pandas as pd\n",
    "import pdb\n",
    "\n",
    "def scrape_submissions(user):\n",
    "    # determinam numarul total de submisii\n",
    "    html = get_submissions_page(user).content\n",
    "    soup = parse_html(html)\n",
    "    submission_count_text = soup.find(\"span\", class_=\"count\").text\n",
    "    submission_count = int(re.search(r\"\\d+\", submission_count_text).group())\n",
    "\n",
    "    # vom salva in acest dictionar datele despre submisiile extrase, structura aceasta\n",
    "    # ne va ajuta ulterior sa construim un tabel (dataframe) folosind pandas\n",
    "    d = {\n",
    "        \"id\": [],\n",
    "        \"problema\": [],\n",
    "        \"url_problema\": [],\n",
    "        \"url_sursa\": [],\n",
    "        \"data\": [],\n",
    "        \"puncte\": [],\n",
    "    }\n",
    "\n",
    "    # accesam pagini cu submisii in grupuri de 250\n",
    "    for first_entry in tqdm(range(0, submission_count, 250)):\n",
    "        html = get_submissions_page(user, display_entries=250, first_entry=first_entry).content\n",
    "        soup = parse_html(html)\n",
    "\n",
    "        # selectam toate liniile de tabel (tr)\n",
    "        lines = soup.select(\"table.monitor tbody tr\")\n",
    "\n",
    "        for line in lines:\n",
    "            # selectam celulele de pe aceasta linie\n",
    "            cells = [cell for cell in line.select(\"td\")]\n",
    "\n",
    "            # extragem link-urile pentru problema si codul sursa\n",
    "            try:\n",
    "                url_problema = cells[2].select_one(\"a\")[\"href\"]\n",
    "                url_sursa = cells[4].select_one(\"a\")[\"href\"]\n",
    "            except Exception:  # daca vreun link nu exista ignoram linia\n",
    "                continue\n",
    "            \n",
    "            d[\"id\"].append(cells[0].text)\n",
    "            d[\"problema\"].append(cells[2].text)\n",
    "            d[\"url_problema\"].append(url_problema)\n",
    "            d[\"url_sursa\"].append(url_sursa)\n",
    "            d[\"data\"].append(cells[5].text)\n",
    "\n",
    "            try:\n",
    "                puncte = int(re.search(r\"\\d+\", cells[6].text).group())\n",
    "            except Exception:\n",
    "                puncte = 0\n",
    "            d[\"puncte\"].append(puncte)\n",
    "\n",
    "    return pd.DataFrame(d)"
   ]
  },
  {
   "cell_type": "code",
   "execution_count": 16,
   "metadata": {
    "colab": {
     "base_uri": "https://localhost:8080/"
    },
    "executionInfo": {
     "elapsed": 47013,
     "status": "ok",
     "timestamp": 1644683262587,
     "user": {
      "displayName": "Bogdan Iordache",
      "photoUrl": "https://lh3.googleusercontent.com/a-/AOh14Gh-PZvTGY_WfhB97fLgLmkcd8CIjhKRDgsFQiip=s64",
      "userId": "11937921055418047811"
     },
     "user_tz": -120
    },
    "id": "W9Pf0rtfrL_w",
    "outputId": "c6bc6bb7-15d2-4220-9192-e6a1a0bb826b"
   },
   "outputs": [
    {
     "name": "stderr",
     "output_type": "stream",
     "text": [
      "100%|███████████████████████████████████████████████████| 21/21 [00:10<00:00,  2.04it/s]\n"
     ]
    }
   ],
   "source": [
    "df_submissions = scrape_submissions(\"iordache.bogdan\")"
   ]
  },
  {
   "cell_type": "code",
   "execution_count": 17,
   "metadata": {
    "colab": {
     "base_uri": "https://localhost:8080/",
     "height": 206
    },
    "executionInfo": {
     "elapsed": 267,
     "status": "ok",
     "timestamp": 1644683266483,
     "user": {
      "displayName": "Bogdan Iordache",
      "photoUrl": "https://lh3.googleusercontent.com/a-/AOh14Gh-PZvTGY_WfhB97fLgLmkcd8CIjhKRDgsFQiip=s64",
      "userId": "11937921055418047811"
     },
     "user_tz": -120
    },
    "id": "LwOII21wtFKF",
    "outputId": "4c315a21-7994-46e4-a6a1-19083f4aea61"
   },
   "outputs": [
    {
     "data": {
      "text/html": [
       "<div>\n",
       "<style scoped>\n",
       "    .dataframe tbody tr th:only-of-type {\n",
       "        vertical-align: middle;\n",
       "    }\n",
       "\n",
       "    .dataframe tbody tr th {\n",
       "        vertical-align: top;\n",
       "    }\n",
       "\n",
       "    .dataframe thead th {\n",
       "        text-align: right;\n",
       "    }\n",
       "</style>\n",
       "<table border=\"1\" class=\"dataframe\">\n",
       "  <thead>\n",
       "    <tr style=\"text-align: right;\">\n",
       "      <th></th>\n",
       "      <th>id</th>\n",
       "      <th>problema</th>\n",
       "      <th>url_problema</th>\n",
       "      <th>url_sursa</th>\n",
       "      <th>data</th>\n",
       "      <th>puncte</th>\n",
       "    </tr>\n",
       "  </thead>\n",
       "  <tbody>\n",
       "    <tr>\n",
       "      <th>0</th>\n",
       "      <td>#2836860</td>\n",
       "      <td>Luff</td>\n",
       "      <td>/problema/luff</td>\n",
       "      <td>/job_detail/2836860?action=view-source</td>\n",
       "      <td>21 ian 22 00:50:03</td>\n",
       "      <td>100</td>\n",
       "    </tr>\n",
       "    <tr>\n",
       "      <th>1</th>\n",
       "      <td>#2836859</td>\n",
       "      <td>Luff</td>\n",
       "      <td>/problema/luff</td>\n",
       "      <td>/job_detail/2836859?action=view-source</td>\n",
       "      <td>21 ian 22 00:49:40</td>\n",
       "      <td>0</td>\n",
       "    </tr>\n",
       "    <tr>\n",
       "      <th>2</th>\n",
       "      <td>#2836858</td>\n",
       "      <td>Luff</td>\n",
       "      <td>/problema/luff</td>\n",
       "      <td>/job_detail/2836858?action=view-source</td>\n",
       "      <td>21 ian 22 00:41:56</td>\n",
       "      <td>70</td>\n",
       "    </tr>\n",
       "    <tr>\n",
       "      <th>3</th>\n",
       "      <td>#2836856</td>\n",
       "      <td>Luff</td>\n",
       "      <td>/problema/luff</td>\n",
       "      <td>/job_detail/2836856?action=view-source</td>\n",
       "      <td>21 ian 22 00:36:59</td>\n",
       "      <td>70</td>\n",
       "    </tr>\n",
       "    <tr>\n",
       "      <th>4</th>\n",
       "      <td>#2836855</td>\n",
       "      <td>Luff</td>\n",
       "      <td>/problema/luff</td>\n",
       "      <td>/job_detail/2836855?action=view-source</td>\n",
       "      <td>21 ian 22 00:36:26</td>\n",
       "      <td>70</td>\n",
       "    </tr>\n",
       "  </tbody>\n",
       "</table>\n",
       "</div>"
      ],
      "text/plain": [
       "         id problema    url_problema                               url_sursa  \\\n",
       "0  #2836860     Luff  /problema/luff  /job_detail/2836860?action=view-source   \n",
       "1  #2836859     Luff  /problema/luff  /job_detail/2836859?action=view-source   \n",
       "2  #2836858     Luff  /problema/luff  /job_detail/2836858?action=view-source   \n",
       "3  #2836856     Luff  /problema/luff  /job_detail/2836856?action=view-source   \n",
       "4  #2836855     Luff  /problema/luff  /job_detail/2836855?action=view-source   \n",
       "\n",
       "                 data  puncte  \n",
       "0  21 ian 22 00:50:03     100  \n",
       "1  21 ian 22 00:49:40       0  \n",
       "2  21 ian 22 00:41:56      70  \n",
       "3  21 ian 22 00:36:59      70  \n",
       "4  21 ian 22 00:36:26      70  "
      ]
     },
     "execution_count": 17,
     "metadata": {},
     "output_type": "execute_result"
    }
   ],
   "source": [
    "df_submissions.head()"
   ]
  },
  {
   "cell_type": "code",
   "execution_count": 19,
   "metadata": {
    "id": "bSUVqGCBwycM"
   },
   "outputs": [],
   "source": [
    "df_submissions.to_csv(\"submissions.csv\", index=False)"
   ]
  },
  {
   "cell_type": "markdown",
   "metadata": {
    "id": "0JDLdzlAijhV"
   },
   "source": [
    "Exemplu scriere/citire fisier JSON:"
   ]
  },
  {
   "cell_type": "code",
   "execution_count": 20,
   "metadata": {
    "id": "SkKsP_UPiofJ"
   },
   "outputs": [],
   "source": [
    "import json\n",
    "\n",
    "vec = [\n",
    "    {\"title\": \"example_1\", \"size\": 7},\n",
    "    {\"title\": \"example_2\", \"size\": 3},\n",
    "    {\"title\": \"example_3\", \"size\": 8},\n",
    "]\n",
    "\n",
    "with open(\"example.json\", \"w\") as f:\n",
    "    json.dump(vec, f, indent=4)"
   ]
  },
  {
   "cell_type": "code",
   "execution_count": 21,
   "metadata": {
    "colab": {
     "base_uri": "https://localhost:8080/"
    },
    "executionInfo": {
     "elapsed": 4,
     "status": "ok",
     "timestamp": 1644679711408,
     "user": {
      "displayName": "Bogdan Iordache",
      "photoUrl": "https://lh3.googleusercontent.com/a-/AOh14Gh-PZvTGY_WfhB97fLgLmkcd8CIjhKRDgsFQiip=s64",
      "userId": "11937921055418047811"
     },
     "user_tz": -120
    },
    "id": "8qpLd3OujHvP",
    "outputId": "9661a6b7-8b83-44db-c1a3-18f126be8337"
   },
   "outputs": [
    {
     "name": "stdout",
     "output_type": "stream",
     "text": [
      "[{'title': 'example_1', 'size': 7}, {'title': 'example_2', 'size': 3}, {'title': 'example_3', 'size': 8}]\n"
     ]
    }
   ],
   "source": [
    "with open(\"example.json\", \"r\") as f:\n",
    "    vec = json.load(f)\n",
    "print(vec)"
   ]
  },
  {
   "cell_type": "markdown",
   "metadata": {
    "id": "L57SsXOnfd__"
   },
   "source": [
    "Un alt mod de a face scraping este sa folosim biblioteca pandas pentru a ne extrage tabele html, transformandu-le in DataFrame-uri, pe care le putem manipula foarte usor. Un exemplu util este extragerea sarbatorile legale romanesti, in anul 2022, de pe https://www.timeanddate.com/."
   ]
  },
  {
   "cell_type": "code",
   "execution_count": null,
   "metadata": {},
   "outputs": [],
   "source": [
    "! pip install lxml"
   ]
  },
  {
   "cell_type": "code",
   "execution_count": 23,
   "metadata": {
    "colab": {
     "base_uri": "https://localhost:8080/",
     "height": 206
    },
    "executionInfo": {
     "elapsed": 486,
     "status": "ok",
     "timestamp": 1644679255096,
     "user": {
      "displayName": "Bogdan Iordache",
      "photoUrl": "https://lh3.googleusercontent.com/a-/AOh14Gh-PZvTGY_WfhB97fLgLmkcd8CIjhKRDgsFQiip=s64",
      "userId": "11937921055418047811"
     },
     "user_tz": -120
    },
    "id": "4KiZSYVGg1jP",
    "outputId": "b8c1093b-3c08-4272-c9f3-f84d0e15ac55"
   },
   "outputs": [
    {
     "data": {
      "text/html": [
       "<div>\n",
       "<style scoped>\n",
       "    .dataframe tbody tr th:only-of-type {\n",
       "        vertical-align: middle;\n",
       "    }\n",
       "\n",
       "    .dataframe tbody tr th {\n",
       "        vertical-align: top;\n",
       "    }\n",
       "\n",
       "    .dataframe thead th {\n",
       "        text-align: right;\n",
       "    }\n",
       "</style>\n",
       "<table border=\"1\" class=\"dataframe\">\n",
       "  <thead>\n",
       "    <tr style=\"text-align: right;\">\n",
       "      <th></th>\n",
       "      <th>Date</th>\n",
       "      <th>Day</th>\n",
       "      <th>Name</th>\n",
       "      <th>Type</th>\n",
       "    </tr>\n",
       "  </thead>\n",
       "  <tbody>\n",
       "    <tr>\n",
       "      <th>0</th>\n",
       "      <td>1 ian</td>\n",
       "      <td>sâmbătă</td>\n",
       "      <td>New Year's Day</td>\n",
       "      <td>National holiday</td>\n",
       "    </tr>\n",
       "    <tr>\n",
       "      <th>1</th>\n",
       "      <td>2 ian</td>\n",
       "      <td>duminică</td>\n",
       "      <td>Day after New Year's Day</td>\n",
       "      <td>National holiday</td>\n",
       "    </tr>\n",
       "    <tr>\n",
       "      <th>2</th>\n",
       "      <td>24 ian</td>\n",
       "      <td>luni</td>\n",
       "      <td>Unification Day</td>\n",
       "      <td>National holiday</td>\n",
       "    </tr>\n",
       "    <tr>\n",
       "      <th>3</th>\n",
       "      <td>19 feb</td>\n",
       "      <td>sâmbătă</td>\n",
       "      <td>Constantin Brancusi Day</td>\n",
       "      <td>Observance</td>\n",
       "    </tr>\n",
       "    <tr>\n",
       "      <th>4</th>\n",
       "      <td>24 feb</td>\n",
       "      <td>joi</td>\n",
       "      <td>Dragobete</td>\n",
       "      <td>Observance</td>\n",
       "    </tr>\n",
       "  </tbody>\n",
       "</table>\n",
       "</div>"
      ],
      "text/plain": [
       "     Date       Day                      Name              Type\n",
       "0   1 ian   sâmbătă            New Year's Day  National holiday\n",
       "1   2 ian  duminică  Day after New Year's Day  National holiday\n",
       "2  24 ian      luni           Unification Day  National holiday\n",
       "3  19 feb   sâmbătă   Constantin Brancusi Day        Observance\n",
       "4  24 feb       joi                 Dragobete        Observance"
      ]
     },
     "execution_count": 23,
     "metadata": {},
     "output_type": "execute_result"
    }
   ],
   "source": [
    "import pandas as pd\n",
    "\n",
    "tables_df = pd.read_html('https://www.timeanddate.com/holidays/romania/2022?hol=1')\n",
    "df = tables_df[0]\n",
    "\n",
    "# Il putem curata prin a sterge liniile nule si modifica coloanele de la tuplul \"(Date, Date)\" -> \"Date\"\n",
    "df = df.dropna(axis='index')\n",
    "df.columns = ['Date', 'Day', 'Name', 'Type']\n",
    "\n",
    "# Reindexam tabelul\n",
    "df = df.reset_index(drop=\"True\")\n",
    "\n",
    "# Afisam primele 5 randuri\n",
    "df.head()"
   ]
  },
  {
   "cell_type": "code",
   "execution_count": 25,
   "metadata": {
    "colab": {
     "base_uri": "https://localhost:8080/",
     "height": 238
    },
    "executionInfo": {
     "elapsed": 251,
     "status": "ok",
     "timestamp": 1644679369336,
     "user": {
      "displayName": "Bogdan Iordache",
      "photoUrl": "https://lh3.googleusercontent.com/a-/AOh14Gh-PZvTGY_WfhB97fLgLmkcd8CIjhKRDgsFQiip=s64",
      "userId": "11937921055418047811"
     },
     "user_tz": -120
    },
    "id": "4s6tVtnIfF1_",
    "outputId": "b6533bfb-860f-4340-cbe1-554159b629da"
   },
   "outputs": [
    {
     "data": {
      "text/html": [
       "<div>\n",
       "<style scoped>\n",
       "    .dataframe tbody tr th:only-of-type {\n",
       "        vertical-align: middle;\n",
       "    }\n",
       "\n",
       "    .dataframe tbody tr th {\n",
       "        vertical-align: top;\n",
       "    }\n",
       "\n",
       "    .dataframe thead th {\n",
       "        text-align: right;\n",
       "    }\n",
       "</style>\n",
       "<table border=\"1\" class=\"dataframe\">\n",
       "  <thead>\n",
       "    <tr style=\"text-align: right;\">\n",
       "      <th></th>\n",
       "      <th>Date</th>\n",
       "      <th>Day</th>\n",
       "      <th>Name</th>\n",
       "      <th>Type</th>\n",
       "    </tr>\n",
       "  </thead>\n",
       "  <tbody>\n",
       "    <tr>\n",
       "      <th>2</th>\n",
       "      <td>24 ian</td>\n",
       "      <td>luni</td>\n",
       "      <td>Unification Day</td>\n",
       "      <td>National holiday</td>\n",
       "    </tr>\n",
       "    <tr>\n",
       "      <th>10</th>\n",
       "      <td>25 apr</td>\n",
       "      <td>luni</td>\n",
       "      <td>Orthodox Easter Monday</td>\n",
       "      <td>National holiday, Orthodox</td>\n",
       "    </tr>\n",
       "    <tr>\n",
       "      <th>19</th>\n",
       "      <td>13 iun</td>\n",
       "      <td>luni</td>\n",
       "      <td>Orthodox Pentecost Monday</td>\n",
       "      <td>National holiday, Orthodox</td>\n",
       "    </tr>\n",
       "    <tr>\n",
       "      <th>23</th>\n",
       "      <td>15 aug</td>\n",
       "      <td>luni</td>\n",
       "      <td>St Mary's Day</td>\n",
       "      <td>National holiday</td>\n",
       "    </tr>\n",
       "    <tr>\n",
       "      <th>25</th>\n",
       "      <td>31 oct</td>\n",
       "      <td>luni</td>\n",
       "      <td>Halloween</td>\n",
       "      <td>Observance</td>\n",
       "    </tr>\n",
       "    <tr>\n",
       "      <th>33</th>\n",
       "      <td>26 dec</td>\n",
       "      <td>luni</td>\n",
       "      <td>Second day of Christmas</td>\n",
       "      <td>National holiday</td>\n",
       "    </tr>\n",
       "  </tbody>\n",
       "</table>\n",
       "</div>"
      ],
      "text/plain": [
       "      Date   Day                       Name                        Type\n",
       "2   24 ian  luni            Unification Day            National holiday\n",
       "10  25 apr  luni     Orthodox Easter Monday  National holiday, Orthodox\n",
       "19  13 iun  luni  Orthodox Pentecost Monday  National holiday, Orthodox\n",
       "23  15 aug  luni              St Mary's Day            National holiday\n",
       "25  31 oct  luni                  Halloween                  Observance\n",
       "33  26 dec  luni    Second day of Christmas            National holiday"
      ]
     },
     "execution_count": 25,
     "metadata": {},
     "output_type": "execute_result"
    }
   ],
   "source": [
    "# Daca vrem se vedem sarbatorile care pica in ziua de luni\n",
    "df_luni = df.loc[df[\"Day\"] == \"luni\"]\n",
    "df_luni"
   ]
  },
  {
   "cell_type": "code",
   "execution_count": 26,
   "metadata": {
    "colab": {
     "base_uri": "https://localhost:8080/",
     "height": 175
    },
    "executionInfo": {
     "elapsed": 244,
     "status": "ok",
     "timestamp": 1644679392984,
     "user": {
      "displayName": "Bogdan Iordache",
      "photoUrl": "https://lh3.googleusercontent.com/a-/AOh14Gh-PZvTGY_WfhB97fLgLmkcd8CIjhKRDgsFQiip=s64",
      "userId": "11937921055418047811"
     },
     "user_tz": -120
    },
    "id": "zeX7VEyXh57m",
    "outputId": "f15cdbdc-26f9-412b-f09b-eb3d516397f1"
   },
   "outputs": [
    {
     "data": {
      "text/html": [
       "<div>\n",
       "<style scoped>\n",
       "    .dataframe tbody tr th:only-of-type {\n",
       "        vertical-align: middle;\n",
       "    }\n",
       "\n",
       "    .dataframe tbody tr th {\n",
       "        vertical-align: top;\n",
       "    }\n",
       "\n",
       "    .dataframe thead th {\n",
       "        text-align: right;\n",
       "    }\n",
       "</style>\n",
       "<table border=\"1\" class=\"dataframe\">\n",
       "  <thead>\n",
       "    <tr style=\"text-align: right;\">\n",
       "      <th></th>\n",
       "      <th>Date</th>\n",
       "      <th>Day</th>\n",
       "      <th>Name</th>\n",
       "      <th>Type</th>\n",
       "    </tr>\n",
       "  </thead>\n",
       "  <tbody>\n",
       "    <tr>\n",
       "      <th>count</th>\n",
       "      <td>6</td>\n",
       "      <td>6</td>\n",
       "      <td>6</td>\n",
       "      <td>6</td>\n",
       "    </tr>\n",
       "    <tr>\n",
       "      <th>unique</th>\n",
       "      <td>6</td>\n",
       "      <td>1</td>\n",
       "      <td>6</td>\n",
       "      <td>3</td>\n",
       "    </tr>\n",
       "    <tr>\n",
       "      <th>top</th>\n",
       "      <td>24 ian</td>\n",
       "      <td>luni</td>\n",
       "      <td>Unification Day</td>\n",
       "      <td>National holiday</td>\n",
       "    </tr>\n",
       "    <tr>\n",
       "      <th>freq</th>\n",
       "      <td>1</td>\n",
       "      <td>6</td>\n",
       "      <td>1</td>\n",
       "      <td>3</td>\n",
       "    </tr>\n",
       "  </tbody>\n",
       "</table>\n",
       "</div>"
      ],
      "text/plain": [
       "          Date   Day             Name              Type\n",
       "count        6     6                6                 6\n",
       "unique       6     1                6                 3\n",
       "top     24 ian  luni  Unification Day  National holiday\n",
       "freq         1     6                1                 3"
      ]
     },
     "execution_count": 26,
     "metadata": {},
     "output_type": "execute_result"
    }
   ],
   "source": [
    "df_luni.describe()"
   ]
  },
  {
   "cell_type": "markdown",
   "metadata": {
    "id": "xmrzEs27iHYw"
   },
   "source": [
    "Putem salva rezultatul (la fel ca orice dictionar de python) intr-un json, ca alternativa la DataFrame - si poate fi util intr-o aplicatie pentru comunicarea cu front-end-ul"
   ]
  },
  {
   "cell_type": "code",
   "execution_count": 27,
   "metadata": {
    "id": "cRwND0SBh_Ca"
   },
   "outputs": [],
   "source": [
    "import json\n",
    "json_str = df.to_json(orient='records')\n",
    "json_result = json.loads(json_str)\n",
    "\n",
    "with open('holidays.json', 'w', encoding='utf8') as fout:\n",
    "    json.dump(json_result, fout, indent=4, sort_keys=True, ensure_ascii=False)"
   ]
  },
  {
   "cell_type": "markdown",
   "metadata": {
    "id": "v4uecs3b3MXZ"
   },
   "source": [
    "Alte biblioteci utile pentru scraping:\n",
    " * [scrapy](https://scrapy.org/) (folosit in special pentru web crawling)\n",
    " * [selenium](https://selenium-python.readthedocs.io/) (folosit pentru a simula activitatea din browser, utilizat in special in scrierea de teste pentru aplicatii front-end)"
   ]
  },
  {
   "cell_type": "markdown",
   "metadata": {
    "id": "sFNRIfgF1cRD"
   },
   "source": [
    "## TASK: IMDb scraping (deadline: 3 martie ora 23:59)"
   ]
  },
  {
   "cell_type": "code",
   "execution_count": 3,
   "metadata": {},
   "outputs": [],
   "source": [
    "import requests\n",
    "import bs4\n",
    "import pandas as pd\n",
    "from collections import defaultdict\n",
    "def parse_html(html):\n",
    "    return bs4.BeautifulSoup(html, \"html.parser\")"
   ]
  },
  {
   "cell_type": "markdown",
   "metadata": {
    "id": "6G-0iTm14GIy"
   },
   "source": [
    "1. Pornind de la lista cu cele mai populare 250 de filme de pe IMDb ([https://www.imdb.com/chart/top/](https://www.imdb.com/chart/top/)), identificati pentru toate aceste filme link-ul catre pagina sa de recenzii.\n",
    "\n",
    "Exemplu: aici se gaseste pagina cu recenzii pentru \"The Shawshank Redemption\": [https://www.imdb.com/title/tt0111161/reviews](https://www.imdb.com/title/tt0111161/reviews)"
   ]
  },
  {
   "cell_type": "code",
   "execution_count": 5,
   "metadata": {
    "id": "Wlm1QSJR5Ie9"
   },
   "outputs": [
    {
     "name": "stdout",
     "output_type": "stream",
     "text": [
      "['https://www.imdb.com/title/tt0111161/reviews', 'https://www.imdb.com/title/tt0068646/reviews', 'https://www.imdb.com/title/tt0071562/reviews', 'https://www.imdb.com/title/tt0468569/reviews', 'https://www.imdb.com/title/tt0050083/reviews', 'https://www.imdb.com/title/tt0108052/reviews', 'https://www.imdb.com/title/tt0167260/reviews', 'https://www.imdb.com/title/tt0110912/reviews', 'https://www.imdb.com/title/tt0060196/reviews', 'https://www.imdb.com/title/tt0120737/reviews']\n",
      "250\n"
     ]
    }
   ],
   "source": [
    "top_url = \"https://www.imdb.com/chart/top\"\n",
    "html = requests.get(top_url).content\n",
    "soup = parse_html(html)\n",
    "\n",
    "lines = soup.select(\"tbody.lister-list tr\")\n",
    "urls_reviews = []\n",
    "titles = defaultdict()\n",
    "for line in lines:\n",
    "    cells = [cell for cell in line.select(\"td\")]\n",
    "\n",
    "    try:\n",
    "        url_review = f\"https://www.imdb.com{cells[1].select_one('a')['href']}reviews\"\n",
    "        title = cells[1].select_one('a').text\n",
    "        titles[url_review]=title\n",
    "        urls_reviews.append(url_review)\n",
    "    except Exception:\n",
    "        continue\n",
    "\n",
    "print(urls_reviews[:10])\n",
    "print(len(urls_reviews))\n"
   ]
  },
  {
   "cell_type": "markdown",
   "metadata": {
    "id": "wK56g-0W5I1p"
   },
   "source": [
    "2. Pentru fiecare film colectati date despre recenziile sale (titlu, text, rating, data, utlizator, etc.)"
   ]
  },
  {
   "cell_type": "code",
   "execution_count": 22,
   "metadata": {
    "id": "jXT34ayI5_qi"
   },
   "outputs": [
    {
     "name": "stdout",
     "output_type": "stream",
     "text": [
      "[{'text': \"Shawshank Redemption is without doubt one of the best films ever made, and definitely the best film of 1994. Yes, it is better than Lion King, and I really like that too. It is not only enthralling but powerful and moving too. I will confess that I didn't understand it when I first saw it as a lot happens in the film, and I have now seen it three times. I seriously hope, that those who ignored the film when it was first released now recognise it as a great film, as it really is. The dialogue was extremely well-written, with lines that really stick in your mind. The cinematography and music are both gorgeous, and the prison itself is like a character that dominates the film. In the script, there are some true elements of Stephen King Now I admit I am not a huge king fan, and usually don't like coarse language in books. But in his books like It, which is very good, I have accepted the language represents brutality and rebellion, shown perfectly in the film with the battle of acceptance I suppose between the inmates and the superiors(like the scene with the warden yelling coarse language at the new inmates lined up in a row at the beginning.)The acting was exceptional. I am not hugely familiar with Tim Robbins, but he did a great job in a very demanding role. The best performance however, comes from Morgan Freeman as Red, who was seriously robbed of that Oscar, that he lost to Tom Hanks for Forrest Gump. Freeman reminds me very strongly, or his style of acting does, remind me of that of Sean Connery, suave yet very charismatic. Acting isn't just about your vocal range, it's about depth, which was what Freeman certainly had. In short, Freeman was brilliant in what could be his best performance. The scene where the inmates are listening to the Mozart aria over the speakers was a beautiful profound moment, and I actually cried in Brook's death scene. Very rarely do King adaptations translate-to screen well, because of the large scale of the author's books, with the exception of this and the Shining. Some like It and Dreamcatcher are genuinely memorable but have a number of flaws that prevent them from being classed as outstanding. And some, like Thinner and Tommyknockers that border on unwatchable. In conclusion Shawshank is a brilliant film, that is worthy of the credit it has been denied for so-long. 10/10 of course. Bethany Cox.\", 'rating': '10', 'date': '17 April 2009', 'user': 'TheLittleSongbird', 'title': 'Enthralling, fantastic, intriguing, truly remarkable!'}, {'text': \"None of the usual otherworld creatures that populate the works of Stephen King are to be found in The Shawshank Redemption. But the real world of that Maine prison has some bizarre rules of its own and there's a whole new reality within those walls.In the tradition of Cool Hand Luke and Birdman Of Alcatraz comes Tim Robbins who was a banker on the outside, but when he caught his wife cheating on him with a golf pro from their country club, he's convicted of putting eight bullets in them, four apiece and tried and sentenced to two consecutive life terms in Shawshank prison. Like Luke and Bob Stroud he works out his own rehabilitation and rebels against the prison system.He may be a con, but Robbins still has all his knowledge of finances and pretty soon he's made himself quite invaluable to the warden and the rest of the staff at the prison. At the same time he and the cell block scrounger Morgan Freeman develop a close personal relationship. In the end they beat the system in a most unique way.There have been some classic prison films made ever since The Big House at the dawn of the talkies. Two I've already mentioned. My favorite prison film is Robert Redford's Brubaker, but The Shawshank Redemption comes pretty close. As does The Green Mile which was also directed by Frank Darabont.Darabont got an Oscar nomination as did the film itself and as did Morgan Freeman for Best Actor. The Shawshank Redemption was in for a flock more Oscar nominations in 1994. A couple other good performances are that of James Whitmore the institutionalized con who is there for 50 years and paroled and just can't make it on the outside. He will break your heart as will Gil Bellows who plays a fresh, but rather likable young con who runs afoul of the warden.Speaking of which Bob Gunton as the warden will positively chill you with his corruption. You would have to go back all the way to the James Cagney classic, The Mayor Of Hell where Dudley Digges was the warden of boys reformatory to find a warden that is as sanctimonious and as corrupt as Gunton. This is a man who gives Bibles out to each inmate hoping that the reading of the Good Book will improve the moral fiber of the convicts. At the same time he's raking in money every which way he can and a rather special punishment is meted out to him by Robbins.The Shawshank Redemption may not have monsters and other worldly creatures that normally characterize a Stephen King story. But the world of Shawshank prison is bizarre enough for any normal person if you see this wonderfully crafted and acted film.\", 'rating': '9', 'date': '17 February 2011', 'user': 'bkoganbing', 'title': '\"I Had To Go To Prison To Learn To Be A Crook\"'}, {'text': 'Based on a novella by Stephen King, this is better than even THE GREEN MILE and goes to show that you don\\'t need supernatural elements in a prison story – the setting is enough to carry a film as it is. SHAWSHANK often shows up as the \"best film of all time\" on various movie lists - including here on the IMDb - and, whilst I don\\'t necessarily agree about that, it is a very good film indeed, near flawless in fact.Every technical element of the film is spot-on, from direction to music, editing, and acting; Morgan Freeman delivers his best ever performance whilst Tim Robbins shows us what a great character actor he is. Even better, for a genre fan like me, is seeing acting favourites like Clancy Brown, William Sadler, Brian Libby, and James Whitmore all appearing in the film together and playing more than just stock good or bad guy roles. Every actor is great here, and the script (which sticks closely to King\\'s writing) is nigh-on perfect. Emotion, thrills, drama, and the triumph of the human spirit are all present in this movie, which is one of the greatest prison flicks ever.', 'rating': '10', 'date': '18 December 2016', 'user': 'Leofwine_draca', 'title': 'All-time prison film classic'}, {'text': \"Andy Dufresne (Tim Robbins) is a banker convicted of murdering his wife and her lover. He always professes his innocence, but is thrown into Shawshank Prison with other lifers like Red (Morgan Freeman).Director Frank Darabont has made a prison fable out of a Stephen King short story. It is well acted by Tim Robbins and Morgan Freeman. Freeman is especially important as he is the narrator and the POV of the story. It's his lyrical voice that makes this fable compelling. It could have easily been a simple prison movie that rang hollow. Freeman gave the readings depth.If there is one complaint, it is Andy's claim of innocence. It needs to be shown early on during the trial. Instead, we derived mostly from Andy's demeanor. It needs to be a big declaration at the beginning. When Tommy (Gil Bellows) tells the story, he should include one detail from the trial like the 8 bullets. That way, the audience can get an aha moment. It's a minor point, and overall this is a good prison fable.\", 'rating': '8', 'date': '8 December 2013', 'user': 'SnoopyStyle', 'title': 'Freeman gives it depth'}, {'text': \"It is no wonder that the film has such a high rating, it is quite literally breathtaking. What can I say that hasn't said before? Not much, it's the story, the acting, the premise, but most of all, this movie is about how it makes you feel. Sometimes you watch a film, and can't remember it days later, this film loves with you, once you've seen it, you don't forget.The ultimate story of friendship, of hope, and of life, and overcoming adversity.I understand why so many class this as the best film of all time, it isn't mine, but I get it. If you haven't seen it, or haven't seen it for some time, you need to watch it, it's amazing. 10/10.\", 'rating': '10', 'date': '17 February 2021', 'user': 'Sleepin_Dragon', 'title': 'An incredible movie. One that lives with you.'}]\n"
     ]
    }
   ],
   "source": [
    "reviewsDB = defaultdict(list)\n",
    "\n",
    "for url in urls_reviews[:5]:\n",
    "    # print(url)\n",
    "    html = requests.get(url).content\n",
    "    soup = parse_html(html)\n",
    "\n",
    "    reviews = soup.select(\"div.lister-list div.lister-item\")\n",
    "    for review in reviews:\n",
    "        try:\n",
    "            title = review.select_one(\"div.lister-item-content > a.title\").text.strip()\n",
    "            text = review.select_one(\"div.lister-item-content  .text\").text.strip()\n",
    "            rating = review.select_one(\"div.lister-item-content  .rating-other-user-rating span\").text.strip()\n",
    "            date = review.select_one(\"div.lister-item-content > div.display-name-date > span.review-date\").text.strip()\n",
    "            user = review.select_one(\"div.lister-item-content > .display-name-date >  .display-name-link > a\").text.strip()\n",
    "            reviewsDB[url].append({\"text\": text, \"rating\": rating, \"date\": date, \"user\": user, \"title\": title})\n",
    "        except Exception:\n",
    "            continue\n",
    "    next_key = soup.select_one(\"div.load-more-data\")[\"data-key\"]\n",
    "\n",
    "print(reviewsDB[urls_reviews[0]][:5])"
   ]
  },
  {
   "cell_type": "markdown",
   "metadata": {
    "id": "RhcG_zFK6AFE"
   },
   "source": [
    "3. Creati un dataset de recenzii, pentru fiecare recenzie stocati:\n",
    " * filmul caruia ii apartine\n",
    " * titlul recenziei\n",
    " * textul recenziei\n",
    " * ratingul\n",
    " * data\n",
    " * utilizator\n",
    "\n",
    " Salvati datasetul intr-un fisier JSON."
   ]
  },
  {
   "cell_type": "code",
   "execution_count": 101,
   "metadata": {
    "id": "4BYOWe4C6wz3"
   },
   "outputs": [
    {
     "data": {
      "text/html": [
       "<div>\n",
       "<style scoped>\n",
       "    .dataframe tbody tr th:only-of-type {\n",
       "        vertical-align: middle;\n",
       "    }\n",
       "\n",
       "    .dataframe tbody tr th {\n",
       "        vertical-align: top;\n",
       "    }\n",
       "\n",
       "    .dataframe thead th {\n",
       "        text-align: right;\n",
       "    }\n",
       "</style>\n",
       "<table border=\"1\" class=\"dataframe\">\n",
       "  <thead>\n",
       "    <tr style=\"text-align: right;\">\n",
       "      <th></th>\n",
       "      <th>id_movie</th>\n",
       "      <th>title</th>\n",
       "      <th>text</th>\n",
       "      <th>rating</th>\n",
       "      <th>date</th>\n",
       "      <th>user</th>\n",
       "    </tr>\n",
       "  </thead>\n",
       "  <tbody>\n",
       "    <tr>\n",
       "      <th>0</th>\n",
       "      <td>Închisoarea îngerilor</td>\n",
       "      <td>Enthralling, fantastic, intriguing, truly rema...</td>\n",
       "      <td>Shawshank Redemption is without doubt one of t...</td>\n",
       "      <td>10</td>\n",
       "      <td>17 April 2009</td>\n",
       "      <td>TheLittleSongbird</td>\n",
       "    </tr>\n",
       "    <tr>\n",
       "      <th>1</th>\n",
       "      <td>Închisoarea îngerilor</td>\n",
       "      <td>\"I Had To Go To Prison To Learn To Be A Crook\"</td>\n",
       "      <td>None of the usual otherworld creatures that po...</td>\n",
       "      <td>9</td>\n",
       "      <td>17 February 2011</td>\n",
       "      <td>bkoganbing</td>\n",
       "    </tr>\n",
       "    <tr>\n",
       "      <th>2</th>\n",
       "      <td>Închisoarea îngerilor</td>\n",
       "      <td>All-time prison film classic</td>\n",
       "      <td>Based on a novella by Stephen King, this is be...</td>\n",
       "      <td>10</td>\n",
       "      <td>18 December 2016</td>\n",
       "      <td>Leofwine_draca</td>\n",
       "    </tr>\n",
       "    <tr>\n",
       "      <th>3</th>\n",
       "      <td>Închisoarea îngerilor</td>\n",
       "      <td>Freeman gives it depth</td>\n",
       "      <td>Andy Dufresne (Tim Robbins) is a banker convic...</td>\n",
       "      <td>8</td>\n",
       "      <td>8 December 2013</td>\n",
       "      <td>SnoopyStyle</td>\n",
       "    </tr>\n",
       "    <tr>\n",
       "      <th>4</th>\n",
       "      <td>Închisoarea îngerilor</td>\n",
       "      <td>An incredible movie. One that lives with you.</td>\n",
       "      <td>It is no wonder that the film has such a high ...</td>\n",
       "      <td>10</td>\n",
       "      <td>17 February 2021</td>\n",
       "      <td>Sleepin_Dragon</td>\n",
       "    </tr>\n",
       "  </tbody>\n",
       "</table>\n",
       "</div>"
      ],
      "text/plain": [
       "                id_movie                                              title  \\\n",
       "0  Închisoarea îngerilor  Enthralling, fantastic, intriguing, truly rema...   \n",
       "1  Închisoarea îngerilor     \"I Had To Go To Prison To Learn To Be A Crook\"   \n",
       "2  Închisoarea îngerilor                       All-time prison film classic   \n",
       "3  Închisoarea îngerilor                             Freeman gives it depth   \n",
       "4  Închisoarea îngerilor      An incredible movie. One that lives with you.   \n",
       "\n",
       "                                                text rating              date  \\\n",
       "0  Shawshank Redemption is without doubt one of t...     10     17 April 2009   \n",
       "1  None of the usual otherworld creatures that po...      9  17 February 2011   \n",
       "2  Based on a novella by Stephen King, this is be...     10  18 December 2016   \n",
       "3  Andy Dufresne (Tim Robbins) is a banker convic...      8   8 December 2013   \n",
       "4  It is no wonder that the film has such a high ...     10  17 February 2021   \n",
       "\n",
       "                user  \n",
       "0  TheLittleSongbird  \n",
       "1         bkoganbing  \n",
       "2     Leofwine_draca  \n",
       "3        SnoopyStyle  \n",
       "4     Sleepin_Dragon  "
      ]
     },
     "execution_count": 101,
     "metadata": {},
     "output_type": "execute_result"
    }
   ],
   "source": [
    "d = {\"id_movie\":[],\"title\":[] ,\"text\":[], \"rating\":[], \"date\":[], \"user\":[]}\n",
    "\n",
    "for k,v in reviewsDB.items():\n",
    "    for review in v:\n",
    "        d[\"id_movie\"].append(titles[k])\n",
    "        d[\"title\"].append(review[\"title\"])\n",
    "        d[\"text\"].append(review[\"text\"])\n",
    "        d[\"rating\"].append(review[\"rating\"])\n",
    "        d[\"date\"].append(review[\"date\"])\n",
    "        d[\"user\"].append(review[\"user\"])\n",
    "\n",
    "# print(d)\n",
    "d = pd.DataFrame(d)\n",
    "d.head()"
   ]
  },
  {
   "cell_type": "markdown",
   "metadata": {
    "id": "NtSpO-Ss6yF_"
   },
   "source": [
    "4. Pe o pagina cu recenzii putem gasi un numar mic de astfel de date. Butonul de \"Load more\" de la final, cand este apasat, produce un request care returneaza HTML-ul urmatoarelor recenzii. Folosind aceasta logica colectati automat pentru fiecare film un numar mai mare de recenzii."
   ]
  },
  {
   "cell_type": "code",
   "execution_count": null,
   "metadata": {
    "id": "aO3K690x7m4I"
   },
   "outputs": [],
   "source": [
    "def parseListOfComments(reviews):\n",
    "    parsed = []\n",
    "    for review in reviews:\n",
    "        try:\n",
    "            title = review.select_one(\"div.lister-item-content > a.title\").text.strip()\n",
    "            text = review.select_one(\"div.lister-item-content  .text\").text.strip()\n",
    "            rating = review.select_one(\"div.lister-item-content  .rating-other-user-rating span\").text.strip()\n",
    "            date = review.select_one(\"div.lister-item-content > div.display-name-date > span.review-date\").text.strip()\n",
    "            user = review.select_one(\"div.lister-item-content > .display-name-date >  .display-name-link > a\").text.strip()\n",
    "            parsed.append({\"text\": text, \"rating\": rating, \"date\": date, \"user\": user, \"title\": title})\n",
    "        except Exception:\n",
    "            continue\n",
    "    return parsed\n",
    "    \n",
    "def parseFromKey(url,key):\n",
    "    url = f\"{url}/_ajax?ref_=undefined&paginationKey={key}\"\n",
    "    html = requests.get(url).content\n",
    "    soup = parse_html(html)\n",
    "\n",
    "    reviews = soup.select(\"div.lister-list div.lister-item\")\n",
    "\n",
    "    next_key = soup.select_one(\"div.load-more-data\")[\"data-key\"]\n",
    "\n",
    "    return parseListOfComments(reviews),next_key\n",
    "    \n",
    "\n",
    "# parseFromKey(\"https://www.imdb.com/title/tt0111161/reviews\", \"g4xolermtiqhejcxxxgs753i36t52q343ymtx77jb7e6qp54dhev5oblzylqap45tzetlqpr\") #just for testing"
   ]
  },
  {
   "cell_type": "code",
   "execution_count": 17,
   "metadata": {},
   "outputs": [
    {
     "name": "stdout",
     "output_type": "stream",
     "text": [
      "41\n",
      "62\n",
      "86\n",
      "45\n",
      "67\n",
      "90\n",
      "45\n",
      "69\n",
      "93\n",
      "45\n",
      "68\n",
      "89\n",
      "44\n",
      "64\n",
      "89\n"
     ]
    }
   ],
   "source": [
    "reviewsDB = defaultdict(list)\n",
    "\n",
    "for url in urls_reviews[:5]: # dureaza destul de mult si am decis sa iau doar din primele 5 filme si sa apelez load de 3 ori\n",
    "    # print(url)\n",
    "    html = requests.get(url).content\n",
    "    soup = parse_html(html)\n",
    "\n",
    "    reviews = soup.select(\"div.lister-list div.lister-item\")\n",
    "    next_key = soup.select_one(\"div.load-more-data\")[\"data-key\"]\n",
    "    reviewsDB[url].extend(parseListOfComments(reviews))\n",
    "    for k in range(3):\n",
    "        reviews,next_key = parseFromKey(url,next_key)\n",
    "        reviewsDB[url].extend(reviews)\n",
    "        print(len(reviewsDB[url]))"
   ]
  },
  {
   "cell_type": "code",
   "execution_count": 20,
   "metadata": {},
   "outputs": [
    {
     "data": {
      "text/html": [
       "<div>\n",
       "<style scoped>\n",
       "    .dataframe tbody tr th:only-of-type {\n",
       "        vertical-align: middle;\n",
       "    }\n",
       "\n",
       "    .dataframe tbody tr th {\n",
       "        vertical-align: top;\n",
       "    }\n",
       "\n",
       "    .dataframe thead th {\n",
       "        text-align: right;\n",
       "    }\n",
       "</style>\n",
       "<table border=\"1\" class=\"dataframe\">\n",
       "  <thead>\n",
       "    <tr style=\"text-align: right;\">\n",
       "      <th></th>\n",
       "      <th>id_movie</th>\n",
       "      <th>title</th>\n",
       "      <th>text</th>\n",
       "      <th>rating</th>\n",
       "      <th>date</th>\n",
       "      <th>user</th>\n",
       "    </tr>\n",
       "  </thead>\n",
       "  <tbody>\n",
       "    <tr>\n",
       "      <th>0</th>\n",
       "      <td>Închisoarea îngerilor</td>\n",
       "      <td>Enthralling, fantastic, intriguing, truly rema...</td>\n",
       "      <td>Shawshank Redemption is without doubt one of t...</td>\n",
       "      <td>10</td>\n",
       "      <td>17 April 2009</td>\n",
       "      <td>TheLittleSongbird</td>\n",
       "    </tr>\n",
       "    <tr>\n",
       "      <th>1</th>\n",
       "      <td>Închisoarea îngerilor</td>\n",
       "      <td>\"I Had To Go To Prison To Learn To Be A Crook\"</td>\n",
       "      <td>None of the usual otherworld creatures that po...</td>\n",
       "      <td>9</td>\n",
       "      <td>17 February 2011</td>\n",
       "      <td>bkoganbing</td>\n",
       "    </tr>\n",
       "    <tr>\n",
       "      <th>2</th>\n",
       "      <td>Închisoarea îngerilor</td>\n",
       "      <td>All-time prison film classic</td>\n",
       "      <td>Based on a novella by Stephen King, this is be...</td>\n",
       "      <td>10</td>\n",
       "      <td>18 December 2016</td>\n",
       "      <td>Leofwine_draca</td>\n",
       "    </tr>\n",
       "    <tr>\n",
       "      <th>3</th>\n",
       "      <td>Închisoarea îngerilor</td>\n",
       "      <td>Freeman gives it depth</td>\n",
       "      <td>Andy Dufresne (Tim Robbins) is a banker convic...</td>\n",
       "      <td>8</td>\n",
       "      <td>8 December 2013</td>\n",
       "      <td>SnoopyStyle</td>\n",
       "    </tr>\n",
       "    <tr>\n",
       "      <th>4</th>\n",
       "      <td>Închisoarea îngerilor</td>\n",
       "      <td>An incredible movie. One that lives with you.</td>\n",
       "      <td>It is no wonder that the film has such a high ...</td>\n",
       "      <td>10</td>\n",
       "      <td>17 February 2021</td>\n",
       "      <td>Sleepin_Dragon</td>\n",
       "    </tr>\n",
       "    <tr>\n",
       "      <th>...</th>\n",
       "      <td>...</td>\n",
       "      <td>...</td>\n",
       "      <td>...</td>\n",
       "      <td>...</td>\n",
       "      <td>...</td>\n",
       "      <td>...</td>\n",
       "    </tr>\n",
       "    <tr>\n",
       "      <th>95</th>\n",
       "      <td>Nașul</td>\n",
       "      <td>And so it begins</td>\n",
       "      <td>The beginning of a movie always sets the tone....</td>\n",
       "      <td>10</td>\n",
       "      <td>4 February 2013</td>\n",
       "      <td>kosmasp</td>\n",
       "    </tr>\n",
       "    <tr>\n",
       "      <th>96</th>\n",
       "      <td>Nașul</td>\n",
       "      <td>\"For justice, we must go to Don Corleone\".</td>\n",
       "      <td>Lately it seems, \"The Godfather\" has had a ubi...</td>\n",
       "      <td>10</td>\n",
       "      <td>28 November 2009</td>\n",
       "      <td>classicsoncall</td>\n",
       "    </tr>\n",
       "    <tr>\n",
       "      <th>97</th>\n",
       "      <td>Nașul</td>\n",
       "      <td>Coppola made us a movie we can't refuse</td>\n",
       "      <td>When people think of \"The Godfather\", they usu...</td>\n",
       "      <td>10</td>\n",
       "      <td>16 July 2005</td>\n",
       "      <td>lee_eisenberg</td>\n",
       "    </tr>\n",
       "    <tr>\n",
       "      <th>98</th>\n",
       "      <td>Nașul</td>\n",
       "      <td>Greatest Movie in World History? Maybe. Maybe ...</td>\n",
       "      <td>The people who vote on the Internet Movie Data...</td>\n",
       "      <td>8</td>\n",
       "      <td>17 August 2006</td>\n",
       "      <td>gavin6942</td>\n",
       "    </tr>\n",
       "    <tr>\n",
       "      <th>99</th>\n",
       "      <td>Nașul</td>\n",
       "      <td>The Godfather</td>\n",
       "      <td>The most brilliant and famous gangster crime f...</td>\n",
       "      <td>10</td>\n",
       "      <td>13 March 2005</td>\n",
       "      <td>jboothmillard</td>\n",
       "    </tr>\n",
       "  </tbody>\n",
       "</table>\n",
       "<p>100 rows × 6 columns</p>\n",
       "</div>"
      ],
      "text/plain": [
       "                 id_movie                                              title  \\\n",
       "0   Închisoarea îngerilor  Enthralling, fantastic, intriguing, truly rema...   \n",
       "1   Închisoarea îngerilor     \"I Had To Go To Prison To Learn To Be A Crook\"   \n",
       "2   Închisoarea îngerilor                       All-time prison film classic   \n",
       "3   Închisoarea îngerilor                             Freeman gives it depth   \n",
       "4   Închisoarea îngerilor      An incredible movie. One that lives with you.   \n",
       "..                    ...                                                ...   \n",
       "95                  Nașul                                   And so it begins   \n",
       "96                  Nașul         \"For justice, we must go to Don Corleone\".   \n",
       "97                  Nașul            Coppola made us a movie we can't refuse   \n",
       "98                  Nașul  Greatest Movie in World History? Maybe. Maybe ...   \n",
       "99                  Nașul                                      The Godfather   \n",
       "\n",
       "                                                 text rating  \\\n",
       "0   Shawshank Redemption is without doubt one of t...     10   \n",
       "1   None of the usual otherworld creatures that po...      9   \n",
       "2   Based on a novella by Stephen King, this is be...     10   \n",
       "3   Andy Dufresne (Tim Robbins) is a banker convic...      8   \n",
       "4   It is no wonder that the film has such a high ...     10   \n",
       "..                                                ...    ...   \n",
       "95  The beginning of a movie always sets the tone....     10   \n",
       "96  Lately it seems, \"The Godfather\" has had a ubi...     10   \n",
       "97  When people think of \"The Godfather\", they usu...     10   \n",
       "98  The people who vote on the Internet Movie Data...      8   \n",
       "99  The most brilliant and famous gangster crime f...     10   \n",
       "\n",
       "                date               user  \n",
       "0      17 April 2009  TheLittleSongbird  \n",
       "1   17 February 2011         bkoganbing  \n",
       "2   18 December 2016     Leofwine_draca  \n",
       "3    8 December 2013        SnoopyStyle  \n",
       "4   17 February 2021     Sleepin_Dragon  \n",
       "..               ...                ...  \n",
       "95   4 February 2013            kosmasp  \n",
       "96  28 November 2009     classicsoncall  \n",
       "97      16 July 2005      lee_eisenberg  \n",
       "98    17 August 2006          gavin6942  \n",
       "99     13 March 2005      jboothmillard  \n",
       "\n",
       "[100 rows x 6 columns]"
      ]
     },
     "execution_count": 20,
     "metadata": {},
     "output_type": "execute_result"
    }
   ],
   "source": [
    "d = {\"id_movie\":[],\"title\":[] ,\"text\":[], \"rating\":[], \"date\":[], \"user\":[]}\n",
    "\n",
    "for k,v in reviewsDB.items():\n",
    "    for review in v:\n",
    "        d[\"id_movie\"].append(titles[k])\n",
    "        d[\"title\"].append(review[\"title\"])\n",
    "        d[\"text\"].append(review[\"text\"])\n",
    "        d[\"rating\"].append(review[\"rating\"])\n",
    "        d[\"date\"].append(review[\"date\"])\n",
    "        d[\"user\"].append(review[\"user\"])\n",
    "\n",
    "# print(d)\n",
    "d = pd.DataFrame(d)\n",
    "d[:100]"
   ]
  }
 ],
 "metadata": {
  "colab": {
   "collapsed_sections": [],
   "name": "lab1_draft",
   "provenance": []
  },
  "interpreter": {
   "hash": "bae9746875297da855bd50289f7f7b2218cc352ab180edc95766cb79a56a2c39"
  },
  "kernelspec": {
   "display_name": "lab-nlp-an3",
   "language": "python",
   "name": "python3"
  },
  "language_info": {
   "codemirror_mode": {
    "name": "ipython",
    "version": 3
   },
   "file_extension": ".py",
   "mimetype": "text/x-python",
   "name": "python",
   "nbconvert_exporter": "python",
   "pygments_lexer": "ipython3",
   "version": "3.9.6"
  }
 },
 "nbformat": 4,
 "nbformat_minor": 1
}
