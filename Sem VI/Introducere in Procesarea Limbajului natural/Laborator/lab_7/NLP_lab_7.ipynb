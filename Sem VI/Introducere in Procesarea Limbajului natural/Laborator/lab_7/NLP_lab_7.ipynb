{
  "cells": [
    {
      "cell_type": "markdown",
      "id": "9d74fde2",
      "metadata": {
        "id": "9d74fde2"
      },
      "source": [
        "# WordNet"
      ]
    },
    {
      "cell_type": "code",
      "source": [
        "import nltk\n",
        "nltk.download('wordnet')"
      ],
      "metadata": {
        "id": "4kWZ9BWvLO_U",
        "outputId": "bd0c7c96-3559-4441-a09f-836a806a43cf",
        "colab": {
          "base_uri": "https://localhost:8080/"
        }
      },
      "id": "4kWZ9BWvLO_U",
      "execution_count": null,
      "outputs": [
        {
          "output_type": "stream",
          "name": "stdout",
          "text": [
            "[nltk_data] Downloading package wordnet to /root/nltk_data...\n",
            "[nltk_data]   Unzipping corpora/wordnet.zip.\n"
          ]
        },
        {
          "output_type": "execute_result",
          "data": {
            "text/plain": [
              "True"
            ]
          },
          "metadata": {},
          "execution_count": 1
        }
      ]
    },
    {
      "cell_type": "code",
      "execution_count": null,
      "id": "78ff5d8d",
      "metadata": {
        "id": "78ff5d8d"
      },
      "outputs": [],
      "source": [
        "from nltk.corpus import wordnet as wn"
      ]
    },
    {
      "cell_type": "markdown",
      "id": "9628477d",
      "metadata": {
        "id": "9628477d"
      },
      "source": [
        "WordNet este o baza de date lexicala care contine relatii semantice intre cuvinte. Aceasta este disponibila in mai multe limbi, dar in acest laborator vom lucra cu baza de date pentru limba Engleza.\n",
        "\n",
        "WordNet contine substantive, verbe, adjective si adverbe grupate in submultimi de cuvinte cu acelasi sens. Unitatea de baza este **synset**-ul, o submultime de cuvinte care descriu acelasi concept. Un cuvant poate face parte din mai multe synseturi (are mai multe sensuri/este polisemic)."
      ]
    },
    {
      "cell_type": "code",
      "execution_count": null,
      "id": "e04bb352",
      "metadata": {
        "id": "e04bb352",
        "outputId": "b4460bcf-0eea-42f9-8d93-77dde961a53e",
        "colab": {
          "base_uri": "https://localhost:8080/"
        }
      },
      "outputs": [
        {
          "output_type": "stream",
          "name": "stdout",
          "text": [
            "[Synset('school.n.01'), Synset('school.n.02'), Synset('school.n.03'), Synset('school.n.04'), Synset('school.n.05'), Synset('school.n.06'), Synset('school.n.07'), Synset('school.v.01'), Synset('educate.v.03'), Synset('school.v.03')]\n"
          ]
        }
      ],
      "source": [
        "# obtinem toate synseturile pentru cuvantul \"school\"\\\n",
        "school_synsets = wn.synsets(\"school\")\n",
        "print(school_synsets)"
      ]
    },
    {
      "cell_type": "code",
      "execution_count": null,
      "id": "a4d908a9",
      "metadata": {
        "id": "a4d908a9"
      },
      "outputs": [],
      "source": [
        "syn = school_synsets[1]  # school.n.02"
      ]
    },
    {
      "cell_type": "markdown",
      "id": "0b6711f9",
      "metadata": {
        "id": "0b6711f9"
      },
      "source": [
        "Putem pentru un synset sa afisam o definitie a acelui sens."
      ]
    },
    {
      "cell_type": "code",
      "execution_count": null,
      "id": "0a21303a",
      "metadata": {
        "id": "0a21303a",
        "outputId": "896e5fa7-29d2-4e10-f5ae-1bbb6f36ced6",
        "colab": {
          "base_uri": "https://localhost:8080/"
        }
      },
      "outputs": [
        {
          "output_type": "stream",
          "name": "stdout",
          "text": [
            "a building where young people receive education\n"
          ]
        }
      ],
      "source": [
        "print(syn.definition())"
      ]
    },
    {
      "cell_type": "markdown",
      "id": "aa43f0cb",
      "metadata": {
        "id": "aa43f0cb"
      },
      "source": [
        "De asemenea, WordNet contine exemple de utilizare in text pentru cuvintele dintr-un synset."
      ]
    },
    {
      "cell_type": "code",
      "execution_count": null,
      "id": "a5ec2083",
      "metadata": {
        "id": "a5ec2083",
        "outputId": "bce1ce33-d92f-43c0-df28-45ae6c3dfdfc",
        "colab": {
          "base_uri": "https://localhost:8080/"
        }
      },
      "outputs": [
        {
          "output_type": "stream",
          "name": "stdout",
          "text": [
            "['the school was built in 1932', 'he walked to school every morning']\n"
          ]
        }
      ],
      "source": [
        "print(syn.examples())"
      ]
    },
    {
      "cell_type": "markdown",
      "id": "62f396d0",
      "metadata": {
        "id": "62f396d0"
      },
      "source": [
        "Putem afisa pentru un synset toate lemele (formele de dictionar) ale cuvintelor care au acel sens."
      ]
    },
    {
      "cell_type": "code",
      "execution_count": null,
      "id": "dd05affe",
      "metadata": {
        "id": "dd05affe",
        "outputId": "605b975c-4c6e-4764-ffe4-123a844aaf0a",
        "colab": {
          "base_uri": "https://localhost:8080/"
        }
      },
      "outputs": [
        {
          "output_type": "stream",
          "name": "stdout",
          "text": [
            "[Lemma('school.n.02.school'), Lemma('school.n.02.schoolhouse')]\n",
            "['school', 'schoolhouse']\n"
          ]
        }
      ],
      "source": [
        "print(syn.lemmas())\n",
        "print(syn.lemma_names())"
      ]
    },
    {
      "cell_type": "markdown",
      "id": "5624da24",
      "metadata": {
        "id": "5624da24"
      },
      "source": [
        "WordNet insa nu este doar o impartire a cuvintelor in sensuri. Aceasta resursa este valoroasa si prin multitudinea de relatii pe care le defineste intre synseturi.\n",
        "\n",
        "Synseturile in WordNet se impart in synseturi pentru substantive (*n*), adjective (*a*, *s*), verbe (*v*) si adverbe (*r*). Principalele relatii sunt definite intre synseturi corespunzatoare acelorasi parti de vorbire (PoS - part-of-speech), insa exista si relatii cross-PoS."
      ]
    },
    {
      "cell_type": "markdown",
      "id": "40f6f18b",
      "metadata": {
        "id": "40f6f18b"
      },
      "source": [
        "## Tipuri de relatii pentru substantive"
      ]
    },
    {
      "cell_type": "markdown",
      "id": "eef79bd9",
      "metadata": {
        "id": "eef79bd9"
      },
      "source": [
        "### 1. Hypernyms/Hyponyms\n",
        "\n",
        "Spunem ca sensul $s_1$ este un hypernym al sensului $s_2$ daca $s_1$ inglobeaza sensul lui $s_2$. Cu alte cuvinte, $s_2$ este un fel de $s_1$ (*is a type of*).\n",
        "\n",
        "Opusul relatiei de hypernymie este relatia de hyponymie ($s_2$ este un hyponym pentru $s_1$)."
      ]
    },
    {
      "cell_type": "code",
      "execution_count": null,
      "id": "58da0be9",
      "metadata": {
        "id": "58da0be9",
        "outputId": "daf4254c-c8e9-4cbf-861f-32262b04d931",
        "colab": {
          "base_uri": "https://localhost:8080/"
        }
      },
      "outputs": [
        {
          "output_type": "stream",
          "name": "stdout",
          "text": [
            "Hypernyms: [Synset('educational_institution.n.01')]\n",
            "Hyponyms: [Synset('academy.n.03'), Synset('alma_mater.n.01'), Synset('conservatory.n.01'), Synset('correspondence_school.n.01'), Synset('crammer.n.03'), Synset('dance_school.n.01'), Synset('dancing_school.n.01'), Synset('day_school.n.02'), Synset('direct-grant_school.n.01'), Synset('driving_school.n.01'), Synset('finishing_school.n.01'), Synset('flying_school.n.01'), Synset('grade_school.n.01'), Synset('graduate_school.n.01'), Synset('language_school.n.01'), Synset('night_school.n.01'), Synset('nursing_school.n.01'), Synset('private_school.n.01'), Synset('public_school.n.01'), Synset('religious_school.n.01'), Synset('riding_school.n.01'), Synset('secondary_school.n.01'), Synset('secretarial_school.n.01'), Synset('sunday_school.n.01'), Synset('technical_school.n.01'), Synset('training_school.n.01'), Synset('veterinary_school.n.01')]\n"
          ]
        }
      ],
      "source": [
        "syn = wn.synset('school.n.01')\n",
        "print(\"Hypernyms:\", syn.hypernyms())\n",
        "print(\"Hyponyms:\", syn.hyponyms())"
      ]
    },
    {
      "cell_type": "markdown",
      "id": "6545a6d9",
      "metadata": {
        "id": "6545a6d9"
      },
      "source": [
        "### 2. Meronyms/Holonyms\n",
        "\n",
        "Spunem ca sensul $s_1$ este un holonym al sensului $s_2$ daca $s_1$ il \"contine\" pe $s_2$. Holonymele sunt de 3 feluri:\n",
        " - part (part of)\n",
        " - substance (made of)\n",
        " - member (contains)\n",
        " \n",
        "Invers, spunem ca $s_2$ este un meronym pentru $s_1$."
      ]
    },
    {
      "cell_type": "code",
      "execution_count": null,
      "id": "f74a2644",
      "metadata": {
        "id": "f74a2644",
        "outputId": "8e1676a6-83f3-4fc2-8443-dffc09b4c34f",
        "colab": {
          "base_uri": "https://localhost:8080/"
        }
      },
      "outputs": [
        {
          "output_type": "stream",
          "name": "stdout",
          "text": [
            "[Synset('wind.n.01')]\n",
            "[Synset('argon.n.01'), Synset('krypton.n.01'), Synset('neon.n.01'), Synset('nitrogen.n.01'), Synset('oxygen.n.01'), Synset('xenon.n.01')]\n"
          ]
        }
      ],
      "source": [
        "syn = wn.synset('air.n.01')\n",
        "print(syn.substance_holonyms())\n",
        "print(syn.substance_meronyms())"
      ]
    },
    {
      "cell_type": "code",
      "execution_count": null,
      "id": "9b6ed6a4",
      "metadata": {
        "id": "9b6ed6a4",
        "outputId": "39d0313e-ab80-4332-f222-7384e5104167",
        "colab": {
          "base_uri": "https://localhost:8080/"
        }
      },
      "outputs": [
        {
          "output_type": "stream",
          "name": "stdout",
          "text": [
            "[]\n",
            "[Synset('library.n.01'), Synset('loft.n.02'), Synset('porch.n.01'), Synset('study.n.05')]\n"
          ]
        }
      ],
      "source": [
        "syn = wn.synset('house.n.01')\n",
        "print(syn.part_holonyms())\n",
        "print(syn.part_meronyms())"
      ]
    },
    {
      "cell_type": "code",
      "execution_count": null,
      "id": "1a3b6673",
      "metadata": {
        "id": "1a3b6673",
        "outputId": "1809a408-ea20-49c7-d88a-51eb610b6e1d",
        "colab": {
          "base_uri": "https://localhost:8080/"
        }
      },
      "outputs": [
        {
          "output_type": "stream",
          "name": "stdout",
          "text": [
            "[Synset('forest.n.01')]\n",
            "[Synset('burl.n.02'), Synset('crown.n.07'), Synset('limb.n.02'), Synset('stump.n.01'), Synset('trunk.n.01')]\n"
          ]
        }
      ],
      "source": [
        "syn = wn.synset('tree.n.01')\n",
        "print(syn.member_holonyms())\n",
        "print(syn.part_meronyms())"
      ]
    },
    {
      "cell_type": "markdown",
      "id": "294f4ced",
      "metadata": {
        "id": "294f4ced"
      },
      "source": [
        "## Tipuri de relatii pentru verbe"
      ]
    },
    {
      "cell_type": "markdown",
      "id": "5b06c019",
      "metadata": {
        "id": "5b06c019"
      },
      "source": [
        "### 1. Hypernyms/Hyponyms\n",
        "\n",
        "Asemanator cu descrierea de la substantive. Hyponymele pot fi vazute aici ca definind aceeasi actiune dar intr-un context mai restrans. De exemplu \"to jog\" sau \"to sprint\" sunt o varianta mai specifica a verbului \"to run\".\n",
        "\n",
        "Hyponymele pentru verbe mai poarta numele si de troponyms."
      ]
    },
    {
      "cell_type": "code",
      "execution_count": null,
      "id": "f2a32e14",
      "metadata": {
        "id": "f2a32e14",
        "outputId": "ea8a4739-c5da-499b-976d-7a261d83a79a",
        "colab": {
          "base_uri": "https://localhost:8080/"
        }
      },
      "outputs": [
        {
          "output_type": "stream",
          "name": "stdout",
          "text": [
            "[Synset('travel_rapidly.v.01')]\n",
            "[Synset('hare.v.01'), Synset('jog.v.03'), Synset('lope.v.01'), Synset('outrun.v.01'), Synset('romp.v.02'), Synset('run.v.33'), Synset('run_bases.v.01'), Synset('rush.v.05'), Synset('scurry.v.01'), Synset('sprint.v.01'), Synset('streak.v.02'), Synset('trot.v.01')]\n"
          ]
        }
      ],
      "source": [
        "syn = wn.synset('run.v.01')\n",
        "print(syn.hypernyms())\n",
        "print(syn.hyponyms())"
      ]
    },
    {
      "cell_type": "markdown",
      "id": "99fa6e47",
      "metadata": {
        "id": "99fa6e47"
      },
      "source": [
        "### 2. Entailment\n",
        "\n",
        "Defineste pentru o actiune ce alta actiune trebuie sa aiba loc."
      ]
    },
    {
      "cell_type": "code",
      "execution_count": null,
      "id": "0a6f3fad",
      "metadata": {
        "id": "0a6f3fad",
        "outputId": "cd52be08-646e-4e70-f554-5b3d4d6cf787",
        "colab": {
          "base_uri": "https://localhost:8080/"
        }
      },
      "outputs": [
        {
          "output_type": "stream",
          "name": "stdout",
          "text": [
            "[Synset('sleep.v.01')]\n",
            "[Synset('choose.v.01'), Synset('pay.v.01')]\n"
          ]
        }
      ],
      "source": [
        "print(wn.synset('snore.v.01').entailments())\n",
        "print(wn.synset('buy.v.01').entailments())"
      ]
    },
    {
      "cell_type": "markdown",
      "id": "0bcb32fc",
      "metadata": {
        "id": "0bcb32fc"
      },
      "source": [
        "## Tipuri de relatii pentru adjective"
      ]
    },
    {
      "cell_type": "markdown",
      "id": "374f8ba4",
      "metadata": {
        "id": "374f8ba4"
      },
      "source": [
        "### 1. Antonime\n",
        "\n",
        "Acestea se determina la nivel de lema (nu la nivel de synset)."
      ]
    },
    {
      "cell_type": "code",
      "execution_count": null,
      "id": "f1eee98b",
      "metadata": {
        "id": "f1eee98b",
        "outputId": "17b2d9e2-2d80-4ec0-c198-b83d917407e0",
        "colab": {
          "base_uri": "https://localhost:8080/"
        }
      },
      "outputs": [
        {
          "output_type": "stream",
          "name": "stdout",
          "text": [
            "[Lemma('bad.a.01.bad')]\n"
          ]
        }
      ],
      "source": [
        "lem = wn.synset('good.a.01').lemmas()[0]\n",
        "print(lem.antonyms())"
      ]
    },
    {
      "cell_type": "markdown",
      "id": "89c5fe3a",
      "metadata": {
        "id": "89c5fe3a"
      },
      "source": [
        "### 2. Sinonimie"
      ]
    },
    {
      "cell_type": "code",
      "execution_count": null,
      "id": "59d7be8b",
      "metadata": {
        "id": "59d7be8b",
        "outputId": "3c2e4aa5-b18d-4720-8543-7e8b9a7f3fcb",
        "colab": {
          "base_uri": "https://localhost:8080/"
        }
      },
      "outputs": [
        {
          "output_type": "stream",
          "name": "stdout",
          "text": [
            "[Synset('beardown.s.01'), Synset('beefed-up.s.01'), Synset('brawny.s.01'), Synset('bullnecked.s.01'), Synset('bullocky.s.01'), Synset('fortified.s.02'), Synset('hard.s.04'), Synset('industrial-strength.s.01'), Synset('ironlike.s.01'), Synset('knock-down.s.01'), Synset('noticeable.s.04'), Synset('reinforced.s.01'), Synset('robust.s.03'), Synset('stiff.s.02'), Synset('vehement.s.02'), Synset('virile.s.01'), Synset('well-knit.s.01')]\n"
          ]
        }
      ],
      "source": [
        "syn = wn.synset('strong.a.01')\n",
        "print(syn.similar_tos())"
      ]
    },
    {
      "cell_type": "markdown",
      "id": "5ebe0c71",
      "metadata": {
        "id": "5ebe0c71"
      },
      "source": [
        "## Tipuri de relatii pentru adverbe"
      ]
    },
    {
      "cell_type": "markdown",
      "id": "7f5e9bad",
      "metadata": {
        "id": "7f5e9bad"
      },
      "source": [
        "### 1. Antonime"
      ]
    },
    {
      "cell_type": "code",
      "execution_count": null,
      "id": "6b18366d",
      "metadata": {
        "id": "6b18366d",
        "outputId": "2d760134-bdd0-49f9-9cfe-d1a20bb1fb8f",
        "colab": {
          "base_uri": "https://localhost:8080/"
        }
      },
      "outputs": [
        {
          "output_type": "stream",
          "name": "stdout",
          "text": [
            "[Lemma('slowly.r.01.slowly')]\n"
          ]
        }
      ],
      "source": [
        "lem = wn.synset('quickly.r.01').lemmas()[0]\n",
        "print(lem.antonyms())"
      ]
    },
    {
      "cell_type": "markdown",
      "id": "7baa898a",
      "metadata": {
        "id": "7baa898a"
      },
      "source": [
        "## Tipuri de relatii cross-PoS"
      ]
    },
    {
      "cell_type": "markdown",
      "id": "6a08600f",
      "metadata": {
        "id": "6a08600f"
      },
      "source": [
        "### 1. Attributes (substantive <-> adjective)\n",
        "\n",
        "Aceasta relatie leaga un synset $s_1$ al unui substantiv cu un synset $s_2$ al unui adjectiv daca \"$s_2$ poate fi o valoare pentru $s_1$\"."
      ]
    },
    {
      "cell_type": "code",
      "execution_count": null,
      "id": "34519d80",
      "metadata": {
        "id": "34519d80",
        "outputId": "b566f2af-c5da-409f-b241-1ec4b6bfdcef",
        "colab": {
          "base_uri": "https://localhost:8080/"
        }
      },
      "outputs": [
        {
          "output_type": "stream",
          "name": "stdout",
          "text": [
            "[Synset('delicate.a.01'), Synset('rugged.a.01'), Synset('strong.a.01'), Synset('weak.a.01')]\n",
            "[Synset('strength.n.01')]\n",
            "[Synset('strength.n.01')]\n"
          ]
        }
      ],
      "source": [
        "print(wn.synset('strength.n.01').attributes())\n",
        "print(wn.synset('strong.a.01').attributes())\n",
        "print(wn.synset('weak.a.01').attributes())"
      ]
    },
    {
      "cell_type": "markdown",
      "id": "902eac40",
      "metadata": {
        "id": "902eac40"
      },
      "source": [
        "### 2. Pertainyms (pentru adjective si adverbe)\n",
        "\n",
        "Returneaza concepte care se refera la calitatile descrise de adjective/adverbe."
      ]
    },
    {
      "cell_type": "code",
      "execution_count": null,
      "id": "8dfecc6a",
      "metadata": {
        "id": "8dfecc6a",
        "outputId": "bf0f33ce-32f8-4778-f006-c56bfc4466e0",
        "colab": {
          "base_uri": "https://localhost:8080/"
        }
      },
      "outputs": [
        {
          "output_type": "stream",
          "name": "stdout",
          "text": [
            "[Lemma('technique.n.01.technique')]\n"
          ]
        }
      ],
      "source": [
        "lem = wn.synset('technical.a.01').lemmas()[0]\n",
        "print(lem.pertainyms())"
      ]
    },
    {
      "cell_type": "code",
      "execution_count": null,
      "id": "324ae421",
      "metadata": {
        "id": "324ae421",
        "outputId": "a5b5d0fd-2a1e-4e50-8d24-e58960b66a61",
        "colab": {
          "base_uri": "https://localhost:8080/"
        }
      },
      "outputs": [
        {
          "output_type": "stream",
          "name": "stdout",
          "text": [
            "[Lemma('quick.s.01.quick')]\n"
          ]
        }
      ],
      "source": [
        "lem = wn.synset('quickly.r.01').lemmas()[0]\n",
        "print(lem.pertainyms())"
      ]
    },
    {
      "cell_type": "markdown",
      "id": "5524ffaa",
      "metadata": {
        "id": "5524ffaa"
      },
      "source": [
        "## Vizualizare\n",
        "\n",
        "Puteti folosi aceasta platforma pentru a vizualiza relatiile din WordNet: [http://wordvis.com/](http://wordvis.com/)."
      ]
    },
    {
      "cell_type": "markdown",
      "id": "dfb19158",
      "metadata": {
        "id": "dfb19158"
      },
      "source": [
        "## Graful relatiilor pentru hypernyms\n",
        "\n",
        "Daca consideram synseturile noduri intr-un graf, iar relatiilor de forma $s_1$ este hypernym pentru $s_2$ le asociem o muchie orientata de la $s_2$ la $s_1$ obtinem un graf orientat aciclic (DAG).\n",
        "\n",
        "![](https://www.researchgate.net/profile/Zhao-Lu-3/publication/261351248/figure/fig1/AS:669012354691096@1536516383841/A-DAG-fragment-of-WordNet-30.ppm)\n",
        "\n",
        "Un drum de hypernyme (hypernym path) pentru un synset este un drum in graf de la nodul acestuia pana la un nod radacina (cu grad de iesire $0$). Observati ca pentru un synset pot exista mai multe astfel de drumuri."
      ]
    },
    {
      "cell_type": "code",
      "execution_count": null,
      "id": "861b6943",
      "metadata": {
        "id": "861b6943",
        "outputId": "71add5b1-74c0-4e97-f3ff-deb1f5f843af",
        "colab": {
          "base_uri": "https://localhost:8080/"
        }
      },
      "outputs": [
        {
          "output_type": "stream",
          "name": "stdout",
          "text": [
            "3\n"
          ]
        }
      ],
      "source": [
        "syn = wn.synset(\"water.n.01\")\n",
        "paths = syn.hypernym_paths()\n",
        "print(len(paths))"
      ]
    },
    {
      "cell_type": "code",
      "execution_count": null,
      "id": "66e139c2",
      "metadata": {
        "id": "66e139c2",
        "outputId": "9105ba17-2494-4fd9-db68-d07873ade35e",
        "colab": {
          "base_uri": "https://localhost:8080/"
        }
      },
      "outputs": [
        {
          "output_type": "stream",
          "name": "stdout",
          "text": [
            "water.n.01 -> binary_compound.n.01 -> compound.n.02 -> chemical.n.01 -> material.n.01 -> substance.n.01 -> matter.n.03 -> physical_entity.n.01 -> entity.n.01\n"
          ]
        }
      ],
      "source": [
        "path = paths[0][::-1]\n",
        "print(\" -> \".join(n.name() for n in path))"
      ]
    },
    {
      "cell_type": "markdown",
      "id": "863a367f",
      "metadata": {
        "id": "863a367f"
      },
      "source": [
        "Definim adancimea unui synset ca fiind lungimea celui mai lung astfel de hypernym path.\n",
        "\n",
        "Numim *lowest common hypernym* al doua synsteturi ($s_1$ si $s_2$), synsetul (sau synseturile) cu adancime maxima care se afla pe cel putin un hypernym path al lui $s_1$ si pe cel putin un hypernym path al lui $s_2$.\n",
        "\n",
        "In exemplul de mai sus *lowest common hypernym* pentru \"bus \\#1\" si \"engine\" este \"public transport\". "
      ]
    },
    {
      "cell_type": "markdown",
      "id": "b668beeb",
      "metadata": {
        "id": "b668beeb"
      },
      "source": [
        "Pe baza acestor drumuri se poate calcula si un scor de similaritate intre doua synseturi."
      ]
    },
    {
      "cell_type": "code",
      "execution_count": null,
      "id": "c6d31f86",
      "metadata": {
        "id": "c6d31f86",
        "outputId": "66e5bc83-a893-4a33-be73-31c93a689c38",
        "colab": {
          "base_uri": "https://localhost:8080/"
        }
      },
      "outputs": [
        {
          "output_type": "stream",
          "name": "stdout",
          "text": [
            "dog ~ cat: 0.2\n",
            "dog ~ plane: 0.07142857142857142\n"
          ]
        }
      ],
      "source": [
        "dog = wn.synset('dog.n.01')\n",
        "cat = wn.synset('cat.n.01')\n",
        "plane = wn.synset('plane.n.01')\n",
        "\n",
        "print(\"dog ~ cat:\", dog.path_similarity(cat))\n",
        "print(\"dog ~ plane:\", dog.path_similarity(plane))"
      ]
    },
    {
      "cell_type": "markdown",
      "id": "90b36bd7",
      "metadata": {
        "id": "90b36bd7"
      },
      "source": [
        "# TASK\n",
        "## Deadline: 14 aprilie ora 23:59.\n",
        "\n",
        "Formular pentru trimiterea temei: https://forms.gle/ZRZR4Uh7xZsQvBvi6\n",
        "\n",
        "\n",
        "1. Implementati o functie care afiseza pentru un cuvant definitiile tuturor synseturilor din care face parte cuvantul.\n",
        "2. Implementati o functie care verifica daca doua cuvinte $w_1$ si $w_2$ au cel putin un synset comun. Cu alte cuvinte verificati daca $w_1$ si $w_2$ sunt sinonime.\n",
        "3. Implementati o functie care pentru un synset dat afiseaza toate holonymele si toate meronymele sale.\n",
        "4. Implementati o functie care afiseaza pentru un synset dat toate drumurile de hypernyme corespunzatoare acestuia.\n",
        "5. Implementati o functie care pentru doua synseturi determina lowest common hypernym(s) si afiseaza definitia acestor sensuri comune.\n",
        "6. Implementati o functie care primeste un synset $s$ si o lista de synseturi. Sortati aceasta lista descrescator conform similaritatii dintre $s$ si componentele sale.\n",
        "7. Implementati o functie care afiseaza pentru un cuvant sinonimele sale si antonimele sale (pentru toate sensurile cuvantului)."
      ]
    },
    {
      "cell_type": "code",
      "source": [
        "import nltk\n",
        "nltk.download('wordnet')"
      ],
      "metadata": {
        "colab": {
          "base_uri": "https://localhost:8080/"
        },
        "id": "SeOkkdMyuuaH",
        "outputId": "1c077d33-68a1-419d-81a2-b9535730d2ad"
      },
      "id": "SeOkkdMyuuaH",
      "execution_count": 2,
      "outputs": [
        {
          "output_type": "stream",
          "name": "stdout",
          "text": [
            "[nltk_data] Downloading package wordnet to /root/nltk_data...\n",
            "[nltk_data]   Unzipping corpora/wordnet.zip.\n"
          ]
        },
        {
          "output_type": "execute_result",
          "data": {
            "text/plain": [
              "True"
            ]
          },
          "metadata": {},
          "execution_count": 2
        }
      ]
    },
    {
      "cell_type": "code",
      "source": [
        "from nltk.corpus import wordnet as wn"
      ],
      "metadata": {
        "id": "mLvgGN9Zu14k"
      },
      "id": "mLvgGN9Zu14k",
      "execution_count": 3,
      "outputs": []
    },
    {
      "cell_type": "code",
      "source": [
        "def show_synsets(word):\n",
        "  word_synsets = wn.synsets(word)\n",
        "  for syn in word_synsets:\n",
        "    print(syn.lemma_names(),syn.definition())\n",
        "show_synsets('monster')"
      ],
      "metadata": {
        "colab": {
          "base_uri": "https://localhost:8080/"
        },
        "id": "peOodBKvu3X3",
        "outputId": "bf2713dc-6999-46dd-f894-7ea09c25da93"
      },
      "id": "peOodBKvu3X3",
      "execution_count": null,
      "outputs": [
        {
          "output_type": "stream",
          "name": "stdout",
          "text": [
            "['monster'] an imaginary creature usually having various human and animal parts\n",
            "['giant', 'goliath', 'behemoth', 'monster', 'colossus'] someone or something that is abnormally large and powerful\n",
            "['freak', 'monster', 'monstrosity', 'lusus_naturae'] a person or animal that is markedly unusual or deformed\n",
            "['monster', 'fiend', 'devil', 'demon', 'ogre'] a cruel wicked and inhuman person\n",
            "['monster', 'teras'] (medicine) a grossly malformed and usually nonviable fetus\n"
          ]
        }
      ]
    },
    {
      "cell_type": "code",
      "source": [
        "def are_synonims(w1,w2):\n",
        "  w1_synset = wn.synsets(w1)\n",
        "  w2_synset = wn.synsets(w2)\n",
        "  for syn in w1_synset:\n",
        "    if syn in w2_synset:\n",
        "      return True\n",
        "  return False\n",
        "print(are_synonims('monster','colossus'))\n",
        "print(are_synonims('monster','friend'))"
      ],
      "metadata": {
        "colab": {
          "base_uri": "https://localhost:8080/"
        },
        "id": "mt45WCUVvnZ_",
        "outputId": "dfe05877-67b3-4e63-9d9c-3be876e8080e"
      },
      "id": "mt45WCUVvnZ_",
      "execution_count": null,
      "outputs": [
        {
          "output_type": "stream",
          "name": "stdout",
          "text": [
            "True\n",
            "False\n"
          ]
        }
      ]
    },
    {
      "cell_type": "code",
      "source": [
        "def show_holonyms(synset):\n",
        "  print(\"Holonyms:\")\n",
        "  print('Substance: ',synset.substance_holonyms())\n",
        "  print('Part: ',synset.part_holonyms())\n",
        "  print('Member: ',synset.member_holonyms())\n",
        "def show_meronyms(synset):\n",
        "  print(\"Meronyms: \")\n",
        "  print('Substance: ',synset.substance_meronyms())\n",
        "  print('Part: ',synset.part_meronyms())  \n",
        "  print('Member: ',synset.member_meronyms())\n",
        "  \n",
        "def show_holonyms_and_meronyms(synset):\n",
        "  show_holonyms(synset)\n",
        "  show_meronyms(synset)\n",
        "\n",
        "show_holonyms_and_meronyms(wn.synset('tree.n.01'))"
      ],
      "metadata": {
        "colab": {
          "base_uri": "https://localhost:8080/"
        },
        "id": "k15bC2-3wyBN",
        "outputId": "4116ccfc-bc6f-4228-d114-c9fb1801ed94"
      },
      "id": "k15bC2-3wyBN",
      "execution_count": null,
      "outputs": [
        {
          "output_type": "stream",
          "name": "stdout",
          "text": [
            "Holonyms:\n",
            "Substance:  []\n",
            "Part:  []\n",
            "Member:  [Synset('forest.n.01')]\n",
            "Meronyms: \n",
            "Substance:  [Synset('heartwood.n.01'), Synset('sapwood.n.01')]\n",
            "Part:  [Synset('burl.n.02'), Synset('crown.n.07'), Synset('limb.n.02'), Synset('stump.n.01'), Synset('trunk.n.01')]\n",
            "Member:  []\n"
          ]
        }
      ]
    },
    {
      "cell_type": "code",
      "source": [
        "def hypernym_paths(syn):\n",
        "  paths = syn.hypernym_paths()\n",
        "  for path in paths:\n",
        "    print(\" -> \".join(n.name() for n in path[::]))\n",
        "  \n",
        "hypernym_paths(wn.synset(\"water.n.01\"))\n",
        "hypernym_paths(wn.synset(\"fluid.n.02\"))"
      ],
      "metadata": {
        "colab": {
          "base_uri": "https://localhost:8080/"
        },
        "id": "wT3WrsYnzKZd",
        "outputId": "07f7d493-b3c9-4868-b0e0-0907bea8805b"
      },
      "id": "wT3WrsYnzKZd",
      "execution_count": null,
      "outputs": [
        {
          "output_type": "stream",
          "name": "stdout",
          "text": [
            "entity.n.01 -> physical_entity.n.01 -> matter.n.03 -> substance.n.01 -> material.n.01 -> chemical.n.01 -> compound.n.02 -> binary_compound.n.01 -> water.n.01\n",
            "entity.n.01 -> abstraction.n.06 -> relation.n.01 -> part.n.01 -> substance.n.01 -> material.n.01 -> chemical.n.01 -> compound.n.02 -> binary_compound.n.01 -> water.n.01\n",
            "entity.n.01 -> physical_entity.n.01 -> matter.n.03 -> fluid.n.02 -> liquid.n.03 -> water.n.01\n",
            "entity.n.01 -> physical_entity.n.01 -> matter.n.03 -> fluid.n.02\n"
          ]
        }
      ]
    },
    {
      "cell_type": "code",
      "source": [
        "# 5\n",
        "def lowest_common_hypernym(syn1,syn2):\n",
        "  paths_syn1 = syn1.hypernym_paths()\n",
        "  paths_syn2 = syn2.hypernym_paths()\n",
        "  ans = -1\n",
        "  lowest = []\n",
        "  valid_paths = []\n",
        "  for p1 in paths_syn1:\n",
        "    for p2 in paths_syn2:\n",
        "      if(p1[0]==p2[0]):\n",
        "        valid_paths.append((p1,p2))\n",
        "  for path1,path2 in valid_paths:\n",
        "    cnt = 0\n",
        "    while(path1[cnt]==path2[cnt]):\n",
        "      if(cnt > ans):\n",
        "        ans = cnt\n",
        "        lowest = [path1[cnt]]\n",
        "      if(cnt == ans):\n",
        "        lowest.append(path1[cnt])\n",
        "      if(cnt == min(len(path1),len(path2))-1):\n",
        "        break\n",
        "      cnt+=1\n",
        "    \n",
        "  for syn in list(set(lowest)):\n",
        "    print(syn,syn.definition())\n",
        "\n",
        "\n",
        "lowest_common_hypernym(wn.synset(\"water.n.01\"),wn.synset(\"fluid.n.02\"))\n"
      ],
      "metadata": {
        "colab": {
          "base_uri": "https://localhost:8080/"
        },
        "id": "nHBCtAD6Uv0B",
        "outputId": "96699929-2915-46d0-b4c5-2b63f2669282"
      },
      "id": "nHBCtAD6Uv0B",
      "execution_count": null,
      "outputs": [
        {
          "output_type": "stream",
          "name": "stdout",
          "text": [
            "Synset('fluid.n.02') continuous amorphous matter that tends to flow and to conform to the outline of its container: a liquid or a gas\n"
          ]
        }
      ]
    },
    {
      "cell_type": "code",
      "source": [
        "# 6\n",
        "def sort_by_similarity(syn,syn_list):\n",
        "  syn_list.sort(key=lambda x:syn.path_similarity(x),reverse=True)\n",
        "  print(syn_list)\n",
        "  for s in syn_list:\n",
        "    print(syn.path_similarity(s),end=\" \")\n",
        "\n",
        "sort_by_similarity(wn.synset(\"water.n.01\"),wn.synset(\"fluid.n.02\").hypernym_paths()[0])"
      ],
      "metadata": {
        "colab": {
          "base_uri": "https://localhost:8080/"
        },
        "id": "s8LtKOLHdVE7",
        "outputId": "890687cf-529e-4a64-d19f-1b2c63e9edd4"
      },
      "id": "s8LtKOLHdVE7",
      "execution_count": null,
      "outputs": [
        {
          "output_type": "stream",
          "name": "stdout",
          "text": [
            "[Synset('fluid.n.02'), Synset('matter.n.03'), Synset('physical_entity.n.01'), Synset('entity.n.01')]\n",
            "0.3333333333333333 0.25 0.2 0.16666666666666666 "
          ]
        }
      ]
    },
    {
      "cell_type": "code",
      "source": [
        "# 7\n",
        "def print_synonyms_and_antonyms(word):\n",
        "  synsets = wn.synsets(word)\n",
        "  for syn in synsets:\n",
        "    print(syn)\n",
        "    lemma = syn.lemmas()[0]\n",
        "    print(\"Sinonime: \")\n",
        "    synonyms = syn.similar_tos()\n",
        "    print(synonyms)\n",
        "    print(\"Antonime\")\n",
        "    lem = syn.lemmas()[0]\n",
        "    print(lem.antonyms())\n",
        "    print(\"--------\")\n",
        "\n",
        "print_synonyms_and_antonyms(\"good\")"
      ],
      "metadata": {
        "colab": {
          "base_uri": "https://localhost:8080/"
        },
        "id": "iZU2hSBLewqi",
        "outputId": "e661981d-969e-4a1b-883b-d46c31f4fe17"
      },
      "id": "iZU2hSBLewqi",
      "execution_count": 13,
      "outputs": [
        {
          "output_type": "stream",
          "name": "stdout",
          "text": [
            "Synset('good.n.01')\n",
            "Sinonime: \n",
            "[]\n",
            "Antonime\n",
            "[]\n",
            "--------\n",
            "Synset('good.n.02')\n",
            "Sinonime: \n",
            "[]\n",
            "Antonime\n",
            "[Lemma('evil.n.03.evil')]\n",
            "--------\n",
            "Synset('good.n.03')\n",
            "Sinonime: \n",
            "[]\n",
            "Antonime\n",
            "[Lemma('bad.n.01.bad')]\n",
            "--------\n",
            "Synset('commodity.n.01')\n",
            "Sinonime: \n",
            "[]\n",
            "Antonime\n",
            "[]\n",
            "--------\n",
            "Synset('good.a.01')\n",
            "Sinonime: \n",
            "[Synset('bang-up.s.01'), Synset('good_enough.s.01'), Synset('goodish.s.01'), Synset('hot.s.15'), Synset('redeeming.s.02'), Synset('satisfactory.s.02'), Synset('solid.s.01'), Synset('superb.s.02'), Synset('well-behaved.s.01')]\n",
            "Antonime\n",
            "[Lemma('bad.a.01.bad')]\n",
            "--------\n",
            "Synset('full.s.06')\n",
            "Sinonime: \n",
            "[Synset('ample.a.01')]\n",
            "Antonime\n",
            "[]\n",
            "--------\n",
            "Synset('good.a.03')\n",
            "Sinonime: \n",
            "[Synset('angelic.s.01'), Synset('goody-goody.s.01'), Synset('redemptive.s.02'), Synset('white.s.07')]\n",
            "Antonime\n",
            "[Lemma('evil.a.01.evil')]\n",
            "--------\n",
            "Synset('estimable.s.02')\n",
            "Sinonime: \n",
            "[Synset('reputable.a.01')]\n",
            "Antonime\n",
            "[]\n",
            "--------\n",
            "Synset('beneficial.s.01')\n",
            "Sinonime: \n",
            "[Synset('advantageous.a.01')]\n",
            "Antonime\n",
            "[]\n",
            "--------\n",
            "Synset('good.s.06')\n",
            "Sinonime: \n",
            "[Synset('nice.a.01')]\n",
            "Antonime\n",
            "[]\n",
            "--------\n",
            "Synset('good.s.07')\n",
            "Sinonime: \n",
            "[Synset('righteous.a.01')]\n",
            "Antonime\n",
            "[]\n",
            "--------\n",
            "Synset('adept.s.01')\n",
            "Sinonime: \n",
            "[Synset('skilled.a.01')]\n",
            "Antonime\n",
            "[]\n",
            "--------\n",
            "Synset('good.s.09')\n",
            "Sinonime: \n",
            "[Synset('complete.a.01')]\n",
            "Antonime\n",
            "[]\n",
            "--------\n",
            "Synset('dear.s.02')\n",
            "Sinonime: \n",
            "[Synset('close.a.02')]\n",
            "Antonime\n",
            "[]\n",
            "--------\n",
            "Synset('dependable.s.04')\n",
            "Sinonime: \n",
            "[Synset('sound.a.01')]\n",
            "Antonime\n",
            "[]\n",
            "--------\n",
            "Synset('good.s.12')\n",
            "Sinonime: \n",
            "[Synset('opportune.a.01')]\n",
            "Antonime\n",
            "[]\n",
            "--------\n",
            "Synset('good.s.13')\n",
            "Sinonime: \n",
            "[Synset('fortunate.a.01')]\n",
            "Antonime\n",
            "[]\n",
            "--------\n",
            "Synset('effective.s.04')\n",
            "Sinonime: \n",
            "[Synset('operative.a.01')]\n",
            "Antonime\n",
            "[]\n",
            "--------\n",
            "Synset('good.s.15')\n",
            "Sinonime: \n",
            "[Synset('pleasing.a.01')]\n",
            "Antonime\n",
            "[]\n",
            "--------\n",
            "Synset('good.s.16')\n",
            "Sinonime: \n",
            "[Synset('intellectual.a.02')]\n",
            "Antonime\n",
            "[]\n",
            "--------\n",
            "Synset('good.s.17')\n",
            "Sinonime: \n",
            "[Synset('healthy.a.01')]\n",
            "Antonime\n",
            "[]\n",
            "--------\n",
            "Synset('good.s.18')\n",
            "Sinonime: \n",
            "[Synset('healthful.a.01')]\n",
            "Antonime\n",
            "[]\n",
            "--------\n",
            "Synset('good.s.19')\n",
            "Sinonime: \n",
            "[Synset('genuine.a.01')]\n",
            "Antonime\n",
            "[]\n",
            "--------\n",
            "Synset('good.s.20')\n",
            "Sinonime: \n",
            "[Synset('fresh.a.01')]\n",
            "Antonime\n",
            "[]\n",
            "--------\n",
            "Synset('good.s.21')\n",
            "Sinonime: \n",
            "[Synset('discriminating.a.01')]\n",
            "Antonime\n",
            "[]\n",
            "--------\n",
            "Synset('well.r.01')\n",
            "Sinonime: \n",
            "[]\n",
            "Antonime\n",
            "[Lemma('ill.r.01.ill')]\n",
            "--------\n",
            "Synset('thoroughly.r.02')\n",
            "Sinonime: \n",
            "[]\n",
            "Antonime\n",
            "[]\n",
            "--------\n"
          ]
        }
      ]
    }
  ],
  "metadata": {
    "kernelspec": {
      "display_name": "lab-nlp-an3",
      "language": "python",
      "name": "lab-nlp-an3"
    },
    "language_info": {
      "codemirror_mode": {
        "name": "ipython",
        "version": 3
      },
      "file_extension": ".py",
      "mimetype": "text/x-python",
      "name": "python",
      "nbconvert_exporter": "python",
      "pygments_lexer": "ipython3",
      "version": "3.8.10"
    },
    "colab": {
      "name": "NLP_lab_7.ipynb",
      "provenance": [],
      "collapsed_sections": []
    }
  },
  "nbformat": 4,
  "nbformat_minor": 5
}