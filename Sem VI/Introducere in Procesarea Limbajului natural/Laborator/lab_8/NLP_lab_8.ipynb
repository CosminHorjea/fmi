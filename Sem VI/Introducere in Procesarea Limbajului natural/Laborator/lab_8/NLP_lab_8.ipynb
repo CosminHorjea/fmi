{
  "cells": [
    {
      "cell_type": "markdown",
      "metadata": {
        "id": "WLRXYoXUuFbV"
      },
      "source": [
        "# Part-of-Speech tagging and Named Entity Recognition"
      ]
    },
    {
      "cell_type": "markdown",
      "metadata": {
        "id": "NWxnXyAWbfDq"
      },
      "source": [
        "In acest laborator vom vorbi despre mai multe tool-uri din modului [Spacy](), impreuna cu alte probleme actuale din NLP.\n",
        "\n"
      ]
    },
    {
      "cell_type": "markdown",
      "metadata": {
        "id": "WUEYIxZdcIb5"
      },
      "source": [
        "In continuare ne vom axa pe exemple pentru limba romana."
      ]
    },
    {
      "cell_type": "code",
      "execution_count": null,
      "metadata": {
        "id": "zvT93Jyuc4uS"
      },
      "outputs": [],
      "source": [
        "! pip install -U spacy\n",
        "! python -m spacy download ro_core_news_sm"
      ]
    },
    {
      "cell_type": "code",
      "execution_count": null,
      "metadata": {
        "id": "-wOmzLyvcvHo"
      },
      "outputs": [],
      "source": [
        "import spacy\n",
        "from spacy.lang.ro.examples import sentences \n",
        "from tabulate import tabulate\n",
        "import os\n",
        "\n",
        "nlp = spacy.load(\"ro_core_news_sm\")"
      ]
    },
    {
      "cell_type": "markdown",
      "metadata": {
        "id": "AoAP5RkMgevp"
      },
      "source": [
        "## Analiza morfologica\n",
        "\n",
        "POS (part of speech) este partea de vorbire la nivel macro.\n",
        "\n",
        " - ADJ: adjective, e.g. big, old, green, incomprehensible, first  \n",
        " - ADP: adposition, e.g. in, to, during  \n",
        " - ADV: adverb, e.g. very, tomorrow, down, where, there  \n",
        " - AUX: auxiliary, e.g. is, has (done), will (do), should (do)  \n",
        " - CONJ: conjunction, e.g. and, or, but  \n",
        " - CCONJ: coordinating conjunction, e.g. and, or, but  \n",
        " - DET: determiner, e.g. a, an, the  \n",
        " - INTJ: interjection, e.g. psst, ouch, bravo, hello  \n",
        " - NOUN: noun, e.g. girl, cat, tree, air, beauty  \n",
        " - NUM: numeral, e.g. 1, 2017, one, seventy-seven, IV, MMXIV  \n",
        " - PART: particle, e.g. ’s, not,  \n",
        " - PRON: pronoun, e.g I, you, he, she, myself, themselves, somebody  \n",
        " - PROPN: proper noun, e.g. Mary, John, London, NATO, HBO  \n",
        " - PUNCT: punctuation, e.g. ., (, ), ?  \n",
        " - SCONJ: subordinating conjunction, e.g. if, while, that  \n",
        " - SYM: symbol, e.g. $, %, §, ©, +, −, ×, ÷, =, :), 😝  \n",
        " - VERB: verb, e.g. run, runs, running, eat, ate, eating  \n",
        " - X: other, e.g. sfpksdpsxmsa  \n",
        " - SPACE: space, e.g.\n",
        "\n",
        "\n",
        "Tag-ul este un pos fine grained, ce poate fi vazut ca o prescurtare a descrierii obtinute din morph."
      ]
    },
    {
      "cell_type": "code",
      "execution_count": null,
      "metadata": {
        "colab": {
          "base_uri": "https://localhost:8080/"
        },
        "id": "Vap6nRZpcIu1",
        "outputId": "d183bf97-31b2-415c-9f18-c583fdcbd641"
      },
      "outputs": [
        {
          "name": "stdout",
          "output_type": "stream",
          "text": [
            "word        pos    tag      morph\n",
            "----------  -----  -------  --------------------------------------------------------------\n",
            "Apple       NOUN   Ncfp-n   Definite=Ind|Gender=Fem|Number=Plur\n",
            "plănuiește  AUX    Vmip3s   Mood=Ind|Number=Sing|Person=3|Tense=Pres|VerbForm=Fin\n",
            "să          PART   Qs       Mood=Sub\n",
            "cumpere     AUX    Vmsp3    Mood=Sub|Person=3|Tense=Pres|VerbForm=Fin\n",
            "o           DET    Tifsr    Case=Acc,Nom|Gender=Fem|Number=Sing|PronType=Ind\n",
            "companie    NOUN   Ncfsrn   Case=Acc,Nom|Definite=Ind|Gender=Fem|Number=Sing\n",
            "britanică   ADJ    Afpfsrn  Case=Acc,Nom|Definite=Ind|Degree=Pos|Gender=Fem|Number=Sing\n",
            "pentru      ADP    Spsa     AdpType=Prep|Case=Acc\n",
            "un          DET    Timsr    Case=Acc,Nom|Gender=Masc|Number=Sing|PronType=Ind\n",
            "miliard     NUM    Mcms-ln  Definite=Ind|Gender=Masc|NumForm=Word|NumType=Card|Number=Sing\n",
            "de          ADP    Spsa     AdpType=Prep|Case=Acc\n",
            "dolari      NOUN   Ncmp-n   Definite=Ind|Gender=Masc|Number=Plur\n"
          ]
        }
      ],
      "source": [
        "doc = nlp(sentences[0])\n",
        "\n",
        "descriptions = []\n",
        "for token in doc:\n",
        "    desc = [token.text, token.pos_, token.tag_, token.morph]\n",
        "    descriptions.append(desc)\n",
        "\n",
        "print(tabulate(descriptions, headers=[\"word\", \"pos\", \"tag\", \"morph\"]))"
      ]
    },
    {
      "cell_type": "markdown",
      "metadata": {
        "id": "oqH778mUgqzU"
      },
      "source": [
        "Foarte util in detectia de mental health disorders. Conform unor studii psihologice oamenii diagnosticati cu depresie tind sa foloseasca mai mult pronumele \"I\", verbe la persoana intai si alte adverbe \"nothing\", \"never\" etc.. Mai multe detalii [aici](https://aclanthology.org/W18-4102.pdf).\n"
      ]
    },
    {
      "cell_type": "markdown",
      "metadata": {
        "id": "PPiyVKr8l3Zp"
      },
      "source": [
        "## Dependency parsing"
      ]
    },
    {
      "cell_type": "code",
      "execution_count": null,
      "metadata": {
        "colab": {
          "base_uri": "https://localhost:8080/",
          "height": 309
        },
        "id": "E2S8FB1ke-mw",
        "outputId": "2c11a643-1e49-48e3-81f1-9b6c2a9628d3"
      },
      "outputs": [
        {
          "data": {
            "text/html": [
              "<span class=\"tex2jax_ignore\"><svg xmlns=\"http://www.w3.org/2000/svg\" xmlns:xlink=\"http://www.w3.org/1999/xlink\" xml:lang=\"ro\" id=\"a91421da1b6a4bc7afcfbfccaae5a821-0\" class=\"displacy\" width=\"1250\" height=\"287.0\" direction=\"ltr\" style=\"max-width: none; height: 287.0px; color: #000000; background: #ffffff; font-family: Arial; direction: ltr\">\n",
              "<text class=\"displacy-token\" fill=\"currentColor\" text-anchor=\"middle\" y=\"197.0\">\n",
              "    <tspan class=\"displacy-word\" fill=\"currentColor\" x=\"50\">Apple</tspan>\n",
              "    <tspan class=\"displacy-tag\" dy=\"2em\" fill=\"currentColor\" x=\"50\">NOUN</tspan>\n",
              "</text>\n",
              "\n",
              "<text class=\"displacy-token\" fill=\"currentColor\" text-anchor=\"middle\" y=\"197.0\">\n",
              "    <tspan class=\"displacy-word\" fill=\"currentColor\" x=\"150\">plănuiește</tspan>\n",
              "    <tspan class=\"displacy-tag\" dy=\"2em\" fill=\"currentColor\" x=\"150\">AUX</tspan>\n",
              "</text>\n",
              "\n",
              "<text class=\"displacy-token\" fill=\"currentColor\" text-anchor=\"middle\" y=\"197.0\">\n",
              "    <tspan class=\"displacy-word\" fill=\"currentColor\" x=\"250\">să</tspan>\n",
              "    <tspan class=\"displacy-tag\" dy=\"2em\" fill=\"currentColor\" x=\"250\">PART</tspan>\n",
              "</text>\n",
              "\n",
              "<text class=\"displacy-token\" fill=\"currentColor\" text-anchor=\"middle\" y=\"197.0\">\n",
              "    <tspan class=\"displacy-word\" fill=\"currentColor\" x=\"350\">cumpere</tspan>\n",
              "    <tspan class=\"displacy-tag\" dy=\"2em\" fill=\"currentColor\" x=\"350\">AUX</tspan>\n",
              "</text>\n",
              "\n",
              "<text class=\"displacy-token\" fill=\"currentColor\" text-anchor=\"middle\" y=\"197.0\">\n",
              "    <tspan class=\"displacy-word\" fill=\"currentColor\" x=\"450\">o</tspan>\n",
              "    <tspan class=\"displacy-tag\" dy=\"2em\" fill=\"currentColor\" x=\"450\">DET</tspan>\n",
              "</text>\n",
              "\n",
              "<text class=\"displacy-token\" fill=\"currentColor\" text-anchor=\"middle\" y=\"197.0\">\n",
              "    <tspan class=\"displacy-word\" fill=\"currentColor\" x=\"550\">companie</tspan>\n",
              "    <tspan class=\"displacy-tag\" dy=\"2em\" fill=\"currentColor\" x=\"550\">NOUN</tspan>\n",
              "</text>\n",
              "\n",
              "<text class=\"displacy-token\" fill=\"currentColor\" text-anchor=\"middle\" y=\"197.0\">\n",
              "    <tspan class=\"displacy-word\" fill=\"currentColor\" x=\"650\">britanică</tspan>\n",
              "    <tspan class=\"displacy-tag\" dy=\"2em\" fill=\"currentColor\" x=\"650\">ADJ</tspan>\n",
              "</text>\n",
              "\n",
              "<text class=\"displacy-token\" fill=\"currentColor\" text-anchor=\"middle\" y=\"197.0\">\n",
              "    <tspan class=\"displacy-word\" fill=\"currentColor\" x=\"750\">pentru</tspan>\n",
              "    <tspan class=\"displacy-tag\" dy=\"2em\" fill=\"currentColor\" x=\"750\">ADP</tspan>\n",
              "</text>\n",
              "\n",
              "<text class=\"displacy-token\" fill=\"currentColor\" text-anchor=\"middle\" y=\"197.0\">\n",
              "    <tspan class=\"displacy-word\" fill=\"currentColor\" x=\"850\">un</tspan>\n",
              "    <tspan class=\"displacy-tag\" dy=\"2em\" fill=\"currentColor\" x=\"850\">DET</tspan>\n",
              "</text>\n",
              "\n",
              "<text class=\"displacy-token\" fill=\"currentColor\" text-anchor=\"middle\" y=\"197.0\">\n",
              "    <tspan class=\"displacy-word\" fill=\"currentColor\" x=\"950\">miliard</tspan>\n",
              "    <tspan class=\"displacy-tag\" dy=\"2em\" fill=\"currentColor\" x=\"950\">NUM</tspan>\n",
              "</text>\n",
              "\n",
              "<text class=\"displacy-token\" fill=\"currentColor\" text-anchor=\"middle\" y=\"197.0\">\n",
              "    <tspan class=\"displacy-word\" fill=\"currentColor\" x=\"1050\">de</tspan>\n",
              "    <tspan class=\"displacy-tag\" dy=\"2em\" fill=\"currentColor\" x=\"1050\">ADP</tspan>\n",
              "</text>\n",
              "\n",
              "<text class=\"displacy-token\" fill=\"currentColor\" text-anchor=\"middle\" y=\"197.0\">\n",
              "    <tspan class=\"displacy-word\" fill=\"currentColor\" x=\"1150\">dolari</tspan>\n",
              "    <tspan class=\"displacy-tag\" dy=\"2em\" fill=\"currentColor\" x=\"1150\">NOUN</tspan>\n",
              "</text>\n",
              "\n",
              "<g class=\"displacy-arrow\">\n",
              "    <path class=\"displacy-arc\" id=\"arrow-a91421da1b6a4bc7afcfbfccaae5a821-0-0\" stroke-width=\"2px\" d=\"M70,152.0 C70,102.0 140.0,102.0 140.0,152.0\" fill=\"none\" stroke=\"currentColor\"/>\n",
              "    <text dy=\"1.25em\" style=\"font-size: 0.8em; letter-spacing: 1px\">\n",
              "        <textPath xlink:href=\"#arrow-a91421da1b6a4bc7afcfbfccaae5a821-0-0\" class=\"displacy-label\" startOffset=\"50%\" side=\"left\" fill=\"currentColor\" text-anchor=\"middle\">nsubj</textPath>\n",
              "    </text>\n",
              "    <path class=\"displacy-arrowhead\" d=\"M70,154.0 L62,142.0 78,142.0\" fill=\"currentColor\"/>\n",
              "</g>\n",
              "\n",
              "<g class=\"displacy-arrow\">\n",
              "    <path class=\"displacy-arc\" id=\"arrow-a91421da1b6a4bc7afcfbfccaae5a821-0-1\" stroke-width=\"2px\" d=\"M270,152.0 C270,102.0 340.0,102.0 340.0,152.0\" fill=\"none\" stroke=\"currentColor\"/>\n",
              "    <text dy=\"1.25em\" style=\"font-size: 0.8em; letter-spacing: 1px\">\n",
              "        <textPath xlink:href=\"#arrow-a91421da1b6a4bc7afcfbfccaae5a821-0-1\" class=\"displacy-label\" startOffset=\"50%\" side=\"left\" fill=\"currentColor\" text-anchor=\"middle\">mark</textPath>\n",
              "    </text>\n",
              "    <path class=\"displacy-arrowhead\" d=\"M270,154.0 L262,142.0 278,142.0\" fill=\"currentColor\"/>\n",
              "</g>\n",
              "\n",
              "<g class=\"displacy-arrow\">\n",
              "    <path class=\"displacy-arc\" id=\"arrow-a91421da1b6a4bc7afcfbfccaae5a821-0-2\" stroke-width=\"2px\" d=\"M170,152.0 C170,52.0 345.0,52.0 345.0,152.0\" fill=\"none\" stroke=\"currentColor\"/>\n",
              "    <text dy=\"1.25em\" style=\"font-size: 0.8em; letter-spacing: 1px\">\n",
              "        <textPath xlink:href=\"#arrow-a91421da1b6a4bc7afcfbfccaae5a821-0-2\" class=\"displacy-label\" startOffset=\"50%\" side=\"left\" fill=\"currentColor\" text-anchor=\"middle\">ccomp</textPath>\n",
              "    </text>\n",
              "    <path class=\"displacy-arrowhead\" d=\"M345.0,154.0 L353.0,142.0 337.0,142.0\" fill=\"currentColor\"/>\n",
              "</g>\n",
              "\n",
              "<g class=\"displacy-arrow\">\n",
              "    <path class=\"displacy-arc\" id=\"arrow-a91421da1b6a4bc7afcfbfccaae5a821-0-3\" stroke-width=\"2px\" d=\"M470,152.0 C470,102.0 540.0,102.0 540.0,152.0\" fill=\"none\" stroke=\"currentColor\"/>\n",
              "    <text dy=\"1.25em\" style=\"font-size: 0.8em; letter-spacing: 1px\">\n",
              "        <textPath xlink:href=\"#arrow-a91421da1b6a4bc7afcfbfccaae5a821-0-3\" class=\"displacy-label\" startOffset=\"50%\" side=\"left\" fill=\"currentColor\" text-anchor=\"middle\">det</textPath>\n",
              "    </text>\n",
              "    <path class=\"displacy-arrowhead\" d=\"M470,154.0 L462,142.0 478,142.0\" fill=\"currentColor\"/>\n",
              "</g>\n",
              "\n",
              "<g class=\"displacy-arrow\">\n",
              "    <path class=\"displacy-arc\" id=\"arrow-a91421da1b6a4bc7afcfbfccaae5a821-0-4\" stroke-width=\"2px\" d=\"M370,152.0 C370,52.0 545.0,52.0 545.0,152.0\" fill=\"none\" stroke=\"currentColor\"/>\n",
              "    <text dy=\"1.25em\" style=\"font-size: 0.8em; letter-spacing: 1px\">\n",
              "        <textPath xlink:href=\"#arrow-a91421da1b6a4bc7afcfbfccaae5a821-0-4\" class=\"displacy-label\" startOffset=\"50%\" side=\"left\" fill=\"currentColor\" text-anchor=\"middle\">obj</textPath>\n",
              "    </text>\n",
              "    <path class=\"displacy-arrowhead\" d=\"M545.0,154.0 L553.0,142.0 537.0,142.0\" fill=\"currentColor\"/>\n",
              "</g>\n",
              "\n",
              "<g class=\"displacy-arrow\">\n",
              "    <path class=\"displacy-arc\" id=\"arrow-a91421da1b6a4bc7afcfbfccaae5a821-0-5\" stroke-width=\"2px\" d=\"M570,152.0 C570,102.0 640.0,102.0 640.0,152.0\" fill=\"none\" stroke=\"currentColor\"/>\n",
              "    <text dy=\"1.25em\" style=\"font-size: 0.8em; letter-spacing: 1px\">\n",
              "        <textPath xlink:href=\"#arrow-a91421da1b6a4bc7afcfbfccaae5a821-0-5\" class=\"displacy-label\" startOffset=\"50%\" side=\"left\" fill=\"currentColor\" text-anchor=\"middle\">amod</textPath>\n",
              "    </text>\n",
              "    <path class=\"displacy-arrowhead\" d=\"M640.0,154.0 L648.0,142.0 632.0,142.0\" fill=\"currentColor\"/>\n",
              "</g>\n",
              "\n",
              "<g class=\"displacy-arrow\">\n",
              "    <path class=\"displacy-arc\" id=\"arrow-a91421da1b6a4bc7afcfbfccaae5a821-0-6\" stroke-width=\"2px\" d=\"M770,152.0 C770,52.0 945.0,52.0 945.0,152.0\" fill=\"none\" stroke=\"currentColor\"/>\n",
              "    <text dy=\"1.25em\" style=\"font-size: 0.8em; letter-spacing: 1px\">\n",
              "        <textPath xlink:href=\"#arrow-a91421da1b6a4bc7afcfbfccaae5a821-0-6\" class=\"displacy-label\" startOffset=\"50%\" side=\"left\" fill=\"currentColor\" text-anchor=\"middle\">case</textPath>\n",
              "    </text>\n",
              "    <path class=\"displacy-arrowhead\" d=\"M770,154.0 L762,142.0 778,142.0\" fill=\"currentColor\"/>\n",
              "</g>\n",
              "\n",
              "<g class=\"displacy-arrow\">\n",
              "    <path class=\"displacy-arc\" id=\"arrow-a91421da1b6a4bc7afcfbfccaae5a821-0-7\" stroke-width=\"2px\" d=\"M870,152.0 C870,102.0 940.0,102.0 940.0,152.0\" fill=\"none\" stroke=\"currentColor\"/>\n",
              "    <text dy=\"1.25em\" style=\"font-size: 0.8em; letter-spacing: 1px\">\n",
              "        <textPath xlink:href=\"#arrow-a91421da1b6a4bc7afcfbfccaae5a821-0-7\" class=\"displacy-label\" startOffset=\"50%\" side=\"left\" fill=\"currentColor\" text-anchor=\"middle\">det</textPath>\n",
              "    </text>\n",
              "    <path class=\"displacy-arrowhead\" d=\"M870,154.0 L862,142.0 878,142.0\" fill=\"currentColor\"/>\n",
              "</g>\n",
              "\n",
              "<g class=\"displacy-arrow\">\n",
              "    <path class=\"displacy-arc\" id=\"arrow-a91421da1b6a4bc7afcfbfccaae5a821-0-8\" stroke-width=\"2px\" d=\"M370,152.0 C370,2.0 950.0,2.0 950.0,152.0\" fill=\"none\" stroke=\"currentColor\"/>\n",
              "    <text dy=\"1.25em\" style=\"font-size: 0.8em; letter-spacing: 1px\">\n",
              "        <textPath xlink:href=\"#arrow-a91421da1b6a4bc7afcfbfccaae5a821-0-8\" class=\"displacy-label\" startOffset=\"50%\" side=\"left\" fill=\"currentColor\" text-anchor=\"middle\">obl</textPath>\n",
              "    </text>\n",
              "    <path class=\"displacy-arrowhead\" d=\"M950.0,154.0 L958.0,142.0 942.0,142.0\" fill=\"currentColor\"/>\n",
              "</g>\n",
              "\n",
              "<g class=\"displacy-arrow\">\n",
              "    <path class=\"displacy-arc\" id=\"arrow-a91421da1b6a4bc7afcfbfccaae5a821-0-9\" stroke-width=\"2px\" d=\"M1070,152.0 C1070,102.0 1140.0,102.0 1140.0,152.0\" fill=\"none\" stroke=\"currentColor\"/>\n",
              "    <text dy=\"1.25em\" style=\"font-size: 0.8em; letter-spacing: 1px\">\n",
              "        <textPath xlink:href=\"#arrow-a91421da1b6a4bc7afcfbfccaae5a821-0-9\" class=\"displacy-label\" startOffset=\"50%\" side=\"left\" fill=\"currentColor\" text-anchor=\"middle\">case</textPath>\n",
              "    </text>\n",
              "    <path class=\"displacy-arrowhead\" d=\"M1070,154.0 L1062,142.0 1078,142.0\" fill=\"currentColor\"/>\n",
              "</g>\n",
              "\n",
              "<g class=\"displacy-arrow\">\n",
              "    <path class=\"displacy-arc\" id=\"arrow-a91421da1b6a4bc7afcfbfccaae5a821-0-10\" stroke-width=\"2px\" d=\"M970,152.0 C970,52.0 1145.0,52.0 1145.0,152.0\" fill=\"none\" stroke=\"currentColor\"/>\n",
              "    <text dy=\"1.25em\" style=\"font-size: 0.8em; letter-spacing: 1px\">\n",
              "        <textPath xlink:href=\"#arrow-a91421da1b6a4bc7afcfbfccaae5a821-0-10\" class=\"displacy-label\" startOffset=\"50%\" side=\"left\" fill=\"currentColor\" text-anchor=\"middle\">nmod</textPath>\n",
              "    </text>\n",
              "    <path class=\"displacy-arrowhead\" d=\"M1145.0,154.0 L1153.0,142.0 1137.0,142.0\" fill=\"currentColor\"/>\n",
              "</g>\n",
              "</svg></span>"
            ],
            "text/plain": [
              "<IPython.core.display.HTML object>"
            ]
          },
          "metadata": {},
          "output_type": "display_data"
        }
      ],
      "source": [
        "from spacy import displacy\n",
        "\n",
        "displacy.render(doc, style=\"dep\", options={\"distance\": 100}, jupyter=True)"
      ]
    },
    {
      "cell_type": "code",
      "execution_count": null,
      "metadata": {
        "colab": {
          "base_uri": "https://localhost:8080/",
          "height": 35
        },
        "id": "lpCpnx3Sha_5",
        "outputId": "71e2b1ae-4863-4f46-e4fe-d1bff69b6bee"
      },
      "outputs": [
        {
          "data": {
            "text/plain": [
              "'clausal complement'"
            ]
          },
          "execution_count": 13,
          "metadata": {},
          "output_type": "execute_result"
        }
      ],
      "source": [
        "# pentru a intelege relatiile\n",
        "spacy.explain('ccomp')"
      ]
    },
    {
      "cell_type": "code",
      "execution_count": null,
      "metadata": {
        "colab": {
          "base_uri": "https://localhost:8080/"
        },
        "id": "xSWn6eEerF5U",
        "outputId": "e3110c86-aef1-4914-9bdb-81ac662c11e5"
      },
      "outputs": [
        {
          "name": "stdout",
          "output_type": "stream",
          "text": [
            "word        dependency    parent      pos    children\n",
            "----------  ------------  ----------  -----  -----------------------\n",
            "Apple       nsubj         plănuiește  AUX    []\n",
            "plănuiește  ROOT          plănuiește  AUX    [Apple, cumpere]\n",
            "să          mark          cumpere     AUX    []\n",
            "cumpere     ccomp         plănuiește  AUX    [să, companie, miliard]\n",
            "o           det           companie    NOUN   []\n",
            "companie    obj           cumpere     AUX    [o, britanică]\n",
            "britanică   amod          companie    NOUN   []\n",
            "pentru      case          miliard     NUM    []\n",
            "un          det           miliard     NUM    []\n",
            "miliard     obl           cumpere     AUX    [pentru, un, dolari]\n",
            "de          case          dolari      NOUN   []\n",
            "dolari      nmod          miliard     NUM    [de]\n"
          ]
        }
      ],
      "source": [
        "# https://spacy.io/usage/linguistic-features\n",
        "\n",
        "dependency_features = []\n",
        "for token in doc:\n",
        "    dependency_features.append([token.text, token.dep_, token.head.text, token.head.pos_, [child for child in token.children]])\n",
        "print(tabulate(dependency_features, headers=[\"word\", \"dependency\", \"parent\", \"pos\", \"children\"]))"
      ]
    },
    {
      "cell_type": "markdown",
      "metadata": {
        "id": "6gMVabv2uFbl"
      },
      "source": [
        "## Lematizare folosind POS\n",
        "\n",
        "Am vazut in al doilea laborator cum putem folosi atat `nltk` cat si `spacy` pentru a extrage lemele (formele de dictionar) ale unor cuvinte.\n",
        "\n",
        "In general, lematizarea din `nltk` nu foloseste informatii despre partea de vorbire, pe cand in `spacy` in pipelineul de preprocesare sunt detectate partile de vorbire si folosite in lematizare. Putem insa sa ne folosim de POS si in cazul `nltk` astfel:"
      ]
    },
    {
      "cell_type": "code",
      "execution_count": null,
      "metadata": {
        "id": "HcvE-7SSuFbl"
      },
      "outputs": [],
      "source": [
        "import nltk\n",
        "nltk.download('wordnet')\n",
        "wl = nltk.WordNetLemmatizer()  # instantiem un lemmatizer"
      ]
    },
    {
      "cell_type": "code",
      "execution_count": null,
      "metadata": {
        "id": "izimRjUPuFbm",
        "outputId": "ec4868c8-5a00-4dd5-a1e9-ce12f3d48e7c"
      },
      "outputs": [
        {
          "name": "stdout",
          "output_type": "stream",
          "text": [
            "being\n",
            "being\n",
            "be\n"
          ]
        }
      ],
      "source": [
        "print(wl.lemmatize(\"being\"))\n",
        "print(wl.lemmatize(\"being\", pos=\"n\"))\n",
        "print(wl.lemmatize(\"being\", pos=\"v\"))"
      ]
    },
    {
      "cell_type": "code",
      "execution_count": null,
      "metadata": {
        "id": "2Z-DkPr5uFbm",
        "outputId": "d8eedf95-ae52-4190-fb1b-53dad02969b4"
      },
      "outputs": [
        {
          "name": "stdout",
          "output_type": "stream",
          "text": [
            "painted\n",
            "paint\n",
            "painted\n"
          ]
        }
      ],
      "source": [
        "print(wl.lemmatize(\"painted\"))\n",
        "print(wl.lemmatize(\"painted\", pos=\"v\"))\n",
        "print(wl.lemmatize(\"painted\", pos=\"a\"))"
      ]
    },
    {
      "cell_type": "markdown",
      "metadata": {
        "id": "LxD_aS7xuFbn"
      },
      "source": [
        "POS in `nltk` sunt:\n",
        "- `n` (noun/substantiv)\n",
        "- `v` (verb)\n",
        "- `a` (adjectiv)\n",
        "- `r` (adverb)."
      ]
    },
    {
      "cell_type": "markdown",
      "metadata": {
        "id": "Ym3miOtlbgmK"
      },
      "source": [
        "# Name Entity Recognition (NER)\n",
        "\n",
        "Un task important de recunoastere a numelor proprii din texte. Fiecare corpus din spacy are o lista de label-uri pe care le putem vizualiza prin apelul de mai jos. \n",
        "\n",
        "**ORG** - companii, agentii, etc. (mai frecvent in corpusul de engleza)  \n",
        "**GPE** - entitati geopolitice precum tari, orase, state, etc.\n",
        "\n"
      ]
    },
    {
      "cell_type": "code",
      "execution_count": null,
      "metadata": {
        "colab": {
          "base_uri": "https://localhost:8080/"
        },
        "id": "njj-ghn9ipxu",
        "outputId": "228c1aad-3ec8-49fa-f83c-72a8550f8d94"
      },
      "outputs": [
        {
          "data": {
            "text/plain": [
              "('DATETIME',\n",
              " 'EVENT',\n",
              " 'FACILITY',\n",
              " 'GPE',\n",
              " 'LANGUAGE',\n",
              " 'LOC',\n",
              " 'MONEY',\n",
              " 'NAT_REL_POL',\n",
              " 'NUMERIC_VALUE',\n",
              " 'ORDINAL',\n",
              " 'ORGANIZATION',\n",
              " 'PERIOD',\n",
              " 'PERSON',\n",
              " 'PRODUCT',\n",
              " 'QUANTITY',\n",
              " 'WORK_OF_ART')"
            ]
          },
          "execution_count": 20,
          "metadata": {},
          "output_type": "execute_result"
        }
      ],
      "source": [
        "nlp.get_pipe(\"ner\").labels"
      ]
    },
    {
      "cell_type": "markdown",
      "metadata": {
        "id": "t6gWU0KjjV8g"
      },
      "source": [
        "Mai jos putem vedea pipeline-ul aplicat pe o propozitie concreta in romana. Rezultatul este o lista de span-uri, fiecare span continand mai multe token-uri. Fiecare token are flag-ul IOB cu urmatoarea semnificatie:\n",
        "\n",
        "I – Token is inside an entity.  \n",
        "O – Token is outside an entity.  \n",
        "B – Token is the beginning of an entity.  "
      ]
    },
    {
      "cell_type": "code",
      "execution_count": null,
      "metadata": {
        "colab": {
          "base_uri": "https://localhost:8080/"
        },
        "id": "SwfraqZcbgyU",
        "outputId": "8a84e076-344f-4011-d7cf-d03e65a898a8"
      },
      "outputs": [
        {
          "name": "stdout",
          "output_type": "stream",
          "text": [
            "Londra este un oraș mare în Regatul Unit :\n",
            "\n",
            "word          position    label    token - IOB\n",
            "------------  ----------  -------  ---------------------\n",
            "Londra        (0, 6)      GPE      Londra - B\n",
            "Regatul Unit  (28, 40)    GPE      Regatul - B; Unit - I\n"
          ]
        }
      ],
      "source": [
        "print(sentences[2], \":\\n\")\n",
        "doc = nlp(sentences[2])\n",
        "entities = []\n",
        "for ent in doc.ents:\n",
        "    ent_description = []\n",
        "    for token in ent:\n",
        "        ent_description.append(f'{token.text} - {token.ent_iob_}')\n",
        "    \n",
        "    entities.append([ent.text, (ent.start_char, ent.end_char), ent.label_, '; '.join(ent_description)])\n",
        "print(tabulate(entities, headers=[\"word\", \"position\", \"label\", \"token - IOB\"]))"
      ]
    },
    {
      "cell_type": "markdown",
      "metadata": {
        "id": "m1A9llhfLyN2"
      },
      "source": [
        "In versiunea 2 de spacy, modelul NER este o retea convolutionala (laborator 4), pe cand in versiunea 3, avem de-a face cu un [transformer](https://arxiv.org/pdf/1706.03762.pdf).  "
      ]
    },
    {
      "cell_type": "code",
      "execution_count": null,
      "metadata": {
        "colab": {
          "base_uri": "https://localhost:8080/"
        },
        "id": "QJ3t6bMELxUT",
        "outputId": "ddc45efc-9875-4d34-b092-d4033ca8863d"
      },
      "outputs": [
        {
          "name": "stdout",
          "output_type": "stream",
          "text": [
            "Layer no 0:\n",
            "extract_features\n",
            "list2ragged\n",
            "with_array(ints-getitem\n",
            "hashembed|ints-getitem\n",
            "hashembed|ints-getitem\n",
            "hashembed|ints-getitem\n",
            "hashembed|ints-getitem\n",
            "hashembed)\n",
            "with_array(maxout\n",
            "layernorm\n",
            "dropout)\n",
            "ragged2list\n",
            "with_array(residual(expand_window\n",
            "maxout\n",
            "layernorm\n",
            "dropout)\n",
            "residual(expand_window\n",
            "maxout\n",
            "layernorm\n",
            "dropout)\n",
            "residual(expand_window\n",
            "maxout\n",
            "layernorm\n",
            "dropout)\n",
            "residual(expand_window\n",
            "maxout\n",
            "layernorm\n",
            "dropout))\n",
            "list2array\n",
            "linear|(64, ?)\n",
            "\n",
            "Layer no 1:\n",
            "precomputable_affine|(64, 64)\n",
            "\n",
            "Layer no 2:\n",
            "linear|(66, 64)\n",
            "\n"
          ]
        }
      ],
      "source": [
        "def get_label(layer):\n",
        "    layer_name = layer.name\n",
        "    nO = layer.get_dim(\"nO\") if layer.has_dim(\"nO\") else \"?\"\n",
        "    nI = layer.get_dim(\"nI\") if layer.has_dim(\"nI\") else \"?\"\n",
        "    return f\"{layer.name}|({nO}, {nI})\".replace('>>', '\\n')\n",
        "\n",
        "ner = nlp.get_pipe('ner')\n",
        "for i, ner_layer in enumerate(ner.model.layers):\n",
        "    print(f\"Layer no {i}:\")\n",
        "    print(get_label(ner_layer))\n",
        "    print()"
      ]
    },
    {
      "cell_type": "code",
      "execution_count": null,
      "metadata": {
        "colab": {
          "base_uri": "https://localhost:8080/"
        },
        "id": "KFp2fWhuTGRv",
        "outputId": "5dbc9170-7670-4646-e221-76488ef5fa7a"
      },
      "outputs": [
        {
          "name": "stdout",
          "output_type": "stream",
          "text": [
            "--2022-04-05 20:12:30--  https://raw.githubusercontent.com/dumitrescustefan/ronec/master/data/train.json\n",
            "Resolving raw.githubusercontent.com (raw.githubusercontent.com)... 185.199.109.133, 185.199.110.133, 185.199.111.133, ...\n",
            "Connecting to raw.githubusercontent.com (raw.githubusercontent.com)|185.199.109.133|:443... connected.\n",
            "HTTP request sent, awaiting response... 200 OK\n",
            "Length: 10753146 (10M) [text/plain]\n",
            "Saving to: ‘train.json’\n",
            "\n",
            "train.json          100%[===================>]  10.25M  25.8MB/s    in 0.4s    \n",
            "\n",
            "2022-04-05 20:12:31 (25.8 MB/s) - ‘train.json’ saved [10753146/10753146]\n",
            "\n"
          ]
        }
      ],
      "source": [
        "!wget https://raw.githubusercontent.com/dumitrescustefan/ronec/master/data/train.json"
      ]
    },
    {
      "cell_type": "code",
      "execution_count": null,
      "metadata": {
        "id": "dtmSt6BeTMqN"
      },
      "outputs": [],
      "source": [
        "import json\n",
        "\n",
        "with open('train.json', 'r') as fin:\n",
        "    ronec = json.load(fin)"
      ]
    },
    {
      "cell_type": "code",
      "execution_count": null,
      "metadata": {
        "id": "0g_KfxYAuFbq",
        "outputId": "40b77f96-6526-4180-8aa6-ea25b40af149"
      },
      "outputs": [
        {
          "name": "stdout",
          "output_type": "stream",
          "text": [
            "dict_keys(['id', 'ner_tags', 'ner_ids', 'tokens', 'space_after'])\n",
            "11865\n",
            "['Vechiul', 'oraș', 'Visoki', 'a', 'fost', 'un', 'faimos', 'castel', 'regal', 'medieval', 'în', 'timpul', 'secolului', 'al', 'XIV', '-lea', ',', 'situat', 'în', 'Visoko', ',', 'Bosnia', 'și', 'Herțegovina', '.']\n",
            "['O', 'O', 'B-GPE', 'O', 'O', 'O', 'O', 'O', 'O', 'O', 'O', 'O', 'B-DATETIME', 'I-DATETIME', 'I-DATETIME', 'I-DATETIME', 'O', 'O', 'O', 'B-GPE', 'O', 'B-GPE', 'I-GPE', 'I-GPE', 'O']\n",
            "[0, 0, 5, 0, 0, 0, 0, 0, 0, 0, 0, 0, 17, 18, 18, 18, 0, 0, 0, 5, 0, 5, 6, 6, 0]\n",
            "[True, True, True, True, True, True, True, True, True, True, True, True, True, True, False, False, True, True, True, True, True, True, True, False, False]\n"
          ]
        }
      ],
      "source": [
        "print(ronec[1].keys())\n",
        "print(ronec[1][\"id\"])\n",
        "print(ronec[1][\"tokens\"])\n",
        "print(ronec[1][\"ner_tags\"])\n",
        "print(ronec[1][\"ner_ids\"])\n",
        "print(ronec[1][\"space_after\"])"
      ]
    },
    {
      "cell_type": "code",
      "execution_count": null,
      "metadata": {
        "id": "iebDxq8wBBGe"
      },
      "outputs": [],
      "source": [
        "import re\n",
        "\n",
        "dataset_max_len = 100  # extragem doar primele 100 de exemple din ronec\n",
        "dataset = []\n",
        "for i, entry in enumerate(ronec):\n",
        "    if i > 100:\n",
        "        break\n",
        "\n",
        "    entities = []\n",
        "    full_text = ''\n",
        "    is_outside = True\n",
        "    for i, (token, ner_tag, is_space) in enumerate(zip(entry['tokens'], entry['ner_tags'], entry['space_after'])):\n",
        "        current_space = ' ' if is_space else ''\n",
        "\n",
        "        if ner_tag.startswith('B-'):\n",
        "            is_outside = False\n",
        "            entity = ''\n",
        "            entity_start = len(full_text)\n",
        "            entity_name = ner_tag.split('-')[-1]\n",
        "\n",
        "        elif ner_tag == 'O' and not is_outside:\n",
        "            is_outside = True\n",
        "            entity_end = len(full_text)\n",
        "            if entity[-1] == ' ':\n",
        "                entity_end -= 1\n",
        "                entity = entity[:-1]\n",
        "            # print(entity_start, entity_end, entity_name, entity)\n",
        "            entities.append((entity_start, entity_end, entity_name))\n",
        "\n",
        "        if not is_outside:\n",
        "           entity += token + current_space\n",
        "        full_text += token + current_space\n",
        "    \n",
        "    dataset.append((full_text, {\n",
        "        \"entities\": entities\n",
        "    }))\n"
      ]
    },
    {
      "cell_type": "code",
      "execution_count": null,
      "metadata": {
        "id": "UbL4s1S9uFbr",
        "outputId": "871d844d-0725-4688-ad16-de43551b61bd"
      },
      "outputs": [
        {
          "name": "stdout",
          "output_type": "stream",
          "text": [
            "('Vechiul oraș Visoki a fost un faimos castel regal medieval în timpul secolului al XIV-lea, situat în Visoko , Bosnia și Herțegovina.', {'entities': [(13, 19, 'GPE'), (69, 89, 'DATETIME'), (101, 107, 'GPE'), (110, 131, 'GPE')]})\n"
          ]
        }
      ],
      "source": [
        "print(dataset[1])"
      ]
    },
    {
      "cell_type": "code",
      "execution_count": null,
      "metadata": {
        "id": "3tRMc1XCjtN8"
      },
      "outputs": [],
      "source": [
        "from sklearn.model_selection import train_test_split\n",
        "import numpy as np\n",
        "\n",
        "train_dataset, test_dataset, _, _ = train_test_split(dataset, np.zeros(len(dataset)), test_size=0.1, random_state=101)"
      ]
    },
    {
      "cell_type": "markdown",
      "metadata": {
        "id": "ocS6Uvj9gXzY"
      },
      "source": [
        "Avand datele impartite pe antrenare si testare, pentru a antrena un nou model NER, avem nevoie de un alt NLP pipeline, caruia ii adaugam o componenta (pipe) de NER, dupa cum urmeaza:"
      ]
    },
    {
      "cell_type": "code",
      "execution_count": null,
      "metadata": {
        "id": "D54Q8iRVVdkP"
      },
      "outputs": [],
      "source": [
        "nlp = spacy.blank('ro')  \n",
        "\n",
        "if 'ner' not in nlp.pipe_names:\n",
        "    ner = nlp.add_pipe('ner', last=True)\n",
        "else:\n",
        "    ner = nlp.get_pipe('ner')"
      ]
    },
    {
      "cell_type": "markdown",
      "metadata": {
        "id": "1oDrqq8XgtJ7"
      },
      "source": [
        "Adaugam label-urile din dataset-ul nostru, respectand formatul initial."
      ]
    },
    {
      "cell_type": "code",
      "execution_count": null,
      "metadata": {
        "id": "dkgEqm-MgkdP"
      },
      "outputs": [],
      "source": [
        "for _, annotations in dataset:\n",
        "    for ent in annotations[\"entities\"]:\n",
        "        ner.add_label(ent[2])"
      ]
    },
    {
      "cell_type": "code",
      "execution_count": null,
      "metadata": {
        "colab": {
          "base_uri": "https://localhost:8080/"
        },
        "id": "-_j3VWhbgP4z",
        "outputId": "0835dc3b-213d-4d11-a3cc-d63b9c1082fe"
      },
      "outputs": [
        {
          "name": "stderr",
          "output_type": "stream",
          "text": [
            " 26%|█████████████                                      | 23/90 [00:00<00:00, 71.19it/s]/home/bogdan/work/FMI/lab_NLP_an3/.env/lib/python3.8/site-packages/spacy/training/iob_utils.py:141: UserWarning: [W030] Some entities could not be aligned in the text \"Dar și producătorul casetei audio intitulată 'Talk...\" with entities \"[(45, 78, 'WORK_OF_ART'), (80, 84, 'DATETIME'), (1...\". Use `spacy.training.offsets_to_biluo_tags(nlp.make_doc(text), entities)` to check the alignment. Misaligned entities ('-') will be ignored during training.\n",
            "  warnings.warn(\n",
            " 42%|█████████████████████▌                             | 38/90 [00:00<00:00, 55.25it/s]/home/bogdan/work/FMI/lab_NLP_an3/.env/lib/python3.8/site-packages/spacy/training/iob_utils.py:141: UserWarning: [W030] Some entities could not be aligned in the text \"Sparta a luat insula de la Argos la începutul seco...\" with entities \"[(0, 6, 'GPE'), (27, 32, 'GPE'), (36, 65, 'DATETIM...\". Use `spacy.training.offsets_to_biluo_tags(nlp.make_doc(text), entities)` to check the alignment. Misaligned entities ('-') will be ignored during training.\n",
            "  warnings.warn(\n",
            " 57%|████████████████████████████▉                      | 51/90 [00:00<00:00, 57.83it/s]/home/bogdan/work/FMI/lab_NLP_an3/.env/lib/python3.8/site-packages/spacy/training/iob_utils.py:141: UserWarning: [W030] Some entities could not be aligned in the text \"Prin sentința civilă nr.2232/08 nov.2006, pronunța...\" with entities \"[(24, 28, 'NUMERIC'), (29, 40, 'DATETIME'), (67, 7...\". Use `spacy.training.offsets_to_biluo_tags(nlp.make_doc(text), entities)` to check the alignment. Misaligned entities ('-') will be ignored during training.\n",
            "  warnings.warn(\n",
            " 72%|████████████████████████████████████▊              | 65/90 [00:01<00:00, 60.06it/s]/home/bogdan/work/FMI/lab_NLP_an3/.env/lib/python3.8/site-packages/spacy/training/iob_utils.py:141: UserWarning: [W030] Some entities could not be aligned in the text \"La data de 07 ianuarie a.c. polițiștii Biroului de...\" with entities \"[(28, 38, 'PERSON'), (74, 80, 'GPE'), (108, 117, '...\". Use `spacy.training.offsets_to_biluo_tags(nlp.make_doc(text), entities)` to check the alignment. Misaligned entities ('-') will be ignored during training.\n",
            "  warnings.warn(\n",
            "/home/bogdan/work/FMI/lab_NLP_an3/.env/lib/python3.8/site-packages/spacy/training/iob_utils.py:141: UserWarning: [W030] Some entities could not be aligned in the text \"Tot în anii 1840 Macaulay a început să scrie princ...\" with entities \"[(17, 25, 'PERSON'), (68, 195, 'WORK_OF_ART'), (21...\". Use `spacy.training.offsets_to_biluo_tags(nlp.make_doc(text), entities)` to check the alignment. Misaligned entities ('-') will be ignored during training.\n",
            "  warnings.warn(\n",
            "/home/bogdan/work/FMI/lab_NLP_an3/.env/lib/python3.8/site-packages/spacy/training/iob_utils.py:141: UserWarning: [W030] Some entities could not be aligned in the text \"Viața fraților și a surorilor din Ierusalim era at...\" with entities \"[(6, 14, 'PERSON'), (20, 29, 'PERSON'), (34, 43, '...\". Use `spacy.training.offsets_to_biluo_tags(nlp.make_doc(text), entities)` to check the alignment. Misaligned entities ('-') will be ignored during training.\n",
            "  warnings.warn(\n",
            " 80%|████████████████████████████████████████▊          | 72/90 [00:01<00:00, 56.54it/s]/home/bogdan/work/FMI/lab_NLP_an3/.env/lib/python3.8/site-packages/spacy/training/iob_utils.py:141: UserWarning: [W030] Some entities could not be aligned in the text \"În februarie 1992, Victor Catan a fost numit în fu...\" with entities \"[(3, 17, 'DATETIME'), (19, 31, 'PERSON'), (59, 75,...\". Use `spacy.training.offsets_to_biluo_tags(nlp.make_doc(text), entities)` to check the alignment. Misaligned entities ('-') will be ignored during training.\n",
            "  warnings.warn(\n",
            " 88%|████████████████████████████████████████████▊      | 79/90 [00:01<00:00, 57.32it/s]/home/bogdan/work/FMI/lab_NLP_an3/.env/lib/python3.8/site-packages/spacy/training/iob_utils.py:141: UserWarning: [W030] Some entities could not be aligned in the text \"Subforumuri: 2.0.x Instalare, actualizare, convers...\" with entities \"[(13, 14, 'NUMERIC'), (15, 16, 'NUMERIC'), (54, 55...\". Use `spacy.training.offsets_to_biluo_tags(nlp.make_doc(text), entities)` to check the alignment. Misaligned entities ('-') will be ignored during training.\n",
            "  warnings.warn(\n",
            "100%|███████████████████████████████████████████████████| 90/90 [00:01<00:00, 58.67it/s]\n"
          ]
        },
        {
          "name": "stdout",
          "output_type": "stream",
          "text": [
            "{'ner': 1181.5347758118269}\n"
          ]
        },
        {
          "name": "stderr",
          "output_type": "stream",
          "text": [
            "100%|███████████████████████████████████████████████████| 90/90 [00:01<00:00, 61.24it/s]\n"
          ]
        },
        {
          "name": "stdout",
          "output_type": "stream",
          "text": [
            "{'ner': 801.6053013760431}\n"
          ]
        },
        {
          "name": "stderr",
          "output_type": "stream",
          "text": [
            "100%|███████████████████████████████████████████████████| 90/90 [00:01<00:00, 62.70it/s]\n"
          ]
        },
        {
          "name": "stdout",
          "output_type": "stream",
          "text": [
            "{'ner': 827.9487372001727}\n"
          ]
        },
        {
          "name": "stderr",
          "output_type": "stream",
          "text": [
            "100%|███████████████████████████████████████████████████| 90/90 [00:01<00:00, 62.27it/s]\n"
          ]
        },
        {
          "name": "stdout",
          "output_type": "stream",
          "text": [
            "{'ner': 724.7852630879058}\n"
          ]
        },
        {
          "name": "stderr",
          "output_type": "stream",
          "text": [
            "100%|███████████████████████████████████████████████████| 90/90 [00:01<00:00, 62.50it/s]\n"
          ]
        },
        {
          "name": "stdout",
          "output_type": "stream",
          "text": [
            "{'ner': 734.9207974973478}\n"
          ]
        },
        {
          "name": "stderr",
          "output_type": "stream",
          "text": [
            "100%|███████████████████████████████████████████████████| 90/90 [00:01<00:00, 62.15it/s]\n"
          ]
        },
        {
          "name": "stdout",
          "output_type": "stream",
          "text": [
            "{'ner': 745.6657571937229}\n"
          ]
        },
        {
          "name": "stderr",
          "output_type": "stream",
          "text": [
            "100%|███████████████████████████████████████████████████| 90/90 [00:01<00:00, 62.93it/s]\n"
          ]
        },
        {
          "name": "stdout",
          "output_type": "stream",
          "text": [
            "{'ner': 727.510632396348}\n"
          ]
        },
        {
          "name": "stderr",
          "output_type": "stream",
          "text": [
            "100%|███████████████████████████████████████████████████| 90/90 [00:01<00:00, 61.59it/s]\n"
          ]
        },
        {
          "name": "stdout",
          "output_type": "stream",
          "text": [
            "{'ner': 501.3484495554456}\n"
          ]
        },
        {
          "name": "stderr",
          "output_type": "stream",
          "text": [
            "100%|███████████████████████████████████████████████████| 90/90 [00:01<00:00, 63.69it/s]\n"
          ]
        },
        {
          "name": "stdout",
          "output_type": "stream",
          "text": [
            "{'ner': 618.776870817176}\n"
          ]
        },
        {
          "name": "stderr",
          "output_type": "stream",
          "text": [
            "100%|███████████████████████████████████████████████████| 90/90 [00:01<00:00, 63.67it/s]\n"
          ]
        },
        {
          "name": "stdout",
          "output_type": "stream",
          "text": [
            "{'ner': 504.23634119202944}\n"
          ]
        },
        {
          "name": "stderr",
          "output_type": "stream",
          "text": [
            "100%|███████████████████████████████████████████████████| 90/90 [00:01<00:00, 62.02it/s]\n"
          ]
        },
        {
          "name": "stdout",
          "output_type": "stream",
          "text": [
            "{'ner': 419.16528772699456}\n"
          ]
        },
        {
          "name": "stderr",
          "output_type": "stream",
          "text": [
            "100%|███████████████████████████████████████████████████| 90/90 [00:01<00:00, 61.67it/s]\n"
          ]
        },
        {
          "name": "stdout",
          "output_type": "stream",
          "text": [
            "{'ner': 396.8310835501449}\n"
          ]
        },
        {
          "name": "stderr",
          "output_type": "stream",
          "text": [
            "100%|███████████████████████████████████████████████████| 90/90 [00:01<00:00, 62.44it/s]\n"
          ]
        },
        {
          "name": "stdout",
          "output_type": "stream",
          "text": [
            "{'ner': 391.1803052886366}\n"
          ]
        },
        {
          "name": "stderr",
          "output_type": "stream",
          "text": [
            "100%|███████████████████████████████████████████████████| 90/90 [00:01<00:00, 63.38it/s]\n"
          ]
        },
        {
          "name": "stdout",
          "output_type": "stream",
          "text": [
            "{'ner': 400.5588174510841}\n"
          ]
        },
        {
          "name": "stderr",
          "output_type": "stream",
          "text": [
            "100%|███████████████████████████████████████████████████| 90/90 [00:01<00:00, 64.18it/s]\n"
          ]
        },
        {
          "name": "stdout",
          "output_type": "stream",
          "text": [
            "{'ner': 342.0960858106352}\n"
          ]
        },
        {
          "name": "stderr",
          "output_type": "stream",
          "text": [
            "100%|███████████████████████████████████████████████████| 90/90 [00:01<00:00, 63.54it/s]\n"
          ]
        },
        {
          "name": "stdout",
          "output_type": "stream",
          "text": [
            "{'ner': 347.43202612341497}\n"
          ]
        },
        {
          "name": "stderr",
          "output_type": "stream",
          "text": [
            "100%|███████████████████████████████████████████████████| 90/90 [00:01<00:00, 63.79it/s]\n"
          ]
        },
        {
          "name": "stdout",
          "output_type": "stream",
          "text": [
            "{'ner': 293.18082599317006}\n"
          ]
        },
        {
          "name": "stderr",
          "output_type": "stream",
          "text": [
            "100%|███████████████████████████████████████████████████| 90/90 [00:01<00:00, 63.11it/s]\n"
          ]
        },
        {
          "name": "stdout",
          "output_type": "stream",
          "text": [
            "{'ner': 286.9998064409175}\n"
          ]
        },
        {
          "name": "stderr",
          "output_type": "stream",
          "text": [
            "100%|███████████████████████████████████████████████████| 90/90 [00:01<00:00, 62.45it/s]\n"
          ]
        },
        {
          "name": "stdout",
          "output_type": "stream",
          "text": [
            "{'ner': 301.4885316039523}\n"
          ]
        },
        {
          "name": "stderr",
          "output_type": "stream",
          "text": [
            "100%|███████████████████████████████████████████████████| 90/90 [00:01<00:00, 62.85it/s]\n"
          ]
        },
        {
          "name": "stdout",
          "output_type": "stream",
          "text": [
            "{'ner': 274.89674339921777}\n"
          ]
        },
        {
          "name": "stderr",
          "output_type": "stream",
          "text": [
            "100%|███████████████████████████████████████████████████| 90/90 [00:01<00:00, 62.57it/s]\n"
          ]
        },
        {
          "name": "stdout",
          "output_type": "stream",
          "text": [
            "{'ner': 240.23716597573883}\n"
          ]
        },
        {
          "name": "stderr",
          "output_type": "stream",
          "text": [
            "100%|███████████████████████████████████████████████████| 90/90 [00:01<00:00, 63.02it/s]\n"
          ]
        },
        {
          "name": "stdout",
          "output_type": "stream",
          "text": [
            "{'ner': 195.60544522869756}\n"
          ]
        },
        {
          "name": "stderr",
          "output_type": "stream",
          "text": [
            "100%|███████████████████████████████████████████████████| 90/90 [00:01<00:00, 62.22it/s]\n"
          ]
        },
        {
          "name": "stdout",
          "output_type": "stream",
          "text": [
            "{'ner': 201.49745555703763}\n"
          ]
        },
        {
          "name": "stderr",
          "output_type": "stream",
          "text": [
            "100%|███████████████████████████████████████████████████| 90/90 [00:01<00:00, 62.03it/s]\n"
          ]
        },
        {
          "name": "stdout",
          "output_type": "stream",
          "text": [
            "{'ner': 224.75290934288023}\n"
          ]
        },
        {
          "name": "stderr",
          "output_type": "stream",
          "text": [
            "100%|███████████████████████████████████████████████████| 90/90 [00:01<00:00, 63.75it/s]\n"
          ]
        },
        {
          "name": "stdout",
          "output_type": "stream",
          "text": [
            "{'ner': 202.53693447975058}\n"
          ]
        },
        {
          "name": "stderr",
          "output_type": "stream",
          "text": [
            "100%|███████████████████████████████████████████████████| 90/90 [00:01<00:00, 63.73it/s]\n"
          ]
        },
        {
          "name": "stdout",
          "output_type": "stream",
          "text": [
            "{'ner': 189.14154204241584}\n"
          ]
        },
        {
          "name": "stderr",
          "output_type": "stream",
          "text": [
            "100%|███████████████████████████████████████████████████| 90/90 [00:01<00:00, 63.07it/s]\n"
          ]
        },
        {
          "name": "stdout",
          "output_type": "stream",
          "text": [
            "{'ner': 142.85049876747675}\n"
          ]
        },
        {
          "name": "stderr",
          "output_type": "stream",
          "text": [
            "100%|███████████████████████████████████████████████████| 90/90 [00:01<00:00, 62.76it/s]\n"
          ]
        },
        {
          "name": "stdout",
          "output_type": "stream",
          "text": [
            "{'ner': 141.2617251973223}\n"
          ]
        },
        {
          "name": "stderr",
          "output_type": "stream",
          "text": [
            "100%|███████████████████████████████████████████████████| 90/90 [00:01<00:00, 63.13it/s]\n"
          ]
        },
        {
          "name": "stdout",
          "output_type": "stream",
          "text": [
            "{'ner': 152.37925487303232}\n"
          ]
        },
        {
          "name": "stderr",
          "output_type": "stream",
          "text": [
            "100%|███████████████████████████████████████████████████| 90/90 [00:01<00:00, 62.41it/s]\n"
          ]
        },
        {
          "name": "stdout",
          "output_type": "stream",
          "text": [
            "{'ner': 132.03920782645545}\n"
          ]
        },
        {
          "name": "stderr",
          "output_type": "stream",
          "text": [
            "100%|███████████████████████████████████████████████████| 90/90 [00:01<00:00, 63.19it/s]\n"
          ]
        },
        {
          "name": "stdout",
          "output_type": "stream",
          "text": [
            "{'ner': 122.7727619228253}\n"
          ]
        },
        {
          "name": "stderr",
          "output_type": "stream",
          "text": [
            "100%|███████████████████████████████████████████████████| 90/90 [00:01<00:00, 63.45it/s]\n"
          ]
        },
        {
          "name": "stdout",
          "output_type": "stream",
          "text": [
            "{'ner': 156.41209384458617}\n"
          ]
        },
        {
          "name": "stderr",
          "output_type": "stream",
          "text": [
            "100%|███████████████████████████████████████████████████| 90/90 [00:01<00:00, 63.49it/s]\n"
          ]
        },
        {
          "name": "stdout",
          "output_type": "stream",
          "text": [
            "{'ner': 183.06184446237165}\n"
          ]
        },
        {
          "name": "stderr",
          "output_type": "stream",
          "text": [
            "100%|███████████████████████████████████████████████████| 90/90 [00:01<00:00, 63.88it/s]\n"
          ]
        },
        {
          "name": "stdout",
          "output_type": "stream",
          "text": [
            "{'ner': 153.12177360984683}\n"
          ]
        },
        {
          "name": "stderr",
          "output_type": "stream",
          "text": [
            "100%|███████████████████████████████████████████████████| 90/90 [00:01<00:00, 63.10it/s]\n"
          ]
        },
        {
          "name": "stdout",
          "output_type": "stream",
          "text": [
            "{'ner': 153.54811442980312}\n"
          ]
        },
        {
          "name": "stderr",
          "output_type": "stream",
          "text": [
            "100%|███████████████████████████████████████████████████| 90/90 [00:01<00:00, 62.18it/s]\n"
          ]
        },
        {
          "name": "stdout",
          "output_type": "stream",
          "text": [
            "{'ner': 108.50568759952498}\n"
          ]
        },
        {
          "name": "stderr",
          "output_type": "stream",
          "text": [
            "100%|███████████████████████████████████████████████████| 90/90 [00:01<00:00, 60.12it/s]\n"
          ]
        },
        {
          "name": "stdout",
          "output_type": "stream",
          "text": [
            "{'ner': 105.43449417853934}\n"
          ]
        },
        {
          "name": "stderr",
          "output_type": "stream",
          "text": [
            "100%|███████████████████████████████████████████████████| 90/90 [00:01<00:00, 57.31it/s]\n"
          ]
        },
        {
          "name": "stdout",
          "output_type": "stream",
          "text": [
            "{'ner': 92.33426662924383}\n"
          ]
        },
        {
          "name": "stderr",
          "output_type": "stream",
          "text": [
            "100%|███████████████████████████████████████████████████| 90/90 [00:01<00:00, 61.03it/s]\n"
          ]
        },
        {
          "name": "stdout",
          "output_type": "stream",
          "text": [
            "{'ner': 106.01666895729988}\n"
          ]
        },
        {
          "name": "stderr",
          "output_type": "stream",
          "text": [
            "100%|███████████████████████████████████████████████████| 90/90 [00:01<00:00, 61.21it/s]\n"
          ]
        },
        {
          "name": "stdout",
          "output_type": "stream",
          "text": [
            "{'ner': 84.00702390839501}\n"
          ]
        },
        {
          "name": "stderr",
          "output_type": "stream",
          "text": [
            "100%|███████████████████████████████████████████████████| 90/90 [00:01<00:00, 60.49it/s]\n"
          ]
        },
        {
          "name": "stdout",
          "output_type": "stream",
          "text": [
            "{'ner': 74.2922000296841}\n"
          ]
        },
        {
          "name": "stderr",
          "output_type": "stream",
          "text": [
            "100%|███████████████████████████████████████████████████| 90/90 [00:01<00:00, 59.14it/s]\n"
          ]
        },
        {
          "name": "stdout",
          "output_type": "stream",
          "text": [
            "{'ner': 76.1999517931766}\n"
          ]
        },
        {
          "name": "stderr",
          "output_type": "stream",
          "text": [
            "100%|███████████████████████████████████████████████████| 90/90 [00:01<00:00, 60.87it/s]\n"
          ]
        },
        {
          "name": "stdout",
          "output_type": "stream",
          "text": [
            "{'ner': 66.56998837326121}\n"
          ]
        },
        {
          "name": "stderr",
          "output_type": "stream",
          "text": [
            "100%|███████████████████████████████████████████████████| 90/90 [00:01<00:00, 56.95it/s]\n"
          ]
        },
        {
          "name": "stdout",
          "output_type": "stream",
          "text": [
            "{'ner': 77.05772172426282}\n"
          ]
        },
        {
          "name": "stderr",
          "output_type": "stream",
          "text": [
            "100%|███████████████████████████████████████████████████| 90/90 [00:01<00:00, 63.17it/s]\n"
          ]
        },
        {
          "name": "stdout",
          "output_type": "stream",
          "text": [
            "{'ner': 76.87117603349651}\n"
          ]
        },
        {
          "name": "stderr",
          "output_type": "stream",
          "text": [
            "100%|███████████████████████████████████████████████████| 90/90 [00:01<00:00, 63.65it/s]\n"
          ]
        },
        {
          "name": "stdout",
          "output_type": "stream",
          "text": [
            "{'ner': 72.55367233416352}\n"
          ]
        },
        {
          "name": "stderr",
          "output_type": "stream",
          "text": [
            "100%|███████████████████████████████████████████████████| 90/90 [00:01<00:00, 62.83it/s]\n"
          ]
        },
        {
          "name": "stdout",
          "output_type": "stream",
          "text": [
            "{'ner': 67.49736627370321}\n"
          ]
        },
        {
          "name": "stderr",
          "output_type": "stream",
          "text": [
            "100%|███████████████████████████████████████████████████| 90/90 [00:01<00:00, 63.86it/s]\n"
          ]
        },
        {
          "name": "stdout",
          "output_type": "stream",
          "text": [
            "{'ner': 75.37810258561656}\n"
          ]
        },
        {
          "name": "stderr",
          "output_type": "stream",
          "text": [
            "100%|███████████████████████████████████████████████████| 90/90 [00:01<00:00, 62.82it/s]\n"
          ]
        },
        {
          "name": "stdout",
          "output_type": "stream",
          "text": [
            "{'ner': 105.86599545038706}\n"
          ]
        },
        {
          "name": "stderr",
          "output_type": "stream",
          "text": [
            "100%|███████████████████████████████████████████████████| 90/90 [00:01<00:00, 62.43it/s]\n"
          ]
        },
        {
          "name": "stdout",
          "output_type": "stream",
          "text": [
            "{'ner': 68.54612415184137}\n"
          ]
        },
        {
          "name": "stderr",
          "output_type": "stream",
          "text": [
            "100%|███████████████████████████████████████████████████| 90/90 [00:01<00:00, 63.86it/s]\n"
          ]
        },
        {
          "name": "stdout",
          "output_type": "stream",
          "text": [
            "{'ner': 70.84073540672891}\n"
          ]
        },
        {
          "name": "stderr",
          "output_type": "stream",
          "text": [
            "100%|███████████████████████████████████████████████████| 90/90 [00:01<00:00, 63.10it/s]\n"
          ]
        },
        {
          "name": "stdout",
          "output_type": "stream",
          "text": [
            "{'ner': 80.18472439039452}\n"
          ]
        },
        {
          "name": "stderr",
          "output_type": "stream",
          "text": [
            "100%|███████████████████████████████████████████████████| 90/90 [00:01<00:00, 62.78it/s]\n"
          ]
        },
        {
          "name": "stdout",
          "output_type": "stream",
          "text": [
            "{'ner': 96.53567907046803}\n"
          ]
        },
        {
          "name": "stderr",
          "output_type": "stream",
          "text": [
            "100%|███████████████████████████████████████████████████| 90/90 [00:01<00:00, 62.96it/s]\n"
          ]
        },
        {
          "name": "stdout",
          "output_type": "stream",
          "text": [
            "{'ner': 76.83972856253392}\n"
          ]
        },
        {
          "name": "stderr",
          "output_type": "stream",
          "text": [
            "100%|███████████████████████████████████████████████████| 90/90 [00:01<00:00, 62.98it/s]\n"
          ]
        },
        {
          "name": "stdout",
          "output_type": "stream",
          "text": [
            "{'ner': 73.79412026177279}\n"
          ]
        },
        {
          "name": "stderr",
          "output_type": "stream",
          "text": [
            "100%|███████████████████████████████████████████████████| 90/90 [00:01<00:00, 62.20it/s]\n"
          ]
        },
        {
          "name": "stdout",
          "output_type": "stream",
          "text": [
            "{'ner': 81.44974892797981}\n"
          ]
        },
        {
          "name": "stderr",
          "output_type": "stream",
          "text": [
            "100%|███████████████████████████████████████████████████| 90/90 [00:01<00:00, 63.61it/s]\n"
          ]
        },
        {
          "name": "stdout",
          "output_type": "stream",
          "text": [
            "{'ner': 81.77177152512445}\n"
          ]
        },
        {
          "name": "stderr",
          "output_type": "stream",
          "text": [
            "100%|███████████████████████████████████████████████████| 90/90 [00:01<00:00, 63.27it/s]\n"
          ]
        },
        {
          "name": "stdout",
          "output_type": "stream",
          "text": [
            "{'ner': 62.93733507466653}\n"
          ]
        },
        {
          "name": "stderr",
          "output_type": "stream",
          "text": [
            "100%|███████████████████████████████████████████████████| 90/90 [00:01<00:00, 61.94it/s]\n"
          ]
        },
        {
          "name": "stdout",
          "output_type": "stream",
          "text": [
            "{'ner': 55.87780243535637}\n"
          ]
        },
        {
          "name": "stderr",
          "output_type": "stream",
          "text": [
            "100%|███████████████████████████████████████████████████| 90/90 [00:01<00:00, 63.89it/s]\n"
          ]
        },
        {
          "name": "stdout",
          "output_type": "stream",
          "text": [
            "{'ner': 66.83137951845814}\n"
          ]
        },
        {
          "name": "stderr",
          "output_type": "stream",
          "text": [
            "100%|███████████████████████████████████████████████████| 90/90 [00:01<00:00, 62.67it/s]\n"
          ]
        },
        {
          "name": "stdout",
          "output_type": "stream",
          "text": [
            "{'ner': 64.77816325641791}\n"
          ]
        },
        {
          "name": "stderr",
          "output_type": "stream",
          "text": [
            "100%|███████████████████████████████████████████████████| 90/90 [00:01<00:00, 63.65it/s]\n"
          ]
        },
        {
          "name": "stdout",
          "output_type": "stream",
          "text": [
            "{'ner': 53.25215070614866}\n"
          ]
        },
        {
          "name": "stderr",
          "output_type": "stream",
          "text": [
            "100%|███████████████████████████████████████████████████| 90/90 [00:01<00:00, 64.13it/s]\n"
          ]
        },
        {
          "name": "stdout",
          "output_type": "stream",
          "text": [
            "{'ner': 64.83613903623694}\n"
          ]
        },
        {
          "name": "stderr",
          "output_type": "stream",
          "text": [
            "100%|███████████████████████████████████████████████████| 90/90 [00:01<00:00, 64.46it/s]\n"
          ]
        },
        {
          "name": "stdout",
          "output_type": "stream",
          "text": [
            "{'ner': 56.99346606405137}\n"
          ]
        },
        {
          "name": "stderr",
          "output_type": "stream",
          "text": [
            "100%|███████████████████████████████████████████████████| 90/90 [00:01<00:00, 64.07it/s]\n"
          ]
        },
        {
          "name": "stdout",
          "output_type": "stream",
          "text": [
            "{'ner': 62.91228973726719}\n"
          ]
        },
        {
          "name": "stderr",
          "output_type": "stream",
          "text": [
            "100%|███████████████████████████████████████████████████| 90/90 [00:01<00:00, 64.11it/s]\n"
          ]
        },
        {
          "name": "stdout",
          "output_type": "stream",
          "text": [
            "{'ner': 48.43098778749137}\n"
          ]
        },
        {
          "name": "stderr",
          "output_type": "stream",
          "text": [
            "100%|███████████████████████████████████████████████████| 90/90 [00:01<00:00, 63.24it/s]\n"
          ]
        },
        {
          "name": "stdout",
          "output_type": "stream",
          "text": [
            "{'ner': 53.92095942479005}\n"
          ]
        },
        {
          "name": "stderr",
          "output_type": "stream",
          "text": [
            "100%|███████████████████████████████████████████████████| 90/90 [00:01<00:00, 63.33it/s]\n"
          ]
        },
        {
          "name": "stdout",
          "output_type": "stream",
          "text": [
            "{'ner': 53.78357638933406}\n"
          ]
        },
        {
          "name": "stderr",
          "output_type": "stream",
          "text": [
            "100%|███████████████████████████████████████████████████| 90/90 [00:01<00:00, 64.55it/s]\n"
          ]
        },
        {
          "name": "stdout",
          "output_type": "stream",
          "text": [
            "{'ner': 53.33410437385484}\n"
          ]
        },
        {
          "name": "stderr",
          "output_type": "stream",
          "text": [
            "100%|███████████████████████████████████████████████████| 90/90 [00:01<00:00, 64.08it/s]\n"
          ]
        },
        {
          "name": "stdout",
          "output_type": "stream",
          "text": [
            "{'ner': 27.965377572618877}\n"
          ]
        },
        {
          "name": "stderr",
          "output_type": "stream",
          "text": [
            "100%|███████████████████████████████████████████████████| 90/90 [00:01<00:00, 64.15it/s]\n"
          ]
        },
        {
          "name": "stdout",
          "output_type": "stream",
          "text": [
            "{'ner': 50.49896344697977}\n"
          ]
        },
        {
          "name": "stderr",
          "output_type": "stream",
          "text": [
            "100%|███████████████████████████████████████████████████| 90/90 [00:01<00:00, 63.44it/s]\n"
          ]
        },
        {
          "name": "stdout",
          "output_type": "stream",
          "text": [
            "{'ner': 45.360862939878615}\n"
          ]
        },
        {
          "name": "stderr",
          "output_type": "stream",
          "text": [
            "100%|███████████████████████████████████████████████████| 90/90 [00:01<00:00, 63.90it/s]\n"
          ]
        },
        {
          "name": "stdout",
          "output_type": "stream",
          "text": [
            "{'ner': 52.893893634961195}\n"
          ]
        },
        {
          "name": "stderr",
          "output_type": "stream",
          "text": [
            "100%|███████████████████████████████████████████████████| 90/90 [00:01<00:00, 64.33it/s]\n"
          ]
        },
        {
          "name": "stdout",
          "output_type": "stream",
          "text": [
            "{'ner': 61.37513790151618}\n"
          ]
        },
        {
          "name": "stderr",
          "output_type": "stream",
          "text": [
            "100%|███████████████████████████████████████████████████| 90/90 [00:01<00:00, 64.70it/s]\n"
          ]
        },
        {
          "name": "stdout",
          "output_type": "stream",
          "text": [
            "{'ner': 30.403984998164933}\n"
          ]
        },
        {
          "name": "stderr",
          "output_type": "stream",
          "text": [
            "100%|███████████████████████████████████████████████████| 90/90 [00:01<00:00, 64.01it/s]\n"
          ]
        },
        {
          "name": "stdout",
          "output_type": "stream",
          "text": [
            "{'ner': 57.978412794466166}\n"
          ]
        },
        {
          "name": "stderr",
          "output_type": "stream",
          "text": [
            "100%|███████████████████████████████████████████████████| 90/90 [00:01<00:00, 64.37it/s]\n"
          ]
        },
        {
          "name": "stdout",
          "output_type": "stream",
          "text": [
            "{'ner': 46.369200881140564}\n"
          ]
        },
        {
          "name": "stderr",
          "output_type": "stream",
          "text": [
            "100%|███████████████████████████████████████████████████| 90/90 [00:01<00:00, 63.77it/s]\n"
          ]
        },
        {
          "name": "stdout",
          "output_type": "stream",
          "text": [
            "{'ner': 32.36672101192212}\n"
          ]
        },
        {
          "name": "stderr",
          "output_type": "stream",
          "text": [
            "100%|███████████████████████████████████████████████████| 90/90 [00:01<00:00, 64.15it/s]\n"
          ]
        },
        {
          "name": "stdout",
          "output_type": "stream",
          "text": [
            "{'ner': 41.520454536109845}\n"
          ]
        },
        {
          "name": "stderr",
          "output_type": "stream",
          "text": [
            "100%|███████████████████████████████████████████████████| 90/90 [00:01<00:00, 63.72it/s]\n"
          ]
        },
        {
          "name": "stdout",
          "output_type": "stream",
          "text": [
            "{'ner': 58.96077919762851}\n"
          ]
        },
        {
          "name": "stderr",
          "output_type": "stream",
          "text": [
            "100%|███████████████████████████████████████████████████| 90/90 [00:01<00:00, 63.95it/s]\n"
          ]
        },
        {
          "name": "stdout",
          "output_type": "stream",
          "text": [
            "{'ner': 22.993251764662805}\n"
          ]
        },
        {
          "name": "stderr",
          "output_type": "stream",
          "text": [
            "100%|███████████████████████████████████████████████████| 90/90 [00:01<00:00, 63.29it/s]\n"
          ]
        },
        {
          "name": "stdout",
          "output_type": "stream",
          "text": [
            "{'ner': 42.433457325507305}\n"
          ]
        },
        {
          "name": "stderr",
          "output_type": "stream",
          "text": [
            "100%|███████████████████████████████████████████████████| 90/90 [00:01<00:00, 61.02it/s]\n"
          ]
        },
        {
          "name": "stdout",
          "output_type": "stream",
          "text": [
            "{'ner': 36.94998522861205}\n"
          ]
        },
        {
          "name": "stderr",
          "output_type": "stream",
          "text": [
            "100%|███████████████████████████████████████████████████| 90/90 [00:01<00:00, 63.17it/s]\n"
          ]
        },
        {
          "name": "stdout",
          "output_type": "stream",
          "text": [
            "{'ner': 56.406846054066875}\n"
          ]
        },
        {
          "name": "stderr",
          "output_type": "stream",
          "text": [
            "100%|███████████████████████████████████████████████████| 90/90 [00:01<00:00, 62.50it/s]\n"
          ]
        },
        {
          "name": "stdout",
          "output_type": "stream",
          "text": [
            "{'ner': 51.772723932251445}\n"
          ]
        },
        {
          "name": "stderr",
          "output_type": "stream",
          "text": [
            "100%|███████████████████████████████████████████████████| 90/90 [00:01<00:00, 64.06it/s]\n"
          ]
        },
        {
          "name": "stdout",
          "output_type": "stream",
          "text": [
            "{'ner': 41.17474803123007}\n"
          ]
        },
        {
          "name": "stderr",
          "output_type": "stream",
          "text": [
            "100%|███████████████████████████████████████████████████| 90/90 [00:01<00:00, 63.75it/s]\n"
          ]
        },
        {
          "name": "stdout",
          "output_type": "stream",
          "text": [
            "{'ner': 48.30316647774861}\n"
          ]
        },
        {
          "name": "stderr",
          "output_type": "stream",
          "text": [
            "100%|███████████████████████████████████████████████████| 90/90 [00:01<00:00, 62.05it/s]\n"
          ]
        },
        {
          "name": "stdout",
          "output_type": "stream",
          "text": [
            "{'ner': 34.82661272345691}\n"
          ]
        },
        {
          "name": "stderr",
          "output_type": "stream",
          "text": [
            "100%|███████████████████████████████████████████████████| 90/90 [00:01<00:00, 60.84it/s]\n"
          ]
        },
        {
          "name": "stdout",
          "output_type": "stream",
          "text": [
            "{'ner': 84.87336883686277}\n"
          ]
        },
        {
          "name": "stderr",
          "output_type": "stream",
          "text": [
            "100%|███████████████████████████████████████████████████| 90/90 [00:01<00:00, 62.65it/s]\n"
          ]
        },
        {
          "name": "stdout",
          "output_type": "stream",
          "text": [
            "{'ner': 43.785750652324126}\n"
          ]
        },
        {
          "name": "stderr",
          "output_type": "stream",
          "text": [
            "100%|███████████████████████████████████████████████████| 90/90 [00:01<00:00, 63.43it/s]\n"
          ]
        },
        {
          "name": "stdout",
          "output_type": "stream",
          "text": [
            "{'ner': 50.80098165140859}\n"
          ]
        },
        {
          "name": "stderr",
          "output_type": "stream",
          "text": [
            "100%|███████████████████████████████████████████████████| 90/90 [00:01<00:00, 62.68it/s]\n"
          ]
        },
        {
          "name": "stdout",
          "output_type": "stream",
          "text": [
            "{'ner': 50.931266070656626}\n"
          ]
        },
        {
          "name": "stderr",
          "output_type": "stream",
          "text": [
            "100%|███████████████████████████████████████████████████| 90/90 [00:01<00:00, 62.24it/s]\n"
          ]
        },
        {
          "name": "stdout",
          "output_type": "stream",
          "text": [
            "{'ner': 34.06663294204342}\n"
          ]
        },
        {
          "name": "stderr",
          "output_type": "stream",
          "text": [
            "100%|███████████████████████████████████████████████████| 90/90 [00:01<00:00, 61.17it/s]\n"
          ]
        },
        {
          "name": "stdout",
          "output_type": "stream",
          "text": [
            "{'ner': 36.80476850701165}\n"
          ]
        },
        {
          "name": "stderr",
          "output_type": "stream",
          "text": [
            "100%|███████████████████████████████████████████████████| 90/90 [00:01<00:00, 61.73it/s]\n"
          ]
        },
        {
          "name": "stdout",
          "output_type": "stream",
          "text": [
            "{'ner': 36.61800770927272}\n"
          ]
        },
        {
          "name": "stderr",
          "output_type": "stream",
          "text": [
            "100%|███████████████████████████████████████████████████| 90/90 [00:01<00:00, 61.78it/s]\n"
          ]
        },
        {
          "name": "stdout",
          "output_type": "stream",
          "text": [
            "{'ner': 41.105597474121325}\n"
          ]
        },
        {
          "name": "stderr",
          "output_type": "stream",
          "text": [
            "100%|███████████████████████████████████████████████████| 90/90 [00:01<00:00, 61.15it/s]\n"
          ]
        },
        {
          "name": "stdout",
          "output_type": "stream",
          "text": [
            "{'ner': 33.31380892522762}\n"
          ]
        },
        {
          "name": "stderr",
          "output_type": "stream",
          "text": [
            "100%|███████████████████████████████████████████████████| 90/90 [00:01<00:00, 61.73it/s]\n"
          ]
        },
        {
          "name": "stdout",
          "output_type": "stream",
          "text": [
            "{'ner': 44.73341953390249}\n"
          ]
        },
        {
          "name": "stderr",
          "output_type": "stream",
          "text": [
            "100%|███████████████████████████████████████████████████| 90/90 [00:01<00:00, 61.75it/s]\n"
          ]
        },
        {
          "name": "stdout",
          "output_type": "stream",
          "text": [
            "{'ner': 41.845683411937436}\n"
          ]
        },
        {
          "name": "stderr",
          "output_type": "stream",
          "text": [
            "100%|███████████████████████████████████████████████████| 90/90 [00:01<00:00, 61.02it/s]"
          ]
        },
        {
          "name": "stdout",
          "output_type": "stream",
          "text": [
            "{'ner': 29.4656435611218}\n"
          ]
        },
        {
          "name": "stderr",
          "output_type": "stream",
          "text": [
            "\n"
          ]
        }
      ],
      "source": [
        "import random\n",
        "from tqdm import tqdm\n",
        "from spacy.training.example import Example\n",
        "n_epochs = 100\n",
        "\n",
        "other_pipes = [pipe for pipe in nlp.pipe_names if pipe != 'ner']\n",
        "with nlp.disable_pipes(*other_pipes):  # Antrenam doar NER-ul     \n",
        "    optimizer = nlp.begin_training()\n",
        "    for epoch in range(n_epochs):\n",
        "        random.shuffle(train_dataset)\n",
        "        losses = {}\n",
        "        for text, annotations in tqdm(train_dataset):\n",
        "            doc = nlp.make_doc(text)\n",
        "            example = Example.from_dict(doc, annotations)\n",
        "            nlp.update(\n",
        "                [example],  \n",
        "                drop=0.35,  \n",
        "                sgd=optimizer,\n",
        "                losses=losses\n",
        "            )\n",
        "        print(losses)"
      ]
    },
    {
      "cell_type": "markdown",
      "metadata": {
        "id": "nR-HWIo2-BZY"
      },
      "source": [
        "Salvam modelul intr-un folder prestabilit, apoi il testam folosind un scorrer din spacyv3. Daca vreti sa folositi spacy2, se procedeaza altfel, precum am citit [aici](https://stackoverflow.com/questions/44827930/evaluation-in-a-spacy-ner-model)."
      ]
    },
    {
      "cell_type": "code",
      "execution_count": null,
      "metadata": {
        "id": "sxHQgO5KjkuF"
      },
      "outputs": [],
      "source": [
        "model_folder = 'trained_ner'\n",
        "if not os.path.exists(model_folder):\n",
        "    os.makedirs(model_folder)\n",
        "nlp.to_disk(model_folder)"
      ]
    },
    {
      "cell_type": "code",
      "execution_count": null,
      "metadata": {
        "colab": {
          "base_uri": "https://localhost:8080/"
        },
        "id": "iKhD9aegiwpR",
        "outputId": "5def2297-2f4e-440b-99cb-f4df6903a399"
      },
      "outputs": [
        {
          "name": "stdout",
          "output_type": "stream",
          "text": [
            "Modelul s-a terminat cu F1 = 0.47457627118644063, precizia = 0.509090909090909 si recall-ul = 0.4444444444444444 \n",
            "Iar pentru fiecare clasa:\n",
            "{\n",
            "    \"GPE\": {\n",
            "        \"p\": 0.5833333333333334,\n",
            "        \"r\": 0.5833333333333334,\n",
            "        \"f\": 0.5833333333333334\n",
            "    },\n",
            "    \"DATETIME\": {\n",
            "        \"p\": 0.6363636363636364,\n",
            "        \"r\": 0.6363636363636364,\n",
            "        \"f\": 0.6363636363636364\n",
            "    },\n",
            "    \"MONEY\": {\n",
            "        \"p\": 0.0,\n",
            "        \"r\": 0.0,\n",
            "        \"f\": 0.0\n",
            "    },\n",
            "    \"PERSON\": {\n",
            "        \"p\": 0.4782608695652174,\n",
            "        \"r\": 0.39285714285714285,\n",
            "        \"f\": 0.4313725490196078\n",
            "    },\n",
            "    \"NAT_REL_POL\": {\n",
            "        \"p\": 0.5,\n",
            "        \"r\": 0.25,\n",
            "        \"f\": 0.3333333333333333\n",
            "    },\n",
            "    \"ORG\": {\n",
            "        \"p\": 0.0,\n",
            "        \"r\": 0.0,\n",
            "        \"f\": 0.0\n",
            "    },\n",
            "    \"ORDINAL\": {\n",
            "        \"p\": 0.0,\n",
            "        \"r\": 0.0,\n",
            "        \"f\": 0.0\n",
            "    },\n",
            "    \"WORK_OF_ART\": {\n",
            "        \"p\": 0.0,\n",
            "        \"r\": 0.0,\n",
            "        \"f\": 0.0\n",
            "    },\n",
            "    \"LOC\": {\n",
            "        \"p\": 0.0,\n",
            "        \"r\": 0.0,\n",
            "        \"f\": 0.0\n",
            "    },\n",
            "    \"PERIOD\": {\n",
            "        \"p\": 0.0,\n",
            "        \"r\": 0.0,\n",
            "        \"f\": 0.0\n",
            "    },\n",
            "    \"NUMERIC\": {\n",
            "        \"p\": 1.0,\n",
            "        \"r\": 0.5,\n",
            "        \"f\": 0.6666666666666666\n",
            "    },\n",
            "    \"EVENT\": {\n",
            "        \"p\": 0.0,\n",
            "        \"r\": 0.0,\n",
            "        \"f\": 0.0\n",
            "    }\n",
            "}\n"
          ]
        },
        {
          "name": "stderr",
          "output_type": "stream",
          "text": [
            "/home/bogdan/work/FMI/lab_NLP_an3/.env/lib/python3.8/site-packages/spacy/training/iob_utils.py:141: UserWarning: [W030] Some entities could not be aligned in the text \"Anglia și Tunisia s-au înfruntat la Cupa Mondială ...\" with entities \"[(0, 6, 'GPE'), (10, 17, 'GPE'), (50, 58, 'DATETIM...\". Use `spacy.training.offsets_to_biluo_tags(nlp.make_doc(text), entities)` to check the alignment. Misaligned entities ('-') will be ignored during training.\n",
            "  warnings.warn(\n",
            "/home/bogdan/work/FMI/lab_NLP_an3/.env/lib/python3.8/site-packages/spacy/training/iob_utils.py:141: UserWarning: [W030] Some entities could not be aligned in the text \"Adi Petre a marcat din nou pentru Esbjerg: statist...\" with entities \"[(0, 9, 'PERSON'), (34, 41, 'ORG'), (62, 69, 'PERS...\". Use `spacy.training.offsets_to_biluo_tags(nlp.make_doc(text), entities)` to check the alignment. Misaligned entities ('-') will be ignored during training.\n",
            "  warnings.warn(\n",
            "/home/bogdan/work/FMI/lab_NLP_an3/.env/lib/python3.8/site-packages/spacy/training/iob_utils.py:141: UserWarning: [W030] Some entities could not be aligned in the text \"Dacă în etapa actuală de tratament fără interferon...\" with entities \"[(100, 108, 'DATETIME'), (176, 184, 'PERSON'), (24...\". Use `spacy.training.offsets_to_biluo_tags(nlp.make_doc(text), entities)` to check the alignment. Misaligned entities ('-') will be ignored during training.\n",
            "  warnings.warn(\n"
          ]
        }
      ],
      "source": [
        "from spacy.scorer import Scorer\n",
        "scorer = Scorer()\n",
        "\n",
        "comparing_examples = []\n",
        "for text, anotations in test_dataset:     \n",
        "    pred_value = nlp(text)\n",
        "    example = Example.from_dict(pred_value, anotations)\n",
        "    comparing_examples.append(example)\n",
        "    \n",
        "result = scorer.score(comparing_examples)\n",
        "\n",
        "print(f\"Modelul s-a terminat cu F1 = {result['ents_f']}, precizia = {result['ents_p']} si recall-ul = {result['ents_r']} \\nIar pentru fiecare clasa:\")\n",
        "print(json.dumps(result['ents_per_type'], indent=4))"
      ]
    },
    {
      "cell_type": "markdown",
      "metadata": {
        "id": "4d6gHNqs_Jr6"
      },
      "source": [
        "Alte metrici prin care putem evalua si interpreta un model NER, putem gasi [aici](https://towardsdatascience.com/a-pathbreaking-evaluation-technique-for-named-entity-recognition-ner-93da4406930c)."
      ]
    },
    {
      "cell_type": "markdown",
      "metadata": {
        "id": "Uxl8vqqMJZet"
      },
      "source": [
        "# TASK\n",
        "## Deadline: 21 aprilie ora 23:59.\n",
        "\n",
        "Formular pentru trimiterea temei: https://forms.gle/F3hnh16W8tfuuoXQ6\n",
        "\n",
        "1. Descarcati un text de ~20 de fraze in limba engleza (de exemplu primele 20 de fraze dintr-un articol wikipedia).\n",
        "    - folosind spacy POS-tagging, extrageti separat toate substantivele, toate verbele, toate adjectivele si toate adverbele (afisati cate cuvinte din fiecare tip ati gasit); puteti gasi [aici](https://www.ling.upenn.edu/courses/Fall_2003/ling001/penn_treebank_pos.html) o lista cu tagurile pentru engleza.\n",
        "    - pentru aceste cuvinte extrase, determinati lema folosind nltk wordnet lemmatizer; pentru fiecare cuvant determinati lema atat fara a specifica tipul de parte de vorbire, cat si specificandu-l; pentru ce procent din cuvinte rezultatele pentru cele doua variante sunt diferite.\n",
        "2. Selectati din RONEC un subset mai mare de date si antrenati un model de NER (folosind spacy, ca in laborator). Pentru fiecare clasa afisati precision, recall, f1.\n",
        "    - Care este clasa cu scorul cel mai bun? Dar cea cu scorul cel mai slab?"
      ]
    },
    {
      "cell_type": "code",
      "source": [
        "! pip install wikipedia"
      ],
      "metadata": {
        "id": "imgCXnA7uljg"
      },
      "execution_count": null,
      "outputs": []
    },
    {
      "cell_type": "code",
      "source": [
        "! pip install -U spacy\n",
        "! python -m spacy download en_core_web_sm"
      ],
      "metadata": {
        "id": "BJ3zClyqyT8E"
      },
      "execution_count": null,
      "outputs": []
    },
    {
      "cell_type": "code",
      "source": [
        "import spacy\n",
        "from spacy.lang.ro.examples import sentences \n",
        "from tabulate import tabulate\n",
        "import os\n",
        "\n",
        "nlp = spacy.load(\"en_core_web_sm\")"
      ],
      "metadata": {
        "id": "LfJgn_OYyV7a"
      },
      "execution_count": 3,
      "outputs": []
    },
    {
      "cell_type": "code",
      "source": [
        "import wikipedia\n",
        "page_title = \"Jazz\"\n",
        "wikipedia.set_lang(\"en\")\n",
        "page = wikipedia.page(page_title, auto_suggest=False)\n",
        "\n",
        "propozitii = page.content.split('.')[:20]"
      ],
      "metadata": {
        "id": "waeNCQPew9ta"
      },
      "execution_count": 4,
      "outputs": []
    },
    {
      "cell_type": "code",
      "source": [
        "substantive = set()\n",
        "verbe = set()\n",
        "adjective = set()\n",
        "adverbe = set()\n",
        "cuvinte = {\n",
        "    'NN':substantive,\n",
        "    'VB':verbe,\n",
        "    'JJ':adjective,\n",
        "    'RB':adverbe\n",
        "  }\n",
        "for propozitie in propozitii:\n",
        "  doc = nlp(propozitie)\n",
        "  for token in doc:\n",
        "    tag = token.tag_[:2]\n",
        "    if tag in cuvinte.keys():\n",
        "      cuvinte[tag].add(token.text)\n",
        "    "
      ],
      "metadata": {
        "id": "P2VT6a9qy4nj"
      },
      "execution_count": 5,
      "outputs": []
    },
    {
      "cell_type": "code",
      "source": [
        "list(substantive)[:10]"
      ],
      "metadata": {
        "colab": {
          "base_uri": "https://localhost:8080/"
        },
        "id": "b7GvPRpC2s0N",
        "outputId": "cd750841-215d-4464-8c5b-c7e4e3a95816"
      },
      "execution_count": null,
      "outputs": [
        {
          "output_type": "execute_result",
          "data": {
            "text/plain": [
              "['=',\n",
              " 'call',\n",
              " 'definition',\n",
              " 'United',\n",
              " 'pitch',\n",
              " 'jas',\n",
              " 'National',\n",
              " 'sound',\n",
              " 'Kansas',\n",
              " 'band']"
            ]
          },
          "metadata": {},
          "execution_count": 28
        }
      ]
    },
    {
      "cell_type": "code",
      "source": [
        "import nltk\n",
        "nltk.download('wordnet')\n",
        "wl = nltk.WordNetLemmatizer() \n",
        "same_lemma = 0\n",
        "total_words_len = len(substantive) + len(verbe) + len(adjective) + len(adverbe)\n",
        "translate= {\n",
        "    'NN':'n',\n",
        "    'VB':'v',\n",
        "    'JJ':'a',\n",
        "    'RB':'r'\n",
        "}\n",
        "for k,v in cuvinte.items():\n",
        "  for cuvant in v:\n",
        "    fara_specificare = wl.lemmatize(cuvant)\n",
        "    cu_specificare = wl.lemmatize(cuvant,pos=translate[k])\n",
        "    if(fara_specificare == cu_specificare):\n",
        "      same_lemma += 1\n",
        "  \n",
        "print(str(same_lemma/total_words_len*100)+\"%\")"
      ],
      "metadata": {
        "colab": {
          "base_uri": "https://localhost:8080/"
        },
        "id": "OVfFnRhD5iIO",
        "outputId": "ba2d294a-4327-45b9-e804-476da73433eb"
      },
      "execution_count": 11,
      "outputs": [
        {
          "output_type": "stream",
          "name": "stdout",
          "text": [
            "[nltk_data] Downloading package wordnet to /root/nltk_data...\n",
            "[nltk_data]   Package wordnet is already up-to-date!\n",
            "78.77551020408163%\n"
          ]
        }
      ]
    },
    {
      "cell_type": "code",
      "source": [
        "!wget https://raw.githubusercontent.com/dumitrescustefan/ronec/master/data/train.json"
      ],
      "metadata": {
        "colab": {
          "base_uri": "https://localhost:8080/"
        },
        "id": "_st2SLoJ7zGV",
        "outputId": "b21948ed-6876-4677-bb1e-db925e5962dc"
      },
      "execution_count": 12,
      "outputs": [
        {
          "output_type": "stream",
          "name": "stdout",
          "text": [
            "--2022-04-07 17:07:21--  https://raw.githubusercontent.com/dumitrescustefan/ronec/master/data/train.json\n",
            "Resolving raw.githubusercontent.com (raw.githubusercontent.com)... 185.199.108.133, 185.199.109.133, 185.199.110.133, ...\n",
            "Connecting to raw.githubusercontent.com (raw.githubusercontent.com)|185.199.108.133|:443... connected.\n",
            "HTTP request sent, awaiting response... 200 OK\n",
            "Length: 10753146 (10M) [text/plain]\n",
            "Saving to: ‘train.json’\n",
            "\n",
            "train.json          100%[===================>]  10.25M  --.-KB/s    in 0.08s   \n",
            "\n",
            "2022-04-07 17:07:21 (128 MB/s) - ‘train.json’ saved [10753146/10753146]\n",
            "\n"
          ]
        }
      ]
    },
    {
      "cell_type": "code",
      "source": [
        "import json\n",
        "\n",
        "with open('train.json', 'r') as fin:\n",
        "    ronec = json.load(fin)"
      ],
      "metadata": {
        "id": "VDZypRrI_0C1"
      },
      "execution_count": 14,
      "outputs": []
    },
    {
      "cell_type": "code",
      "source": [
        "\n",
        "import re\n",
        "\n",
        "dataset_max_len = 2000\n",
        "dataset = []\n",
        "for i, entry in enumerate(ronec):\n",
        "    if i > 2000:\n",
        "        break\n",
        "\n",
        "    entities = []\n",
        "    full_text = ''\n",
        "    is_outside = True\n",
        "    for i, (token, ner_tag, is_space) in enumerate(zip(entry['tokens'], entry['ner_tags'], entry['space_after'])):\n",
        "        current_space = ' ' if is_space else ''\n",
        "\n",
        "        if ner_tag.startswith('B-'):\n",
        "            is_outside = False\n",
        "            entity = ''\n",
        "            entity_start = len(full_text)\n",
        "            entity_name = ner_tag.split('-')[-1]\n",
        "\n",
        "        elif ner_tag == 'O' and not is_outside:\n",
        "            is_outside = True\n",
        "            entity_end = len(full_text)\n",
        "            if entity[-1] == ' ':\n",
        "                entity_end -= 1\n",
        "                entity = entity[:-1]\n",
        "            # print(entity_start, entity_end, entity_name, entity)\n",
        "            entities.append((entity_start, entity_end, entity_name))\n",
        "\n",
        "        if not is_outside:\n",
        "           entity += token + current_space\n",
        "        full_text += token + current_space\n",
        "    \n",
        "    dataset.append((full_text, {\n",
        "        \"entities\": entities\n",
        "    }))\n"
      ],
      "metadata": {
        "id": "uSHfWyB9AT59"
      },
      "execution_count": 23,
      "outputs": []
    },
    {
      "cell_type": "code",
      "source": [
        "print(len(dataset))"
      ],
      "metadata": {
        "colab": {
          "base_uri": "https://localhost:8080/"
        },
        "id": "9-SLyupvA934",
        "outputId": "38a8ef4e-c5ed-410e-98b4-4a103ca2c6f7"
      },
      "execution_count": 24,
      "outputs": [
        {
          "output_type": "stream",
          "name": "stdout",
          "text": [
            "2001\n"
          ]
        }
      ]
    },
    {
      "cell_type": "code",
      "source": [
        "from sklearn.model_selection import train_test_split\n",
        "import numpy as np\n",
        "\n",
        "train_dataset, test_dataset, _, _ = train_test_split(dataset, np.zeros(len(dataset)), test_size=0.1, random_state=101)"
      ],
      "metadata": {
        "id": "Fv7cSM2OBOJB"
      },
      "execution_count": 25,
      "outputs": []
    },
    {
      "cell_type": "code",
      "source": [
        "nlp = spacy.blank('ro')  \n",
        "\n",
        "if 'ner' not in nlp.pipe_names:\n",
        "    ner = nlp.add_pipe('ner', last=True)\n",
        "else:\n",
        "    ner = nlp.get_pipe('ner')"
      ],
      "metadata": {
        "id": "3D4D5QN9B66l"
      },
      "execution_count": 26,
      "outputs": []
    },
    {
      "cell_type": "code",
      "source": [
        "import random\n",
        "from tqdm import tqdm\n",
        "from spacy.training.example import Example\n",
        "n_epochs = 30\n",
        "\n",
        "other_pipes = [pipe for pipe in nlp.pipe_names if pipe != 'ner']\n",
        "with nlp.disable_pipes(*other_pipes):   \n",
        "    optimizer = nlp.begin_training()\n",
        "    for epoch in range(n_epochs):\n",
        "        random.shuffle(train_dataset)\n",
        "        losses = {}\n",
        "        for text, annotations in tqdm(train_dataset):\n",
        "            doc = nlp.make_doc(text)\n",
        "            example = Example.from_dict(doc, annotations)\n",
        "            nlp.update(\n",
        "                [example],  \n",
        "                drop=0.35,  \n",
        "                sgd=optimizer,\n",
        "                losses=losses\n",
        "            )\n",
        "        print(losses)"
      ],
      "metadata": {
        "colab": {
          "base_uri": "https://localhost:8080/"
        },
        "id": "rD2CWRyeDgp3",
        "outputId": "57e22bb6-4125-4922-e83a-dcd90adc3998"
      },
      "execution_count": 28,
      "outputs": [
        {
          "output_type": "stream",
          "name": "stderr",
          "text": [
            "  0%|          | 0/1800 [00:00<?, ?it/s]/usr/local/lib/python3.7/dist-packages/spacy/training/iob_utils.py:144: UserWarning: [W030] Some entities could not be aligned in the text \"Astfel, populația cu un consum de până la 2400 de ...\" with entities \"[(8, 17, 'PERSON'), (42, 60, 'QUANTITY'), (76, 82,...\". Use `spacy.training.offsets_to_biluo_tags(nlp.make_doc(text), entities)` to check the alignment. Misaligned entities ('-') will be ignored during training.\n",
            "  entities=ent_str[:50] + \"...\" if len(ent_str) > 50 else ent_str,\n",
            "  1%|          | 19/1800 [00:00<01:11, 24.94it/s]/usr/local/lib/python3.7/dist-packages/spacy/training/iob_utils.py:144: UserWarning: [W030] Some entities could not be aligned in the text \"Ofertele pentru concesionarea celor 22 de parcele ...\" with entities \"[(36, 38, 'NUMERIC'), (79, 82, 'QUANTITY'), (83, 9...\". Use `spacy.training.offsets_to_biluo_tags(nlp.make_doc(text), entities)` to check the alignment. Misaligned entities ('-') will be ignored during training.\n",
            "  entities=ent_str[:50] + \"...\" if len(ent_str) > 50 else ent_str,\n",
            "  1%|          | 22/1800 [00:00<01:07, 26.24it/s]/usr/local/lib/python3.7/dist-packages/spacy/training/iob_utils.py:144: UserWarning: [W030] Some entities could not be aligned in the text \"În februarie 2007, compania a achiziționat 65% din...\" with entities \"[(3, 17, 'DATETIME'), (43, 46, 'QUANTITY'), (71, 7...\". Use `spacy.training.offsets_to_biluo_tags(nlp.make_doc(text), entities)` to check the alignment. Misaligned entities ('-') will be ignored during training.\n",
            "  entities=ent_str[:50] + \"...\" if len(ent_str) > 50 else ent_str,\n",
            "  2%|▏         | 35/1800 [00:01<01:08, 25.71it/s]/usr/local/lib/python3.7/dist-packages/spacy/training/iob_utils.py:144: UserWarning: [W030] Some entities could not be aligned in the text \"A studiat la Liceul Versailles și și-a luat diplom...\" with entities \"[(13, 30, 'ORG'), (75, 79, 'DATETIME'), (93, 97, '...\". Use `spacy.training.offsets_to_biluo_tags(nlp.make_doc(text), entities)` to check the alignment. Misaligned entities ('-') will be ignored during training.\n",
            "  entities=ent_str[:50] + \"...\" if len(ent_str) > 50 else ent_str,\n",
            "  2%|▏         | 41/1800 [00:01<01:10, 24.95it/s]/usr/local/lib/python3.7/dist-packages/spacy/training/iob_utils.py:144: UserWarning: [W030] Some entities could not be aligned in the text \"Jan Vertonghen[1] (n. 24 aprilie 1987) este un fot...\" with entities \"[(0, 14, 'PERSON'), (15, 16, 'NUMERIC'), (22, 37, ...\". Use `spacy.training.offsets_to_biluo_tags(nlp.make_doc(text), entities)` to check the alignment. Misaligned entities ('-') will be ignored during training.\n",
            "  entities=ent_str[:50] + \"...\" if len(ent_str) > 50 else ent_str,\n",
            "  2%|▏         | 44/1800 [00:01<01:11, 24.40it/s]/usr/local/lib/python3.7/dist-packages/spacy/training/iob_utils.py:144: UserWarning: [W030] Some entities could not be aligned in the text \"Meciuri contând pentru Liga Campionilor de fotbal:...\" with entities \"[(23, 49, 'EVENT'), (51, 65, 'ORG'), (71, 72, 'NUM...\". Use `spacy.training.offsets_to_biluo_tags(nlp.make_doc(text), entities)` to check the alignment. Misaligned entities ('-') will be ignored during training.\n",
            "  entities=ent_str[:50] + \"...\" if len(ent_str) > 50 else ent_str,\n",
            "/usr/local/lib/python3.7/dist-packages/spacy/training/iob_utils.py:144: UserWarning: [W030] Some entities could not be aligned in the text \"Secretarul american de stat John Kerry a condamnat...\" with entities \"[(11, 19, 'NAT_REL_POL'), (28, 38, 'PERSON'), (63,...\". Use `spacy.training.offsets_to_biluo_tags(nlp.make_doc(text), entities)` to check the alignment. Misaligned entities ('-') will be ignored during training.\n",
            "  entities=ent_str[:50] + \"...\" if len(ent_str) > 50 else ent_str,\n",
            "  3%|▎         | 47/1800 [00:01<01:20, 21.71it/s]/usr/local/lib/python3.7/dist-packages/spacy/training/iob_utils.py:144: UserWarning: [W030] Some entities could not be aligned in the text \"În 1970, el a devenit lector la University of East...\" with entities \"[(3, 7, 'DATETIME'), (9, 11, 'PERSON'), (22, 28, '...\". Use `spacy.training.offsets_to_biluo_tags(nlp.make_doc(text), entities)` to check the alignment. Misaligned entities ('-') will be ignored during training.\n",
            "  entities=ent_str[:50] + \"...\" if len(ent_str) > 50 else ent_str,\n",
            "  3%|▎         | 56/1800 [00:02<01:20, 21.78it/s]/usr/local/lib/python3.7/dist-packages/spacy/training/iob_utils.py:144: UserWarning: [W030] Some entities could not be aligned in the text \"Conform Legii nr. 116/2002 privind prevenirea și c...\" with entities \"[(18, 21, 'NUMERIC'), (22, 26, 'DATETIME'), (84, 1...\". Use `spacy.training.offsets_to_biluo_tags(nlp.make_doc(text), entities)` to check the alignment. Misaligned entities ('-') will be ignored during training.\n",
            "  entities=ent_str[:50] + \"...\" if len(ent_str) > 50 else ent_str,\n",
            "  4%|▎         | 65/1800 [00:02<01:23, 20.89it/s]/usr/local/lib/python3.7/dist-packages/spacy/training/iob_utils.py:144: UserWarning: [W030] Some entities could not be aligned in the text \"Subforumuri: 2.0.x Instalare, actualizare, convers...\" with entities \"[(13, 14, 'NUMERIC'), (15, 16, 'NUMERIC'), (54, 55...\". Use `spacy.training.offsets_to_biluo_tags(nlp.make_doc(text), entities)` to check the alignment. Misaligned entities ('-') will be ignored during training.\n",
            "  entities=ent_str[:50] + \"...\" if len(ent_str) > 50 else ent_str,\n",
            "  4%|▍         | 74/1800 [00:03<01:27, 19.78it/s]/usr/local/lib/python3.7/dist-packages/spacy/training/iob_utils.py:144: UserWarning: [W030] Some entities could not be aligned in the text \"La începutul săptămânii, \"Romfilatelia\" a pus în c...\" with entities \"[(3, 23, 'DATETIME'), (25, 39, 'ORG'), (88, 96, 'D...\". Use `spacy.training.offsets_to_biluo_tags(nlp.make_doc(text), entities)` to check the alignment. Misaligned entities ('-') will be ignored during training.\n",
            "  entities=ent_str[:50] + \"...\" if len(ent_str) > 50 else ent_str,\n",
            "  4%|▍         | 80/1800 [00:03<01:21, 21.19it/s]/usr/local/lib/python3.7/dist-packages/spacy/training/iob_utils.py:144: UserWarning: [W030] Some entities could not be aligned in the text \"20 noi 23:25SportHandbal masculin: Dinamo, învinsă...\" with entities \"[(0, 12, 'DATETIME'), (35, 41, 'ORG'), (54, 60, 'O...\". Use `spacy.training.offsets_to_biluo_tags(nlp.make_doc(text), entities)` to check the alignment. Misaligned entities ('-') will be ignored during training.\n",
            "  entities=ent_str[:50] + \"...\" if len(ent_str) > 50 else ent_str,\n",
            "/usr/local/lib/python3.7/dist-packages/spacy/training/iob_utils.py:144: UserWarning: [W030] Some entities could not be aligned in the text \"ieri 11:38 Black Friday 2018: 9,5 milioane de vizi...\" with entities \"[(0, 10, 'DATETIME'), (24, 28, 'DATETIME'), (30, 4...\". Use `spacy.training.offsets_to_biluo_tags(nlp.make_doc(text), entities)` to check the alignment. Misaligned entities ('-') will be ignored during training.\n",
            "  entities=ent_str[:50] + \"...\" if len(ent_str) > 50 else ent_str,\n",
            "  5%|▍         | 83/1800 [00:03<01:18, 21.81it/s]/usr/local/lib/python3.7/dist-packages/spacy/training/iob_utils.py:144: UserWarning: [W030] Some entities could not be aligned in the text \"La solicitarea scrisă a părinților, a tutorilor le...\" with entities \"[(24, 34, 'PERSON'), (38, 47, 'PERSON'), (61, 75, ...\". Use `spacy.training.offsets_to_biluo_tags(nlp.make_doc(text), entities)` to check the alignment. Misaligned entities ('-') will be ignored during training.\n",
            "  entities=ent_str[:50] + \"...\" if len(ent_str) > 50 else ent_str,\n",
            "  5%|▍         | 86/1800 [00:03<01:24, 20.23it/s]/usr/local/lib/python3.7/dist-packages/spacy/training/iob_utils.py:144: UserWarning: [W030] Some entities could not be aligned in the text \"Dacă în etapa actuală de tratament fără interferon...\" with entities \"[(100, 108, 'DATETIME'), (176, 184, 'PERSON'), (24...\". Use `spacy.training.offsets_to_biluo_tags(nlp.make_doc(text), entities)` to check the alignment. Misaligned entities ('-') will be ignored during training.\n",
            "  entities=ent_str[:50] + \"...\" if len(ent_str) > 50 else ent_str,\n",
            "/usr/local/lib/python3.7/dist-packages/spacy/training/iob_utils.py:144: UserWarning: [W030] Some entities could not be aligned in the text \"Anglia și Tunisia s-au înfruntat la Cupa Mondială ...\" with entities \"[(0, 6, 'GPE'), (10, 17, 'GPE'), (50, 58, 'DATETIM...\". Use `spacy.training.offsets_to_biluo_tags(nlp.make_doc(text), entities)` to check the alignment. Misaligned entities ('-') will be ignored during training.\n",
            "  entities=ent_str[:50] + \"...\" if len(ent_str) > 50 else ent_str,\n",
            "  5%|▍         | 89/1800 [00:04<01:26, 19.67it/s]/usr/local/lib/python3.7/dist-packages/spacy/training/iob_utils.py:144: UserWarning: [W030] Some entities could not be aligned in the text \"În sprijinul descendenței lui Arion pe care o susț...\" with entities \"[(30, 35, 'PERSON'), (56, 66, 'PERSON'), (68, 77, ...\". Use `spacy.training.offsets_to_biluo_tags(nlp.make_doc(text), entities)` to check the alignment. Misaligned entities ('-') will be ignored during training.\n",
            "  entities=ent_str[:50] + \"...\" if len(ent_str) > 50 else ent_str,\n",
            "  5%|▌         | 94/1800 [00:04<01:25, 19.98it/s]/usr/local/lib/python3.7/dist-packages/spacy/training/iob_utils.py:144: UserWarning: [W030] Some entities could not be aligned in the text \"În etapa a 4-a a Ligii Campionilor de handbal masc...\" with entities \"[(9, 14, 'ORDINAL'), (17, 54, 'EVENT'), (107, 121,...\". Use `spacy.training.offsets_to_biluo_tags(nlp.make_doc(text), entities)` to check the alignment. Misaligned entities ('-') will be ignored during training.\n",
            "  entities=ent_str[:50] + \"...\" if len(ent_str) > 50 else ent_str,\n",
            "  6%|▌         | 103/1800 [00:04<01:19, 21.37it/s]/usr/local/lib/python3.7/dist-packages/spacy/training/iob_utils.py:144: UserWarning: [W030] Some entities could not be aligned in the text \"Declarații în exclusivitate de la medicul care l-a...\" with entities \"[(34, 41, 'PERSON'), (57, 92, 'DATETIME'), (120, 1...\". Use `spacy.training.offsets_to_biluo_tags(nlp.make_doc(text), entities)` to check the alignment. Misaligned entities ('-') will be ignored during training.\n",
            "  entities=ent_str[:50] + \"...\" if len(ent_str) > 50 else ent_str,\n",
            "  6%|▌         | 109/1800 [00:05<01:23, 20.14it/s]/usr/local/lib/python3.7/dist-packages/spacy/training/iob_utils.py:144: UserWarning: [W030] Some entities could not be aligned in the text \"6. De amintit că zeci de medici din toată țara au ...\" with entities \"[(0, 1, 'NUMERIC'), (17, 21, 'NUMERIC'), (25, 31, ...\". Use `spacy.training.offsets_to_biluo_tags(nlp.make_doc(text), entities)` to check the alignment. Misaligned entities ('-') will be ignored during training.\n",
            "  entities=ent_str[:50] + \"...\" if len(ent_str) > 50 else ent_str,\n",
            "  6%|▋         | 115/1800 [00:05<01:21, 20.68it/s]/usr/local/lib/python3.7/dist-packages/spacy/training/iob_utils.py:144: UserWarning: [W030] Some entities could not be aligned in the text \"a fost documentat pentru prima oară în 790 d.Hr., ...\" with entities \"[(25, 30, 'ORDINAL'), (39, 48, 'DATETIME'), (56, 6...\". Use `spacy.training.offsets_to_biluo_tags(nlp.make_doc(text), entities)` to check the alignment. Misaligned entities ('-') will be ignored during training.\n",
            "  entities=ent_str[:50] + \"...\" if len(ent_str) > 50 else ent_str,\n",
            "  7%|▋         | 118/1800 [00:05<01:19, 21.13it/s]/usr/local/lib/python3.7/dist-packages/spacy/training/iob_utils.py:144: UserWarning: [W030] Some entities could not be aligned in the text \"În conformitate cu dispozițiile art.4 din Legea nr...\" with entities \"[(36, 37, 'NUMERIC'), (51, 53, 'NUMERIC'), (54, 58...\". Use `spacy.training.offsets_to_biluo_tags(nlp.make_doc(text), entities)` to check the alignment. Misaligned entities ('-') will be ignored during training.\n",
            "  entities=ent_str[:50] + \"...\" if len(ent_str) > 50 else ent_str,\n",
            "  7%|▋         | 130/1800 [00:05<01:12, 22.89it/s]/usr/local/lib/python3.7/dist-packages/spacy/training/iob_utils.py:144: UserWarning: [W030] Some entities could not be aligned in the text \"Această procedură nu a dat roade, motiv pentru car...\" with entities \"[(82, 86, 'NUMERIC'), (87, 97, 'DATETIME'), (121, ...\". Use `spacy.training.offsets_to_biluo_tags(nlp.make_doc(text), entities)` to check the alignment. Misaligned entities ('-') will be ignored during training.\n",
            "  entities=ent_str[:50] + \"...\" if len(ent_str) > 50 else ent_str,\n",
            "/usr/local/lib/python3.7/dist-packages/spacy/training/iob_utils.py:144: UserWarning: [W030] Some entities could not be aligned in the text \"Adunarea Generală a Academiei Române l-a repus în ...\" with entities \"[(20, 36, 'ORG'), (62, 74, 'DATETIME'), (139, 145,...\". Use `spacy.training.offsets_to_biluo_tags(nlp.make_doc(text), entities)` to check the alignment. Misaligned entities ('-') will be ignored during training.\n",
            "  entities=ent_str[:50] + \"...\" if len(ent_str) > 50 else ent_str,\n",
            "  7%|▋         | 133/1800 [00:06<01:20, 20.79it/s]/usr/local/lib/python3.7/dist-packages/spacy/training/iob_utils.py:144: UserWarning: [W030] Some entities could not be aligned in the text \"Prin urmare, el este întotdeauna numai fiul tatălu...\" with entities \"[(13, 15, 'PERSON'), (44, 51, 'PERSON'), (114, 118...\". Use `spacy.training.offsets_to_biluo_tags(nlp.make_doc(text), entities)` to check the alignment. Misaligned entities ('-') will be ignored during training.\n",
            "  entities=ent_str[:50] + \"...\" if len(ent_str) > 50 else ent_str,\n",
            "  8%|▊         | 138/1800 [00:06<01:28, 18.78it/s]/usr/local/lib/python3.7/dist-packages/spacy/training/iob_utils.py:144: UserWarning: [W030] Some entities could not be aligned in the text \"În acest scop, el a declanșat mai de mult bătălia ...\" with entities \"[(15, 17, 'PERSON'), (73, 75, 'NUMERIC'), (76, 82,...\". Use `spacy.training.offsets_to_biluo_tags(nlp.make_doc(text), entities)` to check the alignment. Misaligned entities ('-') will be ignored during training.\n",
            "  entities=ent_str[:50] + \"...\" if len(ent_str) > 50 else ent_str,\n",
            "  8%|▊         | 141/1800 [00:06<01:22, 20.01it/s]/usr/local/lib/python3.7/dist-packages/spacy/training/iob_utils.py:144: UserWarning: [W030] Some entities could not be aligned in the text \"Instanța a admis cererea, urmînd ca bărbatul să fi...\" with entities \"[(36, 44, 'PERSON'), (93, 137, 'ORG'), (154, 157, ...\". Use `spacy.training.offsets_to_biluo_tags(nlp.make_doc(text), entities)` to check the alignment. Misaligned entities ('-') will be ignored during training.\n",
            "  entities=ent_str[:50] + \"...\" if len(ent_str) > 50 else ent_str,\n",
            "  8%|▊         | 146/1800 [00:06<01:30, 18.35it/s]/usr/local/lib/python3.7/dist-packages/spacy/training/iob_utils.py:144: UserWarning: [W030] Some entities could not be aligned in the text \"La 14 decembrie 2004 a apărut Legea privind înfiin...\" with entities \"[(3, 20, 'DATETIME'), (56, 105, 'ORG'), (116, 119,...\". Use `spacy.training.offsets_to_biluo_tags(nlp.make_doc(text), entities)` to check the alignment. Misaligned entities ('-') will be ignored during training.\n",
            "  entities=ent_str[:50] + \"...\" if len(ent_str) > 50 else ent_str,\n",
            "  9%|▊         | 155/1800 [00:07<01:28, 18.49it/s]/usr/local/lib/python3.7/dist-packages/spacy/training/iob_utils.py:144: UserWarning: [W030] Some entities could not be aligned in the text \"De altfel, prima OIM, în organizarea Societatea de...\" with entities \"[(17, 20, 'ORG'), (37, 69, 'ORG'), (74, 81, 'GPE')...\". Use `spacy.training.offsets_to_biluo_tags(nlp.make_doc(text), entities)` to check the alignment. Misaligned entities ('-') will be ignored during training.\n",
            "  entities=ent_str[:50] + \"...\" if len(ent_str) > 50 else ent_str,\n",
            "  9%|▉         | 170/1800 [00:08<01:11, 22.77it/s]/usr/local/lib/python3.7/dist-packages/spacy/training/iob_utils.py:144: UserWarning: [W030] Some entities could not be aligned in the text \"33. În primul rând, faptul că în versiunea în limb...\" with entities \"[(0, 2, 'NUMERIC'), (7, 13, 'ORDINAL'), (46, 59, '...\". Use `spacy.training.offsets_to_biluo_tags(nlp.make_doc(text), entities)` to check the alignment. Misaligned entities ('-') will be ignored during training.\n",
            "  entities=ent_str[:50] + \"...\" if len(ent_str) > 50 else ent_str,\n",
            " 11%|█▏        | 204/1800 [00:09<01:09, 22.85it/s]/usr/local/lib/python3.7/dist-packages/spacy/training/iob_utils.py:144: UserWarning: [W030] Some entities could not be aligned in the text \"Un nepot al lui Racovski, Boris Ștefanov, care fus...\" with entities \"[(3, 8, 'PERSON'), (16, 24, 'PERSON'), (26, 40, 'P...\". Use `spacy.training.offsets_to_biluo_tags(nlp.make_doc(text), entities)` to check the alignment. Misaligned entities ('-') will be ignored during training.\n",
            "  entities=ent_str[:50] + \"...\" if len(ent_str) > 50 else ent_str,\n",
            " 12%|█▏        | 213/1800 [00:09<01:12, 21.80it/s]/usr/local/lib/python3.7/dist-packages/spacy/training/iob_utils.py:144: UserWarning: [W030] Some entities could not be aligned in the text \"La inițiativa lui, în 1956 a fost lansat „Planul n...\" with entities \"[(22, 26, 'DATETIME'), (58, 66, 'NAT_REL_POL'), (1...\". Use `spacy.training.offsets_to_biluo_tags(nlp.make_doc(text), entities)` to check the alignment. Misaligned entities ('-') will be ignored during training.\n",
            "  entities=ent_str[:50] + \"...\" if len(ent_str) > 50 else ent_str,\n",
            " 13%|█▎        | 231/1800 [00:10<01:14, 21.06it/s]/usr/local/lib/python3.7/dist-packages/spacy/training/iob_utils.py:144: UserWarning: [W030] Some entities could not be aligned in the text \"În timp ce mai era la Căldărușani, la data de 3 de...\" with entities \"[(22, 33, 'GPE'), (38, 62, 'DATETIME'), (82, 95, '...\". Use `spacy.training.offsets_to_biluo_tags(nlp.make_doc(text), entities)` to check the alignment. Misaligned entities ('-') will be ignored during training.\n",
            "  entities=ent_str[:50] + \"...\" if len(ent_str) > 50 else ent_str,\n",
            " 13%|█▎        | 239/1800 [00:11<01:20, 19.40it/s]/usr/local/lib/python3.7/dist-packages/spacy/training/iob_utils.py:144: UserWarning: [W030] Some entities could not be aligned in the text \"După integrarea Principatului Transilvaniei în Imp...\" with entities \"[(16, 43, 'GPE'), (47, 66, 'GPE'), (72, 93, 'EVENT...\". Use `spacy.training.offsets_to_biluo_tags(nlp.make_doc(text), entities)` to check the alignment. Misaligned entities ('-') will be ignored during training.\n",
            "  entities=ent_str[:50] + \"...\" if len(ent_str) > 50 else ent_str,\n",
            " 14%|█▍        | 249/1800 [00:11<01:09, 22.20it/s]/usr/local/lib/python3.7/dist-packages/spacy/training/iob_utils.py:144: UserWarning: [W030] Some entities could not be aligned in the text \"Sfânta Scriptură mărturisește în multe locuri clar...\" with entities \"[(0, 16, 'WORK_OF_ART'), (65, 72, 'PERSON'), (171,...\". Use `spacy.training.offsets_to_biluo_tags(nlp.make_doc(text), entities)` to check the alignment. Misaligned entities ('-') will be ignored during training.\n",
            "  entities=ent_str[:50] + \"...\" if len(ent_str) > 50 else ent_str,\n",
            " 15%|█▍        | 267/1800 [00:12<01:04, 23.65it/s]/usr/local/lib/python3.7/dist-packages/spacy/training/iob_utils.py:144: UserWarning: [W030] Some entities could not be aligned in the text \"În „M.O.“ nr. 481/2006 a fost publicat Ordinul nr....\" with entities \"[(14, 17, 'NUMERIC'), (18, 22, 'DATETIME'), (51, 5...\". Use `spacy.training.offsets_to_biluo_tags(nlp.make_doc(text), entities)` to check the alignment. Misaligned entities ('-') will be ignored during training.\n",
            "  entities=ent_str[:50] + \"...\" if len(ent_str) > 50 else ent_str,\n",
            " 15%|█▌        | 270/1800 [00:12<01:06, 23.02it/s]/usr/local/lib/python3.7/dist-packages/spacy/training/iob_utils.py:144: UserWarning: [W030] Some entities could not be aligned in the text \"Ca răspuns la topul celor mai poluate cartiere din...\" with entities \"[(75, 101, 'ORG'), (184, 219, 'PERSON'), (245, 248...\". Use `spacy.training.offsets_to_biluo_tags(nlp.make_doc(text), entities)` to check the alignment. Misaligned entities ('-') will be ignored during training.\n",
            "  entities=ent_str[:50] + \"...\" if len(ent_str) > 50 else ent_str,\n",
            " 16%|█▌        | 279/1800 [00:13<01:03, 24.07it/s]/usr/local/lib/python3.7/dist-packages/spacy/training/iob_utils.py:144: UserWarning: [W030] Some entities could not be aligned in the text \"Ca în toată Europa, întrucât nu exista conștiință ...\" with entities \"[(12, 18, 'LOC'), (73, 83, 'PERSON'), (109, 117, '...\". Use `spacy.training.offsets_to_biluo_tags(nlp.make_doc(text), entities)` to check the alignment. Misaligned entities ('-') will be ignored during training.\n",
            "  entities=ent_str[:50] + \"...\" if len(ent_str) > 50 else ent_str,\n",
            " 16%|█▌        | 282/1800 [00:13<01:09, 21.80it/s]/usr/local/lib/python3.7/dist-packages/spacy/training/iob_utils.py:144: UserWarning: [W030] Some entities could not be aligned in the text \"Viața fraților și a surorilor din Ierusalim era at...\" with entities \"[(6, 14, 'PERSON'), (20, 29, 'PERSON'), (34, 43, '...\". Use `spacy.training.offsets_to_biluo_tags(nlp.make_doc(text), entities)` to check the alignment. Misaligned entities ('-') will be ignored during training.\n",
            "  entities=ent_str[:50] + \"...\" if len(ent_str) > 50 else ent_str,\n",
            " 16%|█▌        | 285/1800 [00:13<01:13, 20.57it/s]/usr/local/lib/python3.7/dist-packages/spacy/training/iob_utils.py:144: UserWarning: [W030] Some entities could not be aligned in the text \"De-a lungul anilor, mii de copii s-au bucurat de s...\" with entities \"[(0, 18, 'DATETIME'), (20, 23, 'NUMERIC'), (27, 32...\". Use `spacy.training.offsets_to_biluo_tags(nlp.make_doc(text), entities)` to check the alignment. Misaligned entities ('-') will be ignored during training.\n",
            "  entities=ent_str[:50] + \"...\" if len(ent_str) > 50 else ent_str,\n",
            " 17%|█▋        | 306/1800 [00:14<01:05, 22.87it/s]/usr/local/lib/python3.7/dist-packages/spacy/training/iob_utils.py:144: UserWarning: [W030] Some entities could not be aligned in the text \"LXDE (Lightweight X11 Desktop Environment), este u...\" with entities \"[(19, 21, 'NUMERIC')]\". Use `spacy.training.offsets_to_biluo_tags(nlp.make_doc(text), entities)` to check the alignment. Misaligned entities ('-') will be ignored during training.\n",
            "  entities=ent_str[:50] + \"...\" if len(ent_str) > 50 else ent_str,\n",
            " 18%|█▊        | 318/1800 [00:14<01:08, 21.76it/s]/usr/local/lib/python3.7/dist-packages/spacy/training/iob_utils.py:144: UserWarning: [W030] Some entities could not be aligned in the text \"Ne propunem ca pe mai departe, pornind de la parte...\" with entities \"[(84, 109, 'FACILITY'), (118, 128, 'ORDINAL'), (14...\". Use `spacy.training.offsets_to_biluo_tags(nlp.make_doc(text), entities)` to check the alignment. Misaligned entities ('-') will be ignored during training.\n",
            "  entities=ent_str[:50] + \"...\" if len(ent_str) > 50 else ent_str,\n",
            " 18%|█▊        | 330/1800 [00:15<01:10, 20.78it/s]/usr/local/lib/python3.7/dist-packages/spacy/training/iob_utils.py:144: UserWarning: [W030] Some entities could not be aligned in the text \"O.\" nr. 924/2002) prin care a stabilit creșterile ...\" with entities \"[(8, 11, 'NUMERIC'), (12, 16, 'DATETIME'), (89, 99...\". Use `spacy.training.offsets_to_biluo_tags(nlp.make_doc(text), entities)` to check the alignment. Misaligned entities ('-') will be ignored during training.\n",
            "  entities=ent_str[:50] + \"...\" if len(ent_str) > 50 else ent_str,\n",
            " 19%|█▊        | 336/1800 [00:15<01:06, 22.03it/s]/usr/local/lib/python3.7/dist-packages/spacy/training/iob_utils.py:144: UserWarning: [W030] Some entities could not be aligned in the text \"Adi Petre a marcat din nou pentru Esbjerg: statist...\" with entities \"[(0, 9, 'PERSON'), (34, 41, 'ORG'), (62, 69, 'PERS...\". Use `spacy.training.offsets_to_biluo_tags(nlp.make_doc(text), entities)` to check the alignment. Misaligned entities ('-') will be ignored during training.\n",
            "  entities=ent_str[:50] + \"...\" if len(ent_str) > 50 else ent_str,\n",
            "/usr/local/lib/python3.7/dist-packages/spacy/training/iob_utils.py:144: UserWarning: [W030] Some entities could not be aligned in the text \"Testele desfășurate împreună cu banca de cont cent...\" with entities \"[(54, 57, 'ORG'), (64, 72, 'ORG'), (164, 171, 'PER...\". Use `spacy.training.offsets_to_biluo_tags(nlp.make_doc(text), entities)` to check the alignment. Misaligned entities ('-') will be ignored during training.\n",
            "  entities=ent_str[:50] + \"...\" if len(ent_str) > 50 else ent_str,\n",
            " 19%|█▉        | 339/1800 [00:15<01:13, 19.88it/s]/usr/local/lib/python3.7/dist-packages/spacy/training/iob_utils.py:144: UserWarning: [W030] Some entities could not be aligned in the text \"Din corespondenta dintre Sfantul Vasile cel Mare c...\" with entities \"[(25, 48, 'PERSON'), (52, 84, 'PERSON'), (119, 132...\". Use `spacy.training.offsets_to_biluo_tags(nlp.make_doc(text), entities)` to check the alignment. Misaligned entities ('-') will be ignored during training.\n",
            "  entities=ent_str[:50] + \"...\" if len(ent_str) > 50 else ent_str,\n",
            " 21%|██        | 373/1800 [00:17<00:56, 25.23it/s]/usr/local/lib/python3.7/dist-packages/spacy/training/iob_utils.py:144: UserWarning: [W030] Some entities could not be aligned in the text \"Elena Avădanii (Rulmentul Brașov) și Eremia Pârâia...\" with entities \"[(0, 14, 'PERSON'), (16, 32, 'ORG'), (37, 52, 'PER...\". Use `spacy.training.offsets_to_biluo_tags(nlp.make_doc(text), entities)` to check the alignment. Misaligned entities ('-') will be ignored during training.\n",
            "  entities=ent_str[:50] + \"...\" if len(ent_str) > 50 else ent_str,\n",
            " 21%|██▏       | 385/1800 [00:17<01:02, 22.49it/s]/usr/local/lib/python3.7/dist-packages/spacy/training/iob_utils.py:144: UserWarning: [W030] Some entities could not be aligned in the text \"În 1979, intră ca chitarist în formația Roșu și Ne...\" with entities \"[(3, 7, 'DATETIME'), (18, 27, 'PERSON'), (110, 112...\". Use `spacy.training.offsets_to_biluo_tags(nlp.make_doc(text), entities)` to check the alignment. Misaligned entities ('-') will be ignored during training.\n",
            "  entities=ent_str[:50] + \"...\" if len(ent_str) > 50 else ent_str,\n",
            " 22%|██▏       | 388/1800 [00:17<01:09, 20.38it/s]/usr/local/lib/python3.7/dist-packages/spacy/training/iob_utils.py:144: UserWarning: [W030] Some entities could not be aligned in the text \"Legea nr. 217/2003 privind combaterea violenței în...\" with entities \"[(10, 13, 'NUMERIC'), (14, 18, 'DATETIME'), (80, 9...\". Use `spacy.training.offsets_to_biluo_tags(nlp.make_doc(text), entities)` to check the alignment. Misaligned entities ('-') will be ignored during training.\n",
            "  entities=ent_str[:50] + \"...\" if len(ent_str) > 50 else ent_str,\n",
            " 22%|██▏       | 391/1800 [00:18<01:06, 21.18it/s]/usr/local/lib/python3.7/dist-packages/spacy/training/iob_utils.py:144: UserWarning: [W030] Some entities could not be aligned in the text \"Abia în 1912, după o luptă judiciară mediatizată, ...\" with entities \"[(8, 12, 'DATETIME'), (151, 160, 'PERIOD'), (197, ...\". Use `spacy.training.offsets_to_biluo_tags(nlp.make_doc(text), entities)` to check the alignment. Misaligned entities ('-') will be ignored during training.\n",
            "  entities=ent_str[:50] + \"...\" if len(ent_str) > 50 else ent_str,\n",
            " 22%|██▏       | 394/1800 [00:18<01:16, 18.27it/s]/usr/local/lib/python3.7/dist-packages/spacy/training/iob_utils.py:144: UserWarning: [W030] Some entities could not be aligned in the text \"Romanul are un inceput ce aduce aminte de genul lu...\" with entities \"[(52, 63, 'PERSON'), (101, 107, 'DATETIME'), (113,...\". Use `spacy.training.offsets_to_biluo_tags(nlp.make_doc(text), entities)` to check the alignment. Misaligned entities ('-') will be ignored during training.\n",
            "  entities=ent_str[:50] + \"...\" if len(ent_str) > 50 else ent_str,\n",
            " 24%|██▎       | 423/1800 [00:19<01:01, 22.52it/s]/usr/local/lib/python3.7/dist-packages/spacy/training/iob_utils.py:144: UserWarning: [W030] Some entities could not be aligned in the text \"Daniel Iftodi, omul care a câștigat 4 titluri de c...\" with entities \"[(0, 19, 'PERSON'), (36, 37, 'NUMERIC'), (60, 66, ...\". Use `spacy.training.offsets_to_biluo_tags(nlp.make_doc(text), entities)` to check the alignment. Misaligned entities ('-') will be ignored during training.\n",
            "  entities=ent_str[:50] + \"...\" if len(ent_str) > 50 else ent_str,\n",
            " 24%|██▎       | 426/1800 [00:19<01:02, 21.93it/s]/usr/local/lib/python3.7/dist-packages/spacy/training/iob_utils.py:144: UserWarning: [W030] Some entities could not be aligned in the text \"Axa proioritara 1-urmărește desfășurarea acțiunilo...\" with entities \"[(16, 17, 'NUMERIC'), (60, 64, 'NUMERIC'), (103, 1...\". Use `spacy.training.offsets_to_biluo_tags(nlp.make_doc(text), entities)` to check the alignment. Misaligned entities ('-') will be ignored during training.\n",
            "  entities=ent_str[:50] + \"...\" if len(ent_str) > 50 else ent_str,\n",
            " 24%|██▍       | 438/1800 [00:20<01:02, 21.96it/s]/usr/local/lib/python3.7/dist-packages/spacy/training/iob_utils.py:144: UserWarning: [W030] Some entities could not be aligned in the text \"Dispoziția nr. 113/06.03.2017 privind acordarea de...\" with entities \"[(15, 18, 'NUMERIC'), (19, 29, 'DATETIME'), (67, 7...\". Use `spacy.training.offsets_to_biluo_tags(nlp.make_doc(text), entities)` to check the alignment. Misaligned entities ('-') will be ignored during training.\n",
            "  entities=ent_str[:50] + \"...\" if len(ent_str) > 50 else ent_str,\n",
            " 25%|██▍       | 447/1800 [00:20<01:01, 21.96it/s]/usr/local/lib/python3.7/dist-packages/spacy/training/iob_utils.py:144: UserWarning: [W030] Some entities could not be aligned in the text \"Totuși președintele Austriei la acel timp a respin...\" with entities \"[(20, 28, 'GPE'), (76, 84, 'NAT_REL_POL'), (112, 1...\". Use `spacy.training.offsets_to_biluo_tags(nlp.make_doc(text), entities)` to check the alignment. Misaligned entities ('-') will be ignored during training.\n",
            "  entities=ent_str[:50] + \"...\" if len(ent_str) > 50 else ent_str,\n",
            " 25%|██▌       | 453/1800 [00:20<01:05, 20.46it/s]/usr/local/lib/python3.7/dist-packages/spacy/training/iob_utils.py:144: UserWarning: [W030] Some entities could not be aligned in the text \"Temperaturile maxime vor fi cuprinse între 31 și 3...\" with entities \"[(43, 45, 'QUANTITY'), (49, 54, 'QUANTITY'), (79, ...\". Use `spacy.training.offsets_to_biluo_tags(nlp.make_doc(text), entities)` to check the alignment. Misaligned entities ('-') will be ignored during training.\n",
            "  entities=ent_str[:50] + \"...\" if len(ent_str) > 50 else ent_str,\n",
            " 26%|██▌       | 459/1800 [00:21<01:01, 21.82it/s]/usr/local/lib/python3.7/dist-packages/spacy/training/iob_utils.py:144: UserWarning: [W030] Some entities could not be aligned in the text \"Putifar () este forma prescurtată a numelui egipte...\" with entities \"[(0, 7, 'PERSON'), (53, 64, 'PERSON'), (100, 102, ...\". Use `spacy.training.offsets_to_biluo_tags(nlp.make_doc(text), entities)` to check the alignment. Misaligned entities ('-') will be ignored during training.\n",
            "  entities=ent_str[:50] + \"...\" if len(ent_str) > 50 else ent_str,\n",
            " 26%|██▌       | 462/1800 [00:21<01:01, 21.67it/s]/usr/local/lib/python3.7/dist-packages/spacy/training/iob_utils.py:144: UserWarning: [W030] Some entities could not be aligned in the text \"Timișoara 89ers a avut o primă repriză slabă în de...\" with entities \"[(0, 15, 'ORG'), (25, 30, 'ORDINAL'), (63, 67, 'GP...\". Use `spacy.training.offsets_to_biluo_tags(nlp.make_doc(text), entities)` to check the alignment. Misaligned entities ('-') will be ignored during training.\n",
            "  entities=ent_str[:50] + \"...\" if len(ent_str) > 50 else ent_str,\n",
            " 26%|██▌       | 465/1800 [00:21<01:03, 21.18it/s]/usr/local/lib/python3.7/dist-packages/spacy/training/iob_utils.py:144: UserWarning: [W030] Some entities could not be aligned in the text \"La rândul lor, reprezentanții SC Servicii Publice ...\" with entities \"[(30, 57, 'ORG'), (71, 83, 'PERSON'), (133, 139, '...\". Use `spacy.training.offsets_to_biluo_tags(nlp.make_doc(text), entities)` to check the alignment. Misaligned entities ('-') will be ignored during training.\n",
            "  entities=ent_str[:50] + \"...\" if len(ent_str) > 50 else ent_str,\n",
            " 26%|██▌       | 471/1800 [00:21<01:05, 20.28it/s]/usr/local/lib/python3.7/dist-packages/spacy/training/iob_utils.py:144: UserWarning: [W030] Some entities could not be aligned in the text \"Jordan în calitate de membru al lui Washington Wiz...\" with entities \"[(0, 6, 'PERSON'), (22, 28, 'PERSON'), (36, 54, 'O...\". Use `spacy.training.offsets_to_biluo_tags(nlp.make_doc(text), entities)` to check the alignment. Misaligned entities ('-') will be ignored during training.\n",
            "  entities=ent_str[:50] + \"...\" if len(ent_str) > 50 else ent_str,\n",
            " 27%|██▋       | 483/1800 [00:22<01:03, 20.59it/s]/usr/local/lib/python3.7/dist-packages/spacy/training/iob_utils.py:144: UserWarning: [W030] Some entities could not be aligned in the text \"Alianța 90/Verzii reprezintă unificarea partidelor...\" with entities \"[(8, 10, 'NUMERIC'), (57, 61, 'NUMERIC'), (88, 107...\". Use `spacy.training.offsets_to_biluo_tags(nlp.make_doc(text), entities)` to check the alignment. Misaligned entities ('-') will be ignored during training.\n",
            "  entities=ent_str[:50] + \"...\" if len(ent_str) > 50 else ent_str,\n",
            " 27%|██▋       | 489/1800 [00:22<01:00, 21.52it/s]/usr/local/lib/python3.7/dist-packages/spacy/training/iob_utils.py:144: UserWarning: [W030] Some entities could not be aligned in the text \"În anul 2004, Uniunea Europeană l-a inclus pe o li...\" with entities \"[(3, 12, 'DATETIME'), (14, 31, 'ORG'), (56, 72, 'N...\". Use `spacy.training.offsets_to_biluo_tags(nlp.make_doc(text), entities)` to check the alignment. Misaligned entities ('-') will be ignored during training.\n",
            "  entities=ent_str[:50] + \"...\" if len(ent_str) > 50 else ent_str,\n",
            "/usr/local/lib/python3.7/dist-packages/spacy/training/iob_utils.py:144: UserWarning: [W030] Some entities could not be aligned in the text \"Atmosfera din San Andreas este inspirată de cultur...\" with entities \"[(52, 61, 'NAT_REL_POL'), (64, 75, 'DATETIME'), (1...\". Use `spacy.training.offsets_to_biluo_tags(nlp.make_doc(text), entities)` to check the alignment. Misaligned entities ('-') will be ignored during training.\n",
            "  entities=ent_str[:50] + \"...\" if len(ent_str) > 50 else ent_str,\n",
            " 28%|██▊       | 500/1800 [00:23<00:59, 21.72it/s]/usr/local/lib/python3.7/dist-packages/spacy/training/iob_utils.py:144: UserWarning: [W030] Some entities could not be aligned in the text \"Indemnizația medie lunară încasată de un revoluțio...\" with entities \"[(41, 53, 'PERSON'), (62, 71, 'MONEY'), (103, 166,...\". Use `spacy.training.offsets_to_biluo_tags(nlp.make_doc(text), entities)` to check the alignment. Misaligned entities ('-') will be ignored during training.\n",
            "  entities=ent_str[:50] + \"...\" if len(ent_str) > 50 else ent_str,\n",
            " 28%|██▊       | 510/1800 [00:23<00:49, 26.06it/s]/usr/local/lib/python3.7/dist-packages/spacy/training/iob_utils.py:144: UserWarning: [W030] Some entities could not be aligned in the text \"Dar și producătorul casetei audio intitulată 'Talk...\" with entities \"[(45, 78, 'WORK_OF_ART'), (80, 84, 'DATETIME'), (1...\". Use `spacy.training.offsets_to_biluo_tags(nlp.make_doc(text), entities)` to check the alignment. Misaligned entities ('-') will be ignored during training.\n",
            "  entities=ent_str[:50] + \"...\" if len(ent_str) > 50 else ent_str,\n",
            " 29%|██▊       | 516/1800 [00:23<00:56, 22.80it/s]/usr/local/lib/python3.7/dist-packages/spacy/training/iob_utils.py:144: UserWarning: [W030] Some entities could not be aligned in the text \"Cariera ei de film a continuat mai ales cu The Sea...\" with entities \"[(43, 55, 'WORK_OF_ART'), (57, 61, 'DATETIME'), (6...\". Use `spacy.training.offsets_to_biluo_tags(nlp.make_doc(text), entities)` to check the alignment. Misaligned entities ('-') will be ignored during training.\n",
            "  entities=ent_str[:50] + \"...\" if len(ent_str) > 50 else ent_str,\n",
            " 29%|██▉       | 528/1800 [00:24<00:56, 22.64it/s]/usr/local/lib/python3.7/dist-packages/spacy/training/iob_utils.py:144: UserWarning: [W030] Some entities could not be aligned in the text \"Părintele Sofronie de la Essex, București, Editura...\" with entities \"[(0, 30, 'WORK_OF_ART'), (32, 41, 'GPE'), (43, 57,...\". Use `spacy.training.offsets_to_biluo_tags(nlp.make_doc(text), entities)` to check the alignment. Misaligned entities ('-') will be ignored during training.\n",
            "  entities=ent_str[:50] + \"...\" if len(ent_str) > 50 else ent_str,\n",
            " 30%|██▉       | 534/1800 [00:24<00:56, 22.32it/s]/usr/local/lib/python3.7/dist-packages/spacy/training/iob_utils.py:144: UserWarning: [W030] Some entities could not be aligned in the text \"În lectura a doua a duminicii, sfântul apostol Pau...\" with entities \"[(11, 17, 'ORDINAL'), (20, 29, 'DATETIME'), (31, 5...\". Use `spacy.training.offsets_to_biluo_tags(nlp.make_doc(text), entities)` to check the alignment. Misaligned entities ('-') will be ignored during training.\n",
            "  entities=ent_str[:50] + \"...\" if len(ent_str) > 50 else ent_str,\n",
            "/usr/local/lib/python3.7/dist-packages/spacy/training/iob_utils.py:144: UserWarning: [W030] Some entities could not be aligned in the text \"Deci să înțelegi prin locașul celui Prea Înalt ară...\" with entities \"[(30, 35, 'PERSON'), (60, 68, 'PERSON'), (78, 79, ...\". Use `spacy.training.offsets_to_biluo_tags(nlp.make_doc(text), entities)` to check the alignment. Misaligned entities ('-') will be ignored during training.\n",
            "  entities=ent_str[:50] + \"...\" if len(ent_str) > 50 else ent_str,\n",
            " 30%|██▉       | 537/1800 [00:24<01:04, 19.71it/s]/usr/local/lib/python3.7/dist-packages/spacy/training/iob_utils.py:144: UserWarning: [W030] Some entities could not be aligned in the text \"Partida din cupă, câștigată de Steaua cu 4-3 în da...\" with entities \"[(31, 37, 'ORG'), (41, 42, 'NUMERIC'), (43, 44, 'N...\". Use `spacy.training.offsets_to_biluo_tags(nlp.make_doc(text), entities)` to check the alignment. Misaligned entities ('-') will be ignored during training.\n",
            "  entities=ent_str[:50] + \"...\" if len(ent_str) > 50 else ent_str,\n",
            " 30%|███       | 540/1800 [00:25<01:05, 19.14it/s]/usr/local/lib/python3.7/dist-packages/spacy/training/iob_utils.py:144: UserWarning: [W030] Some entities could not be aligned in the text \"Clădirea liceului a fost construită în anul 1897.C...\" with entities \"[(39, 48, 'DATETIME'), (98, 129, 'ORG'), (131, 169...\". Use `spacy.training.offsets_to_biluo_tags(nlp.make_doc(text), entities)` to check the alignment. Misaligned entities ('-') will be ignored during training.\n",
            "  entities=ent_str[:50] + \"...\" if len(ent_str) > 50 else ent_str,\n",
            " 30%|███       | 545/1800 [00:25<01:02, 19.99it/s]/usr/local/lib/python3.7/dist-packages/spacy/training/iob_utils.py:144: UserWarning: [W030] Some entities could not be aligned in the text \"După o încercare de furt al Giuvaerului Sacru, a f...\" with entities \"[(88, 102, 'PERSON'), (106, 115, 'DATETIME'), (179...\". Use `spacy.training.offsets_to_biluo_tags(nlp.make_doc(text), entities)` to check the alignment. Misaligned entities ('-') will be ignored during training.\n",
            "  entities=ent_str[:50] + \"...\" if len(ent_str) > 50 else ent_str,\n",
            " 31%|███       | 550/1800 [00:25<01:03, 19.58it/s]/usr/local/lib/python3.7/dist-packages/spacy/training/iob_utils.py:144: UserWarning: [W030] Some entities could not be aligned in the text \"Realizând cea mai bună performanță din ultimul dec...\" with entities \"[(39, 54, 'DATETIME'), (89, 110, 'PERSON'), (156, ...\". Use `spacy.training.offsets_to_biluo_tags(nlp.make_doc(text), entities)` to check the alignment. Misaligned entities ('-') will be ignored during training.\n",
            "  entities=ent_str[:50] + \"...\" if len(ent_str) > 50 else ent_str,\n",
            " 31%|███       | 560/1800 [00:26<00:59, 20.86it/s]/usr/local/lib/python3.7/dist-packages/spacy/training/iob_utils.py:144: UserWarning: [W030] Some entities could not be aligned in the text \"Pe de altă parte, noua investiție va contribui la ...\" with entities \"[(143, 144, 'NUMERIC'), (145, 146, 'NUMERIC')]\". Use `spacy.training.offsets_to_biluo_tags(nlp.make_doc(text), entities)` to check the alignment. Misaligned entities ('-') will be ignored during training.\n",
            "  entities=ent_str[:50] + \"...\" if len(ent_str) > 50 else ent_str,\n",
            " 33%|███▎      | 602/1800 [00:27<00:52, 22.70it/s]/usr/local/lib/python3.7/dist-packages/spacy/training/iob_utils.py:144: UserWarning: [W030] Some entities could not be aligned in the text \"La data de 07 ianuarie a.c. polițiștii Biroului de...\" with entities \"[(28, 38, 'PERSON'), (74, 80, 'GPE'), (108, 117, '...\". Use `spacy.training.offsets_to_biluo_tags(nlp.make_doc(text), entities)` to check the alignment. Misaligned entities ('-') will be ignored during training.\n",
            "  entities=ent_str[:50] + \"...\" if len(ent_str) > 50 else ent_str,\n",
            " 34%|███▎      | 605/1800 [00:28<00:56, 21.30it/s]/usr/local/lib/python3.7/dist-packages/spacy/training/iob_utils.py:144: UserWarning: [W030] Some entities could not be aligned in the text \"Florin Cioabă s-a confruntat în cadrul minorității...\" with entities \"[(0, 13, 'PERSON'), (51, 60, 'NAT_REL_POL'), (65, ...\". Use `spacy.training.offsets_to_biluo_tags(nlp.make_doc(text), entities)` to check the alignment. Misaligned entities ('-') will be ignored during training.\n",
            "  entities=ent_str[:50] + \"...\" if len(ent_str) > 50 else ent_str,\n",
            " 36%|███▌      | 642/1800 [00:29<00:48, 23.77it/s]/usr/local/lib/python3.7/dist-packages/spacy/training/iob_utils.py:144: UserWarning: [W030] Some entities could not be aligned in the text \"Pentru a-și justifica pozițiile capitularde, marea...\" with entities \"[(59, 73, 'PERSON'), (89, 95, 'PERSON'), (206, 212...\". Use `spacy.training.offsets_to_biluo_tags(nlp.make_doc(text), entities)` to check the alignment. Misaligned entities ('-') will be ignored during training.\n",
            "  entities=ent_str[:50] + \"...\" if len(ent_str) > 50 else ent_str,\n",
            " 36%|███▌      | 651/1800 [00:30<00:53, 21.47it/s]/usr/local/lib/python3.7/dist-packages/spacy/training/iob_utils.py:144: UserWarning: [W030] Some entities could not be aligned in the text \"Ce preț poate fi în el?” (potrivit ediției sinodal...\" with entities \"[(52, 56, 'DATETIME'), (59, 76, 'WORK_OF_ART'), (1...\". Use `spacy.training.offsets_to_biluo_tags(nlp.make_doc(text), entities)` to check the alignment. Misaligned entities ('-') will be ignored during training.\n",
            "  entities=ent_str[:50] + \"...\" if len(ent_str) > 50 else ent_str,\n",
            " 36%|███▋      | 654/1800 [00:30<00:56, 20.39it/s]/usr/local/lib/python3.7/dist-packages/spacy/training/iob_utils.py:144: UserWarning: [W030] Some entities could not be aligned in the text \"Și pentru că mulți tractoriști urmau să fie încorp...\" with entities \"[(19, 30, 'PERSON'), (57, 67, 'PERSON'), (93, 105,...\". Use `spacy.training.offsets_to_biluo_tags(nlp.make_doc(text), entities)` to check the alignment. Misaligned entities ('-') will be ignored during training.\n",
            "  entities=ent_str[:50] + \"...\" if len(ent_str) > 50 else ent_str,\n",
            " 37%|███▋      | 661/1800 [00:30<00:48, 23.62it/s]/usr/local/lib/python3.7/dist-packages/spacy/training/iob_utils.py:144: UserWarning: [W030] Some entities could not be aligned in the text \"30 de zile pîrnaie si interdictie 6 ani\"Românca zi...\" with entities \"[(0, 10, 'DATETIME'), (34, 39, 'DATETIME'), (40, 4...\". Use `spacy.training.offsets_to_biluo_tags(nlp.make_doc(text), entities)` to check the alignment. Misaligned entities ('-') will be ignored during training.\n",
            "  entities=ent_str[:50] + \"...\" if len(ent_str) > 50 else ent_str,\n",
            " 38%|███▊      | 688/1800 [00:31<00:48, 22.82it/s]/usr/local/lib/python3.7/dist-packages/spacy/training/iob_utils.py:144: UserWarning: [W030] Some entities could not be aligned in the text \"Această declarație este pentru a vă înștiința asup...\" with entities \"[(91, 98, 'PERSON'), (171, 173, 'ORG'), (175, 178,...\". Use `spacy.training.offsets_to_biluo_tags(nlp.make_doc(text), entities)` to check the alignment. Misaligned entities ('-') will be ignored during training.\n",
            "  entities=ent_str[:50] + \"...\" if len(ent_str) > 50 else ent_str,\n",
            " 38%|███▊      | 691/1800 [00:32<00:58, 19.11it/s]/usr/local/lib/python3.7/dist-packages/spacy/training/iob_utils.py:144: UserWarning: [W030] Some entities could not be aligned in the text \"Dinamo a preluat din nou conducerea, însă nu a mai...\" with entities \"[(0, 6, 'ORG'), (104, 112, 'PERSON'), (132, 134, '...\". Use `spacy.training.offsets_to_biluo_tags(nlp.make_doc(text), entities)` to check the alignment. Misaligned entities ('-') will be ignored during training.\n",
            "  entities=ent_str[:50] + \"...\" if len(ent_str) > 50 else ent_str,\n",
            " 39%|███▉      | 701/1800 [00:32<00:47, 23.02it/s]/usr/local/lib/python3.7/dist-packages/spacy/training/iob_utils.py:144: UserWarning: [W030] Some entities could not be aligned in the text \"Vicepreședinte,Societatea de Științe Matematice di...\" with entities \"[(0, 14, 'PERSON'), (15, 59, 'ORG'), (61, 84, 'PER...\". Use `spacy.training.offsets_to_biluo_tags(nlp.make_doc(text), entities)` to check the alignment. Misaligned entities ('-') will be ignored during training.\n",
            "  entities=ent_str[:50] + \"...\" if len(ent_str) > 50 else ent_str,\n",
            " 40%|███▉      | 712/1800 [00:33<00:58, 18.48it/s]/usr/local/lib/python3.7/dist-packages/spacy/training/iob_utils.py:144: UserWarning: [W030] Some entities could not be aligned in the text \"Pe site-ul Agentiei Nationala de Administrare Fisc...\" with entities \"[(11, 60, 'ORG'), (78, 101, 'DATETIME'), (148, 150...\". Use `spacy.training.offsets_to_biluo_tags(nlp.make_doc(text), entities)` to check the alignment. Misaligned entities ('-') will be ignored during training.\n",
            "  entities=ent_str[:50] + \"...\" if len(ent_str) > 50 else ent_str,\n",
            " 40%|███▉      | 719/1800 [00:33<01:00, 17.84it/s]/usr/local/lib/python3.7/dist-packages/spacy/training/iob_utils.py:144: UserWarning: [W030] Some entities could not be aligned in the text \"a început sezonul 2011-2012 ca titular și a marcat...\" with entities \"[(18, 27, 'PERIOD'), (31, 38, 'PERSON'), (63, 69, ...\". Use `spacy.training.offsets_to_biluo_tags(nlp.make_doc(text), entities)` to check the alignment. Misaligned entities ('-') will be ignored during training.\n",
            "  entities=ent_str[:50] + \"...\" if len(ent_str) > 50 else ent_str,\n",
            " 41%|████      | 734/1800 [00:34<00:52, 20.18it/s]/usr/local/lib/python3.7/dist-packages/spacy/training/iob_utils.py:144: UserWarning: [W030] Some entities could not be aligned in the text \"La sfârșitul anului 1914, după moartea lui , noul ...\" with entities \"[(3, 24, 'DATETIME'), (50, 58, 'PERSON'), (95, 101...\". Use `spacy.training.offsets_to_biluo_tags(nlp.make_doc(text), entities)` to check the alignment. Misaligned entities ('-') will be ignored during training.\n",
            "  entities=ent_str[:50] + \"...\" if len(ent_str) > 50 else ent_str,\n",
            " 43%|████▎     | 774/1800 [00:36<00:48, 20.97it/s]/usr/local/lib/python3.7/dist-packages/spacy/training/iob_utils.py:144: UserWarning: [W030] Some entities could not be aligned in the text \"Pentru Penny Market am înregistrat o creștere cu 1...\" with entities \"[(7, 19, 'ORG'), (49, 52, 'QUANTITY'), (90, 94, 'D...\". Use `spacy.training.offsets_to_biluo_tags(nlp.make_doc(text), entities)` to check the alignment. Misaligned entities ('-') will be ignored during training.\n",
            "  entities=ent_str[:50] + \"...\" if len(ent_str) > 50 else ent_str,\n",
            " 43%|████▎     | 780/1800 [00:36<00:45, 22.22it/s]/usr/local/lib/python3.7/dist-packages/spacy/training/iob_utils.py:144: UserWarning: [W030] Some entities could not be aligned in the text \"16 noi 00:00ReplicaMODURI de a MURI: de la asculta...\" with entities \"[(0, 12, 'DATETIME'), (85, 94, 'PERSON'), (126, 13...\". Use `spacy.training.offsets_to_biluo_tags(nlp.make_doc(text), entities)` to check the alignment. Misaligned entities ('-') will be ignored during training.\n",
            "  entities=ent_str[:50] + \"...\" if len(ent_str) > 50 else ent_str,\n",
            "/usr/local/lib/python3.7/dist-packages/spacy/training/iob_utils.py:144: UserWarning: [W030] Some entities could not be aligned in the text \"Aceasta lipsă de deschidere în confruntarea adevăr...\" with entities \"[(190, 197, 'PERSON'), (258, 265, 'PERSON'), (277,...\". Use `spacy.training.offsets_to_biluo_tags(nlp.make_doc(text), entities)` to check the alignment. Misaligned entities ('-') will be ignored during training.\n",
            "  entities=ent_str[:50] + \"...\" if len(ent_str) > 50 else ent_str,\n",
            " 44%|████▎     | 783/1800 [00:36<00:45, 22.47it/s]/usr/local/lib/python3.7/dist-packages/spacy/training/iob_utils.py:144: UserWarning: [W030] Some entities could not be aligned in the text \"De exemplu, unul dintre cele trei mottouri ale vol...\" with entities \"[(12, 16, 'NUMERIC'), (29, 33, 'NUMERIC'), (61, 65...\". Use `spacy.training.offsets_to_biluo_tags(nlp.make_doc(text), entities)` to check the alignment. Misaligned entities ('-') will be ignored during training.\n",
            "  entities=ent_str[:50] + \"...\" if len(ent_str) > 50 else ent_str,\n",
            " 44%|████▍     | 792/1800 [00:36<00:42, 23.55it/s]/usr/local/lib/python3.7/dist-packages/spacy/training/iob_utils.py:144: UserWarning: [W030] Some entities could not be aligned in the text \"În primul meci de după Mondial, Germania a remizat...\" with entities \"[(3, 9, 'ORDINAL'), (23, 30, 'EVENT'), (32, 40, 'G...\". Use `spacy.training.offsets_to_biluo_tags(nlp.make_doc(text), entities)` to check the alignment. Misaligned entities ('-') will be ignored during training.\n",
            "  entities=ent_str[:50] + \"...\" if len(ent_str) > 50 else ent_str,\n",
            " 45%|████▌     | 816/1800 [00:37<00:41, 23.59it/s]/usr/local/lib/python3.7/dist-packages/spacy/training/iob_utils.py:144: UserWarning: [W030] Some entities could not be aligned in the text \"Ultima mare bătălie navală din anul 1673, bătălia ...\" with entities \"[(0, 6, 'ORDINAL'), (31, 40, 'DATETIME'), (56, 61,...\". Use `spacy.training.offsets_to_biluo_tags(nlp.make_doc(text), entities)` to check the alignment. Misaligned entities ('-') will be ignored during training.\n",
            "  entities=ent_str[:50] + \"...\" if len(ent_str) > 50 else ent_str,\n",
            " 46%|████▌     | 828/1800 [00:38<00:46, 21.00it/s]/usr/local/lib/python3.7/dist-packages/spacy/training/iob_utils.py:144: UserWarning: [W030] Some entities could not be aligned in the text \"Ea a fost înființată prin decret al președintelui ...\" with entities \"[(50, 53, 'GPE'), (55, 67, 'PERSON'), (73, 98, 'DA...\". Use `spacy.training.offsets_to_biluo_tags(nlp.make_doc(text), entities)` to check the alignment. Misaligned entities ('-') will be ignored during training.\n",
            "  entities=ent_str[:50] + \"...\" if len(ent_str) > 50 else ent_str,\n",
            " 46%|████▌     | 831/1800 [00:38<00:50, 19.14it/s]/usr/local/lib/python3.7/dist-packages/spacy/training/iob_utils.py:144: UserWarning: [W030] Some entities could not be aligned in the text \"Nu există scuza ignoranței47, căci textele dispers...\" with entities \"[(26, 28, 'NUMERIC'), (98, 109, 'DATETIME'), (126,...\". Use `spacy.training.offsets_to_biluo_tags(nlp.make_doc(text), entities)` to check the alignment. Misaligned entities ('-') will be ignored during training.\n",
            "  entities=ent_str[:50] + \"...\" if len(ent_str) > 50 else ent_str,\n",
            " 47%|████▋     | 850/1800 [00:39<00:37, 25.17it/s]/usr/local/lib/python3.7/dist-packages/spacy/training/iob_utils.py:144: UserWarning: [W030] Some entities could not be aligned in the text \"Ninsorile abundente ar putea închide școlileieri 1...\" with entities \"[(55, 66, 'PERSON'), (86, 92, 'PERSON'), (96, 100,...\". Use `spacy.training.offsets_to_biluo_tags(nlp.make_doc(text), entities)` to check the alignment. Misaligned entities ('-') will be ignored during training.\n",
            "  entities=ent_str[:50] + \"...\" if len(ent_str) > 50 else ent_str,\n",
            " 48%|████▊     | 871/1800 [00:40<00:41, 22.62it/s]/usr/local/lib/python3.7/dist-packages/spacy/training/iob_utils.py:144: UserWarning: [W030] Some entities could not be aligned in the text \"Sparta a luat insula de la Argos la începutul seco...\" with entities \"[(0, 6, 'GPE'), (27, 32, 'GPE'), (36, 65, 'DATETIM...\". Use `spacy.training.offsets_to_biluo_tags(nlp.make_doc(text), entities)` to check the alignment. Misaligned entities ('-') will be ignored during training.\n",
            "  entities=ent_str[:50] + \"...\" if len(ent_str) > 50 else ent_str,\n",
            " 50%|████▉     | 895/1800 [00:41<00:36, 24.67it/s]/usr/local/lib/python3.7/dist-packages/spacy/training/iob_utils.py:144: UserWarning: [W030] Some entities could not be aligned in the text \"În temeiul prevederilor art. 36 alin. 3 lit. a, ar...\" with entities \"[(29, 31, 'NUMERIC'), (38, 39, 'NUMERIC'), (53, 55...\". Use `spacy.training.offsets_to_biluo_tags(nlp.make_doc(text), entities)` to check the alignment. Misaligned entities ('-') will be ignored during training.\n",
            "  entities=ent_str[:50] + \"...\" if len(ent_str) > 50 else ent_str,\n",
            " 50%|████▉     | 898/1800 [00:41<00:37, 23.90it/s]/usr/local/lib/python3.7/dist-packages/spacy/training/iob_utils.py:144: UserWarning: [W030] Some entities could not be aligned in the text \"În februarie 1992, Victor Catan a fost numit în fu...\" with entities \"[(3, 17, 'DATETIME'), (19, 31, 'PERSON'), (59, 75,...\". Use `spacy.training.offsets_to_biluo_tags(nlp.make_doc(text), entities)` to check the alignment. Misaligned entities ('-') will be ignored during training.\n",
            "  entities=ent_str[:50] + \"...\" if len(ent_str) > 50 else ent_str,\n",
            " 50%|█████     | 901/1800 [00:41<00:38, 23.37it/s]/usr/local/lib/python3.7/dist-packages/spacy/training/iob_utils.py:144: UserWarning: [W030] Some entities could not be aligned in the text \"Solicitanții trebuie să fie: persoană juridică rom...\" with entities \"[(47, 53, 'NAT_REL_POL'), (131, 133, 'NUMERIC'), (...\". Use `spacy.training.offsets_to_biluo_tags(nlp.make_doc(text), entities)` to check the alignment. Misaligned entities ('-') will be ignored during training.\n",
            "  entities=ent_str[:50] + \"...\" if len(ent_str) > 50 else ent_str,\n",
            "/usr/local/lib/python3.7/dist-packages/spacy/training/iob_utils.py:144: UserWarning: [W030] Some entities could not be aligned in the text \"Deicide este o formație de death metal din Florida...\" with entities \"[(43, 50, 'GPE'), (52, 58, 'GPE'), (121, 135, 'NAT...\". Use `spacy.training.offsets_to_biluo_tags(nlp.make_doc(text), entities)` to check the alignment. Misaligned entities ('-') will be ignored during training.\n",
            "  entities=ent_str[:50] + \"...\" if len(ent_str) > 50 else ent_str,\n",
            " 50%|█████     | 904/1800 [00:41<00:37, 23.59it/s]/usr/local/lib/python3.7/dist-packages/spacy/training/iob_utils.py:144: UserWarning: [W030] Some entities could not be aligned in the text \"Dacă la combinele de recoltat cereale vorbim de un...\" with entities \"[(60, 63, 'NUMERIC'), (64, 67, 'NUMERIC'), (123, 1...\". Use `spacy.training.offsets_to_biluo_tags(nlp.make_doc(text), entities)` to check the alignment. Misaligned entities ('-') will be ignored during training.\n",
            "  entities=ent_str[:50] + \"...\" if len(ent_str) > 50 else ent_str,\n",
            " 51%|█████     | 916/1800 [00:42<00:43, 20.12it/s]/usr/local/lib/python3.7/dist-packages/spacy/training/iob_utils.py:144: UserWarning: [W030] Some entities could not be aligned in the text \"În meciuri amicale de fotbal, F.C.U. Politehnica T...\" with entities \"[(30, 58, 'ORG'), (82, 83, 'NUMERIC'), (84, 85, 'N...\". Use `spacy.training.offsets_to_biluo_tags(nlp.make_doc(text), entities)` to check the alignment. Misaligned entities ('-') will be ignored during training.\n",
            "  entities=ent_str[:50] + \"...\" if len(ent_str) > 50 else ent_str,\n",
            " 51%|█████▏    | 925/1800 [00:42<00:39, 22.33it/s]/usr/local/lib/python3.7/dist-packages/spacy/training/iob_utils.py:144: UserWarning: [W030] Some entities could not be aligned in the text \"În urma vizionării casetei jocului C.E.T. Govora -...\" with entities \"[(35, 48, 'ORG'), (51, 66, 'ORG'), (68, 70, 'NUMER...\". Use `spacy.training.offsets_to_biluo_tags(nlp.make_doc(text), entities)` to check the alignment. Misaligned entities ('-') will be ignored during training.\n",
            "  entities=ent_str[:50] + \"...\" if len(ent_str) > 50 else ent_str,\n",
            "/usr/local/lib/python3.7/dist-packages/spacy/training/iob_utils.py:144: UserWarning: [W030] Some entities could not be aligned in the text \"Ceremonia de depunere a jurământului a avut loc în...\" with entities \"[(60, 82, 'PERSON'), (96, 109, 'ORG'), (152, 170, ...\". Use `spacy.training.offsets_to_biluo_tags(nlp.make_doc(text), entities)` to check the alignment. Misaligned entities ('-') will be ignored during training.\n",
            "  entities=ent_str[:50] + \"...\" if len(ent_str) > 50 else ent_str,\n",
            " 52%|█████▏    | 931/1800 [00:43<00:38, 22.47it/s]/usr/local/lib/python3.7/dist-packages/spacy/training/iob_utils.py:144: UserWarning: [W030] Some entities could not be aligned in the text \"Fetele de la SCM Timișoara s-au întors cu un succe...\" with entities \"[(0, 6, 'PERSON'), (13, 26, 'ORG'), (58, 62, 'GPE'...\". Use `spacy.training.offsets_to_biluo_tags(nlp.make_doc(text), entities)` to check the alignment. Misaligned entities ('-') will be ignored during training.\n",
            "  entities=ent_str[:50] + \"...\" if len(ent_str) > 50 else ent_str,\n",
            " 52%|█████▏    | 934/1800 [00:43<00:37, 23.19it/s]/usr/local/lib/python3.7/dist-packages/spacy/training/iob_utils.py:144: UserWarning: [W030] Some entities could not be aligned in the text \"Dacă dorești să primești zilnic fluxul cu cele mai...\" with entities \"[(89, 108, 'ORG'), (147, 170, 'PERSON'), (195, 203...\". Use `spacy.training.offsets_to_biluo_tags(nlp.make_doc(text), entities)` to check the alignment. Misaligned entities ('-') will be ignored during training.\n",
            "  entities=ent_str[:50] + \"...\" if len(ent_str) > 50 else ent_str,\n",
            " 52%|█████▏    | 940/1800 [00:43<00:38, 22.37it/s]/usr/local/lib/python3.7/dist-packages/spacy/training/iob_utils.py:144: UserWarning: [W030] Some entities could not be aligned in the text \"VIDEO cu șoferul care a OMORÂT 3 oameni în acciden...\" with entities \"[(9, 16, 'PERSON'), (33, 39, 'PERSON'), (60, 66, '...\". Use `spacy.training.offsets_to_biluo_tags(nlp.make_doc(text), entities)` to check the alignment. Misaligned entities ('-') will be ignored during training.\n",
            "  entities=ent_str[:50] + \"...\" if len(ent_str) > 50 else ent_str,\n",
            " 53%|█████▎    | 946/1800 [00:43<00:41, 20.57it/s]/usr/local/lib/python3.7/dist-packages/spacy/training/iob_utils.py:144: UserWarning: [W030] Some entities could not be aligned in the text \"Prin H.G. nr. 949/2002 s-au stabilit criteriile de...\" with entities \"[(14, 17, 'NUMERIC'), (18, 22, 'DATETIME'), (83, 9...\". Use `spacy.training.offsets_to_biluo_tags(nlp.make_doc(text), entities)` to check the alignment. Misaligned entities ('-') will be ignored during training.\n",
            "  entities=ent_str[:50] + \"...\" if len(ent_str) > 50 else ent_str,\n",
            "/usr/local/lib/python3.7/dist-packages/spacy/training/iob_utils.py:144: UserWarning: [W030] Some entities could not be aligned in the text \"A fost un aspru critic la adresa evreilor (el însu...\" with entities \"[(16, 22, 'PERSON'), (33, 41, 'NAT_REL_POL'), (43,...\". Use `spacy.training.offsets_to_biluo_tags(nlp.make_doc(text), entities)` to check the alignment. Misaligned entities ('-') will be ignored during training.\n",
            "  entities=ent_str[:50] + \"...\" if len(ent_str) > 50 else ent_str,\n",
            " 53%|█████▎    | 952/1800 [00:44<00:41, 20.48it/s]/usr/local/lib/python3.7/dist-packages/spacy/training/iob_utils.py:144: UserWarning: [W030] Some entities could not be aligned in the text \"Două obiective din comuna Săpoca sunt incluse în l...\" with entities \"[(0, 4, 'NUMERIC'), (26, 32, 'GPE'), (89, 94, 'GPE...\". Use `spacy.training.offsets_to_biluo_tags(nlp.make_doc(text), entities)` to check the alignment. Misaligned entities ('-') will be ignored during training.\n",
            "  entities=ent_str[:50] + \"...\" if len(ent_str) > 50 else ent_str,\n",
            "/usr/local/lib/python3.7/dist-packages/spacy/training/iob_utils.py:144: UserWarning: [W030] Some entities could not be aligned in the text \"ieri 07:33 ZILE LIBERE 2019: câte minivacanțe au a...\" with entities \"[(0, 10, 'DATETIME'), (23, 27, 'DATETIME'), (59, 7...\". Use `spacy.training.offsets_to_biluo_tags(nlp.make_doc(text), entities)` to check the alignment. Misaligned entities ('-') will be ignored during training.\n",
            "  entities=ent_str[:50] + \"...\" if len(ent_str) > 50 else ent_str,\n",
            " 53%|█████▎    | 961/1800 [00:44<00:41, 20.34it/s]/usr/local/lib/python3.7/dist-packages/spacy/training/iob_utils.py:144: UserWarning: [W030] Some entities could not be aligned in the text \"Avocata criminalei de la metrou care a șocat o țar...\" with entities \"[(8, 18, 'PERSON'), (115, 131, 'PERSON'), (133, 13...\". Use `spacy.training.offsets_to_biluo_tags(nlp.make_doc(text), entities)` to check the alignment. Misaligned entities ('-') will be ignored during training.\n",
            "  entities=ent_str[:50] + \"...\" if len(ent_str) > 50 else ent_str,\n",
            " 54%|█████▎    | 967/1800 [00:44<00:43, 19.32it/s]/usr/local/lib/python3.7/dist-packages/spacy/training/iob_utils.py:144: UserWarning: [W030] Some entities could not be aligned in the text \"Conform prevederilor articolului 8 din Ordinul min...\" with entities \"[(33, 34, 'NUMERIC'), (47, 58, 'PERSON'), (82, 86,...\". Use `spacy.training.offsets_to_biluo_tags(nlp.make_doc(text), entities)` to check the alignment. Misaligned entities ('-') will be ignored during training.\n",
            "  entities=ent_str[:50] + \"...\" if len(ent_str) > 50 else ent_str,\n",
            " 54%|█████▍    | 969/1800 [00:44<00:44, 18.50it/s]/usr/local/lib/python3.7/dist-packages/spacy/training/iob_utils.py:144: UserWarning: [W030] Some entities could not be aligned in the text \"Circa 75% din fondurile necesare ar urma sa fie as...\" with entities \"[(6, 9, 'QUANTITY'), (67, 118, 'ORG'), (131, 136, ...\". Use `spacy.training.offsets_to_biluo_tags(nlp.make_doc(text), entities)` to check the alignment. Misaligned entities ('-') will be ignored during training.\n",
            "  entities=ent_str[:50] + \"...\" if len(ent_str) > 50 else ent_str,\n",
            " 54%|█████▍    | 971/1800 [00:45<00:44, 18.54it/s]/usr/local/lib/python3.7/dist-packages/spacy/training/iob_utils.py:144: UserWarning: [W030] Some entities could not be aligned in the text \"În 1998, RATB a început un proces de modernizare a...\" with entities \"[(3, 7, 'DATETIME'), (9, 13, 'ORG'), (64, 65, 'NUM...\". Use `spacy.training.offsets_to_biluo_tags(nlp.make_doc(text), entities)` to check the alignment. Misaligned entities ('-') will be ignored during training.\n",
            "  entities=ent_str[:50] + \"...\" if len(ent_str) > 50 else ent_str,\n",
            " 55%|█████▍    | 988/1800 [00:46<00:40, 20.06it/s]/usr/local/lib/python3.7/dist-packages/spacy/training/iob_utils.py:144: UserWarning: [W030] Some entities could not be aligned in the text \"Tabăra de creație plastică \"Mraconia-Dubova\" împli...\" with entities \"[(28, 36, 'LOC'), (37, 43, 'GPE'), (56, 65, 'DATET...\". Use `spacy.training.offsets_to_biluo_tags(nlp.make_doc(text), entities)` to check the alignment. Misaligned entities ('-') will be ignored during training.\n",
            "  entities=ent_str[:50] + \"...\" if len(ent_str) > 50 else ent_str,\n",
            " 55%|█████▌    | 991/1800 [00:46<00:37, 21.49it/s]/usr/local/lib/python3.7/dist-packages/spacy/training/iob_utils.py:144: UserWarning: [W030] Some entities could not be aligned in the text \"În baza Legii nr. 76/2002, Agenția Județeană pentr...\" with entities \"[(18, 20, 'NUMERIC'), (21, 25, 'DATETIME'), (27, 8...\". Use `spacy.training.offsets_to_biluo_tags(nlp.make_doc(text), entities)` to check the alignment. Misaligned entities ('-') will be ignored during training.\n",
            "  entities=ent_str[:50] + \"...\" if len(ent_str) > 50 else ent_str,\n",
            " 56%|█████▋    | 1015/1800 [00:47<00:37, 20.74it/s]/usr/local/lib/python3.7/dist-packages/spacy/training/iob_utils.py:144: UserWarning: [W030] Some entities could not be aligned in the text \"Caut să închiriez apartament cu 2-3 camere, mobila...\" with entities \"[(32, 33, 'NUMERIC'), (34, 35, 'NUMERIC'), (58, 64...\". Use `spacy.training.offsets_to_biluo_tags(nlp.make_doc(text), entities)` to check the alignment. Misaligned entities ('-') will be ignored during training.\n",
            "  entities=ent_str[:50] + \"...\" if len(ent_str) > 50 else ent_str,\n",
            " 57%|█████▋    | 1018/1800 [00:47<00:37, 20.77it/s]/usr/local/lib/python3.7/dist-packages/spacy/training/iob_utils.py:144: UserWarning: [W030] Some entities could not be aligned in the text \"Alte rezultate: C.S.M. Constanța - Pandurii Târgu ...\" with entities \"[(16, 32, 'ORG'), (54, 55, 'NUMERIC'), (56, 57, 'N...\". Use `spacy.training.offsets_to_biluo_tags(nlp.make_doc(text), entities)` to check the alignment. Misaligned entities ('-') will be ignored during training.\n",
            "  entities=ent_str[:50] + \"...\" if len(ent_str) > 50 else ent_str,\n",
            " 57%|█████▋    | 1021/1800 [00:47<00:35, 21.83it/s]/usr/local/lib/python3.7/dist-packages/spacy/training/iob_utils.py:144: UserWarning: [W030] Some entities could not be aligned in the text \"A fost profesor la Conservatorul din București.A s...\" with entities \"[(7, 15, 'PERSON'), (19, 46, 'ORG'), (92, 119, 'WO...\". Use `spacy.training.offsets_to_biluo_tags(nlp.make_doc(text), entities)` to check the alignment. Misaligned entities ('-') will be ignored during training.\n",
            "  entities=ent_str[:50] + \"...\" if len(ent_str) > 50 else ent_str,\n",
            " 57%|█████▋    | 1027/1800 [00:47<00:38, 19.85it/s]/usr/local/lib/python3.7/dist-packages/spacy/training/iob_utils.py:144: UserWarning: [W030] Some entities could not be aligned in the text \"Un alt sens sau motiv al pomenirii Sfinților Părin...\" with entities \"[(35, 52, 'PERSON'), (59, 65, 'GPE'), (88, 96, 'PE...\". Use `spacy.training.offsets_to_biluo_tags(nlp.make_doc(text), entities)` to check the alignment. Misaligned entities ('-') will be ignored during training.\n",
            "  entities=ent_str[:50] + \"...\" if len(ent_str) > 50 else ent_str,\n",
            " 57%|█████▋    | 1032/1800 [00:48<00:41, 18.72it/s]/usr/local/lib/python3.7/dist-packages/spacy/training/iob_utils.py:144: UserWarning: [W030] Some entities could not be aligned in the text \"Prima zi a Forumului Social Mondial (Porto Alegro,...\" with entities \"[(0, 8, 'DATETIME'), (11, 35, 'EVENT'), (37, 59, '...\". Use `spacy.training.offsets_to_biluo_tags(nlp.make_doc(text), entities)` to check the alignment. Misaligned entities ('-') will be ignored during training.\n",
            "  entities=ent_str[:50] + \"...\" if len(ent_str) > 50 else ent_str,\n",
            " 58%|█████▊    | 1044/1800 [00:48<00:41, 18.43it/s]/usr/local/lib/python3.7/dist-packages/spacy/training/iob_utils.py:144: UserWarning: [W030] Some entities could not be aligned in the text \"În sezonul 2, Elodie se împacă în cele din urmă cu...\" with entities \"[(11, 12, 'NUMERIC'), (14, 20, 'PERSON'), (51, 55,...\". Use `spacy.training.offsets_to_biluo_tags(nlp.make_doc(text), entities)` to check the alignment. Misaligned entities ('-') will be ignored during training.\n",
            "  entities=ent_str[:50] + \"...\" if len(ent_str) > 50 else ent_str,\n",
            " 58%|█████▊    | 1052/1800 [00:49<00:42, 17.51it/s]/usr/local/lib/python3.7/dist-packages/spacy/training/iob_utils.py:144: UserWarning: [W030] Some entities could not be aligned in the text \"Editura Edu vă pune la dispoziție super-manualul d...\" with entities \"[(0, 11, 'ORG'), (60, 109, 'WORK_OF_ART'), (121, 1...\". Use `spacy.training.offsets_to_biluo_tags(nlp.make_doc(text), entities)` to check the alignment. Misaligned entities ('-') will be ignored during training.\n",
            "  entities=ent_str[:50] + \"...\" if len(ent_str) > 50 else ent_str,\n",
            " 59%|█████▉    | 1065/1800 [00:50<00:38, 19.15it/s]/usr/local/lib/python3.7/dist-packages/spacy/training/iob_utils.py:144: UserWarning: [W030] Some entities could not be aligned in the text \"În iunie 1846 a demisionat din Comitetul franco-po...\" with entities \"[(3, 13, 'DATETIME'), (41, 47, 'NAT_REL_POL'), (48...\". Use `spacy.training.offsets_to_biluo_tags(nlp.make_doc(text), entities)` to check the alignment. Misaligned entities ('-') will be ignored during training.\n",
            "  entities=ent_str[:50] + \"...\" if len(ent_str) > 50 else ent_str,\n",
            " 60%|█████▉    | 1071/1800 [00:50<00:34, 20.93it/s]/usr/local/lib/python3.7/dist-packages/spacy/training/iob_utils.py:144: UserWarning: [W030] Some entities could not be aligned in the text \"Fostul Palat al Poștei și Finanțelor din Turda (Pi...\" with entities \"[(7, 46, 'FACILITY'), (48, 71, 'LOC'), (118, 137, ...\". Use `spacy.training.offsets_to_biluo_tags(nlp.make_doc(text), entities)` to check the alignment. Misaligned entities ('-') will be ignored during training.\n",
            "  entities=ent_str[:50] + \"...\" if len(ent_str) > 50 else ent_str,\n",
            " 61%|██████▏   | 1104/1800 [00:51<00:33, 21.07it/s]/usr/local/lib/python3.7/dist-packages/spacy/training/iob_utils.py:144: UserWarning: [W030] Some entities could not be aligned in the text \"Magazinul \"B & B Collection\" (Centrul Comercial \"T...\" with entities \"[(0, 28, 'ORG'), (30, 55, 'FACILITY'), (65, 67, 'N...\". Use `spacy.training.offsets_to_biluo_tags(nlp.make_doc(text), entities)` to check the alignment. Misaligned entities ('-') will be ignored during training.\n",
            "  entities=ent_str[:50] + \"...\" if len(ent_str) > 50 else ent_str,\n",
            " 63%|██████▎   | 1128/1800 [00:53<00:31, 21.22it/s]/usr/local/lib/python3.7/dist-packages/spacy/training/iob_utils.py:144: UserWarning: [W030] Some entities could not be aligned in the text \"Deocamdatã am demarat procedurile legale de obtine...\" with entities \"[(115, 119, 'DATETIME'), (123, 127, 'DATETIME'), (...\". Use `spacy.training.offsets_to_biluo_tags(nlp.make_doc(text), entities)` to check the alignment. Misaligned entities ('-') will be ignored during training.\n",
            "  entities=ent_str[:50] + \"...\" if len(ent_str) > 50 else ent_str,\n",
            " 63%|██████▎   | 1137/1800 [00:53<00:32, 20.66it/s]/usr/local/lib/python3.7/dist-packages/spacy/training/iob_utils.py:144: UserWarning: [W030] Some entities could not be aligned in the text \"Dispoziția nr. 47/24.04.2018 privind desemnarea d-...\" with entities \"[(15, 17, 'NUMERIC'), (18, 28, 'DATETIME'), (48, 8...\". Use `spacy.training.offsets_to_biluo_tags(nlp.make_doc(text), entities)` to check the alignment. Misaligned entities ('-') will be ignored during training.\n",
            "  entities=ent_str[:50] + \"...\" if len(ent_str) > 50 else ent_str,\n",
            " 64%|██████▍   | 1149/1800 [00:53<00:27, 23.67it/s]/usr/local/lib/python3.7/dist-packages/spacy/training/iob_utils.py:144: UserWarning: [W030] Some entities could not be aligned in the text \"[14] În compunerea acestui Detașament intrau: cuir...\" with entities \"[(1, 3, 'NUMERIC'), (123, 124, 'NUMERIC'), (178, 1...\". Use `spacy.training.offsets_to_biluo_tags(nlp.make_doc(text), entities)` to check the alignment. Misaligned entities ('-') will be ignored during training.\n",
            "  entities=ent_str[:50] + \"...\" if len(ent_str) > 50 else ent_str,\n",
            " 64%|██████▍   | 1155/1800 [00:54<00:30, 20.84it/s]/usr/local/lib/python3.7/dist-packages/spacy/training/iob_utils.py:144: UserWarning: [W030] Some entities could not be aligned in the text \"Printr-un comunicat transmis redacției \"Agenda”, d...\" with entities \"[(39, 47, 'ORG'), (60, 104, 'ORG'), (106, 126, 'PE...\". Use `spacy.training.offsets_to_biluo_tags(nlp.make_doc(text), entities)` to check the alignment. Misaligned entities ('-') will be ignored during training.\n",
            "  entities=ent_str[:50] + \"...\" if len(ent_str) > 50 else ent_str,\n",
            " 64%|██████▍   | 1158/1800 [00:54<00:30, 21.23it/s]/usr/local/lib/python3.7/dist-packages/spacy/training/iob_utils.py:144: UserWarning: [W030] Some entities could not be aligned in the text \"Prin sentința civilă nr.2232/08 nov.2006, pronunța...\" with entities \"[(24, 28, 'NUMERIC'), (29, 40, 'DATETIME'), (67, 7...\". Use `spacy.training.offsets_to_biluo_tags(nlp.make_doc(text), entities)` to check the alignment. Misaligned entities ('-') will be ignored during training.\n",
            "  entities=ent_str[:50] + \"...\" if len(ent_str) > 50 else ent_str,\n",
            " 65%|██████▍   | 1164/1800 [00:54<00:30, 20.99it/s]/usr/local/lib/python3.7/dist-packages/spacy/training/iob_utils.py:144: UserWarning: [W030] Some entities could not be aligned in the text \"Guvernul slovac aprobă Tratatul de aderare a Român...\" with entities \"[(9, 15, 'NAT_REL_POL'), (45, 53, 'GPE'), (57, 66,...\". Use `spacy.training.offsets_to_biluo_tags(nlp.make_doc(text), entities)` to check the alignment. Misaligned entities ('-') will be ignored during training.\n",
            "  entities=ent_str[:50] + \"...\" if len(ent_str) > 50 else ent_str,\n",
            " 65%|██████▌   | 1173/1800 [00:55<00:31, 19.94it/s]/usr/local/lib/python3.7/dist-packages/spacy/training/iob_utils.py:144: UserWarning: [W030] Some entities could not be aligned in the text \"Formularul va fi completat de candidat după achita...\" with entities \"[(30, 38, 'PERSON'), (76, 79, 'ORG'), (93, 95, 'NU...\". Use `spacy.training.offsets_to_biluo_tags(nlp.make_doc(text), entities)` to check the alignment. Misaligned entities ('-') will be ignored during training.\n",
            "  entities=ent_str[:50] + \"...\" if len(ent_str) > 50 else ent_str,\n",
            " 66%|██████▌   | 1185/1800 [00:55<00:28, 21.23it/s]/usr/local/lib/python3.7/dist-packages/spacy/training/iob_utils.py:144: UserWarning: [W030] Some entities could not be aligned in the text \"AlbumulPurple Rain este pe locul 72 înlista celor ...\" with entities \"[(0, 18, 'WORK_OF_ART'), (33, 35, 'NUMERIC'), (59,...\". Use `spacy.training.offsets_to_biluo_tags(nlp.make_doc(text), entities)` to check the alignment. Misaligned entities ('-') will be ignored during training.\n",
            "  entities=ent_str[:50] + \"...\" if len(ent_str) > 50 else ent_str,\n",
            " 66%|██████▌   | 1191/1800 [00:55<00:26, 22.83it/s]/usr/local/lib/python3.7/dist-packages/spacy/training/iob_utils.py:144: UserWarning: [W030] Some entities could not be aligned in the text \"În primul meci, împotriva Tunisiei, Scholes a marc...\" with entities \"[(3, 9, 'ORDINAL'), (26, 34, 'GPE'), (36, 43, 'PER...\". Use `spacy.training.offsets_to_biluo_tags(nlp.make_doc(text), entities)` to check the alignment. Misaligned entities ('-') will be ignored during training.\n",
            "  entities=ent_str[:50] + \"...\" if len(ent_str) > 50 else ent_str,\n",
            " 66%|██████▋   | 1194/1800 [00:56<00:26, 23.30it/s]/usr/local/lib/python3.7/dist-packages/spacy/training/iob_utils.py:144: UserWarning: [W030] Some entities could not be aligned in the text \"Conform Legii nr. 347/2006 (care modifică și compl...\" with entities \"[(18, 21, 'NUMERIC'), (22, 26, 'DATETIME'), (67, 7...\". Use `spacy.training.offsets_to_biluo_tags(nlp.make_doc(text), entities)` to check the alignment. Misaligned entities ('-') will be ignored during training.\n",
            "  entities=ent_str[:50] + \"...\" if len(ent_str) > 50 else ent_str,\n",
            "/usr/local/lib/python3.7/dist-packages/spacy/training/iob_utils.py:144: UserWarning: [W030] Some entities could not be aligned in the text \"Bulls terminat cu un 47-35, record, și avansate, î...\" with entities \"[(0, 5, 'ORG'), (21, 23, 'NUMERIC'), (24, 26, 'NUM...\". Use `spacy.training.offsets_to_biluo_tags(nlp.make_doc(text), entities)` to check the alignment. Misaligned entities ('-') will be ignored during training.\n",
            "  entities=ent_str[:50] + \"...\" if len(ent_str) > 50 else ent_str,\n",
            " 67%|██████▋   | 1204/1800 [00:56<00:23, 25.45it/s]/usr/local/lib/python3.7/dist-packages/spacy/training/iob_utils.py:144: UserWarning: [W030] Some entities could not be aligned in the text \"În 1911, Cantor a fost unul dintre distinșii savan...\" with entities \"[(3, 7, 'DATETIME'), (9, 15, 'PERSON'), (45, 52, '...\". Use `spacy.training.offsets_to_biluo_tags(nlp.make_doc(text), entities)` to check the alignment. Misaligned entities ('-') will be ignored during training.\n",
            "  entities=ent_str[:50] + \"...\" if len(ent_str) > 50 else ent_str,\n",
            "/usr/local/lib/python3.7/dist-packages/spacy/training/iob_utils.py:144: UserWarning: [W030] Some entities could not be aligned in the text \"Până la anul 1800 sunt redate exhaustiv documentel...\" with entities \"[(8, 17, 'DATETIME'), (73, 81, 'GPE'), (84, 89, 'G...\". Use `spacy.training.offsets_to_biluo_tags(nlp.make_doc(text), entities)` to check the alignment. Misaligned entities ('-') will be ignored during training.\n",
            "  entities=ent_str[:50] + \"...\" if len(ent_str) > 50 else ent_str,\n",
            " 67%|██████▋   | 1207/1800 [00:56<00:24, 24.56it/s]/usr/local/lib/python3.7/dist-packages/spacy/training/iob_utils.py:144: UserWarning: [W030] Some entities could not be aligned in the text \"În 2013,87,2% dintre utilizatorii de internet de s...\" with entities \"[(3, 7, 'DATETIME'), (8, 13, 'QUANTITY'), (21, 33,...\". Use `spacy.training.offsets_to_biluo_tags(nlp.make_doc(text), entities)` to check the alignment. Misaligned entities ('-') will be ignored during training.\n",
            "  entities=ent_str[:50] + \"...\" if len(ent_str) > 50 else ent_str,\n",
            " 67%|██████▋   | 1213/1800 [00:56<00:28, 20.67it/s]/usr/local/lib/python3.7/dist-packages/spacy/training/iob_utils.py:144: UserWarning: [W030] Some entities could not be aligned in the text \"Un joc politic din care președintele profită ieriP...\" with entities \"[(24, 36, 'PERSON'), (49, 69, 'PERSON'), (73, 103,...\". Use `spacy.training.offsets_to_biluo_tags(nlp.make_doc(text), entities)` to check the alignment. Misaligned entities ('-') will be ignored during training.\n",
            "  entities=ent_str[:50] + \"...\" if len(ent_str) > 50 else ent_str,\n",
            " 68%|██████▊   | 1219/1800 [00:57<00:28, 20.59it/s]/usr/local/lib/python3.7/dist-packages/spacy/training/iob_utils.py:144: UserWarning: [W030] Some entities could not be aligned in the text \"Primul obiectiv al vizitei l-a reprezentat partici...\" with entities \"[(0, 6, 'ORDINAL'), (86, 113, 'ORG'), (118, 125, '...\". Use `spacy.training.offsets_to_biluo_tags(nlp.make_doc(text), entities)` to check the alignment. Misaligned entities ('-') will be ignored during training.\n",
            "  entities=ent_str[:50] + \"...\" if len(ent_str) > 50 else ent_str,\n",
            " 69%|██████▊   | 1234/1800 [00:57<00:24, 23.03it/s]/usr/local/lib/python3.7/dist-packages/spacy/training/iob_utils.py:144: UserWarning: [W030] Some entities could not be aligned in the text \"El a refuzat să spună din ce bani trăiește fostul ...\" with entities \"[(0, 2, 'PERSON'), (50, 58, 'PERSON'), (62, 72, 'G...\". Use `spacy.training.offsets_to_biluo_tags(nlp.make_doc(text), entities)` to check the alignment. Misaligned entities ('-') will be ignored during training.\n",
            "  entities=ent_str[:50] + \"...\" if len(ent_str) > 50 else ent_str,\n",
            " 69%|██████▉   | 1249/1800 [00:58<00:23, 23.94it/s]/usr/local/lib/python3.7/dist-packages/spacy/training/iob_utils.py:144: UserWarning: [W030] Some entities could not be aligned in the text \"Pentru necesitățile învățământului în limba română...\" with entities \"[(38, 50, 'LANGUAGE'), (54, 60, 'GPE'), (76, 80, '...\". Use `spacy.training.offsets_to_biluo_tags(nlp.make_doc(text), entities)` to check the alignment. Misaligned entities ('-') will be ignored during training.\n",
            "  entities=ent_str[:50] + \"...\" if len(ent_str) > 50 else ent_str,\n",
            " 70%|██████▉   | 1255/1800 [00:58<00:22, 24.43it/s]/usr/local/lib/python3.7/dist-packages/spacy/training/iob_utils.py:144: UserWarning: [W030] Some entities could not be aligned in the text \"Reînnoirea cetățeniei de onoare a comunei Eckartsa...\" with entities \"[(42, 51, 'GPE'), (61, 69, 'NAT_REL_POL'), (87, 91...\". Use `spacy.training.offsets_to_biluo_tags(nlp.make_doc(text), entities)` to check the alignment. Misaligned entities ('-') will be ignored during training.\n",
            "  entities=ent_str[:50] + \"...\" if len(ent_str) > 50 else ent_str,\n",
            " 70%|██████▉   | 1258/1800 [00:58<00:21, 24.82it/s]/usr/local/lib/python3.7/dist-packages/spacy/training/iob_utils.py:144: UserWarning: [W030] Some entities could not be aligned in the text \"Perisic (60) a ratat o mare ocazie, șutul său din ...\" with entities \"[(0, 7, 'PERSON'), (9, 11, 'DATETIME'), (69, 80, '...\". Use `spacy.training.offsets_to_biluo_tags(nlp.make_doc(text), entities)` to check the alignment. Misaligned entities ('-') will be ignored during training.\n",
            "  entities=ent_str[:50] + \"...\" if len(ent_str) > 50 else ent_str,\n",
            " 70%|███████   | 1261/1800 [00:59<00:22, 23.80it/s]/usr/local/lib/python3.7/dist-packages/spacy/training/iob_utils.py:144: UserWarning: [W030] Some entities could not be aligned in the text \"Anexa nr. 1 conține normele metodologice care stab...\" with entities \"[(10, 11, 'NUMERIC'), (105, 106, 'NUMERIC'), (107,...\". Use `spacy.training.offsets_to_biluo_tags(nlp.make_doc(text), entities)` to check the alignment. Misaligned entities ('-') will be ignored during training.\n",
            "  entities=ent_str[:50] + \"...\" if len(ent_str) > 50 else ent_str,\n",
            " 71%|███████   | 1280/1800 [00:59<00:22, 22.71it/s]/usr/local/lib/python3.7/dist-packages/spacy/training/iob_utils.py:144: UserWarning: [W030] Some entities could not be aligned in the text \"De asemenea, este o futuwwah adecvată față de oame...\" with entities \"[(46, 53, 'PERSON'), (79, 85, 'PERSON'), (153, 159...\". Use `spacy.training.offsets_to_biluo_tags(nlp.make_doc(text), entities)` to check the alignment. Misaligned entities ('-') will be ignored during training.\n",
            "  entities=ent_str[:50] + \"...\" if len(ent_str) > 50 else ent_str,\n",
            " 71%|███████▏  | 1286/1800 [01:00<00:26, 19.07it/s]/usr/local/lib/python3.7/dist-packages/spacy/training/iob_utils.py:144: UserWarning: [W030] Some entities could not be aligned in the text \"Mai mult decât atât, după ce au ieșit din matinal,...\" with entities \"[(51, 67, 'PERSON'), (71, 83, 'PERSON'), (88, 94, ...\". Use `spacy.training.offsets_to_biluo_tags(nlp.make_doc(text), entities)` to check the alignment. Misaligned entities ('-') will be ignored during training.\n",
            "  entities=ent_str[:50] + \"...\" if len(ent_str) > 50 else ent_str,\n",
            " 72%|███████▏  | 1300/1800 [01:00<00:24, 20.03it/s]/usr/local/lib/python3.7/dist-packages/spacy/training/iob_utils.py:144: UserWarning: [W030] Some entities could not be aligned in the text \"Altfel, nu mai putem vorbi de nimic'22 noi 01:06Mo...\" with entities \"[(36, 48, 'DATETIME'), (54, 56, 'PERSON'), (74, 90...\". Use `spacy.training.offsets_to_biluo_tags(nlp.make_doc(text), entities)` to check the alignment. Misaligned entities ('-') will be ignored during training.\n",
            "  entities=ent_str[:50] + \"...\" if len(ent_str) > 50 else ent_str,\n",
            " 72%|███████▏  | 1303/1800 [01:01<00:25, 19.61it/s]/usr/local/lib/python3.7/dist-packages/spacy/training/iob_utils.py:144: UserWarning: [W030] Some entities could not be aligned in the text \"Austria va contribui cu încă 3,2 milioane de euro ...\" with entities \"[(0, 7, 'GPE'), (29, 49, 'MONEY'), (133, 142, 'PER...\". Use `spacy.training.offsets_to_biluo_tags(nlp.make_doc(text), entities)` to check the alignment. Misaligned entities ('-') will be ignored during training.\n",
            "  entities=ent_str[:50] + \"...\" if len(ent_str) > 50 else ent_str,\n",
            " 72%|███████▎  | 1305/1800 [01:01<00:26, 18.65it/s]/usr/local/lib/python3.7/dist-packages/spacy/training/iob_utils.py:144: UserWarning: [W030] Some entities could not be aligned in the text \"Primul zbor a avut loc în 1993, prima livrare în 1...\" with entities \"[(0, 6, 'ORDINAL'), (26, 30, 'DATETIME'), (32, 37,...\". Use `spacy.training.offsets_to_biluo_tags(nlp.make_doc(text), entities)` to check the alignment. Misaligned entities ('-') will be ignored during training.\n",
            "  entities=ent_str[:50] + \"...\" if len(ent_str) > 50 else ent_str,\n",
            " 73%|███████▎  | 1307/1800 [01:01<00:26, 18.93it/s]/usr/local/lib/python3.7/dist-packages/spacy/training/iob_utils.py:144: UserWarning: [W030] Some entities could not be aligned in the text \"Acesta tactica a inceput in vara anului trecut cu ...\" with entities \"[(28, 46, 'DATETIME'), (50, 53, 'NUMERIC'), (171, ...\". Use `spacy.training.offsets_to_biluo_tags(nlp.make_doc(text), entities)` to check the alignment. Misaligned entities ('-') will be ignored during training.\n",
            "  entities=ent_str[:50] + \"...\" if len(ent_str) > 50 else ent_str,\n",
            " 73%|███████▎  | 1319/1800 [01:01<00:23, 20.72it/s]/usr/local/lib/python3.7/dist-packages/spacy/training/iob_utils.py:144: UserWarning: [W030] Some entities could not be aligned in the text \"După întoarcerea în Franța, a fost numit de (lecto...\" with entities \"[(20, 26, 'GPE'), (41, 52, 'PERSON'), (65, 74, 'PE...\". Use `spacy.training.offsets_to_biluo_tags(nlp.make_doc(text), entities)` to check the alignment. Misaligned entities ('-') will be ignored during training.\n",
            "  entities=ent_str[:50] + \"...\" if len(ent_str) > 50 else ent_str,\n",
            " 74%|███████▍  | 1337/1800 [01:02<00:25, 18.30it/s]/usr/local/lib/python3.7/dist-packages/spacy/training/iob_utils.py:144: UserWarning: [W030] Some entities could not be aligned in the text \"Istoricul David Dutton consideră că transformarea ...\" with entities \"[(0, 22, 'PERSON'), (50, 71, 'ORG'), (76, 82, 'LOC...\". Use `spacy.training.offsets_to_biluo_tags(nlp.make_doc(text), entities)` to check the alignment. Misaligned entities ('-') will be ignored during training.\n",
            "  entities=ent_str[:50] + \"...\" if len(ent_str) > 50 else ent_str,\n",
            " 75%|███████▍  | 1342/1800 [01:03<00:23, 19.51it/s]/usr/local/lib/python3.7/dist-packages/spacy/training/iob_utils.py:144: UserWarning: [W030] Some entities could not be aligned in the text \"Prin O.U.G. nr. 197 (M.O. nr. 956 din 27 decembrie...\" with entities \"[(16, 19, 'NUMERIC'), (30, 33, 'NUMERIC'), (38, 55...\". Use `spacy.training.offsets_to_biluo_tags(nlp.make_doc(text), entities)` to check the alignment. Misaligned entities ('-') will be ignored during training.\n",
            "  entities=ent_str[:50] + \"...\" if len(ent_str) > 50 else ent_str,\n",
            " 75%|███████▌  | 1354/1800 [01:03<00:21, 21.23it/s]/usr/local/lib/python3.7/dist-packages/spacy/training/iob_utils.py:144: UserWarning: [W030] Some entities could not be aligned in the text \"Anonim la Viorica Dăncilă a picat și treapta I, și...\" with entities \"[(10, 25, 'PERSON'), (45, 46, 'NUMERIC'), (59, 65,...\". Use `spacy.training.offsets_to_biluo_tags(nlp.make_doc(text), entities)` to check the alignment. Misaligned entities ('-') will be ignored during training.\n",
            "  entities=ent_str[:50] + \"...\" if len(ent_str) > 50 else ent_str,\n",
            " 75%|███████▌  | 1357/1800 [01:03<00:20, 21.42it/s]/usr/local/lib/python3.7/dist-packages/spacy/training/iob_utils.py:144: UserWarning: [W030] Some entities could not be aligned in the text \"În finalele turneului de tenis de câmp Australian ...\" with entities \"[(39, 54, 'EVENT'), (61, 70, 'GPE'), (82, 104, 'PE...\". Use `spacy.training.offsets_to_biluo_tags(nlp.make_doc(text), entities)` to check the alignment. Misaligned entities ('-') will be ignored during training.\n",
            "  entities=ent_str[:50] + \"...\" if len(ent_str) > 50 else ent_str,\n",
            " 76%|███████▌  | 1366/1800 [01:04<00:21, 20.50it/s]/usr/local/lib/python3.7/dist-packages/spacy/training/iob_utils.py:144: UserWarning: [W030] Some entities could not be aligned in the text \"În Capitolul IV “Rolul unităților de învățământ și...\" with entities \"[(13, 15, 'NUMERIC'), (135, 143, 'PERSON'), (151, ...\". Use `spacy.training.offsets_to_biluo_tags(nlp.make_doc(text), entities)` to check the alignment. Misaligned entities ('-') will be ignored during training.\n",
            "  entities=ent_str[:50] + \"...\" if len(ent_str) > 50 else ent_str,\n",
            " 76%|███████▌  | 1371/1800 [01:04<00:22, 19.41it/s]/usr/local/lib/python3.7/dist-packages/spacy/training/iob_utils.py:144: UserWarning: [W030] Some entities could not be aligned in the text \"Singurul mod în care el ar fi putut face acest luc...\" with entities \"[(21, 23, 'PERSON'), (134, 142, 'NAT_REL_POL'), (1...\". Use `spacy.training.offsets_to_biluo_tags(nlp.make_doc(text), entities)` to check the alignment. Misaligned entities ('-') will be ignored during training.\n",
            "  entities=ent_str[:50] + \"...\" if len(ent_str) > 50 else ent_str,\n",
            " 76%|███████▋  | 1376/1800 [01:04<00:21, 19.43it/s]/usr/local/lib/python3.7/dist-packages/spacy/training/iob_utils.py:144: UserWarning: [W030] Some entities could not be aligned in the text \"La New York s-au desfășurat reuniunea tripartită O...\" with entities \"[(3, 11, 'GPE'), (49, 55, 'ORG'), (65, 69, 'GPE'),...\". Use `spacy.training.offsets_to_biluo_tags(nlp.make_doc(text), entities)` to check the alignment. Misaligned entities ('-') will be ignored during training.\n",
            "  entities=ent_str[:50] + \"...\" if len(ent_str) > 50 else ent_str,\n",
            " 77%|███████▋  | 1382/1800 [01:05<00:20, 20.25it/s]/usr/local/lib/python3.7/dist-packages/spacy/training/iob_utils.py:144: UserWarning: [W030] Some entities could not be aligned in the text \"... Citeste comunicatulHotelul Vega din Mamaia a o...\" with entities \"[(23, 35, 'FACILITY'), (40, 46, 'GPE'), (57, 61, '...\". Use `spacy.training.offsets_to_biluo_tags(nlp.make_doc(text), entities)` to check the alignment. Misaligned entities ('-') will be ignored during training.\n",
            "  entities=ent_str[:50] + \"...\" if len(ent_str) > 50 else ent_str,\n",
            " 77%|███████▋  | 1388/1800 [01:05<00:21, 19.17it/s]/usr/local/lib/python3.7/dist-packages/spacy/training/iob_utils.py:144: UserWarning: [W030] Some entities could not be aligned in the text \"13. PROIECT DE HOTĂRÂRE inițiat de primar, privind...\" with entities \"[(0, 2, 'NUMERIC'), (35, 41, 'PERSON'), (138, 146,...\". Use `spacy.training.offsets_to_biluo_tags(nlp.make_doc(text), entities)` to check the alignment. Misaligned entities ('-') will be ignored during training.\n",
            "  entities=ent_str[:50] + \"...\" if len(ent_str) > 50 else ent_str,\n",
            " 77%|███████▋  | 1390/1800 [01:05<00:21, 19.19it/s]/usr/local/lib/python3.7/dist-packages/spacy/training/iob_utils.py:144: UserWarning: [W030] Some entities could not be aligned in the text \"Directorul general al Agenției Naționale pentru Si...\" with entities \"[(0, 10, 'PERSON'), (22, 69, 'ORG'), (99, 106, 'GP...\". Use `spacy.training.offsets_to_biluo_tags(nlp.make_doc(text), entities)` to check the alignment. Misaligned entities ('-') will be ignored during training.\n",
            "  entities=ent_str[:50] + \"...\" if len(ent_str) > 50 else ent_str,\n",
            " 78%|███████▊  | 1409/1800 [01:06<00:18, 21.48it/s]/usr/local/lib/python3.7/dist-packages/spacy/training/iob_utils.py:144: UserWarning: [W030] Some entities could not be aligned in the text \"Natură moartă cu mere și flori„Educația mumelor de...\" with entities \"[(61, 67, 'PERSON'), (82, 86, 'DATETIME'), (90, 10...\". Use `spacy.training.offsets_to_biluo_tags(nlp.make_doc(text), entities)` to check the alignment. Misaligned entities ('-') will be ignored during training.\n",
            "  entities=ent_str[:50] + \"...\" if len(ent_str) > 50 else ent_str,\n",
            " 78%|███████▊  | 1412/1800 [01:06<00:19, 20.14it/s]/usr/local/lib/python3.7/dist-packages/spacy/training/iob_utils.py:144: UserWarning: [W030] Some entities could not be aligned in the text \"Pe bârna de sus a portalului de intrare în tindă s...\" with entities \"[(104, 121, 'PERSON'), (232, 255, 'PERSON'), (259,...\". Use `spacy.training.offsets_to_biluo_tags(nlp.make_doc(text), entities)` to check the alignment. Misaligned entities ('-') will be ignored during training.\n",
            "  entities=ent_str[:50] + \"...\" if len(ent_str) > 50 else ent_str,\n",
            " 79%|███████▉  | 1424/1800 [01:07<00:16, 22.22it/s]/usr/local/lib/python3.7/dist-packages/spacy/training/iob_utils.py:144: UserWarning: [W030] Some entities could not be aligned in the text \"Societatea americano-braziliană Cross Lander, dist...\" with entities \"[(11, 20, 'NAT_REL_POL'), (32, 44, 'ORG'), (59, 62...\". Use `spacy.training.offsets_to_biluo_tags(nlp.make_doc(text), entities)` to check the alignment. Misaligned entities ('-') will be ignored during training.\n",
            "  entities=ent_str[:50] + \"...\" if len(ent_str) > 50 else ent_str,\n",
            " 79%|███████▉  | 1427/1800 [01:07<00:16, 22.79it/s]/usr/local/lib/python3.7/dist-packages/spacy/training/iob_utils.py:144: UserWarning: [W030] Some entities could not be aligned in the text \"2004 - România a încheiat procesul de distrugere a...\" with entities \"[(0, 4, 'DATETIME'), (7, 14, 'GPE'), (107, 113, 'G...\". Use `spacy.training.offsets_to_biluo_tags(nlp.make_doc(text), entities)` to check the alignment. Misaligned entities ('-') will be ignored during training.\n",
            "  entities=ent_str[:50] + \"...\" if len(ent_str) > 50 else ent_str,\n",
            " 79%|███████▉  | 1430/1800 [01:07<00:16, 22.18it/s]/usr/local/lib/python3.7/dist-packages/spacy/training/iob_utils.py:144: UserWarning: [W030] Some entities could not be aligned in the text \"Una dintre etapele denominării monedei naționale s...\" with entities \"[(65, 73, 'DATETIME'), (129, 130, 'NUMERIC'), (145...\". Use `spacy.training.offsets_to_biluo_tags(nlp.make_doc(text), entities)` to check the alignment. Misaligned entities ('-') will be ignored during training.\n",
            "  entities=ent_str[:50] + \"...\" if len(ent_str) > 50 else ent_str,\n",
            "/usr/local/lib/python3.7/dist-packages/spacy/training/iob_utils.py:144: UserWarning: [W030] Some entities could not be aligned in the text \"Rămăsese aceeași rasă rezistentă, răbdătoare, într...\" with entities \"[(82, 100, 'PERSON'), (102, 106, 'DATETIME'), (123...\". Use `spacy.training.offsets_to_biluo_tags(nlp.make_doc(text), entities)` to check the alignment. Misaligned entities ('-') will be ignored during training.\n",
            "  entities=ent_str[:50] + \"...\" if len(ent_str) > 50 else ent_str,\n",
            " 80%|███████▉  | 1433/1800 [01:07<00:16, 22.26it/s]/usr/local/lib/python3.7/dist-packages/spacy/training/iob_utils.py:144: UserWarning: [W030] Some entities could not be aligned in the text \"Summit Statele Unite ale Americii -Uniunea Europea...\" with entities \"[(7, 33, 'GPE'), (35, 52, 'ORG'), (104, 112, 'NAT_...\". Use `spacy.training.offsets_to_biluo_tags(nlp.make_doc(text), entities)` to check the alignment. Misaligned entities ('-') will be ignored during training.\n",
            "  entities=ent_str[:50] + \"...\" if len(ent_str) > 50 else ent_str,\n",
            " 80%|████████  | 1442/1800 [01:07<00:15, 23.58it/s]/usr/local/lib/python3.7/dist-packages/spacy/training/iob_utils.py:144: UserWarning: [W030] Some entities could not be aligned in the text \"Pasajul, în lungime de 204.5 m, va avea 2 benzi de...\" with entities \"[(23, 30, 'QUANTITY'), (40, 41, 'NUMERIC'), (70, 7...\". Use `spacy.training.offsets_to_biluo_tags(nlp.make_doc(text), entities)` to check the alignment. Misaligned entities ('-') will be ignored during training.\n",
            "  entities=ent_str[:50] + \"...\" if len(ent_str) > 50 else ent_str,\n",
            "/usr/local/lib/python3.7/dist-packages/spacy/training/iob_utils.py:144: UserWarning: [W030] Some entities could not be aligned in the text \"După pauză, Cosmin Iuhas a trecut de pe bancă în t...\" with entities \"[(12, 24, 'PERSON'), (132, 136, 'NUMERIC'), (156, ...\". Use `spacy.training.offsets_to_biluo_tags(nlp.make_doc(text), entities)` to check the alignment. Misaligned entities ('-') will be ignored during training.\n",
            "  entities=ent_str[:50] + \"...\" if len(ent_str) > 50 else ent_str,\n",
            " 80%|████████  | 1448/1800 [01:08<00:14, 23.70it/s]/usr/local/lib/python3.7/dist-packages/spacy/training/iob_utils.py:144: UserWarning: [W030] Some entities could not be aligned in the text \"Amplasată pe cea mai îngustă zonă a Dunării române...\" with entities \"[(44, 53, 'NAT_REL_POL'), (74, 82, 'LOC'), (83, 89...\". Use `spacy.training.offsets_to_biluo_tags(nlp.make_doc(text), entities)` to check the alignment. Misaligned entities ('-') will be ignored during training.\n",
            "  entities=ent_str[:50] + \"...\" if len(ent_str) > 50 else ent_str,\n",
            " 81%|████████  | 1460/1800 [01:08<00:13, 25.68it/s]/usr/local/lib/python3.7/dist-packages/spacy/training/iob_utils.py:144: UserWarning: [W030] Some entities could not be aligned in the text \"Înscrierea în licee și școli de arte și meserii se...\" with entities \"[(199, 202, 'QUANTITY'), (247, 248, 'NUMERIC'), (2...\". Use `spacy.training.offsets_to_biluo_tags(nlp.make_doc(text), entities)` to check the alignment. Misaligned entities ('-') will be ignored during training.\n",
            "  entities=ent_str[:50] + \"...\" if len(ent_str) > 50 else ent_str,\n",
            " 81%|████████▏ | 1463/1800 [01:08<00:13, 24.23it/s]/usr/local/lib/python3.7/dist-packages/spacy/training/iob_utils.py:144: UserWarning: [W030] Some entities could not be aligned in the text \"Dna Mihaela Madar, șef-serviciu Relații internațio...\" with entities \"[(0, 22, 'PERSON'), (65, 87, 'ORG'), (110, 127, 'D...\". Use `spacy.training.offsets_to_biluo_tags(nlp.make_doc(text), entities)` to check the alignment. Misaligned entities ('-') will be ignored during training.\n",
            "  entities=ent_str[:50] + \"...\" if len(ent_str) > 50 else ent_str,\n",
            " 81%|████████▏ | 1466/1800 [01:08<00:14, 23.51it/s]/usr/local/lib/python3.7/dist-packages/spacy/training/iob_utils.py:144: UserWarning: [W030] Some entities could not be aligned in the text \"După naufragiu, Walter Guinness aprecia în fața Ca...\" with entities \"[(16, 31, 'PERSON'), (48, 64, 'ORG'), (69, 78, 'GP...\". Use `spacy.training.offsets_to_biluo_tags(nlp.make_doc(text), entities)` to check the alignment. Misaligned entities ('-') will be ignored during training.\n",
            "  entities=ent_str[:50] + \"...\" if len(ent_str) > 50 else ent_str,\n",
            " 82%|████████▏ | 1475/1800 [01:09<00:15, 20.84it/s]/usr/local/lib/python3.7/dist-packages/spacy/training/iob_utils.py:144: UserWarning: [W030] Some entities could not be aligned in the text \"Cel mai vechi colegiu care încă mai există, Colegi...\" with entities \"[(44, 63, 'ORG'), (85, 89, 'DATETIME'), (132, 141,...\". Use `spacy.training.offsets_to_biluo_tags(nlp.make_doc(text), entities)` to check the alignment. Misaligned entities ('-') will be ignored during training.\n",
            "  entities=ent_str[:50] + \"...\" if len(ent_str) > 50 else ent_str,\n",
            " 82%|████████▏ | 1484/1800 [01:09<00:13, 23.23it/s]/usr/local/lib/python3.7/dist-packages/spacy/training/iob_utils.py:144: UserWarning: [W030] Some entities could not be aligned in the text \"Cererile de finanțare sunt așteptate de organizato...\" with entities \"[(89, 91, 'NUMERIC'), (115, 140, 'DATETIME')]\". Use `spacy.training.offsets_to_biluo_tags(nlp.make_doc(text), entities)` to check the alignment. Misaligned entities ('-') will be ignored during training.\n",
            "  entities=ent_str[:50] + \"...\" if len(ent_str) > 50 else ent_str,\n",
            " 83%|████████▎ | 1499/1800 [01:10<00:14, 20.61it/s]/usr/local/lib/python3.7/dist-packages/spacy/training/iob_utils.py:144: UserWarning: [W030] Some entities could not be aligned in the text \"C.L. Timișoara a aprobat o hotărâre de prelungire ...\" with entities \"[(0, 14, 'ORG'), (154, 156, 'NUMERIC'), (157, 161,...\". Use `spacy.training.offsets_to_biluo_tags(nlp.make_doc(text), entities)` to check the alignment. Misaligned entities ('-') will be ignored during training.\n",
            "  entities=ent_str[:50] + \"...\" if len(ent_str) > 50 else ent_str,\n",
            " 83%|████████▎ | 1502/1800 [01:10<00:14, 20.90it/s]/usr/local/lib/python3.7/dist-packages/spacy/training/iob_utils.py:144: UserWarning: [W030] Some entities could not be aligned in the text \"Activitati desasurate in proiect: campanii umanita...\" with entities \"[(175, 185, 'PERSON'), (191, 202, 'PERSON'), (213,...\". Use `spacy.training.offsets_to_biluo_tags(nlp.make_doc(text), entities)` to check the alignment. Misaligned entities ('-') will be ignored during training.\n",
            "  entities=ent_str[:50] + \"...\" if len(ent_str) > 50 else ent_str,\n",
            " 84%|████████▎ | 1505/1800 [01:10<00:13, 21.12it/s]/usr/local/lib/python3.7/dist-packages/spacy/training/iob_utils.py:144: UserWarning: [W030] Some entities could not be aligned in the text \"Or, „totalitarii” de stânga sau de dreapta vor pre...\" with entities \"[(4, 17, 'NAT_REL_POL'), (67, 77, 'NAT_REL_POL'), ...\". Use `spacy.training.offsets_to_biluo_tags(nlp.make_doc(text), entities)` to check the alignment. Misaligned entities ('-') will be ignored during training.\n",
            "  entities=ent_str[:50] + \"...\" if len(ent_str) > 50 else ent_str,\n",
            " 84%|████████▍ | 1508/1800 [01:10<00:13, 20.91it/s]/usr/local/lib/python3.7/dist-packages/spacy/training/iob_utils.py:144: UserWarning: [W030] Some entities could not be aligned in the text \"După cursurile școlii primare a făcut studiile med...\" with entities \"[(56, 60, 'NUMERIC'), (86, 87, 'NUMERIC'), (88, 91...\". Use `spacy.training.offsets_to_biluo_tags(nlp.make_doc(text), entities)` to check the alignment. Misaligned entities ('-') will be ignored during training.\n",
            "  entities=ent_str[:50] + \"...\" if len(ent_str) > 50 else ent_str,\n",
            " 85%|████████▌ | 1533/1800 [01:12<00:13, 19.13it/s]/usr/local/lib/python3.7/dist-packages/spacy/training/iob_utils.py:144: UserWarning: [W030] Some entities could not be aligned in the text \"In momentul profesiunii: „am auzit glasul Domnului...\" with entities \"[(42, 50, 'PERSON'), (105, 108, 'PERSON'), (115, 1...\". Use `spacy.training.offsets_to_biluo_tags(nlp.make_doc(text), entities)` to check the alignment. Misaligned entities ('-') will be ignored during training.\n",
            "  entities=ent_str[:50] + \"...\" if len(ent_str) > 50 else ent_str,\n",
            " 85%|████████▌ | 1538/1800 [01:12<00:13, 19.83it/s]/usr/local/lib/python3.7/dist-packages/spacy/training/iob_utils.py:144: UserWarning: [W030] Some entities could not be aligned in the text \"Pentru că filiația față de mamă nu pune probleme -...\" with entities \"[(27, 31, 'PERSON'), (159, 163, 'PERSON'), (226, 2...\". Use `spacy.training.offsets_to_biluo_tags(nlp.make_doc(text), entities)` to check the alignment. Misaligned entities ('-') will be ignored during training.\n",
            "  entities=ent_str[:50] + \"...\" if len(ent_str) > 50 else ent_str,\n",
            " 86%|████████▌ | 1540/1800 [01:12<00:14, 17.74it/s]/usr/local/lib/python3.7/dist-packages/spacy/training/iob_utils.py:144: UserWarning: [W030] Some entities could not be aligned in the text \"Cu toate acestea, „Only U” a devenit cel mai bine ...\" with entities \"[(18, 26, 'WORK_OF_ART'), (71, 78, 'PERSON'), (82,...\". Use `spacy.training.offsets_to_biluo_tags(nlp.make_doc(text), entities)` to check the alignment. Misaligned entities ('-') will be ignored during training.\n",
            "  entities=ent_str[:50] + \"...\" if len(ent_str) > 50 else ent_str,\n",
            " 86%|████████▌ | 1550/1800 [01:13<00:12, 20.18it/s]/usr/local/lib/python3.7/dist-packages/spacy/training/iob_utils.py:144: UserWarning: [W030] Some entities could not be aligned in the text \"Pe vremea când cea mai îngustă porțiune a Dunării ...\" with entities \"[(42, 49, 'LOC'), (72, 80, 'LOC'), (81, 87, 'GPE')...\". Use `spacy.training.offsets_to_biluo_tags(nlp.make_doc(text), entities)` to check the alignment. Misaligned entities ('-') will be ignored during training.\n",
            "  entities=ent_str[:50] + \"...\" if len(ent_str) > 50 else ent_str,\n",
            " 86%|████████▋ | 1553/1800 [01:13<00:12, 19.21it/s]/usr/local/lib/python3.7/dist-packages/spacy/training/iob_utils.py:144: UserWarning: [W030] Some entities could not be aligned in the text \"Prezentări realizate de studenți, organizarea unor...\" with entities \"[(24, 32, 'PERSON'), (66, 74, 'PERSON'), (103, 114...\". Use `spacy.training.offsets_to_biluo_tags(nlp.make_doc(text), entities)` to check the alignment. Misaligned entities ('-') will be ignored during training.\n",
            "  entities=ent_str[:50] + \"...\" if len(ent_str) > 50 else ent_str,\n",
            "/usr/local/lib/python3.7/dist-packages/spacy/training/iob_utils.py:144: UserWarning: [W030] Some entities could not be aligned in the text \"Temperaturile maxime se vor încadra între 30 și 34...\" with entities \"[(42, 44, 'QUANTITY'), (48, 53, 'QUANTITY'), (78, ...\". Use `spacy.training.offsets_to_biluo_tags(nlp.make_doc(text), entities)` to check the alignment. Misaligned entities ('-') will be ignored during training.\n",
            "  entities=ent_str[:50] + \"...\" if len(ent_str) > 50 else ent_str,\n",
            " 87%|████████▋ | 1567/1800 [01:13<00:10, 22.35it/s]/usr/local/lib/python3.7/dist-packages/spacy/training/iob_utils.py:144: UserWarning: [W030] Some entities could not be aligned in the text \"Românul Andrei Pavel s-a calificat în turul doi al...\" with entities \"[(8, 20, 'PERSON'), (44, 47, 'NUMERIC'), (51, 85, ...\". Use `spacy.training.offsets_to_biluo_tags(nlp.make_doc(text), entities)` to check the alignment. Misaligned entities ('-') will be ignored during training.\n",
            "  entities=ent_str[:50] + \"...\" if len(ent_str) > 50 else ent_str,\n",
            " 88%|████████▊ | 1576/1800 [01:14<00:09, 23.93it/s]/usr/local/lib/python3.7/dist-packages/spacy/training/iob_utils.py:144: UserWarning: [W030] Some entities could not be aligned in the text \"Pentru prima dată, arendatorii și arendașii vor av...\" with entities \"[(7, 12, 'ORDINAL'), (19, 30, 'PERSON'), (34, 43, ...\". Use `spacy.training.offsets_to_biluo_tags(nlp.make_doc(text), entities)` to check the alignment. Misaligned entities ('-') will be ignored during training.\n",
            "  entities=ent_str[:50] + \"...\" if len(ent_str) > 50 else ent_str,\n",
            " 88%|████████▊ | 1591/1800 [01:14<00:09, 23.13it/s]/usr/local/lib/python3.7/dist-packages/spacy/training/iob_utils.py:144: UserWarning: [W030] Some entities could not be aligned in the text \"Administrația Prezidențială primește doar o treime...\" with entities \"[(0, 27, 'ORG'), (42, 50, 'NUMERIC'), (110, 117, '...\". Use `spacy.training.offsets_to_biluo_tags(nlp.make_doc(text), entities)` to check the alignment. Misaligned entities ('-') will be ignored during training.\n",
            "  entities=ent_str[:50] + \"...\" if len(ent_str) > 50 else ent_str,\n",
            " 89%|████████▉ | 1603/1800 [01:15<00:09, 20.94it/s]/usr/local/lib/python3.7/dist-packages/spacy/training/iob_utils.py:144: UserWarning: [W030] Some entities could not be aligned in the text \"ConformComitetului Olimpic Bulgar, Champaud, cetăț...\" with entities \"[(7, 33, 'ORG'), (54, 62, 'NAT_REL_POL'), (84, 92,...\". Use `spacy.training.offsets_to_biluo_tags(nlp.make_doc(text), entities)` to check the alignment. Misaligned entities ('-') will be ignored during training.\n",
            "  entities=ent_str[:50] + \"...\" if len(ent_str) > 50 else ent_str,\n",
            " 90%|████████▉ | 1618/1800 [01:16<00:07, 24.74it/s]/usr/local/lib/python3.7/dist-packages/spacy/training/iob_utils.py:144: UserWarning: [W030] Some entities could not be aligned in the text \"A câștigat Cupa României cu echipa CFR Cluj și a f...\" with entities \"[(11, 24, 'EVENT'), (35, 43, 'ORG'), (69, 70, 'NUM...\". Use `spacy.training.offsets_to_biluo_tags(nlp.make_doc(text), entities)` to check the alignment. Misaligned entities ('-') will be ignored during training.\n",
            "  entities=ent_str[:50] + \"...\" if len(ent_str) > 50 else ent_str,\n",
            " 90%|█████████ | 1627/1800 [01:16<00:08, 21.35it/s]/usr/local/lib/python3.7/dist-packages/spacy/training/iob_utils.py:144: UserWarning: [W030] Some entities could not be aligned in the text \"Ocupația din Donbas a costat până acum Rusia peste...\" with entities \"[(13, 19, 'LOC'), (39, 44, 'GPE'), (51, 72, 'MONEY...\". Use `spacy.training.offsets_to_biluo_tags(nlp.make_doc(text), entities)` to check the alignment. Misaligned entities ('-') will be ignored during training.\n",
            "  entities=ent_str[:50] + \"...\" if len(ent_str) > 50 else ent_str,\n",
            "/usr/local/lib/python3.7/dist-packages/spacy/training/iob_utils.py:144: UserWarning: [W030] Some entities could not be aligned in the text \"Cea mai mare victorie a lui Tottenham a fost înreg...\" with entities \"[(28, 37, 'ORG'), (93, 107, 'ORG'), (111, 128, 'DA...\". Use `spacy.training.offsets_to_biluo_tags(nlp.make_doc(text), entities)` to check the alignment. Misaligned entities ('-') will be ignored during training.\n",
            "  entities=ent_str[:50] + \"...\" if len(ent_str) > 50 else ent_str,\n",
            " 91%|█████████ | 1630/1800 [01:16<00:08, 20.64it/s]/usr/local/lib/python3.7/dist-packages/spacy/training/iob_utils.py:144: UserWarning: [W030] Some entities could not be aligned in the text \"Solda unui soldat sau ofițer din Gardă este de 2-3...\" with entities \"[(11, 17, 'PERSON'), (22, 28, 'PERSON'), (47, 48, ...\". Use `spacy.training.offsets_to_biluo_tags(nlp.make_doc(text), entities)` to check the alignment. Misaligned entities ('-') will be ignored during training.\n",
            "  entities=ent_str[:50] + \"...\" if len(ent_str) > 50 else ent_str,\n",
            " 91%|█████████ | 1633/1800 [01:16<00:08, 20.05it/s]/usr/local/lib/python3.7/dist-packages/spacy/training/iob_utils.py:144: UserWarning: [W030] Some entities could not be aligned in the text \"Regula canonică proclamă: „Aceeași regulă va fi, d...\" with entities \"[(131, 138, 'PERSON'), (148, 156, 'PERSON'), (265,...\". Use `spacy.training.offsets_to_biluo_tags(nlp.make_doc(text), entities)` to check the alignment. Misaligned entities ('-') will be ignored during training.\n",
            "  entities=ent_str[:50] + \"...\" if len(ent_str) > 50 else ent_str,\n",
            "/usr/local/lib/python3.7/dist-packages/spacy/training/iob_utils.py:144: UserWarning: [W030] Some entities could not be aligned in the text \"După confirmarea diagnosticului în Institutul Memo...\" with entities \"[(35, 77, 'ORG'), (79, 86, 'PERSON'), (195, 203, '...\". Use `spacy.training.offsets_to_biluo_tags(nlp.make_doc(text), entities)` to check the alignment. Misaligned entities ('-') will be ignored during training.\n",
            "  entities=ent_str[:50] + \"...\" if len(ent_str) > 50 else ent_str,\n",
            " 91%|█████████ | 1636/1800 [01:17<00:09, 17.43it/s]/usr/local/lib/python3.7/dist-packages/spacy/training/iob_utils.py:144: UserWarning: [W030] Some entities could not be aligned in the text \"Cea mai cunoscută operă a lui Scherer este o carte...\" with entities \"[(30, 37, 'PERSON'), (69, 76, 'NAT_REL_POL'), (78,...\". Use `spacy.training.offsets_to_biluo_tags(nlp.make_doc(text), entities)` to check the alignment. Misaligned entities ('-') will be ignored during training.\n",
            "  entities=ent_str[:50] + \"...\" if len(ent_str) > 50 else ent_str,\n",
            " 91%|█████████ | 1639/1800 [01:17<00:08, 18.72it/s]/usr/local/lib/python3.7/dist-packages/spacy/training/iob_utils.py:144: UserWarning: [W030] Some entities could not be aligned in the text \"Wizz Air, cea mai mare companie aeriană de low-cos...\" with entities \"[(0, 8, 'ORG'), (56, 81, 'LOC'), (107, 117, 'NAT_R...\". Use `spacy.training.offsets_to_biluo_tags(nlp.make_doc(text), entities)` to check the alignment. Misaligned entities ('-') will be ignored during training.\n",
            "  entities=ent_str[:50] + \"...\" if len(ent_str) > 50 else ent_str,\n",
            " 91%|█████████ | 1642/1800 [01:17<00:07, 19.75it/s]/usr/local/lib/python3.7/dist-packages/spacy/training/iob_utils.py:144: UserWarning: [W030] Some entities could not be aligned in the text \"Povestea biblică, rezumată, cu unele detalii modif...\" with entities \"[(114, 116, 'NUMERIC'), (137, 146, 'FACILITY'), (1...\". Use `spacy.training.offsets_to_biluo_tags(nlp.make_doc(text), entities)` to check the alignment. Misaligned entities ('-') will be ignored during training.\n",
            "  entities=ent_str[:50] + \"...\" if len(ent_str) > 50 else ent_str,\n",
            " 91%|█████████▏| 1645/1800 [01:17<00:08, 18.94it/s]/usr/local/lib/python3.7/dist-packages/spacy/training/iob_utils.py:144: UserWarning: [W030] Some entities could not be aligned in the text \"Mulțumesc lui Dumnezeu că vom ajunge măcar la star...\" with entities \"[(14, 22, 'PERSON'), (81, 93, 'PERSON'), (290, 294...\". Use `spacy.training.offsets_to_biluo_tags(nlp.make_doc(text), entities)` to check the alignment. Misaligned entities ('-') will be ignored during training.\n",
            "  entities=ent_str[:50] + \"...\" if len(ent_str) > 50 else ent_str,\n",
            " 93%|█████████▎| 1673/1800 [01:18<00:06, 20.50it/s]/usr/local/lib/python3.7/dist-packages/spacy/training/iob_utils.py:144: UserWarning: [W030] Some entities could not be aligned in the text \"Farul Constanța a câștigat cu scorul de 3-0 derby-...\" with entities \"[(0, 15, 'ORG'), (40, 41, 'NUMERIC'), (42, 43, 'NU...\". Use `spacy.training.offsets_to_biluo_tags(nlp.make_doc(text), entities)` to check the alignment. Misaligned entities ('-') will be ignored during training.\n",
            "  entities=ent_str[:50] + \"...\" if len(ent_str) > 50 else ent_str,\n",
            " 94%|█████████▍| 1700/1800 [01:20<00:04, 24.17it/s]/usr/local/lib/python3.7/dist-packages/spacy/training/iob_utils.py:144: UserWarning: [W030] Some entities could not be aligned in the text \"La pauză, președintele Radu Pop, admonestat de cei...\" with entities \"[(10, 31, 'PERSON'), (47, 50, 'PERSON'), (94, 96, ...\". Use `spacy.training.offsets_to_biluo_tags(nlp.make_doc(text), entities)` to check the alignment. Misaligned entities ('-') will be ignored during training.\n",
            "  entities=ent_str[:50] + \"...\" if len(ent_str) > 50 else ent_str,\n",
            " 95%|█████████▍| 1706/1800 [01:20<00:04, 22.23it/s]/usr/local/lib/python3.7/dist-packages/spacy/training/iob_utils.py:144: UserWarning: [W030] Some entities could not be aligned in the text \"El a fost exclus din funcție timp de două sau trei...\" with entities \"[(0, 2, 'PERSON'), (37, 41, 'DATETIME'), (46, 60, ...\". Use `spacy.training.offsets_to_biluo_tags(nlp.make_doc(text), entities)` to check the alignment. Misaligned entities ('-') will be ignored during training.\n",
            "  entities=ent_str[:50] + \"...\" if len(ent_str) > 50 else ent_str,\n",
            " 95%|█████████▌| 1718/1800 [01:20<00:03, 23.29it/s]/usr/local/lib/python3.7/dist-packages/spacy/training/iob_utils.py:144: UserWarning: [W030] Some entities could not be aligned in the text \"14:30 Magistrații au amnat pentru 21 ianuarie jude...\" with entities \"[(6, 17, 'PERSON'), (34, 45, 'DATETIME'), (82, 91,...\". Use `spacy.training.offsets_to_biluo_tags(nlp.make_doc(text), entities)` to check the alignment. Misaligned entities ('-') will be ignored during training.\n",
            "  entities=ent_str[:50] + \"...\" if len(ent_str) > 50 else ent_str,\n",
            "/usr/local/lib/python3.7/dist-packages/spacy/training/iob_utils.py:144: UserWarning: [W030] Some entities could not be aligned in the text \"Turneul final al C.E. de fotbal disputat în Portug...\" with entities \"[(17, 31, 'EVENT'), (44, 54, 'GPE'), (94, 101, 'GP...\". Use `spacy.training.offsets_to_biluo_tags(nlp.make_doc(text), entities)` to check the alignment. Misaligned entities ('-') will be ignored during training.\n",
            "  entities=ent_str[:50] + \"...\" if len(ent_str) > 50 else ent_str,\n",
            " 96%|█████████▌| 1721/1800 [01:20<00:03, 23.33it/s]/usr/local/lib/python3.7/dist-packages/spacy/training/iob_utils.py:144: UserWarning: [W030] Some entities could not be aligned in the text \"Ordonanța de Urgență nr. 40 pentru modificarea și ...\" with entities \"[(25, 27, 'NUMERIC'), (72, 75, 'NUMERIC'), (76, 80...\". Use `spacy.training.offsets_to_biluo_tags(nlp.make_doc(text), entities)` to check the alignment. Misaligned entities ('-') will be ignored during training.\n",
            "  entities=ent_str[:50] + \"...\" if len(ent_str) > 50 else ent_str,\n",
            " 96%|█████████▌| 1730/1800 [01:21<00:03, 22.25it/s]/usr/local/lib/python3.7/dist-packages/spacy/training/iob_utils.py:144: UserWarning: [W030] Some entities could not be aligned in the text \"Ministerul Educației Naționale a aprobat Metodolog...\" with entities \"[(0, 30, 'ORG'), (191, 213, 'PERSON'), (234, 235, ...\". Use `spacy.training.offsets_to_biluo_tags(nlp.make_doc(text), entities)` to check the alignment. Misaligned entities ('-') will be ignored during training.\n",
            "  entities=ent_str[:50] + \"...\" if len(ent_str) > 50 else ent_str,\n",
            " 96%|█████████▋| 1733/1800 [01:21<00:03, 19.63it/s]/usr/local/lib/python3.7/dist-packages/spacy/training/iob_utils.py:144: UserWarning: [W030] Some entities could not be aligned in the text \"Criza economica a devenit astazi scuza pentru oric...\" with entities \"[(26, 32, 'DATETIME'), (54, 61, 'GPE'), (73, 78, '...\". Use `spacy.training.offsets_to_biluo_tags(nlp.make_doc(text), entities)` to check the alignment. Misaligned entities ('-') will be ignored during training.\n",
            "  entities=ent_str[:50] + \"...\" if len(ent_str) > 50 else ent_str,\n",
            " 97%|█████████▋| 1738/1800 [01:21<00:03, 17.61it/s]/usr/local/lib/python3.7/dist-packages/spacy/training/iob_utils.py:144: UserWarning: [W030] Some entities could not be aligned in the text \"Regia acestor clipuri îi aparține lui Bogdan Păun,...\" with entities \"[(38, 49, 'PERSON'), (55, 60, 'PERSON'), (73, 79, ...\". Use `spacy.training.offsets_to_biluo_tags(nlp.make_doc(text), entities)` to check the alignment. Misaligned entities ('-') will be ignored during training.\n",
            "  entities=ent_str[:50] + \"...\" if len(ent_str) > 50 else ent_str,\n",
            " 97%|█████████▋| 1753/1800 [01:22<00:02, 17.28it/s]/usr/local/lib/python3.7/dist-packages/spacy/training/iob_utils.py:144: UserWarning: [W030] Some entities could not be aligned in the text \"Oamenii legii au aflat că tinerii au deposedat o p...\" with entities \"[(0, 7, 'PERSON'), (26, 33, 'PERSON'), (49, 57, 'P...\". Use `spacy.training.offsets_to_biluo_tags(nlp.make_doc(text), entities)` to check the alignment. Misaligned entities ('-') will be ignored during training.\n",
            "  entities=ent_str[:50] + \"...\" if len(ent_str) > 50 else ent_str,\n",
            " 98%|█████████▊| 1763/1800 [01:23<00:02, 18.01it/s]/usr/local/lib/python3.7/dist-packages/spacy/training/iob_utils.py:144: UserWarning: [W030] Some entities could not be aligned in the text \"Memoriul era semnat, între alții, și de Ali Cadâr;...\" with entities \"[(40, 49, 'PERSON'), (54, 58, 'DATETIME'), (74, 10...\". Use `spacy.training.offsets_to_biluo_tags(nlp.make_doc(text), entities)` to check the alignment. Misaligned entities ('-') will be ignored during training.\n",
            "  entities=ent_str[:50] + \"...\" if len(ent_str) > 50 else ent_str,\n",
            " 98%|█████████▊| 1767/1800 [01:23<00:01, 18.35it/s]/usr/local/lib/python3.7/dist-packages/spacy/training/iob_utils.py:144: UserWarning: [W030] Some entities could not be aligned in the text \"Costurile lucrărilor sunt estimate la 11-12 milioa...\" with entities \"[(38, 60, 'MONEY'), (61, 66, 'PERSON'), (94, 104, ...\". Use `spacy.training.offsets_to_biluo_tags(nlp.make_doc(text), entities)` to check the alignment. Misaligned entities ('-') will be ignored during training.\n",
            "  entities=ent_str[:50] + \"...\" if len(ent_str) > 50 else ent_str,\n",
            " 99%|█████████▊| 1776/1800 [01:23<00:01, 17.94it/s]/usr/local/lib/python3.7/dist-packages/spacy/training/iob_utils.py:144: UserWarning: [W030] Some entities could not be aligned in the text \"Liga Națională de handbal feminin: Oltchim Râmnicu...\" with entities \"[(0, 33, 'EVENT'), (35, 57, 'ORG'), (84, 86, 'NUME...\". Use `spacy.training.offsets_to_biluo_tags(nlp.make_doc(text), entities)` to check the alignment. Misaligned entities ('-') will be ignored during training.\n",
            "  entities=ent_str[:50] + \"...\" if len(ent_str) > 50 else ent_str,\n",
            " 99%|█████████▉| 1784/1800 [01:24<00:00, 20.43it/s]/usr/local/lib/python3.7/dist-packages/spacy/training/iob_utils.py:144: UserWarning: [W030] Some entities could not be aligned in the text \"În anii '80, la Steaua - Dinamo cred că existau mi...\" with entities \"[(3, 11, 'DATETIME'), (16, 22, 'ORG'), (25, 31, 'O...\". Use `spacy.training.offsets_to_biluo_tags(nlp.make_doc(text), entities)` to check the alignment. Misaligned entities ('-') will be ignored during training.\n",
            "  entities=ent_str[:50] + \"...\" if len(ent_str) > 50 else ent_str,\n",
            " 99%|█████████▉| 1790/1800 [01:24<00:00, 20.33it/s]/usr/local/lib/python3.7/dist-packages/spacy/training/iob_utils.py:144: UserWarning: [W030] Some entities could not be aligned in the text \"Peste 250 de copii din satele de munte din județul...\" with entities \"[(6, 9, 'NUMERIC'), (13, 18, 'PERSON'), (51, 66, '...\". Use `spacy.training.offsets_to_biluo_tags(nlp.make_doc(text), entities)` to check the alignment. Misaligned entities ('-') will be ignored during training.\n",
            "  entities=ent_str[:50] + \"...\" if len(ent_str) > 50 else ent_str,\n",
            "100%|█████████▉| 1795/1800 [01:24<00:00, 19.15it/s]/usr/local/lib/python3.7/dist-packages/spacy/training/iob_utils.py:144: UserWarning: [W030] Some entities could not be aligned in the text \"Acesta a fost lansat pe data de 19 ianuarie 2017 c...\" with entities \"[(24, 48, 'DATETIME'), (83, 91, 'NAT_REL_POL'), (1...\". Use `spacy.training.offsets_to_biluo_tags(nlp.make_doc(text), entities)` to check the alignment. Misaligned entities ('-') will be ignored during training.\n",
            "  entities=ent_str[:50] + \"...\" if len(ent_str) > 50 else ent_str,\n",
            "100%|█████████▉| 1799/1800 [01:25<00:00, 17.50it/s]/usr/local/lib/python3.7/dist-packages/spacy/training/iob_utils.py:144: UserWarning: [W030] Some entities could not be aligned in the text \"Tot în anii 1840 Macaulay a început să scrie princ...\" with entities \"[(17, 25, 'PERSON'), (68, 195, 'WORK_OF_ART'), (21...\". Use `spacy.training.offsets_to_biluo_tags(nlp.make_doc(text), entities)` to check the alignment. Misaligned entities ('-') will be ignored during training.\n",
            "  entities=ent_str[:50] + \"...\" if len(ent_str) > 50 else ent_str,\n",
            "100%|██████████| 1800/1800 [01:25<00:00, 21.12it/s]\n"
          ]
        },
        {
          "output_type": "stream",
          "name": "stdout",
          "text": [
            "{'ner': 18313.8798930568}\n"
          ]
        },
        {
          "output_type": "stream",
          "name": "stderr",
          "text": [
            "100%|██████████| 1800/1800 [01:21<00:00, 22.14it/s]\n"
          ]
        },
        {
          "output_type": "stream",
          "name": "stdout",
          "text": [
            "{'ner': 13599.549737670526}\n"
          ]
        },
        {
          "output_type": "stream",
          "name": "stderr",
          "text": [
            "100%|██████████| 1800/1800 [01:21<00:00, 22.11it/s]\n"
          ]
        },
        {
          "output_type": "stream",
          "name": "stdout",
          "text": [
            "{'ner': 12053.146829420859}\n"
          ]
        },
        {
          "output_type": "stream",
          "name": "stderr",
          "text": [
            "100%|██████████| 1800/1800 [01:22<00:00, 21.72it/s]\n"
          ]
        },
        {
          "output_type": "stream",
          "name": "stdout",
          "text": [
            "{'ner': 10921.899580143123}\n"
          ]
        },
        {
          "output_type": "stream",
          "name": "stderr",
          "text": [
            "100%|██████████| 1800/1800 [01:23<00:00, 21.51it/s]\n"
          ]
        },
        {
          "output_type": "stream",
          "name": "stdout",
          "text": [
            "{'ner': 10310.889767907318}\n"
          ]
        },
        {
          "output_type": "stream",
          "name": "stderr",
          "text": [
            "100%|██████████| 1800/1800 [01:22<00:00, 21.71it/s]\n"
          ]
        },
        {
          "output_type": "stream",
          "name": "stdout",
          "text": [
            "{'ner': 9395.050098852003}\n"
          ]
        },
        {
          "output_type": "stream",
          "name": "stderr",
          "text": [
            "100%|██████████| 1800/1800 [01:23<00:00, 21.45it/s]\n"
          ]
        },
        {
          "output_type": "stream",
          "name": "stdout",
          "text": [
            "{'ner': 8952.02440987072}\n"
          ]
        },
        {
          "output_type": "stream",
          "name": "stderr",
          "text": [
            "100%|██████████| 1800/1800 [01:23<00:00, 21.58it/s]\n"
          ]
        },
        {
          "output_type": "stream",
          "name": "stdout",
          "text": [
            "{'ner': 8443.985080064316}\n"
          ]
        },
        {
          "output_type": "stream",
          "name": "stderr",
          "text": [
            "100%|██████████| 1800/1800 [01:23<00:00, 21.62it/s]\n"
          ]
        },
        {
          "output_type": "stream",
          "name": "stdout",
          "text": [
            "{'ner': 8108.219040887409}\n"
          ]
        },
        {
          "output_type": "stream",
          "name": "stderr",
          "text": [
            "100%|██████████| 1800/1800 [01:21<00:00, 22.06it/s]\n"
          ]
        },
        {
          "output_type": "stream",
          "name": "stdout",
          "text": [
            "{'ner': 7544.029044317832}\n"
          ]
        },
        {
          "output_type": "stream",
          "name": "stderr",
          "text": [
            "100%|██████████| 1800/1800 [01:21<00:00, 22.19it/s]\n"
          ]
        },
        {
          "output_type": "stream",
          "name": "stdout",
          "text": [
            "{'ner': 7394.280632066521}\n"
          ]
        },
        {
          "output_type": "stream",
          "name": "stderr",
          "text": [
            "100%|██████████| 1800/1800 [01:21<00:00, 21.99it/s]\n"
          ]
        },
        {
          "output_type": "stream",
          "name": "stdout",
          "text": [
            "{'ner': 7120.159965388337}\n"
          ]
        },
        {
          "output_type": "stream",
          "name": "stderr",
          "text": [
            "100%|██████████| 1800/1800 [01:23<00:00, 21.58it/s]\n"
          ]
        },
        {
          "output_type": "stream",
          "name": "stdout",
          "text": [
            "{'ner': 6934.352598826837}\n"
          ]
        },
        {
          "output_type": "stream",
          "name": "stderr",
          "text": [
            "100%|██████████| 1800/1800 [01:24<00:00, 21.36it/s]\n"
          ]
        },
        {
          "output_type": "stream",
          "name": "stdout",
          "text": [
            "{'ner': 6742.7159598733015}\n"
          ]
        },
        {
          "output_type": "stream",
          "name": "stderr",
          "text": [
            "100%|██████████| 1800/1800 [01:23<00:00, 21.51it/s]\n"
          ]
        },
        {
          "output_type": "stream",
          "name": "stdout",
          "text": [
            "{'ner': 6466.4106549965245}\n"
          ]
        },
        {
          "output_type": "stream",
          "name": "stderr",
          "text": [
            "100%|██████████| 1800/1800 [01:24<00:00, 21.33it/s]\n"
          ]
        },
        {
          "output_type": "stream",
          "name": "stdout",
          "text": [
            "{'ner': 6294.36186971775}\n"
          ]
        },
        {
          "output_type": "stream",
          "name": "stderr",
          "text": [
            "100%|██████████| 1800/1800 [01:26<00:00, 20.88it/s]\n"
          ]
        },
        {
          "output_type": "stream",
          "name": "stdout",
          "text": [
            "{'ner': 6033.039011287133}\n"
          ]
        },
        {
          "output_type": "stream",
          "name": "stderr",
          "text": [
            "100%|██████████| 1800/1800 [01:27<00:00, 20.67it/s]\n"
          ]
        },
        {
          "output_type": "stream",
          "name": "stdout",
          "text": [
            "{'ner': 5977.946341887198}\n"
          ]
        },
        {
          "output_type": "stream",
          "name": "stderr",
          "text": [
            "100%|██████████| 1800/1800 [01:29<00:00, 20.20it/s]\n"
          ]
        },
        {
          "output_type": "stream",
          "name": "stdout",
          "text": [
            "{'ner': 5863.969597253583}\n"
          ]
        },
        {
          "output_type": "stream",
          "name": "stderr",
          "text": [
            "100%|██████████| 1800/1800 [01:27<00:00, 20.66it/s]\n"
          ]
        },
        {
          "output_type": "stream",
          "name": "stdout",
          "text": [
            "{'ner': 5675.455712222088}\n"
          ]
        },
        {
          "output_type": "stream",
          "name": "stderr",
          "text": [
            "100%|██████████| 1800/1800 [01:29<00:00, 20.09it/s]\n"
          ]
        },
        {
          "output_type": "stream",
          "name": "stdout",
          "text": [
            "{'ner': 5560.367435350597}\n"
          ]
        },
        {
          "output_type": "stream",
          "name": "stderr",
          "text": [
            "100%|██████████| 1800/1800 [01:23<00:00, 21.51it/s]\n"
          ]
        },
        {
          "output_type": "stream",
          "name": "stdout",
          "text": [
            "{'ner': 5312.235146401807}\n"
          ]
        },
        {
          "output_type": "stream",
          "name": "stderr",
          "text": [
            "100%|██████████| 1800/1800 [01:24<00:00, 21.32it/s]\n"
          ]
        },
        {
          "output_type": "stream",
          "name": "stdout",
          "text": [
            "{'ner': 5428.655527626254}\n"
          ]
        },
        {
          "output_type": "stream",
          "name": "stderr",
          "text": [
            "100%|██████████| 1800/1800 [01:23<00:00, 21.46it/s]\n"
          ]
        },
        {
          "output_type": "stream",
          "name": "stdout",
          "text": [
            "{'ner': 5291.3256152807335}\n"
          ]
        },
        {
          "output_type": "stream",
          "name": "stderr",
          "text": [
            "100%|██████████| 1800/1800 [01:24<00:00, 21.21it/s]\n"
          ]
        },
        {
          "output_type": "stream",
          "name": "stdout",
          "text": [
            "{'ner': 5201.319431047815}\n"
          ]
        },
        {
          "output_type": "stream",
          "name": "stderr",
          "text": [
            "100%|██████████| 1800/1800 [01:23<00:00, 21.55it/s]\n"
          ]
        },
        {
          "output_type": "stream",
          "name": "stdout",
          "text": [
            "{'ner': 5160.48002784107}\n"
          ]
        },
        {
          "output_type": "stream",
          "name": "stderr",
          "text": [
            "100%|██████████| 1800/1800 [01:25<00:00, 21.09it/s]\n"
          ]
        },
        {
          "output_type": "stream",
          "name": "stdout",
          "text": [
            "{'ner': 4984.560734519231}\n"
          ]
        },
        {
          "output_type": "stream",
          "name": "stderr",
          "text": [
            "100%|██████████| 1800/1800 [01:24<00:00, 21.27it/s]\n"
          ]
        },
        {
          "output_type": "stream",
          "name": "stdout",
          "text": [
            "{'ner': 5001.0139719570025}\n"
          ]
        },
        {
          "output_type": "stream",
          "name": "stderr",
          "text": [
            "100%|██████████| 1800/1800 [01:23<00:00, 21.50it/s]\n"
          ]
        },
        {
          "output_type": "stream",
          "name": "stdout",
          "text": [
            "{'ner': 4937.865795396152}\n"
          ]
        },
        {
          "output_type": "stream",
          "name": "stderr",
          "text": [
            "100%|██████████| 1800/1800 [01:23<00:00, 21.68it/s]"
          ]
        },
        {
          "output_type": "stream",
          "name": "stdout",
          "text": [
            "{'ner': 4708.963659468097}\n"
          ]
        },
        {
          "output_type": "stream",
          "name": "stderr",
          "text": [
            "\n"
          ]
        }
      ]
    },
    {
      "cell_type": "code",
      "source": [
        "model_folder = 'trained_ner'\n",
        "if not os.path.exists(model_folder):\n",
        "    os.makedirs(model_folder)\n",
        "nlp.to_disk(model_folder)"
      ],
      "metadata": {
        "id": "y_VwRf1hEGzl"
      },
      "execution_count": 29,
      "outputs": []
    },
    {
      "cell_type": "code",
      "source": [
        "from spacy.scorer import Scorer\n",
        "scorer = Scorer()\n",
        "\n",
        "comparing_examples = []\n",
        "for text, anotations in test_dataset:     \n",
        "    pred_value = nlp(text)\n",
        "    example = Example.from_dict(pred_value, anotations)\n",
        "    comparing_examples.append(example)\n",
        "    \n",
        "result = scorer.score(comparing_examples)\n",
        "\n",
        "print(f\"Modelul s-a terminat cu F1 = {result['ents_f']}, precizia = {result['ents_p']} si recall-ul = {result['ents_r']} \\nIar pentru fiecare clasa:\")\n",
        "print(json.dumps(result['ents_per_type'], indent=4))"
      ],
      "metadata": {
        "colab": {
          "base_uri": "https://localhost:8080/"
        },
        "id": "-Gwcfaj3EMqU",
        "outputId": "a323fe91-da0c-44d4-e759-b98dd338ce79"
      },
      "execution_count": 30,
      "outputs": [
        {
          "output_type": "stream",
          "name": "stderr",
          "text": [
            "/usr/local/lib/python3.7/dist-packages/spacy/training/iob_utils.py:144: UserWarning: [W030] Some entities could not be aligned in the text \"26 -Directiva Consiliului din 25 noiembrie 2003 (J...\" with entities \"[(0, 2, 'NUMERIC'), (30, 47, 'DATETIME'), (54, 56,...\". Use `spacy.training.offsets_to_biluo_tags(nlp.make_doc(text), entities)` to check the alignment. Misaligned entities ('-') will be ignored during training.\n",
            "  entities=ent_str[:50] + \"...\" if len(ent_str) > 50 else ent_str,\n",
            "/usr/local/lib/python3.7/dist-packages/spacy/training/iob_utils.py:144: UserWarning: [W030] Some entities could not be aligned in the text \"După severul diagnostic, mama Antoniei revine în I...\" with entities \"[(30, 38, 'PERSON'), (49, 55, 'GPE'), (108, 115, '...\". Use `spacy.training.offsets_to_biluo_tags(nlp.make_doc(text), entities)` to check the alignment. Misaligned entities ('-') will be ignored during training.\n",
            "  entities=ent_str[:50] + \"...\" if len(ent_str) > 50 else ent_str,\n",
            "/usr/local/lib/python3.7/dist-packages/spacy/training/iob_utils.py:144: UserWarning: [W030] Some entities could not be aligned in the text \"Deputatul PSD ar fi făcut un nou gest obscen, în t...\" with entities \"[(10, 13, 'ORG'), (85, 99, 'PERSON'), (100, 112, '...\". Use `spacy.training.offsets_to_biluo_tags(nlp.make_doc(text), entities)` to check the alignment. Misaligned entities ('-') will be ignored during training.\n",
            "  entities=ent_str[:50] + \"...\" if len(ent_str) > 50 else ent_str,\n",
            "/usr/local/lib/python3.7/dist-packages/spacy/training/iob_utils.py:144: UserWarning: [W030] Some entities could not be aligned in the text \"Ultima partidă pe banca „stegarilor“ a fost în 199...\" with entities \"[(24, 36, 'PERSON'), (47, 51, 'DATETIME'), (56, 67...\". Use `spacy.training.offsets_to_biluo_tags(nlp.make_doc(text), entities)` to check the alignment. Misaligned entities ('-') will be ignored during training.\n",
            "  entities=ent_str[:50] + \"...\" if len(ent_str) > 50 else ent_str,\n",
            "/usr/local/lib/python3.7/dist-packages/spacy/training/iob_utils.py:144: UserWarning: [W030] Some entities could not be aligned in the text \"Nu poate să spună nimeni «Eftimie a luat un leu di...\" with entities \"[(26, 33, 'PERSON'), (41, 47, 'MONEY'), (83, 103, ...\". Use `spacy.training.offsets_to_biluo_tags(nlp.make_doc(text), entities)` to check the alignment. Misaligned entities ('-') will be ignored during training.\n",
            "  entities=ent_str[:50] + \"...\" if len(ent_str) > 50 else ent_str,\n",
            "/usr/local/lib/python3.7/dist-packages/spacy/training/iob_utils.py:144: UserWarning: [W030] Some entities could not be aligned in the text \"”(Ștefan Gușă)\"Mai cuvine-se grecii să se zică cuț...\" with entities \"[(2, 13, 'PERSON'), (29, 35, 'NAT_REL_POL'), (66, ...\". Use `spacy.training.offsets_to_biluo_tags(nlp.make_doc(text), entities)` to check the alignment. Misaligned entities ('-') will be ignored during training.\n",
            "  entities=ent_str[:50] + \"...\" if len(ent_str) > 50 else ent_str,\n",
            "/usr/local/lib/python3.7/dist-packages/spacy/training/iob_utils.py:144: UserWarning: [W030] Some entities could not be aligned in the text \"Meciul amical Steaua București - Steaua Roșie Belg...\" with entities \"[(14, 30, 'ORG'), (33, 53, 'ORG'), (67, 74, 'GPE')...\". Use `spacy.training.offsets_to_biluo_tags(nlp.make_doc(text), entities)` to check the alignment. Misaligned entities ('-') will be ignored during training.\n",
            "  entities=ent_str[:50] + \"...\" if len(ent_str) > 50 else ent_str,\n",
            "/usr/local/lib/python3.7/dist-packages/spacy/training/iob_utils.py:144: UserWarning: [W030] Some entities could not be aligned in the text \"Videoclipul piesei „Heavy on My Heart” a fost film...\" with entities \"[(12, 38, 'WORK_OF_ART'), (68, 77, 'DATETIME'), (8...\". Use `spacy.training.offsets_to_biluo_tags(nlp.make_doc(text), entities)` to check the alignment. Misaligned entities ('-') will be ignored during training.\n",
            "  entities=ent_str[:50] + \"...\" if len(ent_str) > 50 else ent_str,\n",
            "/usr/local/lib/python3.7/dist-packages/spacy/training/iob_utils.py:144: UserWarning: [W030] Some entities could not be aligned in the text \"„Tot” (David O´Reilly, SUA, 2017):O experiență int...\" with entities \"[(0, 5, 'WORK_OF_ART'), (7, 21, 'PERSON'), (23, 26...\". Use `spacy.training.offsets_to_biluo_tags(nlp.make_doc(text), entities)` to check the alignment. Misaligned entities ('-') will be ignored during training.\n",
            "  entities=ent_str[:50] + \"...\" if len(ent_str) > 50 else ent_str,\n",
            "/usr/local/lib/python3.7/dist-packages/spacy/training/iob_utils.py:144: UserWarning: [W030] Some entities could not be aligned in the text \"A murit în București la sfârșitul anului 1971.Cu t...\" with entities \"[(11, 20, 'GPE'), (24, 45, 'DATETIME'), (78, 87, '...\". Use `spacy.training.offsets_to_biluo_tags(nlp.make_doc(text), entities)` to check the alignment. Misaligned entities ('-') will be ignored during training.\n",
            "  entities=ent_str[:50] + \"...\" if len(ent_str) > 50 else ent_str,\n",
            "/usr/local/lib/python3.7/dist-packages/spacy/training/iob_utils.py:144: UserWarning: [W030] Some entities could not be aligned in the text \"Dacă copilul dvs. neagă că are o problemă cu depen...\" with entities \"[(5, 12, 'PERSON'), (153, 166, 'PERSON'), (168, 17...\". Use `spacy.training.offsets_to_biluo_tags(nlp.make_doc(text), entities)` to check the alignment. Misaligned entities ('-') will be ignored during training.\n",
            "  entities=ent_str[:50] + \"...\" if len(ent_str) > 50 else ent_str,\n",
            "/usr/local/lib/python3.7/dist-packages/spacy/training/iob_utils.py:144: UserWarning: [W030] Some entities could not be aligned in the text \"Cele 21 de scurtmetraje selectate dintr-un total d...\" with entities \"[(5, 7, 'NUMERIC'), (58, 62, 'NUMERIC'), (85, 93, ...\". Use `spacy.training.offsets_to_biluo_tags(nlp.make_doc(text), entities)` to check the alignment. Misaligned entities ('-') will be ignored during training.\n",
            "  entities=ent_str[:50] + \"...\" if len(ent_str) > 50 else ent_str,\n",
            "/usr/local/lib/python3.7/dist-packages/spacy/training/iob_utils.py:144: UserWarning: [W030] Some entities could not be aligned in the text \"Pompierii din Medgidia au intervenit, în urmă cu p...\" with entities \"[(0, 9, 'PERSON'), (14, 22, 'GPE'), (125, 140, 'LO...\". Use `spacy.training.offsets_to_biluo_tags(nlp.make_doc(text), entities)` to check the alignment. Misaligned entities ('-') will be ignored during training.\n",
            "  entities=ent_str[:50] + \"...\" if len(ent_str) > 50 else ent_str,\n",
            "/usr/local/lib/python3.7/dist-packages/spacy/training/iob_utils.py:144: UserWarning: [W030] Some entities could not be aligned in the text \"Meciuri interesante în ultimele trei meciuri din e...\" with entities \"[(32, 36, 'NUMERIC'), (55, 61, 'ORDINAL'), (64, 74...\". Use `spacy.training.offsets_to_biluo_tags(nlp.make_doc(text), entities)` to check the alignment. Misaligned entities ('-') will be ignored during training.\n",
            "  entities=ent_str[:50] + \"...\" if len(ent_str) > 50 else ent_str,\n",
            "/usr/local/lib/python3.7/dist-packages/spacy/training/iob_utils.py:144: UserWarning: [W030] Some entities could not be aligned in the text \"Structura respectivă apare menționată într-un rapo...\" with entities \"[(60, 67, 'PERSON'), (78, 90, 'PERSON'), (114, 127...\". Use `spacy.training.offsets_to_biluo_tags(nlp.make_doc(text), entities)` to check the alignment. Misaligned entities ('-') will be ignored during training.\n",
            "  entities=ent_str[:50] + \"...\" if len(ent_str) > 50 else ent_str,\n",
            "/usr/local/lib/python3.7/dist-packages/spacy/training/iob_utils.py:144: UserWarning: [W030] Some entities could not be aligned in the text \"Ulterior numele localitatii apare in documente in ...\" with entities \"[(50, 59, 'DATETIME'), (91, 101, 'GPE'), (108, 128...\". Use `spacy.training.offsets_to_biluo_tags(nlp.make_doc(text), entities)` to check the alignment. Misaligned entities ('-') will be ignored during training.\n",
            "  entities=ent_str[:50] + \"...\" if len(ent_str) > 50 else ent_str,\n",
            "/usr/local/lib/python3.7/dist-packages/spacy/training/iob_utils.py:144: UserWarning: [W030] Some entities could not be aligned in the text \"Cu privire la compensațiile acordate a susținut că...\" with entities \"[(91, 93, 'NUMERIC'), (101, 102, 'NUMERIC'), (168,...\". Use `spacy.training.offsets_to_biluo_tags(nlp.make_doc(text), entities)` to check the alignment. Misaligned entities ('-') will be ignored during training.\n",
            "  entities=ent_str[:50] + \"...\" if len(ent_str) > 50 else ent_str,\n",
            "/usr/local/lib/python3.7/dist-packages/spacy/training/iob_utils.py:144: UserWarning: [W030] Some entities could not be aligned in the text \"Programul este de luni până vineri, între orele 9-...\" with entities \"[(15, 34, 'PERIOD'), (36, 52, 'PERIOD'), (54, 61, ...\". Use `spacy.training.offsets_to_biluo_tags(nlp.make_doc(text), entities)` to check the alignment. Misaligned entities ('-') will be ignored during training.\n",
            "  entities=ent_str[:50] + \"...\" if len(ent_str) > 50 else ent_str,\n",
            "/usr/local/lib/python3.7/dist-packages/spacy/training/iob_utils.py:144: UserWarning: [W030] Some entities could not be aligned in the text \"A interpretat roluri de comedie și dramatice dintr...\" with entities \"[(67, 73, 'PERSON'), (78, 101, 'WORK_OF_ART'), (10...\". Use `spacy.training.offsets_to_biluo_tags(nlp.make_doc(text), entities)` to check the alignment. Misaligned entities ('-') will be ignored during training.\n",
            "  entities=ent_str[:50] + \"...\" if len(ent_str) > 50 else ent_str,\n",
            "/usr/local/lib/python3.7/dist-packages/spacy/training/iob_utils.py:144: UserWarning: [W030] Some entities could not be aligned in the text \"Deși, începând din 1997 - când a fost introdus sis...\" with entities \"[(19, 23, 'DATETIME'), (69, 79, 'ORG'), (89, 96, '...\". Use `spacy.training.offsets_to_biluo_tags(nlp.make_doc(text), entities)` to check the alignment. Misaligned entities ('-') will be ignored during training.\n",
            "  entities=ent_str[:50] + \"...\" if len(ent_str) > 50 else ent_str,\n",
            "/usr/local/lib/python3.7/dist-packages/spacy/training/iob_utils.py:144: UserWarning: [W030] Some entities could not be aligned in the text \"Dar savantul întreprinse excursii botanice mai scu...\" with entities \"[(4, 12, 'PERSON'), (84, 93, 'DATETIME'), (97, 101...\". Use `spacy.training.offsets_to_biluo_tags(nlp.make_doc(text), entities)` to check the alignment. Misaligned entities ('-') will be ignored during training.\n",
            "  entities=ent_str[:50] + \"...\" if len(ent_str) > 50 else ent_str,\n",
            "/usr/local/lib/python3.7/dist-packages/spacy/training/iob_utils.py:144: UserWarning: [W030] Some entities could not be aligned in the text \"Categoria I - 306602.63 lei, categoria a II-a - 63...\" with entities \"[(10, 11, 'NUMERIC'), (14, 27, 'MONEY'), (39, 45, ...\". Use `spacy.training.offsets_to_biluo_tags(nlp.make_doc(text), entities)` to check the alignment. Misaligned entities ('-') will be ignored during training.\n",
            "  entities=ent_str[:50] + \"...\" if len(ent_str) > 50 else ent_str,\n",
            "/usr/local/lib/python3.7/dist-packages/spacy/training/iob_utils.py:144: UserWarning: [W030] Some entities could not be aligned in the text \"A.D.R. Vest va verifica agenții economici din zone...\" with entities \"[(0, 11, 'ORG'), (79, 80, 'NUMERIC'), (136, 138, '...\". Use `spacy.training.offsets_to_biluo_tags(nlp.make_doc(text), entities)` to check the alignment. Misaligned entities ('-') will be ignored during training.\n",
            "  entities=ent_str[:50] + \"...\" if len(ent_str) > 50 else ent_str,\n",
            "/usr/local/lib/python3.7/dist-packages/spacy/training/iob_utils.py:144: UserWarning: [W030] Some entities could not be aligned in the text \"Tot ea a înființat, la București, un Institut pent...\" with entities \"[(4, 6, 'PERSON'), (23, 32, 'GPE'), (53, 57, 'PERS...\". Use `spacy.training.offsets_to_biluo_tags(nlp.make_doc(text), entities)` to check the alignment. Misaligned entities ('-') will be ignored during training.\n",
            "  entities=ent_str[:50] + \"...\" if len(ent_str) > 50 else ent_str,\n"
          ]
        },
        {
          "output_type": "stream",
          "name": "stdout",
          "text": [
            "Modelul s-a terminat cu F1 = 0.6685902720527617, precizia = 0.6652994257588187 si recall-ul = 0.671913835956918 \n",
            "Iar pentru fiecare clasa:\n",
            "{\n",
            "    \"DATETIME\": {\n",
            "        \"p\": 0.8571428571428571,\n",
            "        \"r\": 0.8571428571428571,\n",
            "        \"f\": 0.8571428571428571\n",
            "    },\n",
            "    \"PERSON\": {\n",
            "        \"p\": 0.6211764705882353,\n",
            "        \"r\": 0.6423357664233577,\n",
            "        \"f\": 0.6315789473684211\n",
            "    },\n",
            "    \"NAT_REL_POL\": {\n",
            "        \"p\": 0.6075949367088608,\n",
            "        \"r\": 0.6486486486486487,\n",
            "        \"f\": 0.6274509803921569\n",
            "    },\n",
            "    \"GPE\": {\n",
            "        \"p\": 0.7096774193548387,\n",
            "        \"r\": 0.7810650887573964,\n",
            "        \"f\": 0.7436619718309859\n",
            "    },\n",
            "    \"ORG\": {\n",
            "        \"p\": 0.4642857142857143,\n",
            "        \"r\": 0.5652173913043478,\n",
            "        \"f\": 0.5098039215686274\n",
            "    },\n",
            "    \"WORK_OF_ART\": {\n",
            "        \"p\": 0.42857142857142855,\n",
            "        \"r\": 0.10344827586206896,\n",
            "        \"f\": 0.16666666666666663\n",
            "    },\n",
            "    \"NUMERIC\": {\n",
            "        \"p\": 0.8617021276595744,\n",
            "        \"r\": 0.7864077669902912,\n",
            "        \"f\": 0.8223350253807107\n",
            "    },\n",
            "    \"QUANTITY\": {\n",
            "        \"p\": 0.8333333333333334,\n",
            "        \"r\": 0.5555555555555556,\n",
            "        \"f\": 0.6666666666666667\n",
            "    },\n",
            "    \"LOC\": {\n",
            "        \"p\": 0.5757575757575758,\n",
            "        \"r\": 0.37254901960784315,\n",
            "        \"f\": 0.45238095238095244\n",
            "    },\n",
            "    \"FACILITY\": {\n",
            "        \"p\": 0.35714285714285715,\n",
            "        \"r\": 0.35714285714285715,\n",
            "        \"f\": 0.35714285714285715\n",
            "    },\n",
            "    \"ORDINAL\": {\n",
            "        \"p\": 0.7878787878787878,\n",
            "        \"r\": 0.896551724137931,\n",
            "        \"f\": 0.8387096774193549\n",
            "    },\n",
            "    \"LANGUAGE\": {\n",
            "        \"p\": 1.0,\n",
            "        \"r\": 1.0,\n",
            "        \"f\": 1.0\n",
            "    },\n",
            "    \"MONEY\": {\n",
            "        \"p\": 0.625,\n",
            "        \"r\": 0.7894736842105263,\n",
            "        \"f\": 0.6976744186046512\n",
            "    },\n",
            "    \"EVENT\": {\n",
            "        \"p\": 0.2857142857142857,\n",
            "        \"r\": 0.2222222222222222,\n",
            "        \"f\": 0.25\n",
            "    },\n",
            "    \"PERIOD\": {\n",
            "        \"p\": 0.8148148148148148,\n",
            "        \"r\": 0.7857142857142857,\n",
            "        \"f\": 0.7999999999999999\n",
            "    }\n",
            "}\n"
          ]
        }
      ]
    }
  ],
  "metadata": {
    "colab": {
      "collapsed_sections": [],
      "name": "NLP_lab_8.ipynb",
      "provenance": []
    },
    "kernelspec": {
      "display_name": "lab-nlp-an3",
      "language": "python",
      "name": "lab-nlp-an3"
    },
    "language_info": {
      "codemirror_mode": {
        "name": "ipython",
        "version": 3
      },
      "file_extension": ".py",
      "mimetype": "text/x-python",
      "name": "python",
      "nbconvert_exporter": "python",
      "pygments_lexer": "ipython3",
      "version": "3.8.10"
    }
  },
  "nbformat": 4,
  "nbformat_minor": 0
}