{
  "nbformat": 4,
  "nbformat_minor": 0,
  "metadata": {
    "colab": {
      "name": "Horjea_CosminMarian_343_Tema 1 DL",
      "provenance": [],
      "collapsed_sections": []
    },
    "kernelspec": {
      "name": "python3",
      "display_name": "Python 3"
    },
    "language_info": {
      "name": "python"
    },
    "accelerator": "GPU"
  },
  "cells": [
    {
      "cell_type": "markdown",
      "source": [
        "Nume: Horjea Cosmin-Marian \n",
        "\n",
        "Grupa: 343"
      ],
      "metadata": {
        "id": "hECCtEJsWyoh"
      }
    },
    {
      "cell_type": "code",
      "source": [
        "import pandas as pd\n",
        "from sklearn.model_selection import train_test_split\n",
        "import torch.nn as nn\n",
        "from typing import Iterator, List, Callable, Tuple\n",
        "from matplotlib import rc, cm\n",
        "rc('animation', html='jshtml')\n",
        "\n",
        "import matplotlib.pyplot as plt\n",
        "from mpl_toolkits import mplot3d\n",
        "import matplotlib.animation as animation\n",
        "%matplotlib notebook"
      ],
      "metadata": {
        "id": "Dc9A5uNCrHlB"
      },
      "execution_count": 1,
      "outputs": []
    },
    {
      "cell_type": "code",
      "execution_count": 2,
      "metadata": {
        "colab": {
          "base_uri": "https://localhost:8080/"
        },
        "id": "ysQkvQEBpsqc",
        "outputId": "a9d626ee-5d33-4398-cd46-06e05299bb26"
      },
      "outputs": [
        {
          "output_type": "stream",
          "name": "stdout",
          "text": [
            "Drive already mounted at /content/gdrive; to attempt to forcibly remount, call drive.mount(\"/content/gdrive\", force_remount=True).\n"
          ]
        }
      ],
      "source": [
        "from google.colab import drive\n",
        "drive.mount('/content/gdrive')"
      ]
    },
    {
      "cell_type": "code",
      "source": [
        "# 0\n",
        "path='gdrive/MyDrive/pmi-data.csv'\n",
        "data= pd.read_csv(path)\n",
        "print(len(data))\n",
        "data.head()"
      ],
      "metadata": {
        "colab": {
          "base_uri": "https://localhost:8080/",
          "height": 225
        },
        "id": "d0yuoqsxqwKk",
        "outputId": "c65b3c9b-7494-4383-af6c-5d2da550696a"
      },
      "execution_count": 3,
      "outputs": [
        {
          "output_type": "stream",
          "name": "stdout",
          "text": [
            "3566\n"
          ]
        },
        {
          "output_type": "execute_result",
          "data": {
            "text/plain": [
              "   Unnamed: 0     id  gender   age  hypertension  heart_disease  ever_married  \\\n",
              "0           0   9046       2  67.0             0              1             1   \n",
              "1           1  51676       1  61.0             0              0             1   \n",
              "2           2  31112       2  80.0             0              1             1   \n",
              "3           3  60182       1  49.0             0              0             1   \n",
              "4           4   1665       1  79.0             1              0             1   \n",
              "\n",
              "   work_type  Residence_type  avg_glucose_level   bmi  smoking_status  stroke  \n",
              "0          4               0             228.69  36.6               1       1  \n",
              "1          3               1             202.21  29.1               2       1  \n",
              "2          4               1             105.92  32.5               2       1  \n",
              "3          4               0             171.23  34.4               0       1  \n",
              "4          3               1             174.12  24.0               2       1  "
            ],
            "text/html": [
              "\n",
              "  <div id=\"df-85dfc356-245e-4bde-a4c2-f40b47fea0ad\">\n",
              "    <div class=\"colab-df-container\">\n",
              "      <div>\n",
              "<style scoped>\n",
              "    .dataframe tbody tr th:only-of-type {\n",
              "        vertical-align: middle;\n",
              "    }\n",
              "\n",
              "    .dataframe tbody tr th {\n",
              "        vertical-align: top;\n",
              "    }\n",
              "\n",
              "    .dataframe thead th {\n",
              "        text-align: right;\n",
              "    }\n",
              "</style>\n",
              "<table border=\"1\" class=\"dataframe\">\n",
              "  <thead>\n",
              "    <tr style=\"text-align: right;\">\n",
              "      <th></th>\n",
              "      <th>Unnamed: 0</th>\n",
              "      <th>id</th>\n",
              "      <th>gender</th>\n",
              "      <th>age</th>\n",
              "      <th>hypertension</th>\n",
              "      <th>heart_disease</th>\n",
              "      <th>ever_married</th>\n",
              "      <th>work_type</th>\n",
              "      <th>Residence_type</th>\n",
              "      <th>avg_glucose_level</th>\n",
              "      <th>bmi</th>\n",
              "      <th>smoking_status</th>\n",
              "      <th>stroke</th>\n",
              "    </tr>\n",
              "  </thead>\n",
              "  <tbody>\n",
              "    <tr>\n",
              "      <th>0</th>\n",
              "      <td>0</td>\n",
              "      <td>9046</td>\n",
              "      <td>2</td>\n",
              "      <td>67.0</td>\n",
              "      <td>0</td>\n",
              "      <td>1</td>\n",
              "      <td>1</td>\n",
              "      <td>4</td>\n",
              "      <td>0</td>\n",
              "      <td>228.69</td>\n",
              "      <td>36.6</td>\n",
              "      <td>1</td>\n",
              "      <td>1</td>\n",
              "    </tr>\n",
              "    <tr>\n",
              "      <th>1</th>\n",
              "      <td>1</td>\n",
              "      <td>51676</td>\n",
              "      <td>1</td>\n",
              "      <td>61.0</td>\n",
              "      <td>0</td>\n",
              "      <td>0</td>\n",
              "      <td>1</td>\n",
              "      <td>3</td>\n",
              "      <td>1</td>\n",
              "      <td>202.21</td>\n",
              "      <td>29.1</td>\n",
              "      <td>2</td>\n",
              "      <td>1</td>\n",
              "    </tr>\n",
              "    <tr>\n",
              "      <th>2</th>\n",
              "      <td>2</td>\n",
              "      <td>31112</td>\n",
              "      <td>2</td>\n",
              "      <td>80.0</td>\n",
              "      <td>0</td>\n",
              "      <td>1</td>\n",
              "      <td>1</td>\n",
              "      <td>4</td>\n",
              "      <td>1</td>\n",
              "      <td>105.92</td>\n",
              "      <td>32.5</td>\n",
              "      <td>2</td>\n",
              "      <td>1</td>\n",
              "    </tr>\n",
              "    <tr>\n",
              "      <th>3</th>\n",
              "      <td>3</td>\n",
              "      <td>60182</td>\n",
              "      <td>1</td>\n",
              "      <td>49.0</td>\n",
              "      <td>0</td>\n",
              "      <td>0</td>\n",
              "      <td>1</td>\n",
              "      <td>4</td>\n",
              "      <td>0</td>\n",
              "      <td>171.23</td>\n",
              "      <td>34.4</td>\n",
              "      <td>0</td>\n",
              "      <td>1</td>\n",
              "    </tr>\n",
              "    <tr>\n",
              "      <th>4</th>\n",
              "      <td>4</td>\n",
              "      <td>1665</td>\n",
              "      <td>1</td>\n",
              "      <td>79.0</td>\n",
              "      <td>1</td>\n",
              "      <td>0</td>\n",
              "      <td>1</td>\n",
              "      <td>3</td>\n",
              "      <td>1</td>\n",
              "      <td>174.12</td>\n",
              "      <td>24.0</td>\n",
              "      <td>2</td>\n",
              "      <td>1</td>\n",
              "    </tr>\n",
              "  </tbody>\n",
              "</table>\n",
              "</div>\n",
              "      <button class=\"colab-df-convert\" onclick=\"convertToInteractive('df-85dfc356-245e-4bde-a4c2-f40b47fea0ad')\"\n",
              "              title=\"Convert this dataframe to an interactive table.\"\n",
              "              style=\"display:none;\">\n",
              "        \n",
              "  <svg xmlns=\"http://www.w3.org/2000/svg\" height=\"24px\"viewBox=\"0 0 24 24\"\n",
              "       width=\"24px\">\n",
              "    <path d=\"M0 0h24v24H0V0z\" fill=\"none\"/>\n",
              "    <path d=\"M18.56 5.44l.94 2.06.94-2.06 2.06-.94-2.06-.94-.94-2.06-.94 2.06-2.06.94zm-11 1L8.5 8.5l.94-2.06 2.06-.94-2.06-.94L8.5 2.5l-.94 2.06-2.06.94zm10 10l.94 2.06.94-2.06 2.06-.94-2.06-.94-.94-2.06-.94 2.06-2.06.94z\"/><path d=\"M17.41 7.96l-1.37-1.37c-.4-.4-.92-.59-1.43-.59-.52 0-1.04.2-1.43.59L10.3 9.45l-7.72 7.72c-.78.78-.78 2.05 0 2.83L4 21.41c.39.39.9.59 1.41.59.51 0 1.02-.2 1.41-.59l7.78-7.78 2.81-2.81c.8-.78.8-2.07 0-2.86zM5.41 20L4 18.59l7.72-7.72 1.47 1.35L5.41 20z\"/>\n",
              "  </svg>\n",
              "      </button>\n",
              "      \n",
              "  <style>\n",
              "    .colab-df-container {\n",
              "      display:flex;\n",
              "      flex-wrap:wrap;\n",
              "      gap: 12px;\n",
              "    }\n",
              "\n",
              "    .colab-df-convert {\n",
              "      background-color: #E8F0FE;\n",
              "      border: none;\n",
              "      border-radius: 50%;\n",
              "      cursor: pointer;\n",
              "      display: none;\n",
              "      fill: #1967D2;\n",
              "      height: 32px;\n",
              "      padding: 0 0 0 0;\n",
              "      width: 32px;\n",
              "    }\n",
              "\n",
              "    .colab-df-convert:hover {\n",
              "      background-color: #E2EBFA;\n",
              "      box-shadow: 0px 1px 2px rgba(60, 64, 67, 0.3), 0px 1px 3px 1px rgba(60, 64, 67, 0.15);\n",
              "      fill: #174EA6;\n",
              "    }\n",
              "\n",
              "    [theme=dark] .colab-df-convert {\n",
              "      background-color: #3B4455;\n",
              "      fill: #D2E3FC;\n",
              "    }\n",
              "\n",
              "    [theme=dark] .colab-df-convert:hover {\n",
              "      background-color: #434B5C;\n",
              "      box-shadow: 0px 1px 3px 1px rgba(0, 0, 0, 0.15);\n",
              "      filter: drop-shadow(0px 1px 2px rgba(0, 0, 0, 0.3));\n",
              "      fill: #FFFFFF;\n",
              "    }\n",
              "  </style>\n",
              "\n",
              "      <script>\n",
              "        const buttonEl =\n",
              "          document.querySelector('#df-85dfc356-245e-4bde-a4c2-f40b47fea0ad button.colab-df-convert');\n",
              "        buttonEl.style.display =\n",
              "          google.colab.kernel.accessAllowed ? 'block' : 'none';\n",
              "\n",
              "        async function convertToInteractive(key) {\n",
              "          const element = document.querySelector('#df-85dfc356-245e-4bde-a4c2-f40b47fea0ad');\n",
              "          const dataTable =\n",
              "            await google.colab.kernel.invokeFunction('convertToInteractive',\n",
              "                                                     [key], {});\n",
              "          if (!dataTable) return;\n",
              "\n",
              "          const docLinkHtml = 'Like what you see? Visit the ' +\n",
              "            '<a target=\"_blank\" href=https://colab.research.google.com/notebooks/data_table.ipynb>data table notebook</a>'\n",
              "            + ' to learn more about interactive tables.';\n",
              "          element.innerHTML = '';\n",
              "          dataTable['output_type'] = 'display_data';\n",
              "          await google.colab.output.renderOutput(dataTable, element);\n",
              "          const docLink = document.createElement('div');\n",
              "          docLink.innerHTML = docLinkHtml;\n",
              "          element.appendChild(docLink);\n",
              "        }\n",
              "      </script>\n",
              "    </div>\n",
              "  </div>\n",
              "  "
            ]
          },
          "metadata": {},
          "execution_count": 3
        }
      ]
    },
    {
      "cell_type": "code",
      "source": [
        "y = data.stroke\n",
        "X = data\n",
        "\n",
        "X_train,X_val,y_train,y_val = train_test_split(X,y,test_size = 0.2,train_size = 0.8, random_state = 42, shuffle = True)\n",
        "\n",
        "print(X_train.shape)\n",
        "print(y_train.shape)\n",
        "print(X_val.shape)\n",
        "print(y_val.shape)\n",
        "# Doing a Validation set instead of just train and test sets its generally better \n",
        "# because it keeps us form fine tunig a model around a test set and eventually \n",
        "# performing poor in real world, this way we fine tune the model to get good\n",
        "# accuracy on the validation set, and the final accuracy it's given by the test set,\n",
        "# that the model never saw\n",
        "# Shuffling the data assures us that we'll get both type of rows in our datasets (stroke,no stroke)\n",
        "# because the first rows in the csv are all labeled with stroke while the next ones are labeled with no_stroke"
      ],
      "metadata": {
        "colab": {
          "base_uri": "https://localhost:8080/"
        },
        "id": "JahhA5ees5K_",
        "outputId": "487c89a6-79e7-43b1-d2a0-0ac31bd11301"
      },
      "execution_count": 4,
      "outputs": [
        {
          "output_type": "stream",
          "name": "stdout",
          "text": [
            "(2852, 13)\n",
            "(2852,)\n",
            "(714, 13)\n",
            "(714,)\n"
          ]
        }
      ]
    },
    {
      "cell_type": "code",
      "source": [
        "# 2 The datasets and data loader\n",
        "from torch.utils.data import DataLoader,Dataset\n",
        "import torch"
      ],
      "metadata": {
        "id": "I2KpQwkEx37-"
      },
      "execution_count": 5,
      "outputs": []
    },
    {
      "cell_type": "code",
      "source": [
        "class BMIDataset(Dataset):\n",
        "  def __init__(self,data):\n",
        "    self.data = data\n",
        "  def __len__(self):\n",
        "    return len(self.data)\n",
        "  def __getitem__(self,idx):\n",
        "    data_tensor = torch.tensor(self.data.iloc[idx,2:-1]).type(torch.FloatTensor)\n",
        "    label_tensor = torch.tensor([self.data.iloc[idx,-1]]).type(torch.FloatTensor)\n",
        "    return data_tensor,label_tensor\n",
        "\n",
        "BATCH_SIZE=32\n",
        "train_dataset = BMIDataset(X_train)\n",
        "val_dataset = BMIDataset(X_val)\n",
        "\n",
        "\n",
        "train_dataloader = DataLoader(\n",
        "    dataset=train_dataset,\n",
        "    shuffle= True,\n",
        "    batch_size = BATCH_SIZE\n",
        ")\n",
        "\n",
        "val_dataloader = DataLoader(\n",
        "    dataset = val_dataset,\n",
        "    shuffle=True,\n",
        "    batch_size = BATCH_SIZE\n",
        ")\n"
      ],
      "metadata": {
        "id": "hyetB-xj4Rg4"
      },
      "execution_count": 6,
      "outputs": []
    },
    {
      "cell_type": "code",
      "source": [
        "# 3\n",
        "class StrokeClassifier(nn.Module):\n",
        "  def __init__(self,\n",
        "               input_size:int,\n",
        "               hidden_size_1:int,\n",
        "               hidden_size_2:int,\n",
        "               activation_fn:Callable):\n",
        "    super().__init__()\n",
        "    self.input_size = input_size\n",
        "    self.hidden_size_1 = hidden_size_1\n",
        "    self.hidden_size_2 = hidden_size_2\n",
        "    self.layer_1 = nn.Linear(input_size,hidden_size_1)\n",
        "    self.layer_2 = nn.Linear(hidden_size_1,hidden_size_2)\n",
        "    self.output_layer = nn.Linear(hidden_size_2,1)\n",
        "    self.activation_fn = activation_fn\n",
        "\n",
        "  def forward(self,x):\n",
        "    h1 = self.activation_fn(self.layer_1(x))\n",
        "    h2 = self.activation_fn(self.layer_2(h1))\n",
        "    out = self.output_layer(h2)\n",
        "\n",
        "    return out\n",
        "\n",
        "model = StrokeClassifier(10,10,10,nn.ReLU())\n",
        "num_params = 0\n",
        "print(\"Model's parameters: \")\n",
        "for param in model. parameters():\n",
        "  print(param)\n"
      ],
      "metadata": {
        "id": "oKnkqBJjMPzj",
        "colab": {
          "base_uri": "https://localhost:8080/"
        },
        "outputId": "58f9ef13-39a2-4014-ccf8-96040a96428e"
      },
      "execution_count": 7,
      "outputs": [
        {
          "output_type": "stream",
          "name": "stdout",
          "text": [
            "Model's parameters: \n",
            "Parameter containing:\n",
            "tensor([[ 0.2081,  0.1968,  0.1752,  0.2982,  0.0074,  0.0767, -0.1193,  0.1596,\n",
            "          0.0639, -0.2251],\n",
            "        [-0.2543,  0.1716,  0.2566, -0.0269, -0.0569, -0.2646, -0.2752, -0.0561,\n",
            "         -0.0969, -0.1372],\n",
            "        [-0.1493, -0.1493, -0.0407, -0.1188, -0.2509,  0.3020,  0.1494,  0.0407,\n",
            "          0.1511,  0.2589],\n",
            "        [ 0.1681,  0.0085, -0.2506, -0.2945,  0.0262,  0.2929,  0.1036, -0.1009,\n",
            "          0.1253, -0.1010],\n",
            "        [ 0.1529,  0.1962, -0.1710, -0.1859, -0.0265, -0.2624, -0.1993, -0.0997,\n",
            "         -0.0876,  0.2889],\n",
            "        [ 0.1187, -0.1323, -0.1348,  0.0877, -0.2213,  0.2410, -0.2461,  0.1740,\n",
            "          0.2139, -0.1666],\n",
            "        [ 0.1570, -0.2573, -0.0951,  0.1461, -0.1094,  0.0416, -0.2699, -0.2679,\n",
            "          0.1477, -0.1782],\n",
            "        [ 0.0469, -0.0520,  0.1721,  0.0862,  0.1972, -0.1023,  0.0072,  0.0214,\n",
            "          0.1241, -0.2602],\n",
            "        [-0.1936,  0.2218, -0.1416, -0.1830,  0.0600,  0.1875,  0.3032,  0.2867,\n",
            "          0.3149,  0.0741],\n",
            "        [ 0.1773, -0.1000,  0.1957,  0.2367, -0.1341,  0.1024, -0.0444,  0.0360,\n",
            "          0.2154, -0.1813]], requires_grad=True)\n",
            "Parameter containing:\n",
            "tensor([-0.0589, -0.2711, -0.1906,  0.2544, -0.1204,  0.1839,  0.0107,  0.1152,\n",
            "         0.2617, -0.2712], requires_grad=True)\n",
            "Parameter containing:\n",
            "tensor([[ 0.1084,  0.1477,  0.2545,  0.0048,  0.1336,  0.0982,  0.2907,  0.2921,\n",
            "         -0.0046, -0.2870],\n",
            "        [ 0.2065,  0.1073, -0.0453, -0.1337,  0.1518, -0.0203,  0.1198, -0.1356,\n",
            "         -0.3086, -0.2016],\n",
            "        [ 0.2116,  0.3094,  0.2882,  0.2295,  0.2169,  0.0358,  0.1000, -0.1361,\n",
            "         -0.0284,  0.2551],\n",
            "        [ 0.0127, -0.1491,  0.2934,  0.1622, -0.0862, -0.1892, -0.2773, -0.1130,\n",
            "         -0.2917,  0.2462],\n",
            "        [-0.3064, -0.3062, -0.2782,  0.2574, -0.1875,  0.1901,  0.2434, -0.0486,\n",
            "          0.0204,  0.3064],\n",
            "        [ 0.2734,  0.2235,  0.1896,  0.1893, -0.0454,  0.1423, -0.1796, -0.0172,\n",
            "          0.1364, -0.2045],\n",
            "        [ 0.1610, -0.1048, -0.0306, -0.2461, -0.1150,  0.2593, -0.1577, -0.3086,\n",
            "          0.2446,  0.2576],\n",
            "        [ 0.0017, -0.1969,  0.1808, -0.2318, -0.2577,  0.0846,  0.1979,  0.0291,\n",
            "          0.3136,  0.2158],\n",
            "        [ 0.1209, -0.3129, -0.2215, -0.2855, -0.2449,  0.3027,  0.1239, -0.0167,\n",
            "          0.1036,  0.0670],\n",
            "        [-0.2587,  0.2125, -0.2361,  0.2481, -0.2597,  0.3017,  0.2291,  0.1285,\n",
            "         -0.0158,  0.1775]], requires_grad=True)\n",
            "Parameter containing:\n",
            "tensor([-0.1483, -0.3120,  0.2006,  0.2380, -0.0707,  0.0407,  0.0645, -0.1540,\n",
            "         0.2180,  0.1627], requires_grad=True)\n",
            "Parameter containing:\n",
            "tensor([[ 0.0041,  0.2522, -0.1029,  0.2400, -0.1510, -0.0734,  0.1437,  0.1028,\n",
            "         -0.1382,  0.2282]], requires_grad=True)\n",
            "Parameter containing:\n",
            "tensor([0.1918], requires_grad=True)\n"
          ]
        }
      ]
    },
    {
      "cell_type": "code",
      "source": [
        "loss_criterion = nn.BCEWithLogitsLoss()\n",
        "optimizer = torch.optim.Adam(model.parameters(), lr=0.001)"
      ],
      "metadata": {
        "id": "ho0JMmvGKomd"
      },
      "execution_count": 8,
      "outputs": []
    },
    {
      "cell_type": "code",
      "source": [
        "def compute_accuracy(predictions: List[int], labels:List[int]) -> float:\n",
        "    num_correct = len([(p,l) for (p,l) in zip(predictions,labels) if p==l])\n",
        "    epoch_accuracy = num_correct/len(labels)\n",
        "    \n",
        "    return epoch_accuracy"
      ],
      "metadata": {
        "id": "x7XCloiPYIqx"
      },
      "execution_count": 9,
      "outputs": []
    },
    {
      "cell_type": "code",
      "source": [
        "def train_epoch(model, train_dataloader, loss_crt, optimizer,device):\n",
        "    model.train()\n",
        "    epoch_loss = 0.0\n",
        "    num_batches = len(train_dataloader)\n",
        "    predictions = []\n",
        "    labels = []\n",
        "    for idx, batch in enumerate(train_dataloader):\n",
        "        batch_data, batch_labels = batch\n",
        "\n",
        "        batch_data = batch_data.to(device)\n",
        "        batch_labels = batch_labels.to(device)\n",
        "        \n",
        "        output = model(batch_data)        \n",
        "\n",
        "        batch_predictions = torch.round(torch.sigmoid(output)).squeeze()\n",
        "\n",
        "        predictions += batch_predictions.tolist()\n",
        "        labels += batch_labels.squeeze().tolist()\n",
        "\n",
        "        loss = loss_crt(output.squeeze(), batch_labels.squeeze())\n",
        "        loss_scalar = loss.item()\n",
        "\n",
        "        loss.backward()\n",
        "\n",
        "        optimizer.step()\n",
        "        model.zero_grad()\n",
        "        \n",
        "\n",
        "        epoch_loss += loss_scalar\n",
        "\n",
        "    epoch_loss = epoch_loss/num_batches\n",
        "\n",
        "    return epoch_loss, predictions, labels\n",
        "\n",
        "def eval_epoch(model, val_dataloader, loss_crt,device):\n",
        "    model.eval()\n",
        "    epoch_loss = 0.0\n",
        "    num_batches = len(val_dataloader)\n",
        "    predictions = []\n",
        "    labels = []\n",
        "    with torch.no_grad():\n",
        "        for idx, batch in enumerate(val_dataloader):\n",
        "            batch_data, batch_labels = batch\n",
        "\n",
        "            batch_data = batch_data.to(device)\n",
        "            batch_labels = batch_labels.to(device)\n",
        "            \n",
        "            output = model(batch_data)\n",
        "\n",
        "            batch_predictions = torch.round(torch.sigmoid(output)).squeeze()\n",
        "\n",
        "            predictions += batch_predictions.tolist()\n",
        "            labels += batch_labels.squeeze().tolist()\n",
        "\n",
        "            loss = loss_crt(output.squeeze(), batch_labels.squeeze())\n",
        "            loss_scalar = loss.item()\n",
        "\n",
        "            epoch_loss += loss_scalar\n",
        "\n",
        "    epoch_loss = epoch_loss/num_batches\n",
        "\n",
        "    return epoch_loss, predictions, labels"
      ],
      "metadata": {
        "id": "tmdODri8ZBSf"
      },
      "execution_count": 10,
      "outputs": []
    },
    {
      "cell_type": "code",
      "source": [
        "train_losses, val_losses = [], []\n",
        "train_accuracies, val_accuracies = [], []\n",
        "\n",
        "hyperparams = {\n",
        "    'num_epochs': 20,\n",
        "}\n",
        "device = torch.device('cuda' if torch.cuda.is_available() else 'cpu')\n",
        "model.to(device)\n",
        "\n",
        "for epoch_idx in range(hyperparams['num_epochs']):\n",
        "    train_epoch_loss, train_predictions, train_labels = train_epoch(\n",
        "        model, \n",
        "        train_dataloader, \n",
        "        loss_criterion, \n",
        "        optimizer,\n",
        "        device)\n",
        "    val_epoch_loss, val_predictions, val_labels = eval_epoch(\n",
        "        model,\n",
        "        val_dataloader,\n",
        "        loss_criterion,\n",
        "        device\n",
        "    )\n",
        "    train_acc = compute_accuracy(train_predictions, train_labels)\n",
        "    val_acc = compute_accuracy(val_predictions, val_labels)\n",
        "    train_losses.append(train_epoch_loss)\n",
        "    val_losses.append(val_epoch_loss)\n",
        "    train_accuracies.append(train_acc)\n",
        "    val_accuracies.append(val_acc)\n",
        "\n",
        "    print(\"epoch %d, train loss=%f, train acc=%f, val loss=%f, val acc=%f\" % (\n",
        "        epoch_idx, \n",
        "        train_epoch_loss,\n",
        "        train_acc,\n",
        "        val_epoch_loss,\n",
        "        val_acc\n",
        "    ))\n"
      ],
      "metadata": {
        "colab": {
          "base_uri": "https://localhost:8080/"
        },
        "id": "0_J9qvsYZBPG",
        "outputId": "faa573ab-2f96-4f7b-f58b-636884ad8fa7"
      },
      "execution_count": 11,
      "outputs": [
        {
          "output_type": "stream",
          "name": "stdout",
          "text": [
            "epoch 0, train loss=0.365776, train acc=0.859397, val loss=0.289126, val acc=0.931373\n",
            "epoch 1, train loss=0.242138, train acc=0.946353, val loss=0.272813, val acc=0.931373\n",
            "epoch 2, train loss=0.218477, train acc=0.946353, val loss=0.232936, val acc=0.931373\n",
            "epoch 3, train loss=0.203627, train acc=0.946353, val loss=0.243405, val acc=0.931373\n",
            "epoch 4, train loss=0.198190, train acc=0.946353, val loss=0.228101, val acc=0.931373\n",
            "epoch 5, train loss=0.196595, train acc=0.946353, val loss=0.225329, val acc=0.931373\n",
            "epoch 6, train loss=0.194527, train acc=0.946353, val loss=0.225181, val acc=0.931373\n",
            "epoch 7, train loss=0.196224, train acc=0.946353, val loss=0.227444, val acc=0.931373\n",
            "epoch 8, train loss=0.195956, train acc=0.946353, val loss=0.232675, val acc=0.931373\n",
            "epoch 9, train loss=0.191896, train acc=0.946353, val loss=0.237275, val acc=0.931373\n",
            "epoch 10, train loss=0.191374, train acc=0.946353, val loss=0.241083, val acc=0.931373\n",
            "epoch 11, train loss=0.195249, train acc=0.946353, val loss=0.217865, val acc=0.931373\n",
            "epoch 12, train loss=0.191673, train acc=0.946353, val loss=0.218101, val acc=0.931373\n",
            "epoch 13, train loss=0.189371, train acc=0.946353, val loss=0.229102, val acc=0.931373\n",
            "epoch 14, train loss=0.188612, train acc=0.946353, val loss=0.224891, val acc=0.931373\n",
            "epoch 15, train loss=0.190292, train acc=0.946353, val loss=0.218840, val acc=0.931373\n",
            "epoch 16, train loss=0.194278, train acc=0.946353, val loss=0.217996, val acc=0.931373\n",
            "epoch 17, train loss=0.196759, train acc=0.946353, val loss=0.228348, val acc=0.931373\n",
            "epoch 18, train loss=0.200318, train acc=0.946353, val loss=0.238846, val acc=0.931373\n",
            "epoch 19, train loss=0.187524, train acc=0.946353, val loss=0.223605, val acc=0.931373\n"
          ]
        }
      ]
    },
    {
      "cell_type": "code",
      "source": [
        "%matplotlib inline\n",
        "NUM_EPOCHS=hyperparams['num_epochs']\n",
        "plt.plot(range(0,len(train_losses)), train_losses, 'g', label='Training loss')\n",
        "plt.plot(range(0,len(train_losses)), val_losses, 'b', label='Validation loss')\n",
        "plt.title('Training and Validation loss')\n",
        "plt.xlabel('Epochs')\n",
        "plt.ylabel('Loss')\n",
        "plt.legend()\n",
        "plt.show()"
      ],
      "metadata": {
        "colab": {
          "base_uri": "https://localhost:8080/",
          "height": 295
        },
        "id": "A7a3nsMkZBMp",
        "outputId": "07d6b896-c6be-4918-bd9b-ff05545604e0"
      },
      "execution_count": 12,
      "outputs": [
        {
          "output_type": "display_data",
          "data": {
            "text/plain": [
              "<Figure size 432x288 with 1 Axes>"
            ],
            "image/png": "[encoded data removed]"
          },
          "metadata": {
            "needs_background": "light"
          }
        }
      ]
    },
    {
      "cell_type": "code",
      "source": [
        "NUM_EPOCHS=hyperparams['num_epochs']\n",
        "plt.plot(range(0,len(train_accuracies)), train_accuracies, 'g', label='Training acc')\n",
        "plt.plot(range(0,len(val_accuracies)), val_accuracies, 'b', label='Validation acc')\n",
        "plt.title('Training and Validation accurracies')\n",
        "plt.xlabel('Epochs')\n",
        "plt.ylabel('Loss')\n",
        "plt.legend()\n",
        "plt.show()"
      ],
      "metadata": {
        "colab": {
          "base_uri": "https://localhost:8080/",
          "height": 295
        },
        "id": "Kbm12hpgZBJw",
        "outputId": "c3ff4d88-15ff-4221-c184-c8f20d037408"
      },
      "execution_count": 13,
      "outputs": [
        {
          "output_type": "display_data",
          "data": {
            "text/plain": [
              "<Figure size 432x288 with 1 Axes>"
            ],
            "image/png": "[encoded data removed]"
          },
          "metadata": {
            "needs_background": "light"
          }
        }
      ]
    },
    {
      "cell_type": "code",
      "source": [
        "def compute_confusion_matrix(predictions: List[int], labels:List[int]) -> Tuple[int]:\n",
        "    correct_stroke = 0\n",
        "    correct_no_stroke = 0\n",
        "    wrong_stroke = 0\n",
        "    wrong_no_stroke = 0\n",
        "    for (p,l) in zip(predictions, labels):\n",
        "        if p == 0 and l == 0:\n",
        "            correct_stroke += 1\n",
        "        elif p == 0 and l == 1:\n",
        "            wrong_stroke += 1\n",
        "        elif p == 1 and l == 1:\n",
        "            correct_no_stroke += 1\n",
        "        else:\n",
        "            wrong_no_stroke += 1\n",
        "\n",
        "    return (correct_stroke, wrong_stroke, correct_no_stroke, wrong_no_stroke)"
      ],
      "metadata": {
        "id": "cdHfdFLkZBG7"
      },
      "execution_count": 14,
      "outputs": []
    },
    {
      "cell_type": "code",
      "source": [
        "correct_stroke, wrong_stroke, correct_no_stroke, wrong_no_stroke = compute_confusion_matrix(\n",
        "    val_predictions,\n",
        "    val_labels\n",
        ")\n",
        "cf_matrix = [\n",
        "    [correct_stroke, wrong_stroke],\n",
        "    [correct_no_stroke, wrong_no_stroke]\n",
        "]\n",
        "import seaborn as sns\n",
        "\n",
        "ax = sns.heatmap(cf_matrix, annot=True, cmap='Blues', fmt='d')\n",
        "\n",
        "ax.set_title('Confusion Matrix\\n\\n');\n",
        "ax.set_ylabel('\\nPredicted Values')\n",
        "ax.set_xlabel('Actual Values ');\n",
        "\n",
        "ax.xaxis.set_ticklabels(['stroke','no stroke'])\n",
        "ax.yaxis.set_ticklabels(['stroke','no stroke'])\n",
        "\n",
        "plt.show()"
      ],
      "metadata": {
        "colab": {
          "base_uri": "https://localhost:8080/",
          "height": 325
        },
        "id": "hFDir4FgZBEL",
        "outputId": "910fcf91-14ef-4b16-bc09-7cec100eb205"
      },
      "execution_count": 15,
      "outputs": [
        {
          "output_type": "display_data",
          "data": {
            "text/plain": [
              "<Figure size 432x288 with 2 Axes>"
            ],
            "image/png": "[encoded data removed]"
          },
          "metadata": {
            "needs_background": "light"
          }
        }
      ]
    },
    {
      "cell_type": "code",
      "source": [
        "pos_weight = torch.tensor([16]).to(device)\n",
        "loss_criterion = nn.BCEWithLogitsLoss(pos_weight=pos_weight)\n",
        "# out dataset has only 203 positive samples, while it has around 3300 negative ones,\n",
        "# we set the pos_weight argument with [16]"
      ],
      "metadata": {
        "id": "DNpU5eRhZA-a"
      },
      "execution_count": 16,
      "outputs": []
    },
    {
      "cell_type": "code",
      "source": [
        "# we now run the epochs again with the param set for our loss function\n",
        "from sklearn.metrics import precision_recall_fscore_support\n",
        "\n",
        "train_losses, val_losses = [], []\n",
        "train_accuracies, val_accuracies = [], []\n",
        "\n",
        "for epoch_idx in range(hyperparams['num_epochs']):\n",
        "    train_epoch_loss, train_predictions, train_labels = train_epoch(\n",
        "        model, \n",
        "        train_dataloader, \n",
        "        loss_criterion, \n",
        "        optimizer,\n",
        "        device)\n",
        "    val_epoch_loss, val_predictions, val_labels = eval_epoch(\n",
        "        model,\n",
        "        val_dataloader,\n",
        "        loss_criterion,\n",
        "        device\n",
        "    )\n",
        "    train_acc = compute_accuracy(train_predictions, train_labels)\n",
        "    val_acc = compute_accuracy(val_predictions, val_labels)\n",
        "    train_losses.append(train_epoch_loss)\n",
        "    val_losses.append(val_epoch_loss)\n",
        "    train_accuracies.append(train_acc)\n",
        "    val_accuracies.append(val_acc)\n",
        "\n",
        "    print(\"epoch %d,\\ntrain loss=%f, train acc=%f, val loss=%f, val acc=%f\" % (\n",
        "        epoch_idx, \n",
        "        train_epoch_loss,\n",
        "        train_acc,\n",
        "        val_epoch_loss,\n",
        "        val_acc\n",
        "    ))\n",
        "    train_precision, train_recall, train_f1_score, _ =  precision_recall_fscore_support(train_labels,train_predictions,average='macro')\n",
        "    val_precision, val_recall, val_f1_score, _ =  precision_recall_fscore_support(val_labels,val_predictions,average='macro')\n",
        "    print(\"train_precision=%f, train_recall=%f, train_f1=%f,\\nval_precision  =%f, val_recall  =%f, val_f1  =%f \" % (\n",
        "        train_precision, \n",
        "        train_recall, \n",
        "        train_f1_score,\n",
        "        val_precision, \n",
        "        val_recall, \n",
        "        val_f1_score\n",
        "    ))\n",
        "\n"
      ],
      "metadata": {
        "id": "L6s5LUL9ZA7g",
        "colab": {
          "base_uri": "https://localhost:8080/"
        },
        "outputId": "fe55bea8-a68d-49c1-a5b2-4f1f849c6840"
      },
      "execution_count": 17,
      "outputs": [
        {
          "output_type": "stream",
          "name": "stdout",
          "text": [
            "epoch 0,\n",
            "train loss=1.077039, train acc=0.641304, val loss=1.150502, val acc=0.593838\n",
            "train_precision=0.547094, train_recall=0.721086, train_f1=0.482176,\n",
            "val_precision  =0.550855, val_recall  =0.696885, val_f1  =0.471057 \n",
            "epoch 1,\n",
            "train loss=1.021563, train acc=0.632188, val loss=1.128459, val acc=0.669468\n",
            "train_precision=0.544455, train_recall=0.710104, train_f1=0.475447,\n",
            "val_precision  =0.560048, val_recall  =0.718582, val_f1  =0.516060 \n",
            "epoch 2,\n",
            "train loss=0.957060, train acc=0.705820, val loss=1.150861, val acc=0.756303\n",
            "train_precision=0.559467, train_recall=0.758256, train_f1=0.523885,\n",
            "val_precision  =0.571091, val_recall  =0.717938, val_f1  =0.564268 \n",
            "epoch 3,\n",
            "train loss=0.951454, train acc=0.685835, val loss=1.517168, val acc=0.858543\n",
            "train_precision=0.555410, train_recall=0.747696, train_f1=0.510786,\n",
            "val_precision  =0.577512, val_recall  =0.631042, val_f1  =0.592270 \n",
            "epoch 4,\n",
            "train loss=1.000704, train acc=0.691094, val loss=1.101343, val acc=0.665266\n",
            "train_precision=0.555154, train_recall=0.744310, train_f1=0.512897,\n",
            "val_precision  =0.559152, val_recall  =0.716327, val_f1  =0.513267 \n",
            "epoch 5,\n",
            "train loss=0.976095, train acc=0.667251, val loss=1.248124, val acc=0.789916\n",
            "train_precision=0.551367, train_recall=0.734795, train_f1=0.498312,\n",
            "val_precision  =0.581487, val_recall  =0.726531, val_f1  =0.587753 \n",
            "epoch 6,\n",
            "train loss=0.963049, train acc=0.701262, val loss=1.084458, val acc=0.651261\n",
            "train_precision=0.555273, train_recall=0.740434, train_f1=0.517522,\n",
            "val_precision  =0.556284, val_recall  =0.708808, val_f1  =0.504049 \n",
            "epoch 7,\n",
            "train loss=0.947884, train acc=0.693548, val loss=1.090403, val acc=0.677871\n",
            "train_precision=0.556283, train_recall=0.748689, train_f1=0.515144,\n",
            "val_precision  =0.559477, val_recall  =0.713641, val_f1  =0.519397 \n",
            "epoch 8,\n",
            "train loss=0.946982, train acc=0.694600, val loss=1.120055, val acc=0.670868\n",
            "train_precision=0.557135, train_recall=0.752328, train_f1=0.516482,\n",
            "val_precision  =0.560351, val_recall  =0.719334, val_f1  =0.516994 \n",
            "epoch 9,\n",
            "train loss=0.941477, train acc=0.693548, val loss=1.217025, val acc=0.808123\n",
            "train_precision=0.556283, train_recall=0.748689, train_f1=0.515144,\n",
            "val_precision  =0.590139, val_recall  =0.736305, val_f1  =0.603377 \n",
            "epoch 10,\n",
            "train loss=0.941463, train acc=0.716690, val loss=1.106461, val acc=0.652661\n",
            "train_precision=0.556635, train_recall=0.739337, train_f1=0.525626,\n",
            "val_precision  =0.556562, val_recall  =0.709560, val_f1  =0.504965 \n",
            "epoch 11,\n",
            "train loss=0.925570, train acc=0.702314, val loss=1.247780, val acc=0.784314\n",
            "train_precision=0.560648, train_recall=0.765652, train_f1=0.523534,\n",
            "val_precision  =0.584403, val_recall  =0.742427, val_f1  =0.589306 \n",
            "epoch 12,\n",
            "train loss=0.943788, train acc=0.709327, val loss=1.104415, val acc=0.735294\n",
            "train_precision=0.558931, train_recall=0.753943, train_f1=0.524874,\n",
            "val_precision  =0.574449, val_recall  =0.744468, val_f1  =0.559569 \n",
            "epoch 13,\n",
            "train loss=0.926068, train acc=0.699860, val loss=1.145932, val acc=0.733894\n",
            "train_precision=0.558210, train_recall=0.755107, train_f1=0.519936,\n",
            "val_precision  =0.571533, val_recall  =0.734264, val_f1  =0.555929 \n",
            "epoch 14,\n",
            "train loss=0.939344, train acc=0.707574, val loss=1.093434, val acc=0.659664\n",
            "train_precision=0.558551, train_recall=0.753017, train_f1=0.523707,\n",
            "val_precision  =0.557983, val_recall  =0.713319, val_f1  =0.509564 \n",
            "epoch 15,\n",
            "train loss=0.933196, train acc=0.704067, val loss=1.102244, val acc=0.693277\n",
            "train_precision=0.557802, train_recall=0.751164, train_f1=0.521383,\n",
            "val_precision  =0.563054, val_recall  =0.721912, val_f1  =0.529804 \n",
            "epoch 16,\n",
            "train loss=0.935600, train acc=0.700561, val loss=1.107265, val acc=0.708683\n",
            "train_precision=0.557712, train_recall=0.752394, train_f1=0.519737,\n",
            "val_precision  =0.566925, val_recall  =0.730183, val_f1  =0.540455 \n",
            "epoch 17,\n",
            "train loss=0.928287, train acc=0.708626, val loss=1.099037, val acc=0.698880\n",
            "train_precision=0.559426, train_recall=0.756655, train_f1=0.525083,\n",
            "val_precision  =0.564425, val_recall  =0.724919, val_f1  =0.533647 \n",
            "epoch 18,\n",
            "train loss=0.931385, train acc=0.705820, val loss=1.118768, val acc=0.631653\n",
            "train_precision=0.558821, train_recall=0.755173, train_f1=0.523216,\n",
            "val_precision  =0.557313, val_recall  =0.717186, val_f1  =0.495420 \n",
            "epoch 19,\n",
            "train loss=0.937007, train acc=0.696353, val loss=1.188452, val acc=0.711485\n",
            "train_precision=0.556205, train_recall=0.747089, train_f1=0.516317,\n",
            "val_precision  =0.567664, val_recall  =0.731686, val_f1  =0.542422 \n"
          ]
        }
      ]
    },
    {
      "cell_type": "code",
      "source": [
        "# Regression Task\n",
        "# 1\n",
        "# Regression helps us predict continous variables, like a price for a product, \n",
        "# not just classes, and during training our loss it's given by how far we are \n",
        "# from the expected number"
      ],
      "metadata": {
        "id": "QAY3TuveZAtJ"
      },
      "execution_count": 18,
      "outputs": []
    },
    {
      "cell_type": "code",
      "source": [
        "# 2\n",
        "y = data.bmi\n",
        "X = data\n",
        "\n",
        "X_train,X_val,y_train,y_val = train_test_split(X,y,test_size = 0.2,train_size = 0.8, random_state = 42, shuffle = True)\n",
        "\n",
        "print(X_train.shape)\n",
        "print(y_train.shape)\n",
        "print(X_val.shape)\n",
        "print(y_val.shape)"
      ],
      "metadata": {
        "id": "C2losyhtZAf-",
        "colab": {
          "base_uri": "https://localhost:8080/"
        },
        "outputId": "54a890eb-e974-46dc-f30b-84ca66c257de"
      },
      "execution_count": 19,
      "outputs": [
        {
          "output_type": "stream",
          "name": "stdout",
          "text": [
            "(2852, 13)\n",
            "(2852,)\n",
            "(714, 13)\n",
            "(714,)\n"
          ]
        }
      ]
    },
    {
      "cell_type": "code",
      "source": [
        "class BMIDataset(Dataset):\n",
        "  def __init__(self,data):\n",
        "    self.data = data\n",
        "  def __len__(self):\n",
        "    return len(self.data)\n",
        "  def __getitem__(self,idx):\n",
        "    data_tensor = torch.tensor(self.data.iloc[idx,~self.data.columns.isin(['Unnamed: 0','id', 'bmi'])]).type(torch.FloatTensor)\n",
        "    label_tensor = torch.tensor([self.data.iloc[idx,-3]]).type(torch.FloatTensor)\n",
        "    return data_tensor,label_tensor\n",
        "\n",
        "BATCH_SIZE=32\n",
        "train_dataset = BMIDataset(X_train)\n",
        "val_dataset = BMIDataset(X_val)\n",
        "\n",
        "print(train_dataset[0])\n",
        "print(train_dataset[1])\n",
        "print(train_dataset[2])\n",
        "\n",
        "\n",
        "train_dataloader = DataLoader(\n",
        "    dataset=train_dataset,\n",
        "    shuffle= True,\n",
        "    batch_size = BATCH_SIZE\n",
        ")\n",
        "\n",
        "val_dataloader = DataLoader(\n",
        "    dataset = val_dataset,\n",
        "    shuffle=True,\n",
        "    batch_size = BATCH_SIZE\n",
        ")"
      ],
      "metadata": {
        "id": "BZU66928S2wo",
        "colab": {
          "base_uri": "https://localhost:8080/"
        },
        "outputId": "d4f29819-b1e2-452d-bbdb-eb66b0fe193d"
      },
      "execution_count": 20,
      "outputs": [
        {
          "output_type": "stream",
          "name": "stdout",
          "text": [
            "(tensor([ 1.0000, 60.0000,  0.0000,  0.0000,  1.0000,  4.0000,  0.0000, 97.4300,\n",
            "         0.0000,  1.0000]), tensor([26.4000]))\n",
            "(tensor([ 1.0000, 50.0000,  0.0000,  0.0000,  1.0000,  4.0000,  1.0000, 68.4100,\n",
            "         0.0000,  0.0000]), tensor([23.9000]))\n",
            "(tensor([ 2.0000, 62.0000,  0.0000,  1.0000,  1.0000,  3.0000,  0.0000, 56.3100,\n",
            "         1.0000,  0.0000]), tensor([24.3000]))\n"
          ]
        }
      ]
    },
    {
      "cell_type": "code",
      "source": [
        "class BMIRegression(nn.Module):\n",
        "  def __init__(self,\n",
        "               input_size:int,\n",
        "               hidden_size_1:int,\n",
        "               hidden_size_2:int,\n",
        "               activation_fn:Callable):\n",
        "    super().__init__()\n",
        "    self.input_size = input_size\n",
        "    self.hidden_size_1 = hidden_size_1\n",
        "    self.hidden_size_2 = hidden_size_2\n",
        "    self.layer_1 = nn.Linear(input_size,hidden_size_1)\n",
        "    self.layer_2 = nn.Linear(hidden_size_1,hidden_size_2)\n",
        "    self.output_layer = nn.Linear(hidden_size_2,1)\n",
        "    self.activation_fn = activation_fn\n",
        "\n",
        "  def forward(self,x):\n",
        "    h1 = self.activation_fn(self.layer_1(x))\n",
        "    h2 = self.activation_fn(self.layer_2(h1))\n",
        "    out = self.output_layer(h2)\n",
        "\n",
        "    return out\n",
        "\n",
        "model_reg = BMIRegression(10,50,50,nn.ReLU())\n",
        "num_params = 0\n",
        "print(\"Model's parameters: \")\n",
        "for param in model_reg.parameters():\n",
        "  print(param)\n"
      ],
      "metadata": {
        "id": "j9Xs0P5fA-62",
        "colab": {
          "base_uri": "https://localhost:8080/"
        },
        "outputId": "4f7082f5-0b1d-49e0-d6ca-eeec3bbf1e53"
      },
      "execution_count": 21,
      "outputs": [
        {
          "output_type": "stream",
          "name": "stdout",
          "text": [
            "Model's parameters: \n",
            "Parameter containing:\n",
            "tensor([[ 2.6770e-01,  8.7218e-02,  4.1006e-02, -2.8933e-01, -8.1523e-02,\n",
            "         -2.9218e-01, -3.4632e-02,  1.1790e-01,  2.6855e-01,  1.1461e-01],\n",
            "        [ 2.4624e-01, -1.2946e-01,  1.9953e-01,  2.0410e-01, -3.2131e-02,\n",
            "         -1.4590e-01,  2.9709e-01,  4.6726e-02,  1.2114e-01, -9.6765e-02],\n",
            "        [-1.7031e-01, -2.8814e-01, -2.4775e-01,  1.5655e-01,  8.6122e-02,\n",
            "          2.4041e-02,  3.0438e-01, -1.1593e-01,  2.3548e-01, -4.5385e-02],\n",
            "        [-2.7646e-01, -3.2432e-02,  1.1282e-01, -9.1578e-02, -1.6874e-01,\n",
            "         -3.1611e-01,  2.9066e-01,  1.8306e-01,  2.9342e-01,  2.6324e-01],\n",
            "        [ 3.9530e-02, -1.8213e-01, -5.6402e-02,  2.7425e-02, -2.1862e-01,\n",
            "          1.3451e-01, -4.8869e-02,  1.8115e-01,  1.7060e-01, -8.3592e-02],\n",
            "        [ 2.3447e-01, -4.0943e-02, -7.3127e-02,  2.4078e-01, -1.6995e-01,\n",
            "          2.5066e-01, -1.0420e-01, -4.3432e-02,  1.2524e-01, -2.4586e-01],\n",
            "        [ 4.8367e-02, -4.5520e-02, -1.0052e-01, -1.1729e-01, -1.3504e-02,\n",
            "         -2.6258e-01, -2.1301e-01,  3.1607e-01,  2.1177e-01,  1.0383e-01],\n",
            "        [-4.4088e-02,  7.6765e-02, -2.6593e-01,  1.0019e-01, -1.4744e-01,\n",
            "         -2.4031e-01,  1.0644e-01, -2.6314e-01, -1.2596e-01,  1.6691e-02],\n",
            "        [ 7.7254e-02, -1.2202e-01,  2.0336e-01, -1.5151e-01,  1.0068e-01,\n",
            "         -2.6441e-01, -2.2598e-01, -2.6992e-02, -2.2314e-02,  3.1454e-01],\n",
            "        [ 1.9735e-01,  1.1414e-01,  3.0199e-01, -1.4249e-01,  8.2659e-02,\n",
            "          4.1789e-02, -1.9499e-01, -5.1298e-04,  3.0979e-01,  1.3397e-01],\n",
            "        [ 1.6886e-01,  1.3311e-01,  5.0183e-02, -1.2690e-01,  9.7835e-02,\n",
            "          3.1393e-01,  2.4190e-01,  2.2179e-01,  1.0445e-01,  1.0729e-01],\n",
            "        [-1.5616e-01,  3.0151e-01, -2.0666e-01, -2.5002e-01,  2.5136e-01,\n",
            "         -3.7312e-03,  8.3340e-03,  3.9265e-02, -2.6203e-01,  2.3625e-01],\n",
            "        [-4.9217e-02, -3.0805e-01, -6.9502e-02,  1.6327e-01,  1.2860e-01,\n",
            "         -1.5545e-02,  6.5299e-02, -1.0724e-01, -1.4323e-01, -1.0569e-01],\n",
            "        [ 8.4621e-02,  8.2564e-02, -1.6109e-01,  1.5099e-01,  3.1595e-02,\n",
            "         -2.2265e-01,  6.0645e-02, -1.2623e-01,  2.5792e-01,  2.4703e-01],\n",
            "        [-1.0471e-01,  2.1985e-01,  2.2289e-02,  2.7042e-01,  1.8022e-01,\n",
            "         -1.4089e-01,  2.9245e-01, -2.8578e-02, -1.0395e-01, -2.2704e-01],\n",
            "        [-3.0526e-01,  1.4365e-02, -6.6085e-02,  3.8904e-02,  3.0359e-01,\n",
            "         -5.3820e-02, -7.2204e-02,  1.4559e-01, -1.8803e-01, -1.8092e-01],\n",
            "        [-9.5250e-02, -2.1144e-01, -6.1092e-02, -2.6139e-01, -3.0523e-01,\n",
            "          2.9713e-01, -1.7484e-01,  2.3497e-01,  1.9773e-01, -1.8361e-01],\n",
            "        [-1.3828e-01,  9.3670e-02, -7.2517e-02,  1.2269e-01,  6.0595e-02,\n",
            "         -2.0796e-01, -2.0141e-01, -2.4933e-01,  2.2685e-01,  2.8270e-01],\n",
            "        [ 2.2496e-01,  1.7646e-01, -1.6928e-01, -1.8301e-02,  2.6991e-01,\n",
            "         -7.8721e-02, -2.1171e-01,  1.6654e-01,  2.2576e-01, -9.6387e-02],\n",
            "        [ 5.7219e-02, -2.3823e-01, -1.4443e-01, -2.2639e-01, -3.1567e-01,\n",
            "          2.8805e-01, -1.1973e-01, -2.1033e-02,  1.4172e-01, -9.5985e-02],\n",
            "        [-4.7536e-02, -1.9917e-02,  7.4016e-02, -2.0518e-01,  2.3028e-01,\n",
            "          2.5510e-01, -3.0633e-01,  1.2824e-01,  2.9994e-01, -2.2600e-01],\n",
            "        [-2.3607e-01, -6.6226e-02,  3.1468e-01,  3.0444e-02,  5.3128e-02,\n",
            "         -2.0538e-01, -3.1577e-01,  1.9417e-01, -6.4325e-02, -1.6616e-01],\n",
            "        [-2.7611e-01,  2.1339e-01,  2.5176e-01, -2.5205e-02, -2.1861e-01,\n",
            "         -2.0237e-01,  6.2303e-02, -4.3315e-02, -2.0885e-01, -8.3766e-02],\n",
            "        [-5.3650e-02, -2.9425e-01,  1.9728e-01, -2.6105e-01,  2.3425e-01,\n",
            "         -2.2309e-02,  1.0356e-01, -2.5542e-01,  1.3331e-01, -6.0595e-02],\n",
            "        [-3.7540e-02, -1.5553e-01, -3.0449e-01, -1.8582e-01,  1.5224e-01,\n",
            "          3.0353e-01, -1.8654e-01, -3.8687e-02, -1.0421e-01,  1.8468e-01],\n",
            "        [ 6.5529e-02,  2.0633e-01, -1.8891e-01, -1.2766e-01, -2.4589e-01,\n",
            "          5.8558e-02, -2.1880e-01, -2.9275e-01, -2.7611e-02,  1.3910e-01],\n",
            "        [-2.9857e-01,  2.7139e-01, -1.1247e-01,  4.3438e-02, -3.1345e-01,\n",
            "         -1.8759e-01,  5.5059e-02, -1.0944e-01, -1.0830e-01, -1.3934e-01],\n",
            "        [-3.0634e-01, -9.1593e-02, -5.3845e-02, -1.8371e-01, -2.0018e-01,\n",
            "          2.5646e-01, -1.3825e-01,  1.6572e-01, -2.2268e-01,  9.2722e-02],\n",
            "        [-2.8808e-01,  2.8452e-01, -3.0818e-01,  1.2228e-02,  2.4222e-01,\n",
            "         -5.0533e-02,  4.6356e-03, -2.9594e-01, -1.2472e-01, -4.0351e-02],\n",
            "        [ 1.8165e-01, -1.5810e-01,  2.2017e-01, -1.4489e-01,  2.2578e-02,\n",
            "          2.4480e-01, -5.6991e-02, -8.4837e-02,  2.5847e-01, -2.3163e-02],\n",
            "        [ 1.6286e-02,  2.1057e-01, -1.2529e-01, -1.6332e-02, -2.3938e-01,\n",
            "         -1.5547e-01, -1.5441e-01, -1.7484e-01, -2.0347e-01, -5.7034e-02],\n",
            "        [ 1.6823e-01,  2.9202e-01, -3.1364e-01, -3.3100e-02,  4.2832e-03,\n",
            "          2.1497e-01, -6.5131e-02,  5.6420e-02, -2.7253e-01, -2.2618e-01],\n",
            "        [-2.7600e-01,  2.8063e-01, -1.0497e-01,  2.8602e-01,  1.2631e-01,\n",
            "          1.5832e-01,  2.5093e-01, -1.7228e-01, -1.0750e-02, -9.4013e-02],\n",
            "        [-3.3517e-02,  5.1846e-02,  1.4364e-01, -2.7594e-01,  1.1731e-01,\n",
            "         -5.7338e-02,  2.7203e-01, -2.9204e-01,  8.9609e-02, -2.1510e-02],\n",
            "        [ 1.1143e-01,  3.2934e-02,  2.6173e-01, -3.1343e-01,  1.2008e-01,\n",
            "         -2.1121e-01, -1.5970e-01, -2.8880e-01, -1.8030e-01,  1.9426e-01],\n",
            "        [-2.6980e-01, -2.6281e-01,  2.5481e-02,  3.1276e-01, -1.7869e-01,\n",
            "         -2.7801e-01, -2.9660e-01,  2.8890e-01, -3.2477e-02, -3.1263e-01],\n",
            "        [ 3.0023e-01,  3.0936e-01, -6.6374e-02,  2.9614e-01, -2.2800e-01,\n",
            "          6.8629e-02,  2.0228e-01,  1.4857e-01,  1.6893e-01,  4.6412e-02],\n",
            "        [ 1.8780e-01, -2.8381e-01, -8.0295e-06,  1.5340e-01,  2.1000e-01,\n",
            "         -2.0002e-02, -2.2874e-01,  2.3493e-01, -2.2242e-01, -4.7006e-02],\n",
            "        [-6.8954e-02, -3.0481e-01, -2.4723e-01, -1.2957e-01,  2.3082e-02,\n",
            "          2.7740e-01, -2.7411e-01, -2.8446e-01,  2.4507e-01, -3.1011e-01],\n",
            "        [ 5.5889e-02, -7.9649e-02, -1.1050e-01,  2.4871e-01, -3.1467e-01,\n",
            "          2.1420e-01, -2.9686e-01,  2.7627e-01,  3.0152e-01, -9.0051e-02],\n",
            "        [ 2.2424e-01,  1.0401e-01, -2.8139e-01,  1.8102e-01, -2.7841e-01,\n",
            "          2.4103e-01,  2.6262e-01,  1.9313e-01,  3.1580e-01, -6.9036e-02],\n",
            "        [-1.8926e-01, -2.1813e-01, -9.7072e-02, -1.4462e-01, -1.9437e-02,\n",
            "         -9.0323e-02, -1.0871e-01, -2.7420e-01,  1.3610e-01,  1.8016e-01],\n",
            "        [-1.4334e-01, -1.6593e-01,  2.1369e-01, -1.6002e-01, -2.4682e-01,\n",
            "         -2.7979e-01,  4.1205e-02, -2.0045e-01, -1.8188e-02, -1.6335e-01],\n",
            "        [-1.1774e-01,  3.0066e-01,  6.2860e-02, -2.7707e-01,  1.5123e-01,\n",
            "         -1.2684e-01,  1.5409e-01, -2.8486e-01,  1.9736e-01,  3.1485e-01],\n",
            "        [ 1.3178e-01,  1.0315e-01,  2.5162e-01, -1.0753e-01, -2.0846e-01,\n",
            "         -1.0279e-01, -1.9126e-02, -1.7502e-03, -3.0738e-01,  2.0526e-01],\n",
            "        [ 4.2360e-02,  7.4421e-03, -9.5564e-02, -3.0818e-01,  2.8217e-01,\n",
            "          1.2614e-01, -8.2998e-02, -1.3925e-01,  1.2656e-01, -3.0672e-01],\n",
            "        [ 8.7729e-02, -2.1408e-01, -2.4817e-01, -2.2405e-01, -3.0835e-01,\n",
            "         -2.9092e-01, -2.8980e-01,  2.2614e-01, -2.5712e-01,  4.6414e-02],\n",
            "        [ 3.0404e-01, -8.9053e-02,  1.1012e-01, -2.0461e-01, -2.0017e-01,\n",
            "         -2.9093e-02, -1.8179e-01,  1.0696e-01,  2.1279e-01, -2.6828e-01],\n",
            "        [-1.6219e-01,  1.0983e-01, -7.2585e-02,  1.0990e-01,  5.0346e-02,\n",
            "         -6.6755e-03, -6.6867e-02, -2.6188e-01,  1.1506e-01, -7.8637e-02],\n",
            "        [-2.1456e-01,  3.0453e-01,  9.4909e-02, -1.1330e-01, -4.8887e-02,\n",
            "         -1.9196e-01,  2.3969e-01,  1.1288e-01, -2.9977e-01,  4.5672e-02]],\n",
            "       requires_grad=True)\n",
            "Parameter containing:\n",
            "tensor([-0.1033,  0.0120,  0.1843,  0.1059, -0.1065,  0.1901, -0.2318, -0.2867,\n",
            "         0.0234, -0.0282,  0.0458,  0.0675,  0.1681, -0.2413, -0.2363,  0.2250,\n",
            "        -0.2611, -0.0412,  0.0084, -0.0252, -0.0757, -0.2381,  0.1843, -0.1414,\n",
            "         0.3040,  0.1140, -0.0592, -0.2236,  0.1558,  0.0652, -0.0073, -0.2526,\n",
            "        -0.2123,  0.2750, -0.0895,  0.0882, -0.0138,  0.2595, -0.0007, -0.2326,\n",
            "        -0.2808,  0.0672, -0.0612,  0.0417,  0.0453,  0.2407,  0.0526,  0.1217,\n",
            "         0.0158,  0.0664], requires_grad=True)\n",
            "Parameter containing:\n",
            "tensor([[ 0.0050, -0.1089, -0.0644,  ...,  0.1111, -0.0562,  0.0911],\n",
            "        [ 0.0281,  0.0442, -0.0934,  ..., -0.1303,  0.0416, -0.0164],\n",
            "        [-0.0725, -0.0755, -0.0956,  ..., -0.0354,  0.0738, -0.0950],\n",
            "        ...,\n",
            "        [ 0.0108,  0.1143,  0.0368,  ...,  0.1039,  0.0170, -0.0997],\n",
            "        [ 0.0326,  0.1336, -0.0323,  ..., -0.1187, -0.0398,  0.1106],\n",
            "        [ 0.0354, -0.1090,  0.0004,  ...,  0.0439,  0.0363,  0.0228]],\n",
            "       requires_grad=True)\n",
            "Parameter containing:\n",
            "tensor([-0.0643, -0.0530, -0.0763, -0.0493,  0.0065,  0.0542,  0.0650, -0.1072,\n",
            "        -0.0386, -0.0105, -0.0252, -0.0836, -0.1126, -0.0503, -0.1313, -0.1280,\n",
            "        -0.1315,  0.0437,  0.1124, -0.1393,  0.0197,  0.1395, -0.1259, -0.0813,\n",
            "         0.0170,  0.0322,  0.1384, -0.0814, -0.0511,  0.0490, -0.0124, -0.1211,\n",
            "        -0.0717, -0.0928,  0.1345, -0.0164,  0.0329, -0.1367,  0.0661, -0.1075,\n",
            "         0.0543, -0.1310,  0.0777, -0.0921, -0.1392,  0.0858, -0.1369, -0.0073,\n",
            "        -0.0976, -0.0211], requires_grad=True)\n",
            "Parameter containing:\n",
            "tensor([[ 0.1033,  0.0480,  0.1231,  0.0607, -0.0642, -0.0284, -0.1088,  0.0158,\n",
            "          0.0835, -0.0852,  0.0980,  0.1407,  0.0186, -0.1029, -0.0638,  0.0733,\n",
            "          0.0797,  0.0313, -0.0724,  0.0494,  0.0771,  0.0376,  0.0709, -0.1013,\n",
            "         -0.0321,  0.0641, -0.0949,  0.0673,  0.1021, -0.0640, -0.1155, -0.0763,\n",
            "          0.0514, -0.1361,  0.0864, -0.0766, -0.0328, -0.0784,  0.1345, -0.0264,\n",
            "         -0.0074,  0.1012,  0.0163, -0.0339,  0.1220, -0.1374,  0.0286, -0.1280,\n",
            "         -0.0158, -0.0031]], requires_grad=True)\n",
            "Parameter containing:\n",
            "tensor([0.1355], requires_grad=True)\n"
          ]
        }
      ]
    },
    {
      "cell_type": "code",
      "source": [
        "loss_criterion = nn.L1Loss() # we use other loss function because binary cross entropy doesn't work anymore for a regression task\n",
        "optimizer = torch.optim.Adam(model.parameters(), lr=0.01)"
      ],
      "metadata": {
        "id": "6vj6hlNsBivf"
      },
      "execution_count": 22,
      "outputs": []
    },
    {
      "cell_type": "code",
      "source": [
        "def train_epoch(model, train_dataloader, loss_crt, optimizer,device):\n",
        "    model.train()\n",
        "    epoch_loss = 0.0\n",
        "    num_batches = len(train_dataloader)\n",
        "    predictions = []\n",
        "    labels = []\n",
        "    for idx, batch in enumerate(train_dataloader):\n",
        "        batch_data, batch_labels = batch\n",
        "\n",
        "        batch_data = batch_data.to(device)\n",
        "        batch_labels = batch_labels.to(device)\n",
        "        \n",
        "        output = model(batch_data)\n",
        "\n",
        "        batch_predictions = output.squeeze()\n",
        "\n",
        "        predictions += batch_predictions.tolist()\n",
        "        labels += batch_labels.squeeze().tolist()\n",
        "\n",
        "        loss = loss_crt(output.squeeze(), batch_labels.squeeze())\n",
        "        loss_scalar = loss.item()\n",
        "\n",
        "        loss.backward()\n",
        "\n",
        "        optimizer.step()\n",
        "        model.zero_grad()\n",
        "        \n",
        "        epoch_loss += loss_scalar\n",
        "\n",
        "    epoch_loss = epoch_loss/num_batches\n",
        "\n",
        "    return epoch_loss, predictions, labels\n",
        "\n",
        "def eval_epoch(model, val_dataloader, loss_crt,device):\n",
        "    model.eval()\n",
        "    epoch_loss = 0.0\n",
        "    num_batches = len(val_dataloader)\n",
        "    predictions = []\n",
        "    labels = []\n",
        "    with torch.no_grad():\n",
        "        for idx, batch in enumerate(val_dataloader):\n",
        "            batch_data, batch_labels = batch\n",
        "\n",
        "            batch_data = batch_data.to(device)\n",
        "            batch_labels = batch_labels.to(device)\n",
        "            \n",
        "            output = model(batch_data)\n",
        "\n",
        "            batch_predictions = output.squeeze()\n",
        "\n",
        "            predictions += batch_predictions.tolist()\n",
        "            labels += batch_labels.squeeze().tolist()\n",
        "\n",
        "            loss = loss_crt(output.squeeze(), batch_labels.squeeze())\n",
        "            loss_scalar = loss.item()\n",
        "\n",
        "            epoch_loss += loss_scalar\n",
        "\n",
        "    epoch_loss = epoch_loss/num_batches\n",
        "\n",
        "    return epoch_loss, predictions, labels"
      ],
      "metadata": {
        "id": "C4HjCRDWCB2N"
      },
      "execution_count": 26,
      "outputs": []
    },
    {
      "cell_type": "code",
      "source": [
        "train_losses, val_losses = [], []\n",
        "train_accuracies, val_accuracies = [], []\n",
        "\n",
        "hyperparams = {\n",
        "    'num_epochs': 10,\n",
        "}\n",
        "model_reg.to(device)\n",
        "\n",
        "for epoch_idx in range(hyperparams['num_epochs']):\n",
        "    train_epoch_loss, train_predictions, train_labels = train_epoch(\n",
        "        model_reg, \n",
        "        train_dataloader, \n",
        "        loss_criterion, \n",
        "        optimizer,\n",
        "        device)\n",
        "    val_epoch_loss, val_predictions, val_labels = eval_epoch(\n",
        "        model_reg,\n",
        "        val_dataloader,\n",
        "        loss_criterion,\n",
        "        device\n",
        "    )\n",
        "    train_losses.append(train_epoch_loss)\n",
        "    val_losses.append(val_epoch_loss)\n",
        "    train_accuracies.append(train_acc)\n",
        "    val_accuracies.append(val_acc)\n",
        "\n",
        "    print(\"epoch %d, train loss=%f, val loss=%f \" % (\n",
        "        epoch_idx, \n",
        "        train_epoch_loss,\n",
        "        val_epoch_loss,\n",
        "    ))"
      ],
      "metadata": {
        "colab": {
          "base_uri": "https://localhost:8080/"
        },
        "id": "EzS6USBQB6Ap",
        "outputId": "ed12d5ab-68e5-41aa-95b6-493ac6612d9b"
      },
      "execution_count": 27,
      "outputs": [
        {
          "output_type": "stream",
          "name": "stdout",
          "text": [
            "epoch 0, train loss=28.972533, val loss=29.580342 \n",
            "epoch 1, train loss=28.903488, val loss=29.505485 \n",
            "epoch 2, train loss=28.941259, val loss=29.521656 \n",
            "epoch 3, train loss=28.925721, val loss=29.676488 \n",
            "epoch 4, train loss=28.951227, val loss=29.499353 \n",
            "epoch 5, train loss=28.911080, val loss=29.486394 \n",
            "epoch 6, train loss=28.922802, val loss=29.489607 \n",
            "epoch 7, train loss=29.104035, val loss=29.405821 \n",
            "epoch 8, train loss=28.942082, val loss=29.415608 \n",
            "epoch 9, train loss=28.932656, val loss=29.403440 \n"
          ]
        }
      ]
    },
    {
      "cell_type": "code",
      "source": [
        "%matplotlib inline\n",
        "NUM_EPOCHS=hyperparams['num_epochs']\n",
        "plt.plot(range(0,len(train_losses)), train_losses, 'g', label='Training loss')\n",
        "plt.plot(range(0,len(train_losses)), val_losses, 'b', label='Validation loss')\n",
        "plt.title('Training and Validation loss')\n",
        "plt.xlabel('Epochs')\n",
        "plt.ylabel('Loss')\n",
        "plt.legend()\n",
        "plt.show()"
      ],
      "metadata": {
        "colab": {
          "base_uri": "https://localhost:8080/",
          "height": 295
        },
        "id": "eM6HJYFjWhD0",
        "outputId": "a1a3776a-9718-4213-e097-665df1293849"
      },
      "execution_count": 28,
      "outputs": [
        {
          "output_type": "display_data",
          "data": {
            "text/plain": [
              "<Figure size 432x288 with 1 Axes>"
            ],
            "image/png": "[encoded data removed]"
          },
          "metadata": {
            "needs_background": "light"
          }
        }
      ]
    }
  ]
}