{
  "cells": [
    {
      "cell_type": "markdown",
      "metadata": {
        "id": "upV9JBo3iSek"
      },
      "source": [
        "Assigment-2 Deep FMI - Convolutional Neural Networks"
      ]
    },
    {
      "cell_type": "markdown",
      "metadata": {
        "id": "3S6e3lV6ihEx"
      },
      "source": [
        "Import necessary libraries"
      ]
    },
    {
      "cell_type": "code",
      "execution_count": 1,
      "metadata": {
        "id": "-6YJzGUviDZY"
      },
      "outputs": [],
      "source": [
        "import torch\n",
        "import torch.optim as optim\n",
        "import torch.nn as nn\n",
        "import torch.nn.functional as F\n",
        "import torchvision\n",
        "import torchvision.transforms as transforms\n",
        "from tqdm import tqdm\n",
        "\n",
        "import matplotlib.pyplot as plt\n",
        "import numpy as np\n",
        "from random import sample\n",
        "import math\n",
        "import pdb\n",
        "\n",
        "from IPython.core.debugger import set_trace\n"
      ]
    },
    {
      "cell_type": "markdown",
      "metadata": {
        "id": "THA5v2dWj8HQ"
      },
      "source": [
        "Set the parameters for training"
      ]
    },
    {
      "cell_type": "code",
      "execution_count": 2,
      "metadata": {
        "id": "WezqD0Kxj-s5"
      },
      "outputs": [],
      "source": [
        "lr = 0.01\n",
        "momentum = 0.9\n",
        "num_epochs = 5\n",
        "batch_size = 16\n",
        "num_cls = 10"
      ]
    },
    {
      "cell_type": "markdown",
      "metadata": {
        "id": "ik6dl-KRij-4"
      },
      "source": [
        "Load **CIFAR-10** dataset"
      ]
    },
    {
      "cell_type": "code",
      "execution_count": 3,
      "metadata": {
        "colab": {
          "base_uri": "https://localhost:8080/",
          "height": 160,
          "referenced_widgets": [
            "f4696bae6bd740e1bb669e193bb4759f",
            "a5f553dcd31e44faa2c8c63ed5551075",
            "c0db6c4f85b444bdb1457f1adcf106c5",
            "0a0c9046f326425399b3dbbb40d1359f",
            "6851b2c5dd024729932d56d0f53c8000",
            "de52eae8dec64f29b5ee960aa3a01a85",
            "6ef768cfc32e433a9c6f8fe46585b21d",
            "8a3d92191f9145098d6bdd1bd8ea2727",
            "f150583185a24a528b8f320172b4e99d",
            "e50f8e84ac294fc9bfb9529ed801e765",
            "76f581ab0ef14652aeb859e91adbd94d"
          ]
        },
        "id": "9tc9g8jviLlz",
        "outputId": "00d570c0-210a-42e0-cca4-2cd1bfcde546"
      },
      "outputs": [
        {
          "output_type": "stream",
          "name": "stdout",
          "text": [
            "Downloading https://www.cs.toronto.edu/~kriz/cifar-10-python.tar.gz to ./ds/cifar-10-python.tar.gz\n"
          ]
        },
        {
          "output_type": "display_data",
          "data": {
            "text/plain": [
              "  0%|          | 0/170498071 [00:00<?, ?it/s]"
            ],
            "application/vnd.jupyter.widget-view+json": {
              "version_major": 2,
              "version_minor": 0,
              "model_id": "f4696bae6bd740e1bb669e193bb4759f"
            }
          },
          "metadata": {}
        },
        {
          "output_type": "stream",
          "name": "stdout",
          "text": [
            "Extracting ./ds/cifar-10-python.tar.gz to ./ds\n"
          ]
        },
        {
          "output_type": "stream",
          "name": "stderr",
          "text": [
            "/usr/local/lib/python3.7/dist-packages/torch/utils/data/dataloader.py:481: UserWarning: This DataLoader will create 4 worker processes in total. Our suggested max number of worker in current system is 2, which is smaller than what this DataLoader is going to create. Please be aware that excessive worker creation might get DataLoader running slow or even freeze, lower the worker number to avoid potential slowness/freeze if necessary.\n",
            "  cpuset_checked))\n"
          ]
        },
        {
          "output_type": "stream",
          "name": "stdout",
          "text": [
            "Files already downloaded and verified\n"
          ]
        }
      ],
      "source": [
        "transform = transforms.Compose(\n",
        "    [transforms.ToTensor(), transforms.Normalize((0.5, 0.5, 0.5), (0.5, 0.5, 0.5))]\n",
        ")\n",
        "\n",
        "trainset = torchvision.datasets.CIFAR10(root='./ds', train=True, download=True, transform=transform)\n",
        "trainloader = torch.utils.data.DataLoader(trainset, batch_size=batch_size, shuffle=True, num_workers=4)\n",
        "\n",
        "testset = torchvision.datasets.CIFAR10(root='./ds', train=False, download=True, transform=transform)\n",
        "testloader = torch.utils.data.DataLoader(testset, batch_size=batch_size, shuffle=False, num_workers=4)\n"
      ]
    },
    {
      "cell_type": "markdown",
      "metadata": {
        "id": "7sjUv0GxjcTf"
      },
      "source": [
        "# **TASK 1**. Define a standard convolutional network"
      ]
    },
    {
      "cell_type": "code",
      "execution_count": 4,
      "metadata": {
        "id": "x80d1tDVCZYc"
      },
      "outputs": [],
      "source": [
        "class SimpleConvNet(nn.Module):\n",
        "    def __init__(self, out_size=10):\n",
        "        super().__init__()\n",
        "        self.conv1 = nn.Conv2d(in_channels=3, out_channels = 8,kernel_size= 5)\n",
        "        self.pool = nn.MaxPool2d(kernel_size= 2,stride= 2)\n",
        "        self.conv2 = nn.Conv2d(in_channels= 8, out_channels= 16, kernel_size= 5)\n",
        "        self.fc1 = nn.Linear(in_features= 16 * 5 * 5, out_features= 128)\n",
        "        self.relu = nn.ReLU()\n",
        "        self.fc2 = nn.Linear(in_features= 128,out_features= 64)\n",
        "        self.fc3 = nn.Linear(in_features=64, out_features=out_size)\n",
        "\n",
        "\n",
        "    def forward(self, x):\n",
        "        x = self.pool(self.relu(self.conv1(x)))\n",
        "        x = self.pool(self.relu(self.conv2(x)))\n",
        "        x = x.view(x.shape[0], -1)\n",
        "        x = self.relu(self.fc1(x))\n",
        "        x = self.relu(self.fc2(x))\n",
        "        x = self.fc3(x)\n",
        "        \n",
        "        return x\n",
        "\n",
        "net = SimpleConvNet(out_size=num_cls)\n",
        "device = torch.device('cuda' if torch.cuda.is_available() else 'cpu')\n",
        "net = net.to(device)"
      ]
    },
    {
      "cell_type": "markdown",
      "metadata": {
        "id": "_LmflsrFjrEb"
      },
      "source": [
        "# **TASK 2**. Training and evaluation"
      ]
    },
    {
      "cell_type": "code",
      "source": [
        "def train_epoch(model, train_dataloader, loss_crt, optimizer, device):\n",
        "    model.train()\n",
        "    epoch_loss = 0.0\n",
        "    epoch_accuracy = 0.0\n",
        "    num_batches = len(train_dataloader)\n",
        "    \n",
        "    for batch_idx, batch in tqdm(enumerate(train_dataloader)):\n",
        "        batch_img, batch_labels = batch\n",
        "        \n",
        "        batch_img = batch_img.to(device)\n",
        "        batch_labels = batch_labels.to(device)\n",
        "        \n",
        "        model.zero_grad()\n",
        "\n",
        "        output = model(batch_img)\n",
        "\n",
        "        loss = loss_crt(output, batch_labels.squeeze())       \n",
        "        loss_scalar = loss.item()\n",
        "\n",
        "        loss.backward()\n",
        "        optimizer.step()\n",
        "        \n",
        "        epoch_loss += loss_scalar\n",
        "\n",
        "        pred = output.argmax(dim=1, keepdim=True)\n",
        "        epoch_accuracy += pred.eq(batch_labels.view_as(pred)).float().mean().item()\n",
        "        \n",
        "    epoch_loss = epoch_loss/num_batches\n",
        "    epoch_accuracy = 100. * epoch_accuracy/num_batches\n",
        "    return epoch_loss, epoch_accuracy\n",
        "\n",
        "def eval_epoch(model, val_dataloader, loss_crt, device):\n",
        "    model.eval()\n",
        "    epoch_loss = 0.0\n",
        "    epoch_accuracy = 0.0\n",
        "    num_batches = len(val_dataloader)\n",
        "    with torch.no_grad():\n",
        "        for batch_idx, batch in tqdm(enumerate(val_dataloader)):\n",
        "\n",
        "            batch_img, batch_labels = batch\n",
        "            current_batch_size = batch_img.size(0)\n",
        "\n",
        "            batch_img = batch_img.to(device)\n",
        "            batch_labels = batch_labels.to(device)\n",
        " \n",
        "            output = model(batch_img)\n",
        "\n",
        "            loss = loss_crt(output, batch_labels.squeeze())\n",
        "            loss_scalar = loss.item()\n",
        "\n",
        "            epoch_loss += loss_scalar\n",
        "\n",
        "            pred = output.argmax(dim=1, keepdim=True)\n",
        "            epoch_accuracy += pred.eq(batch_labels.view_as(pred)).float().mean().item()\n",
        "\n",
        "    epoch_loss = epoch_loss/num_batches\n",
        "    epoch_accuracy = 100. * epoch_accuracy/num_batches\n",
        "    return epoch_loss, epoch_accuracy"
      ],
      "metadata": {
        "id": "HcNikDhoLjf4"
      },
      "execution_count": 5,
      "outputs": []
    },
    {
      "cell_type": "code",
      "source": [
        "\n",
        "# create a SGD optimizer\n",
        "optimizer = torch.optim.SGD(net.parameters(), lr=lr ,momentum=momentum)\n",
        "\n",
        "# set up loss function\n",
        "loss_criterion = nn.CrossEntropyLoss()\n",
        "\n",
        "train_losses = []\n",
        "train_accuracies = []\n",
        "val_losses = []\n",
        "val_accuracies = []\n",
        "for epoch in range(1, num_epochs+1):\n",
        "  train_loss, train_accuracy = train_epoch(net, trainloader, loss_criterion, optimizer, device)\n",
        "  val_loss, val_accuracy = eval_epoch(net, testloader, loss_criterion, device)\n",
        "  train_losses.append(train_loss)\n",
        "  val_losses.append(val_loss)\n",
        "  train_accuracies.append(train_accuracy)\n",
        "  val_accuracies.append(val_accuracy)\n",
        "  print('\\nEpoch %d'%(epoch))\n",
        "  print('train loss: %10.8f, accuracy: %10.8f'%(train_loss, train_accuracy))\n",
        "  print('val loss: %10.8f, accuracy: %10.8f'%(val_loss, val_accuracy))"
      ],
      "metadata": {
        "id": "Y9S0XUMeLtu9",
        "colab": {
          "base_uri": "https://localhost:8080/"
        },
        "outputId": "86453b58-c66f-46ad-c096-d5886eaa7a24"
      },
      "execution_count": 7,
      "outputs": [
        {
          "output_type": "stream",
          "name": "stderr",
          "text": [
            "/usr/local/lib/python3.7/dist-packages/torch/utils/data/dataloader.py:481: UserWarning: This DataLoader will create 4 worker processes in total. Our suggested max number of worker in current system is 2, which is smaller than what this DataLoader is going to create. Please be aware that excessive worker creation might get DataLoader running slow or even freeze, lower the worker number to avoid potential slowness/freeze if necessary.\n",
            "  cpuset_checked))\n",
            "3125it [00:34, 91.14it/s] \n",
            "625it [00:04, 130.54it/s]"
          ]
        },
        {
          "output_type": "stream",
          "name": "stdout",
          "text": [
            "\n",
            "Epoch 1\n",
            "train loss: 1.63138950, accuracy: 39.93200000\n",
            "val loss: 1.38572043, accuracy: 50.26000000\n"
          ]
        },
        {
          "output_type": "stream",
          "name": "stderr",
          "text": [
            "\n",
            "3125it [00:32, 97.21it/s] \n",
            "625it [00:04, 127.80it/s]"
          ]
        },
        {
          "output_type": "stream",
          "name": "stdout",
          "text": [
            "\n",
            "Epoch 2\n",
            "train loss: 1.33690245, accuracy: 52.33400000\n",
            "val loss: 1.33311183, accuracy: 53.93000000\n"
          ]
        },
        {
          "output_type": "stream",
          "name": "stderr",
          "text": [
            "\n",
            "3125it [00:31, 98.62it/s] \n",
            "625it [00:04, 129.07it/s]"
          ]
        },
        {
          "output_type": "stream",
          "name": "stdout",
          "text": [
            "\n",
            "Epoch 3\n",
            "train loss: 1.22938696, accuracy: 56.94800000\n",
            "val loss: 1.29540321, accuracy: 55.18000000\n"
          ]
        },
        {
          "output_type": "stream",
          "name": "stderr",
          "text": [
            "\n",
            "3125it [00:33, 94.57it/s]\n",
            "625it [00:04, 125.34it/s]"
          ]
        },
        {
          "output_type": "stream",
          "name": "stdout",
          "text": [
            "\n",
            "Epoch 4\n",
            "train loss: 1.17542318, accuracy: 59.19200000\n",
            "val loss: 1.23594410, accuracy: 58.05000000\n"
          ]
        },
        {
          "output_type": "stream",
          "name": "stderr",
          "text": [
            "\n",
            "3125it [00:32, 95.30it/s] \n",
            "625it [00:04, 128.34it/s]"
          ]
        },
        {
          "output_type": "stream",
          "name": "stdout",
          "text": [
            "\n",
            "Epoch 5\n",
            "train loss: 1.14037511, accuracy: 60.55200000\n",
            "val loss: 1.23365328, accuracy: 58.55000000\n"
          ]
        },
        {
          "output_type": "stream",
          "name": "stderr",
          "text": [
            "\n"
          ]
        }
      ]
    },
    {
      "cell_type": "code",
      "source": [
        "plt.plot(range(0,len(train_losses)), train_losses, 'g', label='Training loss')\n",
        "plt.plot(range(0,len(train_losses)), val_losses, 'b', label='Validation loss')\n",
        "plt.title('Training and Validation loss')\n",
        "plt.xlabel('Epochs')\n",
        "plt.ylabel('Loss')\n",
        "plt.legend()\n",
        "plt.show()"
      ],
      "metadata": {
        "colab": {
          "base_uri": "https://localhost:8080/",
          "height": 295
        },
        "id": "Gm6r02LV0R5Z",
        "outputId": "88388d42-9e3d-4762-f688-0759461fee24"
      },
      "execution_count": 12,
      "outputs": [
        {
          "output_type": "display_data",
          "data": {
            "text/plain": [
              "<Figure size 432x288 with 1 Axes>"
            ],
            "image/png": "[encoded data removed]"
          },
          "metadata": {
            "needs_background": "light"
          }
        }
      ]
    },
    {
      "cell_type": "code",
      "source": [
        "plt.plot(range(0,len(train_accuracies)), train_accuracies, 'g', label='Training acc')\n",
        "plt.plot(range(0,len(train_accuracies)), val_accuracies, 'b', label='Validation acc')\n",
        "plt.title('Training and Validation accuracies')\n",
        "plt.xlabel('Epochs')\n",
        "plt.ylabel('Accuracy')\n",
        "plt.legend()\n",
        "plt.show()"
      ],
      "metadata": {
        "colab": {
          "base_uri": "https://localhost:8080/",
          "height": 295
        },
        "id": "SvJWo7DO0ViZ",
        "outputId": "b932bcf9-786a-47e8-f58f-129812f5fdcd"
      },
      "execution_count": 13,
      "outputs": [
        {
          "output_type": "display_data",
          "data": {
            "text/plain": [
              "<Figure size 432x288 with 1 Axes>"
            ],
            "image/png": "[encoded data removed]"
          },
          "metadata": {
            "needs_background": "light"
          }
        }
      ]
    },
    {
      "cell_type": "markdown",
      "metadata": {
        "id": "EGKjxHSgB_Bm"
      },
      "source": [
        "# **TASK 3**. Implement a linear layer. "
      ]
    },
    {
      "cell_type": "code",
      "execution_count": 8,
      "metadata": {
        "id": "Ioi6NNWxMneU"
      },
      "outputs": [],
      "source": [
        "\n",
        "class myLinear(nn.Module):\n",
        "  def __init__(self, in_features, out_features, device=None):\n",
        "    super().__init__()\n",
        "    self.in_features = in_features\n",
        "    self.out_features = out_features\n",
        "    # initialise parameters\n",
        "    # weight shape: [in, out]\n",
        "    # bias shape: [out]\n",
        "    \n",
        "    self.weight = torch.nn.parameter.Parameter(\n",
        "        torch.empty(out_features, in_features)\n",
        "        #torch.empty((out_features, in_features))\n",
        "    )\n",
        "    self.bias = torch.nn.parameter.Parameter(\n",
        "        torch.empty(out_features)\n",
        "    )\n",
        "\n",
        "    self.reset_parameters()\n",
        " \n",
        "  def reset_parameters(self):\n",
        "    self.scale = 1.0 / math.sqrt(self.in_features)\n",
        "    nn.init.uniform(self.weight, -self.scale, self.scale)\n",
        "    nn.init.uniform_(self.bias, -self.scale, self.scale)\n",
        "\n",
        "  def forward(self, x):\n",
        "    # weight shape: [out, in]\n",
        "    # x shape: [batch, in]\n",
        "    # we want do matrix multiplication between the weight and each element in the batch x[i] (seen as a column vector)\n",
        "    # y[i] = W x[i]\n",
        "\n",
        "    # in order to do this we rely on broadcasting in torch.matmul and must reshape x as [batch, in , 1]  \n",
        "    # such that the matrix multiplication is done on dimmensions [out, in] [in, 1] -> [out, 1]\n",
        "    # (https://pytorch.org/docs/stable/generated/torch.matmul.html)\n",
        "\n",
        "    # TODO\n",
        "    # compute the linear operation using torch.matmul\n",
        "    x = x.to(device)\n",
        "    x = torch.unsqueeze(x,-1)\n",
        "    y = torch.matmul(self.weight, x).to(device)\n",
        "\n",
        "    # we add the same bias column vector to each element in the batch y[i] = y[i] + bias\n",
        "    # we rely again on broadcasting and make the bias have dimension [1, out, 1] \n",
        "    # such that it aligns with y of shape [batch, out, 1]\n",
        "\n",
        "    # TODO add bias \n",
        "    y = y + self.bias.reshape(1,self.out_features,1)\n",
        "    y = torch.squeeze(y)\n",
        "\n",
        "    return y"
      ]
    },
    {
      "cell_type": "code",
      "source": [
        "# define two linear layers\n",
        "linear = nn.Linear(8, 16)\n",
        "linear.to(device)\n",
        "mylinear = myLinear(8, 16)\n",
        "mylinear.to(device)\n",
        "\n",
        "mylinear.load_state_dict(linear.state_dict())\n",
        "# TODO: compute the difference be twen the two layers\n",
        "# on random input\n",
        "x = torch.randn((8,8))\n",
        "x=x.to(device)\n",
        "print(linear.forward(x) - mylinear.forward(x))\n"
      ],
      "metadata": {
        "id": "h8qxvhdWVc7M",
        "colab": {
          "base_uri": "https://localhost:8080/"
        },
        "outputId": "96cf04ea-5d41-49cf-ac6f-9e6c71a98738"
      },
      "execution_count": null,
      "outputs": [
        {
          "output_type": "stream",
          "name": "stdout",
          "text": [
            "tensor([[0., 0., 0., 0., 0., 0., 0., 0., 0., 0., 0., 0., 0., 0., 0., 0.],\n",
            "        [0., 0., 0., 0., 0., 0., 0., 0., 0., 0., 0., 0., 0., 0., 0., 0.],\n",
            "        [0., 0., 0., 0., 0., 0., 0., 0., 0., 0., 0., 0., 0., 0., 0., 0.],\n",
            "        [0., 0., 0., 0., 0., 0., 0., 0., 0., 0., 0., 0., 0., 0., 0., 0.],\n",
            "        [0., 0., 0., 0., 0., 0., 0., 0., 0., 0., 0., 0., 0., 0., 0., 0.],\n",
            "        [0., 0., 0., 0., 0., 0., 0., 0., 0., 0., 0., 0., 0., 0., 0., 0.],\n",
            "        [0., 0., 0., 0., 0., 0., 0., 0., 0., 0., 0., 0., 0., 0., 0., 0.],\n",
            "        [0., 0., 0., 0., 0., 0., 0., 0., 0., 0., 0., 0., 0., 0., 0., 0.]],\n",
            "       device='cuda:0', grad_fn=<SubBackward0>)\n"
          ]
        },
        {
          "output_type": "stream",
          "name": "stderr",
          "text": [
            "/usr/local/lib/python3.7/dist-packages/ipykernel_launcher.py:23: UserWarning: nn.init.uniform is now deprecated in favor of nn.init.uniform_.\n"
          ]
        }
      ]
    },
    {
      "cell_type": "markdown",
      "metadata": {
        "id": "0o6MIv_OCMuu"
      },
      "source": [
        "# **Task 4**. Implement Conv2d layer"
      ]
    },
    {
      "cell_type": "code",
      "execution_count": 9,
      "metadata": {
        "id": "HcQ340QbSXG-"
      },
      "outputs": [],
      "source": [
        "class myConv2d(nn.Module):\n",
        "  def __init__(self, in_channels, out_channels, kernel_size, device=None):\n",
        "    super(myConv2d, self).__init__()\n",
        "    self.in_channels = in_channels\n",
        "    self.out_channels = out_channels\n",
        "    self.kernel_size = kernel_size\n",
        "    # initialise parameters\n",
        "    scale = 1.0 / math.sqrt(in_channels * kernel_size * kernel_size)\n",
        "    self.weight = torch.nn.parameter.Parameter(\n",
        "        torch.rand(out_channels, in_channels, kernel_size, kernel_size)\n",
        "        #torch.empty((out_features, in_features))\n",
        "    )\n",
        "    self.bias = torch.nn.parameter.Parameter(\n",
        "        torch.rand(out_channels)\n",
        "    )\n",
        "\n",
        "    self.reset_parameters()\n",
        " \n",
        "  def reset_parameters(self):\n",
        "    self.scale = 1.0 / math.sqrt(self.in_channels * self.kernel_size * self.kernel_size )\n",
        "    nn.init.uniform(self.weight, -self.scale, self.scale)\n",
        "    nn.init.uniform_(self.bias, -self.scale, self.scale)\n",
        "\n",
        "  def forward(self, x):\n",
        "    b,c_in,h,w = x.shape\n",
        "    out_h = h - self.kernel_size + 1\n",
        "    out_w = w - self.kernel_size + 1\n",
        "\n",
        "    y = torch.zeros((b,self.out_channels,out_h,out_w)).to(device)\n",
        "\n",
        "    for batch in range(b):\n",
        "      for channel in range(self.out_channels):\n",
        "        for i in range(out_h):\n",
        "          for j in range(out_w):\n",
        "            window = x[batch, :, i:i+self.kernel_size, j:j+self.kernel_size]\n",
        "            window = window.to(device)\n",
        "            mult = torch.mul(window, self.weight[channel,:,:,:]).to(device)\n",
        "            y[batch,channel,i,j] = torch.sum(mult) + self.bias[channel]\n",
        "\n",
        "    return y"
      ]
    },
    {
      "cell_type": "code",
      "source": [
        "x = torch.randn(1, 3, 32, 32)\n",
        "x = x.to(device)\n",
        "conv = nn.Conv2d(3, 16, kernel_size=3)\n",
        "conv.to(device)\n",
        "myconv = myConv2d(3, 16, kernel_size=3)\n",
        "myconv.to(device)\n",
        "myconv.load_state_dict(conv.state_dict())\n",
        "print(myconv(x)-conv(x))"
      ],
      "metadata": {
        "id": "W-hdJcdyXjE0",
        "colab": {
          "base_uri": "https://localhost:8080/"
        },
        "outputId": "266193ce-a2ca-4772-f8d5-625a0e0b4fa9"
      },
      "execution_count": null,
      "outputs": [
        {
          "output_type": "stream",
          "name": "stderr",
          "text": [
            "/usr/local/lib/python3.7/dist-packages/ipykernel_launcher.py:21: UserWarning: nn.init.uniform is now deprecated in favor of nn.init.uniform_.\n"
          ]
        },
        {
          "output_type": "stream",
          "name": "stdout",
          "text": [
            "tensor([[[[ 0.0000e+00, -1.1921e-07,  0.0000e+00,  ..., -3.2783e-07,\n",
            "            1.1921e-07,  0.0000e+00],\n",
            "          [ 1.1921e-07, -2.3842e-07,  0.0000e+00,  ..., -1.1921e-07,\n",
            "            1.1921e-07,  1.4901e-07],\n",
            "          [ 0.0000e+00,  0.0000e+00, -2.3842e-07,  ..., -3.1292e-07,\n",
            "            0.0000e+00,  1.4901e-08],\n",
            "          ...,\n",
            "          [ 0.0000e+00, -1.1921e-07,  2.3842e-07,  ..., -5.9605e-08,\n",
            "           -4.7684e-07,  3.7253e-08],\n",
            "          [ 1.4901e-07, -1.1921e-07, -2.9802e-08,  ...,  1.1921e-07,\n",
            "            1.1921e-07,  1.1921e-07],\n",
            "          [ 1.7881e-07,  4.4703e-08, -1.4901e-07,  ...,  0.0000e+00,\n",
            "           -5.9605e-08,  2.3842e-07]],\n",
            "\n",
            "         [[ 1.9372e-07, -5.9605e-08, -1.1921e-07,  ...,  8.9407e-08,\n",
            "            0.0000e+00,  2.9802e-08],\n",
            "          [ 2.3842e-07, -1.1921e-07,  7.4506e-08,  ..., -1.4901e-08,\n",
            "           -5.9605e-08, -5.9605e-08],\n",
            "          [-1.1921e-07,  0.0000e+00,  5.9605e-08,  ..., -2.9802e-08,\n",
            "           -5.9605e-08,  5.9605e-08],\n",
            "          ...,\n",
            "          [ 1.1921e-07, -5.9605e-08,  5.9605e-08,  ...,  8.9407e-08,\n",
            "            1.4901e-08,  0.0000e+00],\n",
            "          [ 5.9605e-08, -5.9605e-08, -1.1921e-07,  ..., -1.7881e-07,\n",
            "           -1.1921e-07, -2.3842e-07],\n",
            "          [-1.1921e-07, -1.3411e-07,  5.9605e-08,  ...,  5.9605e-08,\n",
            "            1.1921e-07, -2.0862e-07]],\n",
            "\n",
            "         [[ 4.4703e-08, -2.0862e-07,  1.7881e-07,  ...,  1.1921e-07,\n",
            "           -1.4901e-07, -5.9605e-08],\n",
            "          [ 5.9605e-08,  0.0000e+00,  0.0000e+00,  ...,  1.4901e-07,\n",
            "           -8.9407e-08, -1.4901e-07],\n",
            "          [ 2.9802e-08, -8.9407e-08,  1.4901e-08,  ...,  0.0000e+00,\n",
            "           -2.3842e-07,  1.7881e-07],\n",
            "          ...,\n",
            "          [-1.7881e-07,  1.1921e-07, -5.9605e-08,  ..., -4.4703e-08,\n",
            "           -2.9802e-07, -5.9605e-08],\n",
            "          [ 0.0000e+00, -1.4901e-07, -1.1921e-07,  ...,  1.1176e-07,\n",
            "            0.0000e+00, -5.9605e-08],\n",
            "          [ 5.9605e-08,  5.9605e-08, -1.1921e-07,  ...,  1.0431e-07,\n",
            "           -5.9605e-08,  1.1921e-07]],\n",
            "\n",
            "         ...,\n",
            "\n",
            "         [[ 2.9802e-08, -2.0862e-07,  5.9605e-08,  ..., -1.1921e-07,\n",
            "           -1.9372e-07, -1.4901e-07],\n",
            "          [ 1.1921e-07, -6.7055e-08,  1.7881e-07,  ...,  5.9605e-08,\n",
            "            2.3842e-07, -8.9407e-08],\n",
            "          [-2.9802e-08,  1.7881e-07,  8.9407e-08,  ...,  1.1921e-07,\n",
            "            1.1921e-07, -1.7881e-07],\n",
            "          ...,\n",
            "          [-1.1921e-07, -5.9605e-08,  8.9407e-08,  ...,  5.9605e-08,\n",
            "            1.7881e-07, -1.7881e-07],\n",
            "          [-5.9605e-08,  5.9605e-08,  2.0862e-07,  ...,  0.0000e+00,\n",
            "            2.9802e-08,  0.0000e+00],\n",
            "          [ 0.0000e+00, -1.7881e-07,  4.1723e-07,  ...,  2.3842e-07,\n",
            "            8.9407e-08, -3.2783e-07]],\n",
            "\n",
            "         [[ 0.0000e+00, -7.4506e-08, -1.1921e-07,  ..., -1.1921e-07,\n",
            "            0.0000e+00, -1.1921e-07],\n",
            "          [ 2.9802e-08,  2.9802e-08, -1.1921e-07,  ...,  0.0000e+00,\n",
            "            0.0000e+00,  2.9802e-08],\n",
            "          [ 5.9605e-08, -2.9802e-08, -8.9407e-08,  ..., -2.3842e-07,\n",
            "           -1.1921e-07, -8.9407e-08],\n",
            "          ...,\n",
            "          [-5.9605e-08,  1.1921e-07,  0.0000e+00,  ..., -2.3842e-07,\n",
            "            5.9605e-08,  2.9802e-08],\n",
            "          [ 0.0000e+00, -3.7253e-08,  5.9605e-08,  ...,  8.9407e-08,\n",
            "            0.0000e+00, -5.9605e-08],\n",
            "          [ 2.9802e-08,  8.9407e-08, -4.4703e-08,  ..., -1.7881e-07,\n",
            "            1.6391e-07,  5.9605e-08]],\n",
            "\n",
            "         [[ 2.3842e-07, -2.3842e-07,  0.0000e+00,  ...,  1.4901e-08,\n",
            "            5.9605e-08, -1.4901e-08],\n",
            "          [ 8.9407e-08,  0.0000e+00,  1.7881e-07,  ...,  8.1956e-08,\n",
            "           -1.7881e-07,  1.7881e-07],\n",
            "          [ 5.9605e-08,  0.0000e+00,  5.9605e-08,  ...,  1.1921e-07,\n",
            "            1.4901e-07,  2.9802e-08],\n",
            "          ...,\n",
            "          [ 8.9407e-08, -1.6391e-07, -5.9605e-08,  ...,  0.0000e+00,\n",
            "            1.1921e-07,  0.0000e+00],\n",
            "          [ 5.9605e-08, -5.9605e-08,  1.7881e-07,  ...,  0.0000e+00,\n",
            "           -2.9802e-08, -5.9605e-08],\n",
            "          [ 1.1921e-07, -1.4901e-07, -2.9802e-08,  ...,  1.0431e-07,\n",
            "            0.0000e+00, -2.3842e-07]]]], device='cuda:0',\n",
            "       grad_fn=<SubBackward0>)\n"
          ]
        }
      ]
    },
    {
      "cell_type": "markdown",
      "metadata": {
        "id": "eFHbbGgLDb-g"
      },
      "source": [
        "# **TASK 5**. Evaluate your implementation of convolutional network. "
      ]
    },
    {
      "cell_type": "code",
      "execution_count": 10,
      "metadata": {
        "id": "d82GyfUUjOwB",
        "colab": {
          "base_uri": "https://localhost:8080/"
        },
        "outputId": "444b6ee5-4b59-4fc3-9af9-7c5ee1e84be6"
      },
      "outputs": [
        {
          "output_type": "stream",
          "name": "stderr",
          "text": [
            "/usr/local/lib/python3.7/dist-packages/ipykernel_launcher.py:21: UserWarning: nn.init.uniform is now deprecated in favor of nn.init.uniform_.\n",
            "/usr/local/lib/python3.7/dist-packages/ipykernel_launcher.py:23: UserWarning: nn.init.uniform is now deprecated in favor of nn.init.uniform_.\n"
          ]
        },
        {
          "output_type": "execute_result",
          "data": {
            "text/plain": [
              "<All keys matched successfully>"
            ]
          },
          "metadata": {},
          "execution_count": 10
        }
      ],
      "source": [
        "\n",
        "class mySimpleConvNet(nn.Module):\n",
        "    def __init__(self, out_size=10):\n",
        "        super().__init__()\n",
        "        self.conv1 = myConv2d(3, 8, 5)\n",
        "        self.pool1 = nn.MaxPool2d(2, 2)\n",
        "        self.conv2 = myConv2d(8, 16, 5)\n",
        "        self.pool2 = nn.MaxPool2d(2, 2)\n",
        "        self.fc1 = myLinear(16 * 5 * 5, 128)\n",
        "        self.relu = nn.ReLU()\n",
        "        self.fc2 = myLinear(128, 64)\n",
        "        self.relu = nn.ReLU()\n",
        "        self.fc3 = myLinear(64, out_size)\n",
        "\n",
        "\n",
        "\n",
        "    def forward(self, x):\n",
        "        x = self.pool1(self.relu(self.conv1(x)))\n",
        "        x = self.pool2(self.relu(self.conv2(x)))\n",
        "        x = x.view(-1, 16 * 5 * 5)\n",
        "        x = self.relu(self.fc1(x))\n",
        "        x = self.relu(self.fc2(x))\n",
        "        x = self.fc3(x)\n",
        "        \n",
        "        return x\n",
        "\n",
        "\n",
        "my_net = mySimpleConvNet(out_size=num_cls)\n",
        "device = torch.device('cuda' if torch.cuda.is_available() else 'cpu')\n",
        "my_net = my_net.to(device)\n",
        "my_net.load_state_dict(net.state_dict())"
      ]
    },
    {
      "cell_type": "code",
      "source": [
        "import time\n",
        "\n",
        "testloader_mynet = torch.utils.data.DataLoader(testset, batch_size=20, shuffle=False)\n",
        "my_net.eval()\n",
        "net.eval()\n",
        "for batch_idx, batch in tqdm(enumerate(testloader_mynet)):\n",
        "\n",
        "    batch_img, batch_labels = batch\n",
        "\n",
        "    batch_img = batch_img.to(device)\n",
        "    batch_labels = batch_labels.to(device)\n",
        "\n",
        "    t1 = time.time()\n",
        "    output_mynet = my_net(batch_img)\n",
        "    t2 = time.time()\n",
        "    output_net   = net(batch_img)\n",
        "    t3 = time.time()\n",
        "\n",
        "\n",
        "    pred_mynet = output_mynet.argmax(dim=1, keepdim=True)\n",
        "    mynet_accuracy = pred_mynet.eq(batch_labels.view_as(pred_mynet)).float().mean().item()\n",
        "    pred_net = output_net.argmax(dim=1, keepdim=True)\n",
        "    net_accuracy = pred_net.eq(batch_labels.view_as(pred_net)).float().mean().item()\n",
        "    print(\"My net: \",mynet_accuracy,\"deafult net: \",net_accuracy)\n",
        "    print(\"My net time :\",t2-t1)\n",
        "    print(\"default time:\",t3-t2)\n",
        "    print(\"Ratio\", (t2-t1)/(t3-t2))\n",
        "    break # we only take the first batch, with 20 samples"
      ],
      "metadata": {
        "id": "QV1K5csnAe1t",
        "colab": {
          "base_uri": "https://localhost:8080/"
        },
        "outputId": "073422b5-1d2a-4f27-81d1-de8685dd7beb"
      },
      "execution_count": 11,
      "outputs": [
        {
          "output_type": "stream",
          "name": "stderr",
          "text": [
            "0it [00:26, ?it/s]"
          ]
        },
        {
          "output_type": "stream",
          "name": "stdout",
          "text": [
            "My net:  0.6500000357627869 deafult net:  0.6500000357627869\n",
            "My net time : 26.425207138061523\n",
            "default time: 0.0017075538635253906\n",
            "Ratio 15475.47500698129\n"
          ]
        },
        {
          "output_type": "stream",
          "name": "stderr",
          "text": [
            "\n"
          ]
        }
      ]
    },
    {
      "cell_type": "markdown",
      "source": [
        "The accuracy is the same, but the time is considerably slower on our implementation"
      ],
      "metadata": {
        "id": "NLSaKYNjIErB"
      }
    },
    {
      "cell_type": "markdown",
      "metadata": {
        "id": "GDL9VZg4l04i"
      },
      "source": [
        "# **TASK 6**. Feature map visualization"
      ]
    },
    {
      "cell_type": "markdown",
      "metadata": {
        "id": "UeLTvBobpMbN"
      },
      "source": [
        "Define function to show and title an image"
      ]
    },
    {
      "cell_type": "code",
      "execution_count": null,
      "metadata": {
        "id": "XQ7uUW2Z4a2O"
      },
      "outputs": [],
      "source": [
        ""
      ]
    }
  ],
  "metadata": {
    "accelerator": "GPU",
    "colab": {
      "collapsed_sections": [],
      "name": "Tema2_assigment2_deepfmi (2).ipynb",
      "provenance": []
    },
    "kernelspec": {
      "display_name": "Python 3",
      "name": "python3"
    },
    "language_info": {
      "name": "python"
    },
    "widgets": {
      "application/vnd.jupyter.widget-state+json": {
        "f4696bae6bd740e1bb669e193bb4759f": {
          "model_module": "@jupyter-widgets/controls",
          "model_name": "HBoxModel",
          "model_module_version": "1.5.0",
          "state": {
            "_dom_classes": [],
            "_model_module": "@jupyter-widgets/controls",
            "_model_module_version": "1.5.0",
            "_model_name": "HBoxModel",
            "_view_count": null,
            "_view_module": "@jupyter-widgets/controls",
            "_view_module_version": "1.5.0",
            "_view_name": "HBoxView",
            "box_style": "",
            "children": [
              "IPY_MODEL_a5f553dcd31e44faa2c8c63ed5551075",
              "IPY_MODEL_c0db6c4f85b444bdb1457f1adcf106c5",
              "IPY_MODEL_0a0c9046f326425399b3dbbb40d1359f"
            ],
            "layout": "IPY_MODEL_6851b2c5dd024729932d56d0f53c8000"
          }
        },
        "a5f553dcd31e44faa2c8c63ed5551075": {
          "model_module": "@jupyter-widgets/controls",
          "model_name": "HTMLModel",
          "model_module_version": "1.5.0",
          "state": {
            "_dom_classes": [],
            "_model_module": "@jupyter-widgets/controls",
            "_model_module_version": "1.5.0",
            "_model_name": "HTMLModel",
            "_view_count": null,
            "_view_module": "@jupyter-widgets/controls",
            "_view_module_version": "1.5.0",
            "_view_name": "HTMLView",
            "description": "",
            "description_tooltip": null,
            "layout": "IPY_MODEL_de52eae8dec64f29b5ee960aa3a01a85",
            "placeholder": "​",
            "style": "IPY_MODEL_6ef768cfc32e433a9c6f8fe46585b21d",
            "value": ""
          }
        },
        "c0db6c4f85b444bdb1457f1adcf106c5": {
          "model_module": "@jupyter-widgets/controls",
          "model_name": "FloatProgressModel",
          "model_module_version": "1.5.0",
          "state": {
            "_dom_classes": [],
            "_model_module": "@jupyter-widgets/controls",
            "_model_module_version": "1.5.0",
            "_model_name": "FloatProgressModel",
            "_view_count": null,
            "_view_module": "@jupyter-widgets/controls",
            "_view_module_version": "1.5.0",
            "_view_name": "ProgressView",
            "bar_style": "success",
            "description": "",
            "description_tooltip": null,
            "layout": "IPY_MODEL_8a3d92191f9145098d6bdd1bd8ea2727",
            "max": 170498071,
            "min": 0,
            "orientation": "horizontal",
            "style": "IPY_MODEL_f150583185a24a528b8f320172b4e99d",
            "value": 170498071
          }
        },
        "0a0c9046f326425399b3dbbb40d1359f": {
          "model_module": "@jupyter-widgets/controls",
          "model_name": "HTMLModel",
          "model_module_version": "1.5.0",
          "state": {
            "_dom_classes": [],
            "_model_module": "@jupyter-widgets/controls",
            "_model_module_version": "1.5.0",
            "_model_name": "HTMLModel",
            "_view_count": null,
            "_view_module": "@jupyter-widgets/controls",
            "_view_module_version": "1.5.0",
            "_view_name": "HTMLView",
            "description": "",
            "description_tooltip": null,
            "layout": "IPY_MODEL_e50f8e84ac294fc9bfb9529ed801e765",
            "placeholder": "​",
            "style": "IPY_MODEL_76f581ab0ef14652aeb859e91adbd94d",
            "value": " 170499072/? [00:10&lt;00:00, 19903606.87it/s]"
          }
        },
        "6851b2c5dd024729932d56d0f53c8000": {
          "model_module": "@jupyter-widgets/base",
          "model_name": "LayoutModel",
          "model_module_version": "1.2.0",
          "state": {
            "_model_module": "@jupyter-widgets/base",
            "_model_module_version": "1.2.0",
            "_model_name": "LayoutModel",
            "_view_count": null,
            "_view_module": "@jupyter-widgets/base",
            "_view_module_version": "1.2.0",
            "_view_name": "LayoutView",
            "align_content": null,
            "align_items": null,
            "align_self": null,
            "border": null,
            "bottom": null,
            "display": null,
            "flex": null,
            "flex_flow": null,
            "grid_area": null,
            "grid_auto_columns": null,
            "grid_auto_flow": null,
            "grid_auto_rows": null,
            "grid_column": null,
            "grid_gap": null,
            "grid_row": null,
            "grid_template_areas": null,
            "grid_template_columns": null,
            "grid_template_rows": null,
            "height": null,
            "justify_content": null,
            "justify_items": null,
            "left": null,
            "margin": null,
            "max_height": null,
            "max_width": null,
            "min_height": null,
            "min_width": null,
            "object_fit": null,
            "object_position": null,
            "order": null,
            "overflow": null,
            "overflow_x": null,
            "overflow_y": null,
            "padding": null,
            "right": null,
            "top": null,
            "visibility": null,
            "width": null
          }
        },
        "de52eae8dec64f29b5ee960aa3a01a85": {
          "model_module": "@jupyter-widgets/base",
          "model_name": "LayoutModel",
          "model_module_version": "1.2.0",
          "state": {
            "_model_module": "@jupyter-widgets/base",
            "_model_module_version": "1.2.0",
            "_model_name": "LayoutModel",
            "_view_count": null,
            "_view_module": "@jupyter-widgets/base",
            "_view_module_version": "1.2.0",
            "_view_name": "LayoutView",
            "align_content": null,
            "align_items": null,
            "align_self": null,
            "border": null,
            "bottom": null,
            "display": null,
            "flex": null,
            "flex_flow": null,
            "grid_area": null,
            "grid_auto_columns": null,
            "grid_auto_flow": null,
            "grid_auto_rows": null,
            "grid_column": null,
            "grid_gap": null,
            "grid_row": null,
            "grid_template_areas": null,
            "grid_template_columns": null,
            "grid_template_rows": null,
            "height": null,
            "justify_content": null,
            "justify_items": null,
            "left": null,
            "margin": null,
            "max_height": null,
            "max_width": null,
            "min_height": null,
            "min_width": null,
            "object_fit": null,
            "object_position": null,
            "order": null,
            "overflow": null,
            "overflow_x": null,
            "overflow_y": null,
            "padding": null,
            "right": null,
            "top": null,
            "visibility": null,
            "width": null
          }
        },
        "6ef768cfc32e433a9c6f8fe46585b21d": {
          "model_module": "@jupyter-widgets/controls",
          "model_name": "DescriptionStyleModel",
          "model_module_version": "1.5.0",
          "state": {
            "_model_module": "@jupyter-widgets/controls",
            "_model_module_version": "1.5.0",
            "_model_name": "DescriptionStyleModel",
            "_view_count": null,
            "_view_module": "@jupyter-widgets/base",
            "_view_module_version": "1.2.0",
            "_view_name": "StyleView",
            "description_width": ""
          }
        },
        "8a3d92191f9145098d6bdd1bd8ea2727": {
          "model_module": "@jupyter-widgets/base",
          "model_name": "LayoutModel",
          "model_module_version": "1.2.0",
          "state": {
            "_model_module": "@jupyter-widgets/base",
            "_model_module_version": "1.2.0",
            "_model_name": "LayoutModel",
            "_view_count": null,
            "_view_module": "@jupyter-widgets/base",
            "_view_module_version": "1.2.0",
            "_view_name": "LayoutView",
            "align_content": null,
            "align_items": null,
            "align_self": null,
            "border": null,
            "bottom": null,
            "display": null,
            "flex": null,
            "flex_flow": null,
            "grid_area": null,
            "grid_auto_columns": null,
            "grid_auto_flow": null,
            "grid_auto_rows": null,
            "grid_column": null,
            "grid_gap": null,
            "grid_row": null,
            "grid_template_areas": null,
            "grid_template_columns": null,
            "grid_template_rows": null,
            "height": null,
            "justify_content": null,
            "justify_items": null,
            "left": null,
            "margin": null,
            "max_height": null,
            "max_width": null,
            "min_height": null,
            "min_width": null,
            "object_fit": null,
            "object_position": null,
            "order": null,
            "overflow": null,
            "overflow_x": null,
            "overflow_y": null,
            "padding": null,
            "right": null,
            "top": null,
            "visibility": null,
            "width": null
          }
        },
        "f150583185a24a528b8f320172b4e99d": {
          "model_module": "@jupyter-widgets/controls",
          "model_name": "ProgressStyleModel",
          "model_module_version": "1.5.0",
          "state": {
            "_model_module": "@jupyter-widgets/controls",
            "_model_module_version": "1.5.0",
            "_model_name": "ProgressStyleModel",
            "_view_count": null,
            "_view_module": "@jupyter-widgets/base",
            "_view_module_version": "1.2.0",
            "_view_name": "StyleView",
            "bar_color": null,
            "description_width": ""
          }
        },
        "e50f8e84ac294fc9bfb9529ed801e765": {
          "model_module": "@jupyter-widgets/base",
          "model_name": "LayoutModel",
          "model_module_version": "1.2.0",
          "state": {
            "_model_module": "@jupyter-widgets/base",
            "_model_module_version": "1.2.0",
            "_model_name": "LayoutModel",
            "_view_count": null,
            "_view_module": "@jupyter-widgets/base",
            "_view_module_version": "1.2.0",
            "_view_name": "LayoutView",
            "align_content": null,
            "align_items": null,
            "align_self": null,
            "border": null,
            "bottom": null,
            "display": null,
            "flex": null,
            "flex_flow": null,
            "grid_area": null,
            "grid_auto_columns": null,
            "grid_auto_flow": null,
            "grid_auto_rows": null,
            "grid_column": null,
            "grid_gap": null,
            "grid_row": null,
            "grid_template_areas": null,
            "grid_template_columns": null,
            "grid_template_rows": null,
            "height": null,
            "justify_content": null,
            "justify_items": null,
            "left": null,
            "margin": null,
            "max_height": null,
            "max_width": null,
            "min_height": null,
            "min_width": null,
            "object_fit": null,
            "object_position": null,
            "order": null,
            "overflow": null,
            "overflow_x": null,
            "overflow_y": null,
            "padding": null,
            "right": null,
            "top": null,
            "visibility": null,
            "width": null
          }
        },
        "76f581ab0ef14652aeb859e91adbd94d": {
          "model_module": "@jupyter-widgets/controls",
          "model_name": "DescriptionStyleModel",
          "model_module_version": "1.5.0",
          "state": {
            "_model_module": "@jupyter-widgets/controls",
            "_model_module_version": "1.5.0",
            "_model_name": "DescriptionStyleModel",
            "_view_count": null,
            "_view_module": "@jupyter-widgets/base",
            "_view_module_version": "1.2.0",
            "_view_name": "StyleView",
            "description_width": ""
          }
        }
      }
    }
  },
  "nbformat": 4,
  "nbformat_minor": 0
}