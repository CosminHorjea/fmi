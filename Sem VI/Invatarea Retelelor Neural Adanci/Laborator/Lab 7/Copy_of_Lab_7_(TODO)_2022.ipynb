{
  "cells": [
    {
      "cell_type": "markdown",
      "metadata": {
        "id": "NjZTLbz4Vx4c"
      },
      "source": [
        "<font size=25>Laboratory 7 summary</font>\n",
        "\n",
        "In this lab you will:\n",
        "\n",
        "* learn what a recurrent neural network is\n",
        "* what the problem is with vanilla recurrent networks\n",
        "* train a gated recurrent network (GRU/LSTM) to predict the nationality of a name"
      ]
    },
    {
      "cell_type": "markdown",
      "metadata": {
        "id": "HUoo-4E12opk"
      },
      "source": [
        "# **Part I: Recurrent neural network**"
      ]
    },
    {
      "cell_type": "markdown",
      "source": [
        "## Motivation\n",
        "\n",
        "\n",
        "So far we have only addressed problems with one ***fixed input*** x (image, tabular features). We now tackle problems where the input x consists of **sequences of elements**. An important property is that the input sequences have ***variable lengths***.\n",
        "\n",
        "Examples of *input* sequences:\n",
        " - video (sequence of frames)\n",
        " - sentences (sequence of words)\n",
        " - time series (sequence of features)\n",
        "\n",
        "The *output* y may consist of:\n",
        " - a single element (action recognition)\n",
        " - a sequence (machine translation):\n",
        "\n",
        "|![Sequence problems](https://media5.datahacker.rs/2020/09/48-1024x575-1.jpg)|\n",
        "|:--:|\n",
        "| Sequence problems from [source](https://datahacker.rs/003-rnn-architectural-types-of-different-recurrent-neural-networks/) |\n",
        "\n",
        "**MLP for sequences**\n",
        "\n",
        "If we wanted to naively process sequences of variable lengths with linear layers, we would need different models to accommodate each length:\n",
        "\n",
        "|![Sequence varying lengths](https://i.ibb.co/KFYWvcV/sequences.png)|\n",
        "|:--:|\n",
        "| Sequence problems from [source](https://i.ibb.co/KFYWvcV/sequences.png) |\n",
        "\n",
        "**Convolution for sequences**\n",
        "If we process input sequence with 1D convolutions, we will still get a variable length output. This can be fixed by adding maxpooling-over-time operation for example. However, this solution does not capture long term dependencies (30 is influenced by 10).\n",
        "\n",
        "<div>\n",
        "<img src=https://i.ytimg.com/vi/ulKbLD6BRJA/maxresdefault.jpg width=\"750\"/>\n",
        "<div>"
      ],
      "metadata": {
        "id": "uY197nxuW6iU"
      }
    },
    {
      "cell_type": "markdown",
      "source": [
        "##Recurrent neural networks\n",
        "\n",
        "We will process the sequence one element at a time. Distinctly from an MLP, we need a 'memory' to store the intermediate results. We call this memory a **hidden state**. \n",
        "\n",
        "The first hidden state $h_0$ can be:\n",
        " - zero \n",
        " - feature representation of other input data on which our sequence depends (in image-to-text translation, $h_0$ is a feature representation of the image)\n",
        "\n",
        "<div>\n",
        "<img src=https://i.ibb.co/sjsY0Pv/mlp-vs-rnn.png width=\"750\"/>\n",
        "<div>\n",
        "\n",
        "We apply the same function $f_W$ for all the elements in the sequence. The new hidden state $h_1$ is fed as input in step 2:\n",
        "\n",
        "<div>\n",
        "<img src=https://i.ibb.co/DRhMwJ3/rnn-step-2.png width=\"750\"/>\n",
        "<div>\n",
        "\n",
        "\n",
        "We keep processing each element until we exhaust the sequence. In the diagram below, the last hidden state $h_{20}$ encapsulates information from the whole sequence. \n",
        "\n",
        "When we want to classify sequences $x_1, x_2, ..., x_T$, we can use this **final hidden state** $h_T$ as a feature representation of the entire sequence. We thus feed it to an MLP and compute the loss $L$. \n",
        "\n",
        "<div>\n",
        "<img src=https://i.ibb.co/wJv8FS1/rnn-unrolled.png width=\"750\"/>\n",
        "<div>\n",
        "\n",
        "\n",
        "Sometimes, the unrolled RNN is drawn more simply.\n",
        "<div>\n",
        "<img src=https://i.ibb.co/W0qZt6p/simplified-RNN.png width=\"750\"/>\n",
        "<div>\n"
      ],
      "metadata": {
        "id": "zfivsZlXCMUC"
      }
    },
    {
      "cell_type": "markdown",
      "source": [
        "## Optimizing recurrent neural networks\n",
        "\n",
        "How do we train recurrent neural networks? We use backpropagation just as we trained the previous types of networks. \n",
        "\n",
        "Let $W=(W_{xh}, W_{hh})$ be the recurrent parameters. Is the gradient $\\frac{\\partial L}{\\partial W}$ correct?\n",
        "\n",
        "<div>\n",
        "<img src=https://i.ibb.co/8NkVG4p/backprop-wrong.png width=\"750\"/>\n",
        "<div>"
      ],
      "metadata": {
        "id": "capgi36fiAuM"
      }
    },
    {
      "cell_type": "markdown",
      "source": [
        "The previous answer is wrong, because $h_{20}$ also depends on $h_{18}$, $h_{17}$, ..., $h_{1}$, which were all computed using $W$.\n",
        "\n",
        "\n",
        "<div>\n",
        "<img src=https://i.ibb.co/dQJTLFs/vanishing-gradient.png width=\"750\"/>\n",
        "<div>\n"
      ],
      "metadata": {
        "id": "o9_MSAOkkAXH"
      }
    },
    {
      "cell_type": "markdown",
      "source": [
        "## RNNCell (input is a single element)\n",
        "\n",
        "Let's instantiate a simple recurrent neural cell, called [`RNNCell`](https://pytorch.org/docs/stable/generated/torch.nn.RNNCell.html?highlight=rnncell#torch.nn.RNNCell). This cell implements the following equation:\n",
        "$$ h_t = \\tanh(W_{xh}x_t + W_{hh}h_{t-1} + b_{ih} + b_{hh})$$\n",
        "\n",
        "The cell is applied to ***a single element*** only!\n",
        "\n",
        "To instantiate it, we need to specify:\n",
        " - the input size\n",
        " - the size of the hidden state\n",
        " - whether to use the bias terms or not\n",
        " - what activation function to use (default is `tanh`)"
      ],
      "metadata": {
        "id": "Fa8h1mTzQFdw"
      }
    },
    {
      "cell_type": "code",
      "source": [
        "import torch\n",
        "import torch.nn as nn\n",
        "import numpy as np\n",
        "import torch.nn.functional as F\n",
        "import torch.optim as optim\n",
        "%matplotlib inline\n",
        "import matplotlib.pyplot as plt\n",
        "\n",
        "model = nn.RNNCell(input_size=100, hidden_size=256, bias=True, nonlinearity='tanh')"
      ],
      "metadata": {
        "id": "p8pqewX0Tobt"
      },
      "execution_count": null,
      "outputs": []
    },
    {
      "cell_type": "markdown",
      "source": [
        "Let's plot the module's parameters:"
      ],
      "metadata": {
        "id": "C94YEjIwZqR3"
      }
    },
    {
      "cell_type": "code",
      "source": [
        "for n,p in model.named_parameters():\n",
        "    print(n, ' ', p.size())"
      ],
      "metadata": {
        "colab": {
          "base_uri": "https://localhost:8080/"
        },
        "id": "oTPQ_huWZtTB",
        "outputId": "467d8ac5-7e5e-4c76-93e3-d44e18f6f99f"
      },
      "execution_count": null,
      "outputs": [
        {
          "output_type": "stream",
          "name": "stdout",
          "text": [
            "weight_ih   torch.Size([256, 100])\n",
            "weight_hh   torch.Size([256, 256])\n",
            "bias_ih   torch.Size([256])\n",
            "bias_hh   torch.Size([256])\n"
          ]
        }
      ]
    },
    {
      "cell_type": "markdown",
      "source": [
        "Let's now create a random input sequence of 20 elements, each of size 100."
      ],
      "metadata": {
        "id": "xipcfXkCVI-X"
      }
    },
    {
      "cell_type": "code",
      "source": [
        "data = torch.rand(20, 100)"
      ],
      "metadata": {
        "id": "qQMvtuJGVPvt"
      },
      "execution_count": null,
      "outputs": []
    },
    {
      "cell_type": "markdown",
      "source": [
        "Let's compute the first recurrent step. We will need to initialize the first hidden state.\n",
        "<div>\n",
        "<img src=https://i.ibb.co/gStdPF4/rnn-step-1.png width=\"750\"/>\n",
        "<div>"
      ],
      "metadata": {
        "id": "CYOeeiknVjqm"
      }
    },
    {
      "cell_type": "code",
      "source": [
        "# batch_size = 1\n",
        "h0 = torch.zeros(1, 256)\n",
        "\n",
        "# batch_size x 100 = 1 x 100\n",
        "x1 = data[0].unsqueeze(0)\n",
        "h1 = model(x1, h0)\n",
        "print(\"h1 size = \", h1.size())"
      ],
      "metadata": {
        "colab": {
          "base_uri": "https://localhost:8080/"
        },
        "id": "8BkoLwUUS5ca",
        "outputId": "6834d937-11df-43af-b0eb-585849ab4767"
      },
      "execution_count": null,
      "outputs": [
        {
          "output_type": "stream",
          "name": "stdout",
          "text": [
            "h1 size =  torch.Size([1, 256])\n"
          ]
        }
      ]
    },
    {
      "cell_type": "markdown",
      "source": [
        "Let's process the rest of the sequence up to timestep t=20. \n",
        "The last hidden state $h_{20}$ will be processed by a linear layer to predict 2 classes.\n",
        "\n",
        "<div>\n",
        "<img src=https://i.ibb.co/wJv8FS1/rnn-unrolled.png width=\"750\"/>\n",
        "<div>"
      ],
      "metadata": {
        "id": "IuxqIQwJXuTy"
      }
    },
    {
      "cell_type": "code",
      "source": [
        "lin_layer = nn.Linear(256, 2)\n",
        "loss_fn = nn.CrossEntropyLoss()\n",
        "\n",
        "hidden_states = [h0, h1]\n",
        "for t in range(1,20):\n",
        "    hidden_prev = hidden_states[-1]\n",
        "    xt = data[t].unsqueeze(0)\n",
        "    \n",
        "    # compute new hidden state\n",
        "    ht = model(xt, hidden_prev)\n",
        "    \n",
        "    # add hidden state to list\n",
        "    hidden_states.append(ht)\n",
        "\n",
        "# compute scores, then loss\n",
        "y = lin_layer(hidden_states[-1])\n",
        "t = torch.tensor([1], dtype=torch.int64)\n",
        "loss = loss_fn(y, t)\n",
        "print(\"loss = \", loss)\n",
        "\n",
        "# backpropagate\n",
        "loss.backward()"
      ],
      "metadata": {
        "colab": {
          "base_uri": "https://localhost:8080/"
        },
        "id": "M9GZCI7tTaKu",
        "outputId": "81b17a39-26a2-4efb-a21e-8e8ef1fe97f9"
      },
      "execution_count": null,
      "outputs": [
        {
          "output_type": "stream",
          "name": "stdout",
          "text": [
            "loss =  tensor(0.6584, grad_fn=<NllLossBackward0>)\n"
          ]
        }
      ]
    },
    {
      "cell_type": "markdown",
      "source": [
        "## RNN (input is a sequence)\n",
        "\n",
        "The recurrent cell above was applied sequentially to each *input element*. Fortunately there is a wrapper class called [`RNN`](https://pytorch.org/docs/stable/generated/torch.nn.RNN.html?highlight=rnn#torch.nn.RNN) which expects an **input sequence** and recursively calls the cell repeatedly over the timesteps.\n",
        "\n",
        "To instantiate it, we need to similarly specify:\n",
        " - the input size\n",
        " - the size of the hidden state\n",
        " - whether to use the bias terms or not\n",
        " - what activation function to use (default is `tanh`)\n",
        "\n",
        "We also have additional arguments:\n",
        " - `batch_first` - establishes whether inputs have shape `batch x timesteps x D` vs `timesteps x batch x D`\n",
        " - `bidirectional` - if True, instantiates a separate model that processes the sequences from **right to left** and concatenates hidden states from both directions\n",
        " - `num_layers` - sets the 'height' of the model (`num_layers=1` by default), meaning the number of times the sequence is processed hierarchically\n",
        " - `dropout` - applies Dropout on all but the last layer; if `num_layers=1`, no dropout is applied"
      ],
      "metadata": {
        "id": "TLyj3UFtaZdf"
      }
    },
    {
      "cell_type": "code",
      "source": [
        "# bias=True by default, non-linearity is tanh by default, bidirectional=False\n",
        "model = nn.RNN(input_size=100, hidden_size=256, batch_first=True)"
      ],
      "metadata": {
        "id": "7jBScGgYZkve"
      },
      "execution_count": null,
      "outputs": []
    },
    {
      "cell_type": "markdown",
      "source": [
        "We also need to initialize the first hidden state. If not provided to the model, it is initialized with a Tensor full `0`s by default. It is good practice to **explicitly initialize the first hidden state** everytime, since there are situations when it shouldn't be filled with `0`s."
      ],
      "metadata": {
        "id": "MuFVHj8xg7D_"
      }
    },
    {
      "cell_type": "code",
      "source": [
        "# why do we have two dimension of 1?\n",
        "h0 = torch.zeros(1, 1, 256)"
      ],
      "metadata": {
        "id": "KI76LHI0ksB3"
      },
      "execution_count": null,
      "outputs": []
    },
    {
      "cell_type": "markdown",
      "source": [
        "Let's now feed the input sequence `data` of size 20x100 to the model.\n"
      ],
      "metadata": {
        "id": "oQuj4iK6hYjH"
      }
    },
    {
      "cell_type": "code",
      "source": [
        "data = torch.rand(20, 100)\n",
        "# add dummy batch dimension\n",
        "# 1 x 20 x 100\n",
        "data = data.unsqueeze(0)\n",
        "\n",
        "# process sequence\n",
        "output, h_t = model(data, h0)"
      ],
      "metadata": {
        "id": "dKbRCDuok3to"
      },
      "execution_count": null,
      "outputs": []
    },
    {
      "cell_type": "markdown",
      "source": [
        "Let's inspect the returned Tensors. `h_t` contains the last hidden state of the sequence."
      ],
      "metadata": {
        "id": "ibsEvWF5nWQh"
      }
    },
    {
      "cell_type": "code",
      "source": [
        "print(h_t.size())"
      ],
      "metadata": {
        "colab": {
          "base_uri": "https://localhost:8080/"
        },
        "id": "Wf0VNzmZnh8u",
        "outputId": "92e591ef-c52d-48be-e486-e9480b1f9b26"
      },
      "execution_count": null,
      "outputs": [
        {
          "output_type": "stream",
          "name": "stdout",
          "text": [
            "torch.Size([1, 1, 256])\n"
          ]
        }
      ]
    },
    {
      "cell_type": "markdown",
      "source": [
        "The first dimension is 1 because we only have 1 direction (left-to-right) and 1 layer. The second dimension is 1 because `batch_size` is 1."
      ],
      "metadata": {
        "id": "tfi03622ojAa"
      }
    },
    {
      "cell_type": "markdown",
      "source": [
        "Let's inspect the output. It is a Tensor holding all the intermediate hidden states."
      ],
      "metadata": {
        "id": "8J0n-V5yWllk"
      }
    },
    {
      "cell_type": "code",
      "source": [
        "print(output.size())"
      ],
      "metadata": {
        "colab": {
          "base_uri": "https://localhost:8080/"
        },
        "id": "2MRSQ9dvn0gL",
        "outputId": "bb814f9a-dabb-4d33-f5b7-cb21046036df"
      },
      "execution_count": null,
      "outputs": [
        {
          "output_type": "stream",
          "name": "stdout",
          "text": [
            "torch.Size([1, 20, 256])\n"
          ]
        }
      ]
    },
    {
      "cell_type": "markdown",
      "source": [
        "When classifying the whole sequence we can use the **last hidden state**, which contains information about all the elements. This means we do not need the intermediate hidden states. \n",
        "\n",
        "However, there are tasks where we want to make predictions **at each step**. In this case, we need to compute losses at each timestep t, based on the hidden state $h_t$.\n",
        "\n",
        "<div>\n",
        "<img src=https://i.ibb.co/ygZRZb6/rnn-allsteps-loss.png width=\"750\"/>\n",
        "<div>\n",
        "\n",
        "\n",
        "In this case we retrieve them from the `output` Tensor returned by the model."
      ],
      "metadata": {
        "id": "zAOMc84aVYcp"
      }
    },
    {
      "cell_type": "code",
      "source": [
        ""
      ],
      "metadata": {
        "id": "vs6GkV7h_n9v"
      },
      "execution_count": null,
      "outputs": []
    },
    {
      "cell_type": "markdown",
      "source": [
        "## Vanilla recurrent neural network for sine wave prediction"
      ],
      "metadata": {
        "id": "uV8CTJFMVQ_d"
      }
    },
    {
      "cell_type": "markdown",
      "source": [
        "### Generate sine data"
      ],
      "metadata": {
        "id": "UmwZJ4sLtErj"
      }
    },
    {
      "cell_type": "code",
      "source": [
        "import torch\n",
        "import torch.nn as nn\n",
        "import numpy as np\n",
        "import torch.nn.functional as F\n",
        "import torch.optim as optim\n",
        "%matplotlib inline\n",
        "import matplotlib.pyplot as plt\n",
        "\n",
        "def generate_sinus_wave(train_len, valid_len):\n",
        "    time_steps = np.linspace(0, 8*np.pi, train_len+valid_len)\n",
        "    data = np.sin(time_steps)\n",
        "\n",
        "    xs = data[:train_len-1]\n",
        "    ys = data[1:train_len] # as discussed in class, targets are shifted by 1 step\n",
        "\n",
        "    # batch_size x timesteps x 1, where batch_size=1\n",
        "    train_x = torch.tensor(xs, dtype=torch.float32).view(1, -1, 1)\n",
        "    train_y = torch.tensor(ys, dtype=torch.float32)\n",
        "\n",
        "    return data, time_steps, train_x, train_y"
      ],
      "metadata": {
        "id": "tXny3LegV6ed"
      },
      "execution_count": null,
      "outputs": []
    },
    {
      "cell_type": "code",
      "source": [
        "seq_length = 300 #total sequence length\n",
        "portion_train = 0.1 #portion of the sequence length used for training\n",
        "\n",
        "train_len = int(seq_length*portion_train)\n",
        "valid_len = seq_length-train_len\n",
        "data, time_steps, train_x, train_y = \\\n",
        "    generate_sinus_wave(train_len = train_len, valid_len = valid_len)\n",
        "\n",
        "#plot our data\n",
        "fig, ax = plt.subplots(figsize=(20,5))\n",
        "plt.scatter(time_steps[:train_len], data[:train_len], s=90, label='train')\n",
        "plt.scatter(time_steps[train_len:], data[train_len:], label='valid')\n",
        "ax.legend()"
      ],
      "metadata": {
        "colab": {
          "base_uri": "https://localhost:8080/",
          "height": 308
        },
        "id": "rJhp004mWO92",
        "outputId": "635d31bb-b2a7-49ad-96b1-499e589a73bf"
      },
      "execution_count": null,
      "outputs": [
        {
          "output_type": "execute_result",
          "data": {
            "text/plain": [
              "<matplotlib.legend.Legend at 0x7fcc728eac90>"
            ]
          },
          "metadata": {},
          "execution_count": 88
        },
        {
          "output_type": "display_data",
          "data": {
            "text/plain": [
              "<Figure size 1440x360 with 1 Axes>"
            ],
            "image/png": "[encoded data removed]"
          },
          "metadata": {
            "needs_background": "light"
          }
        }
      ]
    },
    {
      "cell_type": "code",
      "source": [
        "#plot our data\n",
        "fig, ax = plt.subplots(figsize=(20,5))\n",
        "plt.scatter(time_steps[:train_len-1], train_x, s=90, c='g', label='train')\n",
        "plt.scatter(time_steps[1:train_len], train_y, s=20, c='r', label='targets')\n",
        "ax.legend()"
      ],
      "metadata": {
        "colab": {
          "base_uri": "https://localhost:8080/",
          "height": 308
        },
        "id": "B4U8t2zWWxH8",
        "outputId": "30657fdf-078b-4927-c7a6-57cd158fe17b"
      },
      "execution_count": null,
      "outputs": [
        {
          "output_type": "execute_result",
          "data": {
            "text/plain": [
              "<matplotlib.legend.Legend at 0x7fcc72767590>"
            ]
          },
          "metadata": {},
          "execution_count": 89
        },
        {
          "output_type": "display_data",
          "data": {
            "text/plain": [
              "<Figure size 1440x360 with 1 Axes>"
            ],
            "image/png": "[encoded data removed]"
          },
          "metadata": {
            "needs_background": "light"
          }
        }
      ]
    },
    {
      "cell_type": "markdown",
      "source": [
        "### Instantiate model\n",
        "\n",
        "We will train a recurrent network which predicts a sine wave value $y_t$ at each timestep, based on the true values $x_1$, $x_2$, ..., $x_{t-1}$\n",
        "\n",
        "<div>\n",
        "<img src=https://i.ibb.co/ygZRZb6/rnn-allsteps-loss.png width=\"750\"/>\n",
        "<div>"
      ],
      "metadata": {
        "id": "KZyKgNWxZeFc"
      }
    },
    {
      "cell_type": "code",
      "source": [
        "HIDDEN_SIZE=10\n",
        "LR=1e-2\n",
        "\n",
        "class RNNModel(nn.Module):\n",
        "    def __init__(self, \n",
        "                 input_size: int, \n",
        "                 hidden_size: int, \n",
        "                 output_size: int):\n",
        "        super().__init__()\n",
        "        self.input_size = input_size\n",
        "        self.hidden_size = hidden_size\n",
        "        self.output_size = output_size\n",
        "\n",
        "        # TODO: instantiate RNN here\n",
        "        self.rnn = ...\n",
        "\n",
        "        # this layer is applied on top of each hidden state ht in order to \n",
        "        # predict a scalar value yt of the sine wave\n",
        "        self.output_layer = ...\n",
        "    \n",
        "    def forward(self, x, h=None):\n",
        "        # Arguments:\n",
        "        #   x: time series of shape batch_size x timesteps x 1\n",
        "        #   h: first hidden state\n",
        "        \n",
        "        # TODO: apply recurrent network to sequence x\n",
        "        # Q: what does Tensor rnn_output contain? what does h_n contain?\n",
        "        # what shape do they have?\n",
        "        rnn_output, h_n = ...\n",
        "\n",
        "        # TODO: apply linear layer to each hidden state\n",
        "        # output should have shape batch_size x timesteps x 1\n",
        "        output = ...\n",
        "\n",
        "        return output, h_n\n",
        "\n",
        "\n",
        "# TODO: instantiate the RNNModel\n",
        "model = RNNModel(\n",
        "    input_size=...,\n",
        "    hidden_size=HIDDEN_SIZE,\n",
        "    output_size=...\n",
        ")"
      ],
      "metadata": {
        "id": "eDySopwIZcit"
      },
      "execution_count": null,
      "outputs": []
    },
    {
      "cell_type": "code",
      "source": [
        "# TODO: instantiate loss function here\n",
        "# criterion = \n",
        "\n",
        "# this will set-up an optimizer for parameter updates, feel free to ignore this for now!\n",
        "optimizer = optim.Adam(model.parameters(), lr=LR) \n",
        "\n",
        "epochs = 300 # one epoch corresponds to a single pass through the entire training data\n",
        "for epoch in range(epochs):\n",
        "    optimizer.zero_grad()\n",
        "    \n",
        "    # batch_size x timesteps x 1\n",
        "    output, _ = model(train_x)\n",
        "\n",
        "    loss = criterion(output.view(-1), train_y)\n",
        "    loss.backward()\n",
        "    optimizer.step()\n",
        "    if epoch % 10 == 0:\n",
        "        print(\"Epoch {}: loss {}\".format(epoch, loss.item()))"
      ],
      "metadata": {
        "colab": {
          "base_uri": "https://localhost:8080/"
        },
        "id": "xSQQtqmIaJOI",
        "outputId": "68ac0835-8de0-4351-c02a-494276050485"
      },
      "execution_count": null,
      "outputs": [
        {
          "output_type": "stream",
          "name": "stdout",
          "text": [
            "Epoch 0: loss 0.5745945572853088\n",
            "Epoch 10: loss 0.2455361783504486\n",
            "Epoch 20: loss 0.07135132700204849\n",
            "Epoch 30: loss 0.02523892931640148\n",
            "Epoch 40: loss 0.017011839896440506\n",
            "Epoch 50: loss 0.01176394522190094\n",
            "Epoch 60: loss 0.008029099553823471\n",
            "Epoch 70: loss 0.005973887629806995\n",
            "Epoch 80: loss 0.004510960541665554\n",
            "Epoch 90: loss 0.0033145847264677286\n",
            "Epoch 100: loss 0.0023064538836479187\n",
            "Epoch 110: loss 0.0015248729614540935\n",
            "Epoch 120: loss 0.0009586809319444001\n",
            "Epoch 130: loss 0.0005485126748681068\n",
            "Epoch 140: loss 0.0002791820443235338\n",
            "Epoch 150: loss 0.00015738181537017226\n",
            "Epoch 160: loss 0.00012736208736896515\n",
            "Epoch 170: loss 0.00012104357301723212\n",
            "Epoch 180: loss 0.00011525706941029057\n",
            "Epoch 190: loss 0.00010863664647331461\n",
            "Epoch 200: loss 0.00010323949391022325\n",
            "Epoch 210: loss 9.871283691609278e-05\n",
            "Epoch 220: loss 9.455672989133745e-05\n",
            "Epoch 230: loss 9.066673374036327e-05\n",
            "Epoch 240: loss 8.702387276571244e-05\n",
            "Epoch 250: loss 8.359886851394549e-05\n",
            "Epoch 260: loss 8.03609800641425e-05\n",
            "Epoch 270: loss 7.728792115813121e-05\n",
            "Epoch 280: loss 7.436344458255917e-05\n",
            "Epoch 290: loss 7.157344953157008e-05\n"
          ]
        }
      ]
    },
    {
      "cell_type": "markdown",
      "source": [
        "We will now make predictions"
      ],
      "metadata": {
        "id": "HzNpexUtYg5v"
      }
    },
    {
      "cell_type": "code",
      "source": [
        "def make_predictions_train(model, train_x):\n",
        "    predictions = []\n",
        "    hidden_prev = None\n",
        "    # we will go over all points in out training sequence\n",
        "    # train_x shape: 1 x T x 1\n",
        "    for i in range(train_x.shape[1]):\n",
        "        input = train_x[:,i]\n",
        "        input = input.view(1, 1, 1)\n",
        "      \n",
        "        # we will give the current (single) point and the (current) \n",
        "        # hidden state as input to our model\n",
        "        \n",
        "        # we carry over the previous hidden state\n",
        "        pred, hidden_prev = model(input, hidden_prev) \n",
        "        predictions.append(pred.data.numpy()[0][0])\n",
        "    return predictions, hidden_prev\n",
        "\n",
        "predictions_train, hidden_prev = make_predictions_train(model, train_x)\n",
        "\n",
        "#plot\n",
        "fig, ax = plt.subplots(figsize=(20,5))\n",
        "plt.scatter(time_steps[:train_len-1], data[:train_len-1], s=90, label='actual')\n",
        "plt.scatter(time_steps[1:train_len], predictions_train, label='predicted')\n",
        "ax.legend()"
      ],
      "metadata": {
        "colab": {
          "base_uri": "https://localhost:8080/",
          "height": 308
        },
        "id": "zTfqPoi1YgGY",
        "outputId": "37bd13e3-8c34-49fd-f07a-210294b3311c"
      },
      "execution_count": null,
      "outputs": [
        {
          "output_type": "execute_result",
          "data": {
            "text/plain": [
              "<matplotlib.legend.Legend at 0x7fcc70327b10>"
            ]
          },
          "metadata": {},
          "execution_count": 93
        },
        {
          "output_type": "display_data",
          "data": {
            "text/plain": [
              "<Figure size 1440x360 with 1 Axes>"
            ],
            "image/png": "[encoded data removed]"
          },
          "metadata": {
            "needs_background": "light"
          }
        }
      ]
    },
    {
      "cell_type": "code",
      "source": [
        "def generate_unseen_sequence(model, length, starting_point, hidden_state):\n",
        "    predicts=[]\n",
        "    input = torch.Tensor(starting_point).view(1,1,1)\n",
        "    for i in range(length):\n",
        "        pred, hidden_state = model(input, hidden_state)\n",
        "        predicts.append(pred.data.numpy()[0][0])\n",
        "        input = pred\n",
        "    return predicts"
      ],
      "metadata": {
        "id": "c4V6NxqjdEm4"
      },
      "execution_count": null,
      "outputs": []
    },
    {
      "cell_type": "code",
      "source": [
        "generated_points = generate_unseen_sequence(model, valid_len, starting_point=predictions_train[-1], hidden_state=hidden_prev)\n",
        "\n",
        "predictions = predictions_train+generated_points #concatenate two lists\n",
        "\n",
        "#plot\n",
        "fig, ax = plt.subplots(figsize=(20,5))\n",
        "plt.scatter(time_steps, data, s=90, label='actual')\n",
        "plt.scatter(time_steps[1:train_len], predictions[:train_len-1], label='predicted')\n",
        "plt.scatter(time_steps[train_len:], predictions[train_len-1:], label='generated')\n",
        "ax.legend()"
      ],
      "metadata": {
        "colab": {
          "base_uri": "https://localhost:8080/",
          "height": 308
        },
        "id": "9K6LKUOedIbY",
        "outputId": "f8a7078d-6088-4607-b4fc-33a5a335cda9"
      },
      "execution_count": null,
      "outputs": [
        {
          "output_type": "execute_result",
          "data": {
            "text/plain": [
              "<matplotlib.legend.Legend at 0x7fcc70275d10>"
            ]
          },
          "metadata": {},
          "execution_count": 95
        },
        {
          "output_type": "display_data",
          "data": {
            "text/plain": [
              "<Figure size 1440x360 with 1 Axes>"
            ],
            "image/png": "[encoded data removed]"
          },
          "metadata": {
            "needs_background": "light"
          }
        }
      ]
    },
    {
      "cell_type": "markdown",
      "source": [
        "## Vanishing gradients\n",
        "\n",
        "Vanilla recurrent neural networks face an issue called the [vanishing gradient](https://en.wikipedia.org/wiki/Vanishing_gradient_problem) problem. In simple terms, the gradient of the error with respect to $h_t$ becomes smaller as $t$ is smaller. This means that the longer the sequence, the harder it is to capture dependencies between distant elements.\n",
        "\n",
        "<div>\n",
        "<img src=https://i.ibb.co/dQJTLFs/vanishing-gradient.png width=\"750\"/>\n",
        "<div>"
      ],
      "metadata": {
        "id": "GSOCNIbQGNpR"
      }
    },
    {
      "cell_type": "markdown",
      "source": [
        "### Generate data\n",
        "\n",
        "We illustrate the vanishing gradient phenomenon by training a model to predict the next sine value $x_t$, based on previous sine values $x_1$,  $x_2$, ...,  $x_{t-1}$."
      ],
      "metadata": {
        "id": "4m8ztyTRIgPq"
      }
    },
    {
      "cell_type": "code",
      "source": [
        "import torch\n",
        "import torch.nn as nn\n",
        "import numpy as np\n",
        "import torch.nn.functional as F\n",
        "import torch.optim as optim\n",
        "%matplotlib inline\n",
        "import matplotlib.pyplot as plt\n",
        "\n",
        "def generate_sinus_wave(train_len, valid_len):\n",
        "    time_steps = np.linspace(0, 8*np.pi, train_len+valid_len)\n",
        "    data = np.sin(time_steps)\n",
        "\n",
        "    xs = data[:train_len-1]\n",
        "    ys = data[train_len-1] # our target is now only the last point in the training set\n",
        "\n",
        "    # batch_size x timesteps x 1, where batch_size=1\n",
        "    train_x = torch.tensor(xs, dtype=torch.float32).view(1, -1, 1)\n",
        "    train_y = torch.tensor(ys, dtype=torch.float32)\n",
        "\n",
        "    return data, time_steps, train_x, train_y"
      ],
      "metadata": {
        "id": "0ZVzna-MGQnb"
      },
      "execution_count": null,
      "outputs": []
    },
    {
      "cell_type": "code",
      "source": [
        "seq_length = 300 #total sequence length\n",
        "portion_train = 0.3 #portion of the sequence length used for training\n",
        "\n",
        "train_len = int(seq_length*portion_train)\n",
        "valid_len = seq_length-train_len\n",
        "data, time_steps, train_x, train_y = \\\n",
        "    generate_sinus_wave(train_len = train_len, valid_len = valid_len)\n",
        "\n",
        "#plot our data\n",
        "fig, ax = plt.subplots(figsize=(20,5))\n",
        "plt.scatter(time_steps[:train_len-1], train_x, s=90, c='g', label='train')\n",
        "plt.scatter(time_steps[train_len-1], train_y, s=20, c='r', label='targets')\n",
        "ax.legend()"
      ],
      "metadata": {
        "colab": {
          "base_uri": "https://localhost:8080/",
          "height": 308
        },
        "id": "WwN-rk3WIJkA",
        "outputId": "25f1c955-d47d-464c-e001-303710c307a4"
      },
      "execution_count": null,
      "outputs": [
        {
          "output_type": "execute_result",
          "data": {
            "text/plain": [
              "<matplotlib.legend.Legend at 0x7fcc7020ee90>"
            ]
          },
          "metadata": {},
          "execution_count": 97
        },
        {
          "output_type": "display_data",
          "data": {
            "text/plain": [
              "<Figure size 1440x360 with 1 Axes>"
            ],
            "image/png": "[encoded data removed]"
          },
          "metadata": {
            "needs_background": "light"
          }
        }
      ]
    },
    {
      "cell_type": "markdown",
      "source": [
        "### Instantiate models\n",
        "\n",
        "We train a vanilla RNN as well as a gated recurrent unit ([GRU](https://en.wikipedia.org/wiki/Gated_recurrent_unit)). The GRU is an improved recurrent model that tackles the vanishing gradient issue by introducing differentiable gates. These gates allow gradients to 'flow' unchanged across timesteps. "
      ],
      "metadata": {
        "id": "PjA_fRqQIxQw"
      }
    },
    {
      "cell_type": "code",
      "source": [
        "HIDDEN_SIZE=10\n",
        "LR=1e-2\n",
        "\n",
        "class RNNModel(nn.Module):\n",
        "    def __init__(self, \n",
        "                 input_size: int, \n",
        "                 hidden_size: int, \n",
        "                 output_size: int,\n",
        "                 cell_type: str = 'rnn'):\n",
        "        super().__init__()\n",
        "        self.input_size = input_size\n",
        "        self.hidden_size = hidden_size\n",
        "        self.output_size = output_size\n",
        "        self.cell_type = cell_type\n",
        "\n",
        "        if cell_type == 'gru':\n",
        "            self.rnn_cell = nn.GRUCell(\n",
        "                input_size=input_size, \n",
        "                hidden_size=hidden_size\n",
        "            )\n",
        "        else:\n",
        "            self.rnn_cell = nn.RNNCell(\n",
        "                  input_size=input_size, \n",
        "                  hidden_size=hidden_size, \n",
        "                  nonlinearity='tanh'\n",
        "            )\n",
        "\n",
        "        # this layer is applied on top of each hidden state ht in order to \n",
        "        # predict a scalar value yt of the sine wave\n",
        "        self.output_layer = nn.Linear(\n",
        "            in_features=hidden_size, \n",
        "            out_features=output_size\n",
        "        )\n",
        "    \n",
        "    def forward(self, x, h=None):\n",
        "        # x has shape: batch_size x timesteps x 1\n",
        "        # The code below is equivalent to calling the RNN Module once on the \n",
        "        # whole sequence. We do this because we want to register the gradient\n",
        "        # of the loss with respect to the hidden state at each timestep\n",
        "        \n",
        "        prev_hidden = None\n",
        "        rnn_output = []\n",
        "        for t in range(x.shape[1]):\n",
        "            ht = self.rnn_cell(x[:,t], prev_hidden)\n",
        "            ht.retain_grad()\n",
        "            rnn_output.append(ht)\n",
        "            prev_hidden = ht\n",
        "\n",
        "        # we only apply the output layer on the last element\n",
        "        output = self.output_layer(ht)\n",
        "\n",
        "        return output, ht, rnn_output\n",
        "\n",
        "# here we instantiate an RNN and a GRU-based model\n",
        "model_rnn = RNNModel(input_size=1, \n",
        "    hidden_size=HIDDEN_SIZE,\n",
        "    output_size=1,\n",
        "    cell_type='rnn'\n",
        ")\n",
        "model_gru = RNNModel(input_size=1, \n",
        "    hidden_size=HIDDEN_SIZE,\n",
        "    output_size=1,\n",
        "    cell_type='gru'\n",
        ")"
      ],
      "metadata": {
        "id": "6QBUPI3kIzPb"
      },
      "execution_count": null,
      "outputs": []
    },
    {
      "cell_type": "markdown",
      "source": [
        "We now train both models for 5 epochs and store the gradient of the loss $L$ with respect to each hidden state $h_1$, $h_2$, ..., $h_T$."
      ],
      "metadata": {
        "id": "HUntt-5x41fj"
      }
    },
    {
      "cell_type": "code",
      "source": [
        "criterion = nn.MSELoss() # we are using mean squared error as loss function here\n",
        "# this will set-up an optimizer for parameter updates, feel free to ignore this for now!\n",
        "optimizer_rnn = optim.Adam(model_rnn.parameters(), lr=LR) \n",
        "optimizer_gru = optim.Adam(model_gru.parameters(), lr=LR) \n",
        "\n",
        "epochs = 5 # one epoch corresponds to a single pass through the entire training data\n",
        "grad_rnn, grad_gru = {}, {}\n",
        "for epoch in range(epochs):\n",
        "    optimizer_rnn.zero_grad()\n",
        "    optimizer_gru.zero_grad()\n",
        "    \n",
        "    # output is the scalar \n",
        "    rnn_scalar_output, _, rnn_hidden_output = model_rnn(train_x)\n",
        "    gru_scalar_output, _, gru_hidden_output = model_gru(train_x)\n",
        "\n",
        "    loss_rnn = criterion(rnn_scalar_output.squeeze(), train_y)\n",
        "    loss_gru = criterion(gru_scalar_output.squeeze(), train_y)\n",
        "    loss_rnn.backward()\n",
        "    loss_gru.backward()\n",
        "\n",
        "    for t, ht in enumerate(rnn_hidden_output):\n",
        "        grad_rnn[t] = torch.norm(ht.grad)\n",
        "\n",
        "    for t, ht in enumerate(gru_hidden_output):\n",
        "        grad_gru[t] = torch.norm(ht.grad)\n",
        "    \n",
        "    optimizer_rnn.step()\n",
        "    optimizer_gru.step()\n",
        "    if epoch % 1 == 0:\n",
        "        print(\"Epoch {}: loss RNN {}, loss GRU {}\".format(epoch, loss_rnn.item(), loss_gru.item()))\n"
      ],
      "metadata": {
        "colab": {
          "base_uri": "https://localhost:8080/"
        },
        "id": "m33f0pMiOttC",
        "outputId": "c079d3c1-848b-4569-c1fb-1f331ef98a0d"
      },
      "execution_count": null,
      "outputs": [
        {
          "output_type": "stream",
          "name": "stdout",
          "text": [
            "Epoch 0: loss RNN 0.7648681402206421, loss GRU 0.43193382024765015\n",
            "Epoch 1: loss RNN 0.6289367079734802, loss GRU 0.35299035906791687\n",
            "Epoch 2: loss RNN 0.5109831690788269, loss GRU 0.28298723697662354\n",
            "Epoch 3: loss RNN 0.40351995825767517, loss GRU 0.2184944748878479\n",
            "Epoch 4: loss RNN 0.3037375211715698, loss GRU 0.15863624215126038\n"
          ]
        }
      ]
    },
    {
      "cell_type": "markdown",
      "source": [
        "We not plot the norm of the gradients at each timestep for both RNN and GRU. The gradients with respect to the last hidden states (t>80) have similar norms for both RNN and GRU. However, the more we move towards the sequence beginning (t=0), the RNN gradients become 0, the GRU gradients are consistently larger by several orders of magnitude."
      ],
      "metadata": {
        "id": "t4ruGMdd5G5W"
      }
    },
    {
      "cell_type": "code",
      "source": [
        "fig, ax = plt.subplots(figsize=(20,5))\n",
        "timesteps, gradients_rnn = list(grad_rnn.keys()), list(grad_rnn.values())\n",
        "timesteps, gradients_gru = list(grad_gru.keys()), list(grad_gru.values())\n",
        "\n",
        "max_index = len(timesteps)\n",
        "#plt.scatter(timesteps[:max_index], gradients_rnn[:max_index], s=9, c='g', label='RNN')\n",
        "#plt.scatter(timesteps[:max_index], gradients_gru[:max_index], s=9, c='r', label='GRU')\n",
        "\n",
        "plt.plot(timesteps[:max_index], gradients_rnn[:max_index], c='g', label='RNN')\n",
        "plt.plot(timesteps[:max_index], gradients_gru[:max_index], c='r', label='GRU')\n",
        "ax.set_yscale('log')\n",
        "ax.legend()"
      ],
      "metadata": {
        "id": "akA24lNpQSAl",
        "colab": {
          "base_uri": "https://localhost:8080/",
          "height": 309
        },
        "outputId": "25f290bd-ddaa-4cc5-d506-ba3d49d117c9"
      },
      "execution_count": null,
      "outputs": [
        {
          "output_type": "execute_result",
          "data": {
            "text/plain": [
              "<matplotlib.legend.Legend at 0x7fcc701117d0>"
            ]
          },
          "metadata": {},
          "execution_count": 100
        },
        {
          "output_type": "display_data",
          "data": {
            "text/plain": [
              "<Figure size 1440x360 with 1 Axes>"
            ],
            "image/png": "[encoded data removed]"
          },
          "metadata": {
            "needs_background": "light"
          }
        }
      ]
    },
    {
      "cell_type": "code",
      "source": [
        "for t, (grnn, ggru) in enumerate(zip(gradients_rnn, gradients_gru)):\n",
        "    print(t, \"RNN dL/dh{} = {}, GRU DL/dh{} = {}\".format(t, grnn, t, ggru))"
      ],
      "metadata": {
        "colab": {
          "base_uri": "https://localhost:8080/"
        },
        "id": "ePua6ZYjuXqQ",
        "outputId": "2796c352-06c9-4d5e-9f92-b78d6e661e3a"
      },
      "execution_count": null,
      "outputs": [
        {
          "output_type": "stream",
          "name": "stdout",
          "text": [
            "0 RNN dL/dh0 = 0.0, GRU DL/dh0 = 7.013243048517763e-22\n",
            "1 RNN dL/dh1 = 0.0, GRU DL/dh1 = 1.084292116260216e-21\n",
            "2 RNN dL/dh2 = 0.0, GRU DL/dh2 = 1.730079149258593e-21\n",
            "3 RNN dL/dh3 = 0.0, GRU DL/dh3 = 2.831153075897923e-21\n",
            "4 RNN dL/dh4 = 0.0, GRU DL/dh4 = 4.7279503160578654e-21\n",
            "5 RNN dL/dh5 = 0.0, GRU DL/dh5 = 8.020125115051081e-21\n",
            "6 RNN dL/dh6 = 0.0, GRU DL/dh6 = 1.377268159921722e-20\n",
            "7 RNN dL/dh7 = 0.0, GRU DL/dh7 = 2.3887887184803196e-20\n",
            "8 RNN dL/dh8 = 0.0, GRU DL/dh8 = 4.177924161000259e-20\n",
            "9 RNN dL/dh9 = 0.0, GRU DL/dh9 = 7.360847626562113e-20\n",
            "10 RNN dL/dh10 = 0.0, GRU DL/dh10 = 1.3056046890065943e-19\n",
            "11 RNN dL/dh11 = 0.0, GRU DL/dh11 = 2.330606708274415e-19\n",
            "12 RNN dL/dh12 = 0.0, GRU DL/dh12 = 4.186447158613367e-19\n",
            "13 RNN dL/dh13 = 0.0, GRU DL/dh13 = 7.567496989117407e-19\n",
            "14 RNN dL/dh14 = 0.0, GRU DL/dh14 = 1.3767153641656408e-18\n",
            "15 RNN dL/dh15 = 0.0, GRU DL/dh15 = 2.521159032711851e-18\n",
            "16 RNN dL/dh16 = 0.0, GRU DL/dh16 = 4.64837247151471e-18\n",
            "17 RNN dL/dh17 = 0.0, GRU DL/dh17 = 8.62985290803508e-18\n",
            "18 RNN dL/dh18 = 0.0, GRU DL/dh18 = 1.6133049425825984e-17\n",
            "19 RNN dL/dh19 = 0.0, GRU DL/dh19 = 3.0365307287176564e-17\n",
            "20 RNN dL/dh20 = 0.0, GRU DL/dh20 = 5.752233832028456e-17\n",
            "21 RNN dL/dh21 = 0.0, GRU DL/dh21 = 1.0960900813768715e-16\n",
            "22 RNN dL/dh22 = 0.0, GRU DL/dh22 = 2.0992591926020682e-16\n",
            "23 RNN dL/dh23 = 0.0, GRU DL/dh23 = 4.03712419803871e-16\n",
            "24 RNN dL/dh24 = 3.743392066509216e-23, GRU DL/dh24 = 7.787075639596242e-16\n",
            "25 RNN dL/dh25 = 1.1230175883983287e-22, GRU DL/dh25 = 1.5046510104150547e-15\n",
            "26 RNN dL/dh26 = 2.994713653207373e-22, GRU DL/dh26 = 2.9086438017519606e-15\n",
            "27 RNN dL/dh27 = 7.141937185506795e-22, GRU DL/dh27 = 5.617711818054231e-15\n",
            "28 RNN dL/dh28 = 1.6986093294258902e-21, GRU DL/dh28 = 1.0825839160397751e-14\n",
            "29 RNN dL/dh29 = 3.964462610671421e-21, GRU DL/dh29 = 2.0788485678973484e-14\n",
            "30 RNN dL/dh30 = 9.107989597386921e-21, GRU DL/dh30 = 3.972668209477857e-14\n",
            "31 RNN dL/dh31 = 2.0654909921776507e-20, GRU DL/dh31 = 7.545664261606952e-14\n",
            "32 RNN dL/dh32 = 4.6194140414919647e-20, GRU DL/dh32 = 1.4228176200160175e-13\n",
            "33 RNN dL/dh33 = 1.0225807711419984e-19, GRU DL/dh33 = 2.6604014672672316e-13\n",
            "34 RNN dL/dh34 = 2.236239876042834e-19, GRU DL/dh34 = 4.92760183785218e-13\n",
            "35 RNN dL/dh35 = 4.8536207969074925e-19, GRU DL/dh35 = 9.032326210751951e-13\n",
            "36 RNN dL/dh36 = 1.042197630787332e-18, GRU DL/dh36 = 1.637085649333625e-12\n",
            "37 RNN dL/dh37 = 2.227294227910803e-18, GRU DL/dh37 = 2.9318142965445437e-12\n",
            "38 RNN dL/dh38 = 4.714895163556837e-18, GRU DL/dh38 = 5.184881170239297e-12\n",
            "39 RNN dL/dh39 = 9.962150534463001e-18, GRU DL/dh39 = 9.050773151775271e-12\n",
            "40 RNN dL/dh40 = 2.087081406536838e-17, GRU DL/dh40 = 1.5590142024568543e-11\n",
            "41 RNN dL/dh41 = 4.376562328436826e-17, GRU DL/dh41 = 2.649555054523578e-11\n",
            "42 RNN dL/dh42 = 9.107150679856958e-17, GRU DL/dh42 = 4.442859968811774e-11\n",
            "43 RNN dL/dh43 = 1.9017926515399393e-16, GRU DL/dh43 = 7.35179625510618e-11\n",
            "44 RNN dL/dh44 = 3.9433970907492655e-16, GRU DL/dh44 = 1.200887722596633e-10\n",
            "45 RNN dL/dh45 = 8.223450073362713e-16, GRU DL/dh45 = 1.9372456416810735e-10\n",
            "46 RNN dL/dh46 = 1.7035928975828434e-15, GRU DL/dh46 = 3.0880756285434074e-10\n",
            "47 RNN dL/dh47 = 3.555111629074178e-15, GRU DL/dh47 = 4.867498626381916e-10\n",
            "48 RNN dL/dh48 = 7.372360473565775e-15, GRU DL/dh48 = 7.592267370348793e-10\n",
            "49 RNN dL/dh49 = 1.541547109146918e-14, GRU DL/dh49 = 1.1728712445702172e-09\n",
            "50 RNN dL/dh50 = 3.203658516313761e-14, GRU DL/dh50 = 1.7961119258558256e-09\n",
            "51 RNN dL/dh51 = 6.715620084769142e-14, GRU DL/dh51 = 2.7291755522185213e-09\n",
            "52 RNN dL/dh52 = 1.3991690022297637e-13, GRU DL/dh52 = 4.118785312812179e-09\n",
            "53 RNN dL/dh53 = 2.939963539543705e-13, GRU DL/dh53 = 6.179887712676191e-09\n",
            "54 RNN dL/dh54 = 6.138966830541992e-13, GRU DL/dh54 = 9.227955288793055e-09\n",
            "55 RNN dL/dh55 = 1.2922168760379216e-12, GRU DL/dh55 = 1.3727340153479872e-08\n",
            "56 RNN dL/dh56 = 2.7023262100245304e-12, GRU DL/dh56 = 2.0364174346809705e-08\n",
            "57 RNN dL/dh57 = 5.6934613273940116e-12, GRU DL/dh57 = 3.015712835008344e-08\n",
            "58 RNN dL/dh58 = 1.1913055611434409e-11, GRU DL/dh58 = 4.462706115759829e-08\n",
            "59 RNN dL/dh59 = 2.510082766638e-11, GRU DL/dh59 = 6.605912261647973e-08\n",
            "60 RNN dL/dh60 = 5.2504653402785095e-11, GRU DL/dh60 = 9.791140342940707e-08\n",
            "61 RNN dL/dh61 = 1.1056127541264615e-10, GRU DL/dh61 = 1.4545784665642714e-07\n",
            "62 RNN dL/dh62 = 2.3104516910787964e-10, GRU DL/dh62 = 2.1680945394564333e-07\n",
            "63 RNN dL/dh63 = 4.860654101435102e-10, GRU DL/dh63 = 3.245517632421979e-07\n",
            "64 RNN dL/dh64 = 1.0144393103317384e-09, GRU DL/dh64 = 4.883954147771874e-07\n",
            "65 RNN dL/dh65 = 2.1320964993520874e-09, GRU DL/dh65 = 7.395075272143004e-07\n",
            "66 RNN dL/dh66 = 4.4435273238718764e-09, GRU DL/dh66 = 1.12765621906874e-06\n",
            "67 RNN dL/dh67 = 9.331687422786672e-09, GRU DL/dh67 = 1.7331052504232503e-06\n",
            "68 RNN dL/dh68 = 1.9418941121784883e-08, GRU DL/dh68 = 2.686606876523001e-06\n",
            "69 RNN dL/dh69 = 4.075246451407111e-08, GRU DL/dh69 = 4.203321623208467e-06\n",
            "70 RNN dL/dh70 = 8.464062517532511e-08, GRU DL/dh70 = 6.640917035838356e-06\n",
            "71 RNN dL/dh71 = 1.7745190916684805e-07, GRU DL/dh71 = 1.060001250152709e-05\n",
            "72 RNN dL/dh72 = 3.6742849829352053e-07, GRU DL/dh72 = 1.7099404431064613e-05\n",
            "73 RNN dL/dh73 = 7.688856840104563e-07, GRU DL/dh73 = 2.7884303563041613e-05\n",
            "74 RNN dL/dh74 = 1.5834492614885676e-06, GRU DL/dh74 = 4.597283623297699e-05\n",
            "75 RNN dL/dh75 = 3.300803655292839e-06, GRU DL/dh75 = 7.6632211857941e-05\n",
            "76 RNN dL/dh76 = 6.734649105055723e-06, GRU DL/dh76 = 0.00012913605314679444\n",
            "77 RNN dL/dh77 = 1.3945142200100236e-05, GRU DL/dh77 = 0.00021995685528963804\n",
            "78 RNN dL/dh78 = 2.7997071811114438e-05, GRU DL/dh78 = 0.000378633092623204\n",
            "79 RNN dL/dh79 = 5.7297758758068085e-05, GRU DL/dh79 = 0.0006587193929590285\n",
            "80 RNN dL/dh80 = 0.00011223224282730371, GRU DL/dh80 = 0.001158668426796794\n",
            "81 RNN dL/dh81 = 0.00022719675325788558, GRU DL/dh81 = 0.002062866697087884\n",
            "82 RNN dL/dh82 = 0.00043181460932828486, GRU DL/dh82 = 0.0037255366332829\n",
            "83 RNN dL/dh83 = 0.0008474302012473345, GRU DL/dh83 = 0.006849764846265316\n",
            "84 RNN dL/dh84 = 0.0017610386712476611, GRU DL/dh84 = 0.01287950947880745\n",
            "85 RNN dL/dh85 = 0.004815645515918732, GRU DL/dh85 = 0.024841630831360817\n",
            "86 RNN dL/dh86 = 0.011799342930316925, GRU DL/dh86 = 0.049006082117557526\n",
            "87 RNN dL/dh87 = 0.02938801608979702, GRU DL/dh87 = 0.09777193516492844\n",
            "88 RNN dL/dh88 = 0.0855247974395752, GRU DL/dh88 = 0.1983485072851181\n"
          ]
        }
      ]
    },
    {
      "cell_type": "markdown",
      "source": [
        "## Gated recurrent units ([GRU](https://en.wikipedia.org/wiki/Gated_recurrent_unit)) for sine wave prediction\n",
        "\n",
        "Gated recurrent units are a modification of the vanilla RNN which tackle the vanishing gradient issue. This allows for long term dependencies to be better captured.\n",
        "\n",
        "GRU equations:\n",
        "\n",
        "  $z_t = \\sigma(W_z x_t + U_z h_{t-1} + b_z)$\n",
        "\n",
        "  $r_t = \\sigma(W_r x_t + U_r h_{t-1} + b_r)$\n",
        "\n",
        "  $\\hat{h_t} = \\phi(W_h x_t + U_h h_{t-1} + b_h)$\n",
        "\n",
        "  $h_t = (1-z_t) \\odot h_{t-1} + z_t \\odot \\hat{h_t}$\n",
        "\n",
        "\n",
        "Let's say $z_t=[0, 0,...,0]$. What is the value of $h_t$? What is $\\frac{\\partial h_t}{\\partial h_{t-1}}$?\n",
        "\n",
        "<div>\n",
        "<img src=https://i.ibb.co/P9wgSFn/gru.png width=\"750\"/>\n",
        "<div>\n"
      ],
      "metadata": {
        "id": "QqkCBnp_Ak9G"
      }
    },
    {
      "cell_type": "markdown",
      "source": [
        "### Generate sine wave\n",
        "We again generate our sine wave dataset."
      ],
      "metadata": {
        "id": "ytx-gJ3sBdiH"
      }
    },
    {
      "cell_type": "code",
      "source": [
        "import torch\n",
        "import torch.nn as nn\n",
        "import numpy as np\n",
        "import torch.nn.functional as F\n",
        "import torch.optim as optim\n",
        "from typing import List\n",
        "from torch.utils.data import Dataset, DataLoader\n",
        "from torch.utils.data import RandomSampler, Sampler\n",
        "\n",
        "%matplotlib inline\n",
        "import matplotlib.pyplot as plt\n",
        "\n",
        "def generate_sinus_wave(train_len, valid_len):\n",
        "    time_steps = np.linspace(0, 8*np.pi, train_len+valid_len)\n",
        "    data = np.sin(time_steps)\n",
        "\n",
        "    xs = data[:train_len-1]\n",
        "    ys = data[1:train_len] # as discussed in class, targets are shifted by 1 step\n",
        "\n",
        "    # batch_size x timesteps x 1, where batch_size=1\n",
        "    train_x = torch.tensor(xs, dtype=torch.float32).view(1, -1, 1)\n",
        "    train_y = torch.tensor(ys, dtype=torch.float32)\n",
        "\n",
        "    return data, time_steps, train_x, train_y"
      ],
      "metadata": {
        "id": "p53H3AZjBbis"
      },
      "execution_count": null,
      "outputs": []
    },
    {
      "cell_type": "code",
      "source": [
        "seq_length = 300 #total sequence length\n",
        "portion_train = 0.3 #portion of the sequence length used for training\n",
        "\n",
        "train_len = int(seq_length*portion_train)\n",
        "valid_len = seq_length-train_len\n",
        "data, time_steps, train_x, train_y = \\\n",
        "    generate_sinus_wave(train_len = train_len, valid_len = valid_len)\n",
        "\n",
        "#plot our data\n",
        "fig, ax = plt.subplots(figsize=(20,5))\n",
        "plt.scatter(time_steps[:train_len], data[:train_len], s=90, label='train')\n",
        "plt.scatter(time_steps[train_len:], data[train_len:], label='valid')\n",
        "ax.legend()"
      ],
      "metadata": {
        "colab": {
          "base_uri": "https://localhost:8080/",
          "height": 308
        },
        "outputId": "a9c52dbd-c2ca-4f64-cfa1-71a28d87ff28",
        "id": "_jZ65HQNBbis"
      },
      "execution_count": null,
      "outputs": [
        {
          "output_type": "execute_result",
          "data": {
            "text/plain": [
              "<matplotlib.legend.Legend at 0x7fcc5f732c10>"
            ]
          },
          "metadata": {},
          "execution_count": 102
        },
        {
          "output_type": "display_data",
          "data": {
            "text/plain": [
              "<Figure size 1440x360 with 1 Axes>"
            ],
            "image/png": "[encoded data removed]"
          },
          "metadata": {
            "needs_background": "light"
          }
        }
      ]
    },
    {
      "cell_type": "code",
      "source": [
        "#plot our data\n",
        "fig, ax = plt.subplots(figsize=(20,5))\n",
        "plt.scatter(time_steps[:train_len-1], train_x, s=90, c='g', label='train')\n",
        "plt.scatter(time_steps[1:train_len], train_y, s=20, c='r', label='targets')\n",
        "ax.legend()"
      ],
      "metadata": {
        "colab": {
          "base_uri": "https://localhost:8080/",
          "height": 308
        },
        "outputId": "a4c42b75-9962-426e-fbeb-1f6349a893fa",
        "id": "zhj2Ca6vBbis"
      },
      "execution_count": null,
      "outputs": [
        {
          "output_type": "execute_result",
          "data": {
            "text/plain": [
              "<matplotlib.legend.Legend at 0x7fcc5f7320d0>"
            ]
          },
          "metadata": {},
          "execution_count": 103
        },
        {
          "output_type": "display_data",
          "data": {
            "text/plain": [
              "<Figure size 1440x360 with 1 Axes>"
            ],
            "image/png": "[encoded data removed]"
          },
          "metadata": {
            "needs_background": "light"
          }
        }
      ]
    },
    {
      "cell_type": "markdown",
      "source": [
        "### Instantiate model\n",
        "\n",
        "We will train a recurrent network which predicts a sine wave value $y_t$ at each timestep, based on the true values $x_1$, $x_2$, ..., $x_{t-1}$\n"
      ],
      "metadata": {
        "id": "hMSY1MkxByje"
      }
    },
    {
      "cell_type": "code",
      "source": [
        "HIDDEN_SIZE=10\n",
        "LR=1e-2\n",
        "\n",
        "class RNNModel(nn.Module):\n",
        "    def __init__(self, \n",
        "                 input_size: int, \n",
        "                 hidden_size: int, \n",
        "                 output_size: int):\n",
        "        super().__init__()\n",
        "        self.input_size = input_size\n",
        "        self.hidden_size = hidden_size\n",
        "        self.output_size = output_size\n",
        "\n",
        "        # TODO: instantiate GRU network in Pytorch\n",
        "        self.rnn = ...\n",
        "\n",
        "        # TODO: this linear layer is applied on top of each hidden state ht in order to \n",
        "        # predict a scalar value yt of the sine wave\n",
        "        self.output_layer = ...\n",
        "    \n",
        "    def forward(self, x, h=None):\n",
        "        # x has shape: batch_size x timesteps x 1\n",
        "        # TODO: process sequence x\n",
        "        rnn_output, h_n = ...\n",
        "\n",
        "        # TODO: apply output layer\n",
        "        # batch_size x timesteps x 1\n",
        "        output = ...\n",
        "\n",
        "        return output, h_n\n",
        "\n",
        "\n",
        "# TODO: instantiate an RNNModel based on the GRU\n",
        "model = RNNModel(\n",
        "    input_size=...,\n",
        "    hidden_size=HIDDEN_SIZE,\n",
        "    output_size=...\n",
        ")"
      ],
      "metadata": {
        "id": "rhls20PDCfPK"
      },
      "execution_count": null,
      "outputs": []
    },
    {
      "cell_type": "code",
      "source": [
        "# TODO: instantiate loss function\n",
        "\n",
        "# this will set-up an optimizer for parameter updates, feel free to ignore this for now!\n",
        "optimizer = optim.Adam(model.parameters(), lr=LR) \n",
        "\n",
        "epochs = 300 # one epoch corresponds to a single pass through the entire training data\n",
        "for epoch in range(epochs):\n",
        "    optimizer.zero_grad()\n",
        "    \n",
        "    # batch_size x timesteps x 1\n",
        "    output, _ = model(train_x)\n",
        "\n",
        "    #print(\"output size = \", output.size())\n",
        "    loss = criterion(output.view(-1), train_y)\n",
        "    loss.backward()\n",
        "    optimizer.step()\n",
        "    if epoch % 10 == 0:\n",
        "        print(\"Epoch {}: loss {}\".format(epoch, loss.item()))"
      ],
      "metadata": {
        "colab": {
          "base_uri": "https://localhost:8080/"
        },
        "outputId": "c3b2be66-95f7-46cf-de23-ebc7b2165a47",
        "id": "2ay9yiQ6CfPe"
      },
      "execution_count": null,
      "outputs": [
        {
          "output_type": "stream",
          "name": "stdout",
          "text": [
            "Epoch 0: loss 0.556985080242157\n",
            "Epoch 10: loss 0.1641015112400055\n",
            "Epoch 20: loss 0.04705270379781723\n",
            "Epoch 30: loss 0.01173385325819254\n",
            "Epoch 40: loss 0.0040426659397780895\n",
            "Epoch 50: loss 0.0020367035176604986\n",
            "Epoch 60: loss 0.0011961087584495544\n",
            "Epoch 70: loss 0.0008245438802987337\n",
            "Epoch 80: loss 0.0005447352887131274\n",
            "Epoch 90: loss 0.0003858723503071815\n",
            "Epoch 100: loss 0.00029839115450158715\n",
            "Epoch 110: loss 0.0002431838947813958\n",
            "Epoch 120: loss 0.00020625264733098447\n",
            "Epoch 130: loss 0.00017715738795232028\n",
            "Epoch 140: loss 0.00015324003470595926\n",
            "Epoch 150: loss 0.0001333726104348898\n",
            "Epoch 160: loss 0.00011707682278938591\n",
            "Epoch 170: loss 0.00010348812793381512\n",
            "Epoch 180: loss 9.208724077325314e-05\n",
            "Epoch 190: loss 8.245847129728645e-05\n",
            "Epoch 200: loss 7.426647061947733e-05\n",
            "Epoch 210: loss 6.72452588332817e-05\n",
            "Epoch 220: loss 6.118101009633392e-05\n",
            "Epoch 230: loss 5.5904067266965285e-05\n",
            "Epoch 240: loss 5.1279825129313394e-05\n",
            "Epoch 250: loss 4.719988282886334e-05\n",
            "Epoch 260: loss 4.357787111075595e-05\n",
            "Epoch 270: loss 4.0344322769669816e-05\n",
            "Epoch 280: loss 3.7443245673784986e-05\n",
            "Epoch 290: loss 3.482908505247906e-05\n"
          ]
        }
      ]
    },
    {
      "cell_type": "code",
      "source": [
        "def make_predictions_train(model, train_x):\n",
        "    predictions = []\n",
        "    hidden_prev = None\n",
        "    # we will go over all points in out training sequence\n",
        "    # train_x shape: 1 x T x 1\n",
        "    for i in range(train_x.shape[1]):\n",
        "        input = train_x[:,i]\n",
        "        input = input.view(1, 1, 1)\n",
        "      \n",
        "        # we will give the current (single) point and the (current) \n",
        "        # hidden state as input to our model\n",
        "        \n",
        "        # we carry over the previous hidden state\n",
        "        pred, hidden_prev = model(input, hidden_prev) \n",
        "        predictions.append(pred.data.numpy()[0][0])\n",
        "    return predictions, hidden_prev\n",
        "\n",
        "predictions_train, hidden_prev = make_predictions_train(model, train_x)\n",
        "\n",
        "#plot\n",
        "fig, ax = plt.subplots(figsize=(20,5))\n",
        "plt.scatter(time_steps[:train_len-1], data[:train_len-1], s=90, label='actual')\n",
        "plt.scatter(time_steps[1:train_len], predictions_train, label='predicted')\n",
        "ax.legend()"
      ],
      "metadata": {
        "colab": {
          "base_uri": "https://localhost:8080/",
          "height": 308
        },
        "outputId": "98fbab47-cbac-4606-8a38-f2ba739ee541",
        "id": "-3wP29sVCfPe"
      },
      "execution_count": null,
      "outputs": [
        {
          "output_type": "execute_result",
          "data": {
            "text/plain": [
              "<matplotlib.legend.Legend at 0x7fcc5f646e90>"
            ]
          },
          "metadata": {},
          "execution_count": 106
        },
        {
          "output_type": "display_data",
          "data": {
            "text/plain": [
              "<Figure size 1440x360 with 1 Axes>"
            ],
            "image/png": "[encoded data removed]"
          },
          "metadata": {
            "needs_background": "light"
          }
        }
      ]
    },
    {
      "cell_type": "code",
      "source": [
        "def generate_unseen_sequence(model, length, starting_point, hidden_state):\n",
        "    predicts=[]\n",
        "    input = torch.Tensor(starting_point).view(1,1,1)\n",
        "    for i in range(length):\n",
        "        pred, hidden_state = model(input, hidden_state)\n",
        "        predicts.append(pred.data.numpy()[0][0])\n",
        "        input = pred\n",
        "    return predicts"
      ],
      "metadata": {
        "id": "6KEFMl1JCfPf"
      },
      "execution_count": null,
      "outputs": []
    },
    {
      "cell_type": "code",
      "source": [
        "generated_points = generate_unseen_sequence(model, valid_len, starting_point=predictions_train[-1], hidden_state=hidden_prev)\n",
        "\n",
        "predictions = predictions_train+generated_points #concatenate two lists\n",
        "\n",
        "#plot\n",
        "fig, ax = plt.subplots(figsize=(20,5))\n",
        "plt.scatter(time_steps, data, s=90, label='actual')\n",
        "plt.scatter(time_steps[1:train_len], predictions[:train_len-1], label='predicted')\n",
        "plt.scatter(time_steps[train_len:], predictions[train_len-1:], label='generated')\n",
        "ax.legend()"
      ],
      "metadata": {
        "colab": {
          "base_uri": "https://localhost:8080/",
          "height": 310
        },
        "outputId": "17686634-c4e7-41de-f984-2a1f560fb814",
        "id": "vPUmHXRLCfPf"
      },
      "execution_count": null,
      "outputs": [
        {
          "output_type": "execute_result",
          "data": {
            "text/plain": [
              "<matplotlib.legend.Legend at 0x7fcc5f5fced0>"
            ]
          },
          "metadata": {},
          "execution_count": 108
        },
        {
          "output_type": "display_data",
          "data": {
            "text/plain": [
              "<Figure size 1440x360 with 1 Axes>"
            ],
            "image/png": "[encoded data removed]"
          },
          "metadata": {
            "needs_background": "light"
          }
        }
      ]
    },
    {
      "cell_type": "markdown",
      "source": [
        "## TODO: Classify names with RNN ([source](https://pytorch.org/tutorials/intermediate/char_rnn_classification_tutorial.html))\n",
        "\n",
        "Given a name, predict its nationality:\n",
        " - Klineberg => Czech\n",
        " - Bonnay => French\n",
        "\n",
        "There are 18 nationalities: Arabic, Chinese, Czech, Dutch, English, French, German, Greek, Irish, Italian, Japanese, Korean, Polish, Portuguese, Russian, Scottish, Spanish, and Vietnamese.\n",
        "\n",
        "Training details:\n",
        " - what is the input and output to your RNN?\n",
        " - how do you represent your input?\n",
        " - what loss function do you use?\n",
        " "
      ],
      "metadata": {
        "id": "RIcnYMPox-lk"
      }
    },
    {
      "cell_type": "code",
      "source": [
        "import zipfile\n",
        "import os\n",
        "from io import open\n",
        "import glob\n",
        "from typing import List\n",
        "from torch.utils.data import Dataset, DataLoader\n",
        "from torch.utils.data import RandomSampler, Sampler\n",
        "import unicodedata\n",
        "import random\n",
        "import string\n",
        "import torch\n",
        "from __future__ import unicode_literals, print_function, division\n",
        "\n",
        "!wget --no-check-certificate \\\n",
        "https://download.pytorch.org/tutorial/data.zip \\\n",
        "-O /tmp/data.zip\n",
        "\n",
        "# Extract the data\n",
        "local_zip = '/tmp/data.zip'\n",
        "zip_ref = zipfile.ZipFile(local_zip, 'r')\n",
        "zip_ref.extractall('/tmp')\n",
        "zip_ref.close()\n",
        "\n",
        "# set up folders\n",
        "base_dir = '/tmp/data/names'"
      ],
      "metadata": {
        "colab": {
          "base_uri": "https://localhost:8080/"
        },
        "id": "r7nQVQ2F2Rq5",
        "outputId": "70191e09-9830-49be-af4f-f823b57468d9"
      },
      "execution_count": null,
      "outputs": [
        {
          "output_type": "stream",
          "name": "stdout",
          "text": [
            "--2022-03-30 09:21:54--  https://download.pytorch.org/tutorial/data.zip\n",
            "Resolving download.pytorch.org (download.pytorch.org)... 108.156.120.2, 108.156.120.107, 108.156.120.103, ...\n",
            "Connecting to download.pytorch.org (download.pytorch.org)|108.156.120.2|:443... connected.\n",
            "HTTP request sent, awaiting response... 200 OK\n",
            "Length: 2882130 (2.7M) [application/zip]\n",
            "Saving to: ‘/tmp/data.zip’\n",
            "\n",
            "\r/tmp/data.zip         0%[                    ]       0  --.-KB/s               \r/tmp/data.zip       100%[===================>]   2.75M  --.-KB/s    in 0.07s   \n",
            "\n",
            "2022-03-30 09:21:54 (40.7 MB/s) - ‘/tmp/data.zip’ saved [2882130/2882130]\n",
            "\n"
          ]
        }
      ]
    },
    {
      "cell_type": "code",
      "source": [
        "all_letters = string.ascii_letters + \" .,;'\"\n",
        "n_letters = len(all_letters)\n",
        "\n",
        "# Turn a Unicode string to plain ASCII, thanks to https://stackoverflow.com/a/518232/2809427\n",
        "def unicodeToAscii(s):\n",
        "    return ''.join(\n",
        "        c for c in unicodedata.normalize('NFD', s)\n",
        "        if unicodedata.category(c) != 'Mn'\n",
        "        and c in all_letters\n",
        "    )\n",
        "\n",
        "print(unicodeToAscii('Ślusàrski'))\n",
        "\n",
        "# Build the category_lines dictionary, a list of names per language\n",
        "category_lines = {}\n",
        "all_categories = []\n",
        "\n",
        "# Read a file and split into lines\n",
        "def readLines(filename):\n",
        "    lines = open(filename, encoding='utf-8').read().strip().split('\\n')\n",
        "    return [unicodeToAscii(line) for line in lines]\n",
        "\n",
        "for filename in glob.glob('/tmp/data/names/*.txt'):\n",
        "    category = os.path.splitext(os.path.basename(filename))[0]\n",
        "    all_categories.append(category)\n",
        "    lines = readLines(filename)\n",
        "    category_lines[category] = lines\n",
        "n_categories = len(all_categories)\n",
        "\n",
        "# this maps the label name (Arabic, Chinese etc.) to a label index (0, 1, ..., 17)\n",
        "category_to_idx = {k:all_categories.index(k) for k in all_categories}\n",
        "\n",
        "# this maps a label index (0, 1, ..., 17) to a label name (Arabic, Chinese etc.)\n",
        "idx_to_category = {v:k for k, v in category_to_idx.items()}"
      ],
      "metadata": {
        "colab": {
          "base_uri": "https://localhost:8080/"
        },
        "id": "ZqmrMhXt7Tmv",
        "outputId": "9454be01-551c-43d3-ec30-b57df38e22bd"
      },
      "execution_count": null,
      "outputs": [
        {
          "output_type": "stream",
          "name": "stdout",
          "text": [
            "Slusarski\n"
          ]
        }
      ]
    },
    {
      "cell_type": "code",
      "source": [
        "print(\"Labels and their label ids: \", category_to_idx)\n",
        "print(\"Label ids and their categories: \", idx_to_category)"
      ],
      "metadata": {
        "colab": {
          "base_uri": "https://localhost:8080/"
        },
        "id": "ktRd32CmB4qe",
        "outputId": "8076ac03-d3ec-4e44-87a6-3b724b79e917"
      },
      "execution_count": null,
      "outputs": [
        {
          "output_type": "stream",
          "name": "stdout",
          "text": [
            "Labels and their label ids:  {'Irish': 0, 'Portuguese': 1, 'Japanese': 2, 'English': 3, 'Czech': 4, 'Vietnamese': 5, 'Dutch': 6, 'Chinese': 7, 'Italian': 8, 'Greek': 9, 'Arabic': 10, 'Polish': 11, 'French': 12, 'German': 13, 'Korean': 14, 'Russian': 15, 'Spanish': 16, 'Scottish': 17}\n",
            "Label ids and their categories:  {0: 'Irish', 1: 'Portuguese', 2: 'Japanese', 3: 'English', 4: 'Czech', 5: 'Vietnamese', 6: 'Dutch', 7: 'Chinese', 8: 'Italian', 9: 'Greek', 10: 'Arabic', 11: 'Polish', 12: 'French', 13: 'German', 14: 'Korean', 15: 'Russian', 16: 'Spanish', 17: 'Scottish'}\n"
          ]
        }
      ]
    },
    {
      "cell_type": "markdown",
      "source": [
        "Let's print the 18 labels and some examples"
      ],
      "metadata": {
        "id": "1bJ1bGmS8Ds1"
      }
    },
    {
      "cell_type": "code",
      "source": [
        "print(\"Labels: \", list(category_lines.keys()))\n",
        "print(\"Some Irish names: \", category_lines['Irish'][:10])"
      ],
      "metadata": {
        "colab": {
          "base_uri": "https://localhost:8080/"
        },
        "id": "OiAq42_o7yMN",
        "outputId": "7570ff82-cb17-42a0-86bd-0f36731ea3e2"
      },
      "execution_count": null,
      "outputs": [
        {
          "output_type": "stream",
          "name": "stdout",
          "text": [
            "Labels:  ['Irish', 'Portuguese', 'Japanese', 'English', 'Czech', 'Vietnamese', 'Dutch', 'Chinese', 'Italian', 'Greek', 'Arabic', 'Polish', 'French', 'German', 'Korean', 'Russian', 'Spanish', 'Scottish']\n",
            "Some Irish names:  ['Adam', 'Ahearn', 'Aodh', 'Aodha', 'Aonghuis', 'Aonghus', 'Bhrighde', 'Bradach', 'Bradan', 'Braden']\n"
          ]
        }
      ]
    },
    {
      "cell_type": "markdown",
      "source": [
        "Q: How do we represent each name? \n",
        "A: As a sequence of letters\n",
        "\n",
        "But how do we represent a letter? We will use a one-hot encoding scheme, where each letter is represented using a one-hot vector."
      ],
      "metadata": {
        "id": "O6m3UIyn9Pnt"
      }
    },
    {
      "cell_type": "code",
      "source": [
        "print(len(all_letters), 'characters: ', all_letters)"
      ],
      "metadata": {
        "colab": {
          "base_uri": "https://localhost:8080/"
        },
        "id": "OGILj4CC-J5F",
        "outputId": "615f9287-b748-4805-9e0c-2e4e4d93fd8c"
      },
      "execution_count": null,
      "outputs": [
        {
          "output_type": "stream",
          "name": "stdout",
          "text": [
            "57 characters:  abcdefghijklmnopqrstuvwxyzABCDEFGHIJKLMNOPQRSTUVWXYZ .,;'\n"
          ]
        }
      ]
    },
    {
      "cell_type": "markdown",
      "source": [
        "Each character is represented with a vector of size 57 of 0s and 1:\n",
        "\n",
        "a = [1, 0, 0, ..., 0]\n",
        "\n",
        "b = [0, 1, 0, ..., 0]\n",
        "\n",
        "c = [0, 0, 1, ..., 0]\n",
        "\n",
        "...\n",
        "\n",
        "; = [0, 0, 0, ..., 1]"
      ],
      "metadata": {
        "id": "Q7Z2T9Av-l-0"
      }
    },
    {
      "cell_type": "code",
      "source": [
        "# Find letter index from all_letters, e.g. \"a\" = 0\n",
        "def letterToIndex(letter):\n",
        "    return all_letters.find(letter)\n",
        "\n",
        "# Just for demonstration, turn a letter into a <1 x n_letters> Tensor\n",
        "def letterToTensor(letter):\n",
        "    tensor = torch.zeros(1, n_letters)\n",
        "    tensor[0][letterToIndex(letter)] = 1\n",
        "    return tensor\n",
        "\n",
        "# Turn a name into a <name_length x n_letters>,\n",
        "# or an array of one-hot letter vectors\n",
        "def lineToTensor(line):\n",
        "    tensor = torch.zeros(len(line), n_letters)\n",
        "    for li, letter in enumerate(line):\n",
        "        tensor[li][letterToIndex(letter)] = 1\n",
        "    return tensor\n",
        "\n",
        "print(letterToTensor('J'))\n",
        "\n",
        "print(lineToTensor('Jones').size())\n",
        "print(lineToTensor('Jones'))"
      ],
      "metadata": {
        "colab": {
          "base_uri": "https://localhost:8080/"
        },
        "id": "XgARxKP38UV5",
        "outputId": "017f5503-b0b8-4b24-907f-e6ee10d95dc3"
      },
      "execution_count": null,
      "outputs": [
        {
          "output_type": "stream",
          "name": "stdout",
          "text": [
            "tensor([[0., 0., 0., 0., 0., 0., 0., 0., 0., 0., 0., 0., 0., 0., 0., 0., 0., 0.,\n",
            "         0., 0., 0., 0., 0., 0., 0., 0., 0., 0., 0., 0., 0., 0., 0., 0., 0., 1.,\n",
            "         0., 0., 0., 0., 0., 0., 0., 0., 0., 0., 0., 0., 0., 0., 0., 0., 0., 0.,\n",
            "         0., 0., 0.]])\n",
            "torch.Size([5, 57])\n",
            "tensor([[0., 0., 0., 0., 0., 0., 0., 0., 0., 0., 0., 0., 0., 0., 0., 0., 0., 0.,\n",
            "         0., 0., 0., 0., 0., 0., 0., 0., 0., 0., 0., 0., 0., 0., 0., 0., 0., 1.,\n",
            "         0., 0., 0., 0., 0., 0., 0., 0., 0., 0., 0., 0., 0., 0., 0., 0., 0., 0.,\n",
            "         0., 0., 0.],\n",
            "        [0., 0., 0., 0., 0., 0., 0., 0., 0., 0., 0., 0., 0., 0., 1., 0., 0., 0.,\n",
            "         0., 0., 0., 0., 0., 0., 0., 0., 0., 0., 0., 0., 0., 0., 0., 0., 0., 0.,\n",
            "         0., 0., 0., 0., 0., 0., 0., 0., 0., 0., 0., 0., 0., 0., 0., 0., 0., 0.,\n",
            "         0., 0., 0.],\n",
            "        [0., 0., 0., 0., 0., 0., 0., 0., 0., 0., 0., 0., 0., 1., 0., 0., 0., 0.,\n",
            "         0., 0., 0., 0., 0., 0., 0., 0., 0., 0., 0., 0., 0., 0., 0., 0., 0., 0.,\n",
            "         0., 0., 0., 0., 0., 0., 0., 0., 0., 0., 0., 0., 0., 0., 0., 0., 0., 0.,\n",
            "         0., 0., 0.],\n",
            "        [0., 0., 0., 0., 1., 0., 0., 0., 0., 0., 0., 0., 0., 0., 0., 0., 0., 0.,\n",
            "         0., 0., 0., 0., 0., 0., 0., 0., 0., 0., 0., 0., 0., 0., 0., 0., 0., 0.,\n",
            "         0., 0., 0., 0., 0., 0., 0., 0., 0., 0., 0., 0., 0., 0., 0., 0., 0., 0.,\n",
            "         0., 0., 0.],\n",
            "        [0., 0., 0., 0., 0., 0., 0., 0., 0., 0., 0., 0., 0., 0., 0., 0., 0., 0.,\n",
            "         1., 0., 0., 0., 0., 0., 0., 0., 0., 0., 0., 0., 0., 0., 0., 0., 0., 0.,\n",
            "         0., 0., 0., 0., 0., 0., 0., 0., 0., 0., 0., 0., 0., 0., 0., 0., 0., 0.,\n",
            "         0., 0., 0.]])\n"
          ]
        }
      ]
    },
    {
      "cell_type": "markdown",
      "source": [
        "### We will write a Dataset for retrieving these examples\n",
        "\n",
        "For each nationality, we use 80% of its names for training and 20% of its names for validation. We put all the names and their corresponding labels in lists."
      ],
      "metadata": {
        "id": "xbnviCqq_lUn"
      }
    },
    {
      "cell_type": "code",
      "source": [
        "train_names, train_labels = [], []\n",
        "val_names, val_labels = [], []\n",
        "for cat, names in category_lines.items():\n",
        "    # TODO:\n",
        "    # for each nationality:\n",
        "    # - pick 80% of the names and add them and their labels\n",
        "    #   to the train_names and train_labels lists\n",
        "    # - add the other 20% of the names to val_names and \n",
        "    #   val_Labels lists"
      ],
      "metadata": {
        "id": "0tyxRFMM_VWb"
      },
      "execution_count": null,
      "outputs": []
    },
    {
      "cell_type": "code",
      "source": [
        "class NameDataset(Dataset):\n",
        "    def __init__(self, names: List[str], labels: List[int]):\n",
        "        # names: list of names\n",
        "        # labels: list of labels (stored as numbers)\n",
        "\n",
        "        # TODO: populate names_tensor list\n",
        "        # this list will store one Tensor for each name\n",
        "        # what size does each Tensor have?\n",
        "        self.names_tensor = []\n",
        "        # ...\n",
        "\n",
        "        self.labels = torch.tensor(labels, dtype=torch.int64)\n",
        "\n",
        "    def __getitem__(self, index) -> (torch.Tensor, torch.Tensor):\n",
        "        # TODO\n",
        "\n",
        "    def __len__(self):\n",
        "        return len(self.labels)"
      ],
      "metadata": {
        "id": "6LFB7r8pEt7x"
      },
      "execution_count": null,
      "outputs": []
    },
    {
      "cell_type": "code",
      "source": [
        "# initialize datasets and dataloaders\n",
        "# for now we use batch_size=1, because sequences in a batch may have different lengths\n",
        "train_dataset = NameDataset(train_names, train_labels)\n",
        "val_dataset = NameDataset(val_names, val_labels)\n",
        "train_dataloader = DataLoader(\n",
        "    dataset=train_dataset, \n",
        "    batch_size=1,\n",
        "    shuffle=True\n",
        ")\n",
        "val_dataloader = DataLoader(\n",
        "    val_dataset,\n",
        "    batch_size=1 #\n",
        ")"
      ],
      "metadata": {
        "id": "Dgl57tgoJbsN"
      },
      "execution_count": null,
      "outputs": []
    },
    {
      "cell_type": "markdown",
      "source": [
        "Write the RNNModel below"
      ],
      "metadata": {
        "id": "k4C_9hKQK2sM"
      }
    },
    {
      "cell_type": "code",
      "source": [
        "HIDDEN_SIZE=10\n",
        "LR=1e-2\n",
        "\n",
        "class RNNModel(nn.Module):\n",
        "    def __init__(self, \n",
        "                 input_size: int, \n",
        "                 hidden_size: int, \n",
        "                 output_size: int):\n",
        "        super().__init__()\n",
        "        self.input_size = input_size\n",
        "        self.hidden_size = hidden_size\n",
        "        self.output_size = output_size\n",
        "\n",
        "        # TODO: instantiate recurrent network below (GRU/RNN)\n",
        "        self.rnn = \n",
        "\n",
        "        # TODO: this layer is applied on top of the last hidden state in order\n",
        "        # to predict the nationality\n",
        "        self.output_layer = ...\n",
        "    \n",
        "    def forward(self, x):\n",
        "        # x has shape: batch_size x timesteps x 57 (batch_size=1)\n",
        "        \n",
        "        # TODO: initialize first hidden state\n",
        "        # h has shape: batch_size x D X hidden_size (batch_size=1, D=1)\n",
        "        # What is D?\n",
        "        h0 = ...\n",
        "        \n",
        "        # TODO: feed sequence x to RNN\n",
        "        # what size does h_n have?\n",
        "        rnn_output, h_n = ..\n",
        "\n",
        "        # TODO: apply linear layer to get the label scores\n",
        "        # batch_size x 18 (batch_size=1)\n",
        "        output_scores = ...\n",
        "\n",
        "        return output_scores\n",
        "\n",
        "\n",
        "# here we instantiate an RNN\n",
        "model = RNNModel(\n",
        "    input_size=57,\n",
        "    hidden_size=HIDDEN_SIZE,\n",
        "    output_size=18\n",
        ")"
      ],
      "metadata": {
        "id": "NP3CBq96Jk3N"
      },
      "execution_count": null,
      "outputs": []
    },
    {
      "cell_type": "markdown",
      "source": [
        "TODOs: \n",
        " - write the train and evaluation loops\n",
        " - plot the train/val loss curves and the train/val accuracy curves\n",
        " - plot the confusion matrix for the best model on the validation set and inspect the errors made by the model\n",
        " - (bonus) modify the batch_size to be larger than 1? What happens when you load a batch of examples? Modify `NameDataset` to fix the problem and retrain the model"
      ],
      "metadata": {
        "id": "WXHrHeCtMLBU"
      }
    },
    {
      "cell_type": "markdown",
      "source": [
        ""
      ],
      "metadata": {
        "id": "b4k9rdn4Ytln"
      }
    }
  ],
  "metadata": {
    "accelerator": "GPU",
    "colab": {
      "collapsed_sections": [],
      "name": "Copy of Lab_7_(TODO) - 2022.ipynb",
      "toc_visible": true,
      "provenance": []
    },
    "kernelspec": {
      "display_name": "Python 3",
      "name": "python3"
    },
    "language_info": {
      "name": "python"
    }
  },
  "nbformat": 4,
  "nbformat_minor": 0
}