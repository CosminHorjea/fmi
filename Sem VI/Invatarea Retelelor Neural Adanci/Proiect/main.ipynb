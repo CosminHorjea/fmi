{
 "cells": [
  {
   "cell_type": "code",
   "execution_count": 44,
   "metadata": {},
   "outputs": [
    {
     "data": {
      "text/html": [
       "<div>\n",
       "<style scoped>\n",
       "    .dataframe tbody tr th:only-of-type {\n",
       "        vertical-align: middle;\n",
       "    }\n",
       "\n",
       "    .dataframe tbody tr th {\n",
       "        vertical-align: top;\n",
       "    }\n",
       "\n",
       "    .dataframe thead th {\n",
       "        text-align: right;\n",
       "    }\n",
       "</style>\n",
       "<table border=\"1\" class=\"dataframe\">\n",
       "  <thead>\n",
       "    <tr style=\"text-align: right;\">\n",
       "      <th></th>\n",
       "      <th>file</th>\n",
       "      <th>max_detection_conf</th>\n",
       "      <th>detections</th>\n",
       "    </tr>\n",
       "  </thead>\n",
       "  <tbody>\n",
       "    <tr>\n",
       "      <th>261423</th>\n",
       "      <td>train/913ed090-21bc-11ea-a13a-137349068a90.jpg</td>\n",
       "      <td>0.000</td>\n",
       "      <td>[]</td>\n",
       "    </tr>\n",
       "    <tr>\n",
       "      <th>261424</th>\n",
       "      <td>train/915dbc6c-21bc-11ea-a13a-137349068a90.jpg</td>\n",
       "      <td>0.999</td>\n",
       "      <td>[{'category': '1', 'conf': 0.999, 'bbox': [0.0...</td>\n",
       "    </tr>\n",
       "    <tr>\n",
       "      <th>261425</th>\n",
       "      <td>train/90cf2d76-21bc-11ea-a13a-137349068a90.jpg</td>\n",
       "      <td>0.999</td>\n",
       "      <td>[{'category': '1', 'conf': 0.999, 'bbox': [0.0...</td>\n",
       "    </tr>\n",
       "    <tr>\n",
       "      <th>261426</th>\n",
       "      <td>train/8bfae7f4-21bc-11ea-a13a-137349068a90.jpg</td>\n",
       "      <td>0.000</td>\n",
       "      <td>[]</td>\n",
       "    </tr>\n",
       "    <tr>\n",
       "      <th>261427</th>\n",
       "      <td>train/978ba5a4-21bc-11ea-a13a-137349068a90.jpg</td>\n",
       "      <td>0.999</td>\n",
       "      <td>[{'category': '1', 'conf': 0.999, 'bbox': [0.3...</td>\n",
       "    </tr>\n",
       "  </tbody>\n",
       "</table>\n",
       "</div>"
      ],
      "text/plain": [
       "                                                  file  max_detection_conf  \\\n",
       "261423  train/913ed090-21bc-11ea-a13a-137349068a90.jpg               0.000   \n",
       "261424  train/915dbc6c-21bc-11ea-a13a-137349068a90.jpg               0.999   \n",
       "261425  train/90cf2d76-21bc-11ea-a13a-137349068a90.jpg               0.999   \n",
       "261426  train/8bfae7f4-21bc-11ea-a13a-137349068a90.jpg               0.000   \n",
       "261427  train/978ba5a4-21bc-11ea-a13a-137349068a90.jpg               0.999   \n",
       "\n",
       "                                               detections  \n",
       "261423                                                 []  \n",
       "261424  [{'category': '1', 'conf': 0.999, 'bbox': [0.0...  \n",
       "261425  [{'category': '1', 'conf': 0.999, 'bbox': [0.0...  \n",
       "261426                                                 []  \n",
       "261427  [{'category': '1', 'conf': 0.999, 'bbox': [0.3...  "
      ]
     },
     "execution_count": 44,
     "metadata": {},
     "output_type": "execute_result"
    }
   ],
   "source": [
    "import json\n",
    "\n",
    "megadetect = {}\n",
    "\n",
    "with open('metadata/iwildcam2022_mdv4_detections.json') as f:\n",
    "\tmegadetect = json.load(f)\n",
    "\n",
    "df_detect = pd.DataFrame(megadetect['images'])\n",
    "\n",
    "def extract_img(img_id):\n",
    "\timg = mpimg.imread('data/train/'+img_id+'.jpg')\n",
    "\tdetects = df_detect[df_detect['file']=='train/'+img_id].detections.tolist()\n",
    "\t\n",
    "\tif(len(detects)>0 and detects!=[[]]):\n",
    "\t\tfor idx,detect in enumerate(detects[0]):\n",
    "                x0,y0,w0,h0=detect['bbox']    \n",
    "                H,W,_=img.shape\n",
    "                if w0*W>100 and h0*H>100:           \n",
    "                    x=math.floor(x0*W)\n",
    "                    y=math.floor(y0*H)\n",
    "                    w=math.floor(w0*W)\n",
    "                    h=math.floor(h0*H)\n",
    "                    obj=img[int(y):int(y+h),int(x):int(x+w)]\n",
    "                    obj1 = Image.fromarray(np.uint8(obj))\n",
    "                    obj2 = np.asarray(obj1.resize((32,32))) \n",
    "                    objects.append(obj2/255.0)\n",
    "                    objlabels.append(name)\n",
    "                    if show:\n",
    "                        _ = plt.figure(figsize=(3,3))\n",
    "                        _ = plt.xticks([])\n",
    "                        _ = plt.yticks([])\n",
    "                        _ = plt.imshow(obj)\n",
    "\treturn None\n"
   ]
  },
  {
   "cell_type": "code",
   "execution_count": 40,
   "metadata": {},
   "outputs": [
    {
     "data": {
      "text/plain": [
       "<AxesSubplot:>"
      ]
     },
     "execution_count": 40,
     "metadata": {},
     "output_type": "execute_result"
    },
    {
     "data": {
      "image/png": "[encoded data removed]",
      "text/plain": [
       "<Figure size 432x288 with 1 Axes>"
      ]
     },
     "metadata": {
      "needs_background": "light"
     },
     "output_type": "display_data"
    }
   ],
   "source": [
    "import pandas as pd\n",
    "import matplotlib.pyplot as plt\n",
    "data = pd.read_csv('metadata.csv')\n",
    "\n",
    "# plot the most common 20 categories\n",
    "# data['y'].value_counts().head(5).plot(kind='bar')\n",
    "\n",
    "# filter out y=0\n",
    "# data = data[data['y'] != 0]\n",
    "\n",
    "# save only the best 20 categories in a new file withouth the most common category\n",
    "# data = data.loc[data['y'].isin(data['y'].value_counts().head(15).index), :]\n",
    "\n",
    "data.loc[data['split'] == 'test', 'y'].value_counts()\n",
    "# data.loc[data['split'] == 'train', 'y'].value_counts().head(15)\n",
    "# save train split\n",
    "# data.loc[data['split']=='val', :].to_csv('val.csv', index=False)\n",
    "# data.loc[data['split']=='train', :].to_csv('train.csv', index=False)\n",
    "# data.loc[data['split']=='test', :].to_csv('test.csv', index=False)"
   ]
  },
  {
   "cell_type": "code",
   "execution_count": null,
   "metadata": {},
   "outputs": [],
   "source": [
    "# make a train set that has equal number of samples per class\n",
    "train_data = pd.read_csv('train.csv')\n",
    "min_samples = train_data['y'].value_counts().min()\n",
    "train_data = train_data.groupby('y').apply(lambda x: x.sample(min_samples))\n",
    "\n",
    "train_data['y'].value_counts().plot(kind='bar')\n",
    "train_data.to_csv('train_balanced.csv', index=False)"
   ]
  },
  {
   "cell_type": "code",
   "execution_count": 29,
   "metadata": {},
   "outputs": [
    {
     "data": {
      "image/png": "[encoded data removed]",
      "text/plain": [
       "<Figure size 432x288 with 1 Axes>"
      ]
     },
     "metadata": {
      "needs_background": "light"
     },
     "output_type": "display_data"
    }
   ],
   "source": [
    "# make a train set that has equal number of samples per class\n",
    "test_data = pd.read_csv('test.csv')\n",
    "min_samples = test_data['y'].value_counts().min()\n",
    "test_data = test_data.groupby('y').apply(lambda x: x.sample(min_samples))\n",
    "\n",
    "test_data['y'].value_counts().plot(kind='bar')\n",
    "test_data.to_csv('test_balanced.csv', index=False)"
   ]
  },
  {
   "cell_type": "code",
   "execution_count": 12,
   "metadata": {},
   "outputs": [
    {
     "data": {
      "text/plain": [
       "<AxesSubplot:>"
      ]
     },
     "execution_count": 12,
     "metadata": {},
     "output_type": "execute_result"
    },
    {
     "data": {
      "image/png": "[encoded data removed]",
      "text/plain": [
       "<Figure size 432x288 with 1 Axes>"
      ]
     },
     "metadata": {
      "needs_background": "light"
     },
     "output_type": "display_data"
    }
   ],
   "source": [
    "data = pd.read_csv('test.csv')\n",
    "data['y'].value_counts().plot(kind='bar')"
   ]
  }
 ],
 "metadata": {
  "interpreter": {
   "hash": "cc8f0179d231673913da8b9b606dc6522f2e5c0b73ff9e135b31545cc4b922d2"
  },
  "kernelspec": {
   "display_name": "Python 3.10.0 64-bit",
   "language": "python",
   "name": "python3"
  },
  "language_info": {
   "codemirror_mode": {
    "name": "ipython",
    "version": 3
   },
   "file_extension": ".py",
   "mimetype": "text/x-python",
   "name": "python",
   "nbconvert_exporter": "python",
   "pygments_lexer": "ipython3",
   "version": "3.10.0"
  },
  "orig_nbformat": 4
 },
 "nbformat": 4,
 "nbformat_minor": 2
}
